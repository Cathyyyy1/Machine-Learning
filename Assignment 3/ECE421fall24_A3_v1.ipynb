{
  "cells": [
    {
      "cell_type": "markdown",
      "metadata": {
        "id": "BMSzjDyvKH1K"
      },
      "source": [
        "# Welcome to the Third Assignment of ECE421\n",
        "\n",
        "In this assignment, wou will\n",
        "* implement a feed-forward neural network (NN) that will perform classification on the IRIS dataset using functions in the `NumPy` library only.\n",
        "* train a simple feed-forward NN model on FashionMNIST using `PyTorch`\n",
        "\n",
        "This file is a Jupyter Notebook. You can double-click on section headers to show code and run each section with Shift+Enter.\n",
        "\n",
        "# **IMPORTANT:** You will need to make a copy of this notebook in your Google Drive before you can edit the homework files. You can do so with **File &rarr; Save a copy in Drive**."
      ]
    },
    {
      "cell_type": "markdown",
      "metadata": {
        "id": "2W8ccDJXMvGv"
      },
      "source": [
        "# 0. Setup"
      ]
    },
    {
      "cell_type": "code",
      "execution_count": 1,
      "metadata": {
        "cellView": "form",
        "colab": {
          "base_uri": "https://localhost:8080/"
        },
        "id": "rtqgBzb7KGES",
        "outputId": "6f5df860-b82e-41c2-ec9d-ca6e539362ae"
      },
      "outputs": [
        {
          "output_type": "stream",
          "name": "stdout",
          "text": [
            "Mounted at /content/gdrive\n",
            "Reading package lists... Done\n",
            "Building dependency tree... Done\n",
            "Reading state information... Done\n",
            "\u001b[1;31mE: \u001b[0mUnable to locate package requirements\u001b[0m\n",
            "Hit:1 https://cloud.r-project.org/bin/linux/ubuntu jammy-cran40/ InRelease\n",
            "Hit:2 https://developer.download.nvidia.com/compute/cuda/repos/ubuntu2204/x86_64  InRelease\n",
            "Hit:3 http://security.ubuntu.com/ubuntu jammy-security InRelease\n",
            "Hit:4 http://archive.ubuntu.com/ubuntu jammy InRelease\n",
            "Hit:5 http://archive.ubuntu.com/ubuntu jammy-updates InRelease\n",
            "Hit:6 https://ppa.launchpadcontent.net/deadsnakes/ppa/ubuntu jammy InRelease\n",
            "Hit:7 http://archive.ubuntu.com/ubuntu jammy-backports InRelease\n",
            "Hit:8 https://ppa.launchpadcontent.net/graphics-drivers/ppa/ubuntu jammy InRelease\n",
            "Hit:9 https://r2u.stat.illinois.edu/ubuntu jammy InRelease\n",
            "Hit:10 https://ppa.launchpadcontent.net/ubuntugis/ppa/ubuntu jammy InRelease\n",
            "Reading package lists... Done\n",
            "Building dependency tree... Done\n",
            "Reading state information... Done\n",
            "52 packages can be upgraded. Run 'apt list --upgradable' to see them.\n",
            "\u001b[1;33mW: \u001b[0mSkipping acquire of configured file 'main/source/Sources' as repository 'https://r2u.stat.illinois.edu/ubuntu jammy InRelease' does not seem to provide it (sources.list entry misspelt?)\u001b[0m\n",
            "Reading package lists... Done\n",
            "Building dependency tree... Done\n",
            "Reading state information... Done\n",
            "Note, selecting 'zlib1g-dev' instead of 'libz-dev'\n",
            "Note, selecting 'ack' instead of 'ack-grep'\n",
            "build-essential is already the newest version (12.9ubuntu3).\n",
            "libxcursor-dev is already the newest version (1:1.2.0-2build4).\n",
            "libxi6 is already the newest version (2:1.8-1build1).\n",
            "libxinerama-dev is already the newest version (2:1.1.4-3).\n",
            "libxrandr2 is already the newest version (2:1.5.2-1build1).\n",
            "lsb-release is already the newest version (11.1.0ubuntu4).\n",
            "make is already the newest version (4.3-4.1build1).\n",
            "ack is already the newest version (3.5.0-1).\n",
            "libglew-dev is already the newest version (2.2.0-4).\n",
            "libglfw3 is already the newest version (3.3.6-1).\n",
            "libglfw3-dev is already the newest version (3.3.6-1).\n",
            "patchelf is already the newest version (0.14.3-1).\n",
            "swig is already the newest version (4.0.2-1ubuntu1).\n",
            "xpra is already the newest version (3.1-1build5).\n",
            "cmake is already the newest version (3.22.1-1ubuntu1.22.04.2).\n",
            "curl is already the newest version (7.81.0-1ubuntu1.18).\n",
            "git is already the newest version (1:2.34.1-1ubuntu1.11).\n",
            "libgl1-mesa-dev is already the newest version (23.2.1-1ubuntu3.1~22.04.2).\n",
            "libosmesa6-dev is already the newest version (23.2.1-1ubuntu3.1~22.04.2).\n",
            "unzip is already the newest version (6.0-26ubuntu3.2).\n",
            "wget is already the newest version (1.21.2-2ubuntu1.1).\n",
            "xserver-xorg-dev is already the newest version (2:21.1.4-2ubuntu1.7~22.04.12).\n",
            "zlib1g-dev is already the newest version (1:1.2.11.dfsg-2ubuntu9.2).\n",
            "ffmpeg is already the newest version (7:4.4.2-0ubuntu0.22.04.1).\n",
            "gnupg2 is already the newest version (2.2.27-3ubuntu2.1).\n",
            "libgl1-mesa-glx is already the newest version (23.0.4-0ubuntu1~22.04.1).\n",
            "0 upgraded, 0 newly installed, 0 to remove and 52 not upgraded.\n",
            "Reading package lists... Done\n",
            "Building dependency tree... Done\n",
            "Reading state information... Done\n",
            "E: Unable to locate package python-opengl\n",
            "Reading package lists... Done\n",
            "Building dependency tree... Done\n",
            "Reading state information... Done\n",
            "xvfb is already the newest version (2:21.1.4-2ubuntu1.7~22.04.12).\n",
            "0 upgraded, 0 newly installed, 0 to remove and 52 not upgraded.\n"
          ]
        }
      ],
      "source": [
        "#@title ## 0.1 Mounting your Drive and setting up mount symlink.\n",
        "#@markdown mount your Google Drive, set up mount symlink, and apt install requirements.\n",
        "\n",
        "#@markdown Your work will be stored in a folder called `ece421_f2024_A3_folder` by default\n",
        "#@markdown to prevent Colab instance timeouts from deleting your edits.\n",
        "\n",
        "import os\n",
        "from google.colab import drive\n",
        "from importlib import reload\n",
        "drive.mount('/content/gdrive', force_remount=True)\n",
        "\n",
        "## setting the path parameters and creating the folder if needed\n",
        "DRIVE_PATH = '/content/gdrive/MyDrive/ece421_f2024_A3_folder'\n",
        "DRIVE_PYTHON_PATH = DRIVE_PATH.replace('\\\\', '')\n",
        "if not os.path.exists(DRIVE_PYTHON_PATH):\n",
        "  %mkdir $DRIVE_PATH\n",
        "\n",
        "## make a symlink\n",
        "SYM_PATH = '/content/ece421_f2024_A3_folder'\n",
        "if not os.path.exists(SYM_PATH):\n",
        "  !ln -s $DRIVE_PATH $SYM_PATH\n",
        "\n",
        "!apt install the requirements\n",
        "!apt update\n",
        "!apt install -y --no-install-recommends \\\n",
        "        build-essential \\\n",
        "        curl \\\n",
        "        git \\\n",
        "        gnupg2 \\\n",
        "        make \\\n",
        "        cmake \\\n",
        "        ffmpeg \\\n",
        "        swig \\\n",
        "        libz-dev \\\n",
        "        unzip \\\n",
        "        zlib1g-dev \\\n",
        "        libglfw3 \\\n",
        "        libglfw3-dev \\\n",
        "        libxrandr2 \\\n",
        "        libxinerama-dev \\\n",
        "        libxi6 \\\n",
        "        libxcursor-dev \\\n",
        "        libgl1-mesa-dev \\\n",
        "        libgl1-mesa-glx \\\n",
        "        libglew-dev \\\n",
        "        libosmesa6-dev \\\n",
        "        lsb-release \\\n",
        "        ack-grep \\\n",
        "        patchelf \\\n",
        "        wget \\\n",
        "        xpra \\\n",
        "        xserver-xorg-dev \\\n",
        "        ffmpeg\n",
        "!apt-get install python-opengl -y\n",
        "!apt install xvfb -y"
      ]
    },
    {
      "cell_type": "markdown",
      "metadata": {
        "id": "I9cSxzQyNFqD"
      },
      "source": [
        "## 0.2. Cloning the updated version of the repository in a new directory, *i.e.,*`ece421_f2024_A3_folder`, and installing the required python modules\n",
        "\n",
        "We do not want to mess up with your changes to the previous assignment. So, we create a new directory, named `ece421_f2024_A3_folder`, and will clone the latest version of the assignments repository there."
      ]
    },
    {
      "cell_type": "code",
      "execution_count": 2,
      "metadata": {
        "colab": {
          "base_uri": "https://localhost:8080/"
        },
        "id": "LVCCWrFAM519",
        "outputId": "47cff6f6-2780-458c-f926-612b67e40799"
      },
      "outputs": [
        {
          "output_type": "stream",
          "name": "stdout",
          "text": [
            "/content/gdrive/MyDrive/ece421_f2024_A3_folder\n",
            "fatal: destination path 'ece421fall24_assignments' already exists and is not an empty directory.\n",
            "/content/gdrive/MyDrive/ece421_f2024_A3_folder/ece421fall24_assignments\n"
          ]
        }
      ],
      "source": [
        "#@title ## 0.2.1 Cloning homework repo.\n",
        "#@markdown Similar to the previous assignments, you may be promped to restart your session.\n",
        "#@markdown We will reset the working directory and reload the required modules\n",
        "#@markdown in the following cells.\n",
        "\n",
        "#@markdown You just need to run this cell once.\n",
        "\n",
        "\n",
        "A3_SYM_PATH = '/content/gdrive/MyDrive/ece421_f2024_A3_folder'\n",
        "%cd $A3_SYM_PATH\n",
        "\n",
        "!git clone https://github.com/erfanmeskar/ece421fall24_assignments.git\n",
        "\n",
        "REPO_PATH = '/content/gdrive/MyDrive/ece421_f2024_A3_folder/ece421fall24_assignments'\n",
        "%cd $REPO_PATH"
      ]
    },
    {
      "cell_type": "code",
      "execution_count": 3,
      "metadata": {
        "colab": {
          "base_uri": "https://localhost:8080/"
        },
        "id": "StzxpryLNOv4",
        "outputId": "0a8f7895-dc84-4866-d69f-52ae53fea8b8"
      },
      "outputs": [
        {
          "output_type": "stream",
          "name": "stdout",
          "text": [
            "/content/gdrive/MyDrive/ece421_f2024_A3_folder/ece421fall24_assignments/A3\n",
            "Requirement already satisfied: mujoco==2.2.0 in /usr/local/lib/python3.10/dist-packages (from -r requirements_colab.txt (line 1)) (2.2.0)\n",
            "Requirement already satisfied: gym==0.25.2 in /usr/local/lib/python3.10/dist-packages (from -r requirements_colab.txt (line 2)) (0.25.2)\n",
            "Requirement already satisfied: tensorboardX==2.5.1 in /usr/local/lib/python3.10/dist-packages (from -r requirements_colab.txt (line 3)) (2.5.1)\n",
            "Requirement already satisfied: moviepy==1.0.3 in /usr/local/lib/python3.10/dist-packages (from -r requirements_colab.txt (line 4)) (1.0.3)\n",
            "Requirement already satisfied: pyvirtualdisplay==3.0 in /usr/local/lib/python3.10/dist-packages (from -r requirements_colab.txt (line 5)) (3.0)\n",
            "Requirement already satisfied: torch==2.5.0 in /usr/local/lib/python3.10/dist-packages (from -r requirements_colab.txt (line 6)) (2.5.0+cu121)\n",
            "Requirement already satisfied: opencv-python==4.6.0.66 in /usr/local/lib/python3.10/dist-packages (from -r requirements_colab.txt (line 7)) (4.6.0.66)\n",
            "Requirement already satisfied: swig==4.0.2 in /usr/local/lib/python3.10/dist-packages (from -r requirements_colab.txt (line 8)) (4.0.2)\n",
            "Requirement already satisfied: absl-py in /usr/local/lib/python3.10/dist-packages (from mujoco==2.2.0->-r requirements_colab.txt (line 1)) (1.4.0)\n",
            "Requirement already satisfied: glfw in /usr/local/lib/python3.10/dist-packages (from mujoco==2.2.0->-r requirements_colab.txt (line 1)) (2.7.0)\n",
            "Requirement already satisfied: numpy in /usr/local/lib/python3.10/dist-packages (from mujoco==2.2.0->-r requirements_colab.txt (line 1)) (1.26.4)\n",
            "Requirement already satisfied: pyopengl in /usr/local/lib/python3.10/dist-packages (from mujoco==2.2.0->-r requirements_colab.txt (line 1)) (3.1.7)\n",
            "Requirement already satisfied: cloudpickle>=1.2.0 in /usr/local/lib/python3.10/dist-packages (from gym==0.25.2->-r requirements_colab.txt (line 2)) (3.1.0)\n",
            "Requirement already satisfied: gym-notices>=0.0.4 in /usr/local/lib/python3.10/dist-packages (from gym==0.25.2->-r requirements_colab.txt (line 2)) (0.0.8)\n",
            "Requirement already satisfied: protobuf<=3.20.1,>=3.8.0 in /usr/local/lib/python3.10/dist-packages (from tensorboardX==2.5.1->-r requirements_colab.txt (line 3)) (3.20.1)\n",
            "Requirement already satisfied: decorator<5.0,>=4.0.2 in /usr/local/lib/python3.10/dist-packages (from moviepy==1.0.3->-r requirements_colab.txt (line 4)) (4.4.2)\n",
            "Requirement already satisfied: tqdm<5.0,>=4.11.2 in /usr/local/lib/python3.10/dist-packages (from moviepy==1.0.3->-r requirements_colab.txt (line 4)) (4.66.6)\n",
            "Requirement already satisfied: requests<3.0,>=2.8.1 in /usr/local/lib/python3.10/dist-packages (from moviepy==1.0.3->-r requirements_colab.txt (line 4)) (2.32.3)\n",
            "Requirement already satisfied: proglog<=1.0.0 in /usr/local/lib/python3.10/dist-packages (from moviepy==1.0.3->-r requirements_colab.txt (line 4)) (0.1.10)\n",
            "Requirement already satisfied: imageio<3.0,>=2.5 in /usr/local/lib/python3.10/dist-packages (from moviepy==1.0.3->-r requirements_colab.txt (line 4)) (2.36.0)\n",
            "Requirement already satisfied: imageio-ffmpeg>=0.2.0 in /usr/local/lib/python3.10/dist-packages (from moviepy==1.0.3->-r requirements_colab.txt (line 4)) (0.5.1)\n",
            "Requirement already satisfied: filelock in /usr/local/lib/python3.10/dist-packages (from torch==2.5.0->-r requirements_colab.txt (line 6)) (3.16.1)\n",
            "Requirement already satisfied: typing-extensions>=4.8.0 in /usr/local/lib/python3.10/dist-packages (from torch==2.5.0->-r requirements_colab.txt (line 6)) (4.12.2)\n",
            "Requirement already satisfied: networkx in /usr/local/lib/python3.10/dist-packages (from torch==2.5.0->-r requirements_colab.txt (line 6)) (3.4.2)\n",
            "Requirement already satisfied: jinja2 in /usr/local/lib/python3.10/dist-packages (from torch==2.5.0->-r requirements_colab.txt (line 6)) (3.1.4)\n",
            "Requirement already satisfied: fsspec in /usr/local/lib/python3.10/dist-packages (from torch==2.5.0->-r requirements_colab.txt (line 6)) (2024.10.0)\n",
            "Requirement already satisfied: sympy==1.13.1 in /usr/local/lib/python3.10/dist-packages (from torch==2.5.0->-r requirements_colab.txt (line 6)) (1.13.1)\n",
            "Requirement already satisfied: mpmath<1.4,>=1.1.0 in /usr/local/lib/python3.10/dist-packages (from sympy==1.13.1->torch==2.5.0->-r requirements_colab.txt (line 6)) (1.3.0)\n",
            "Requirement already satisfied: pillow>=8.3.2 in /usr/local/lib/python3.10/dist-packages (from imageio<3.0,>=2.5->moviepy==1.0.3->-r requirements_colab.txt (line 4)) (10.4.0)\n",
            "Requirement already satisfied: setuptools in /usr/local/lib/python3.10/dist-packages (from imageio-ffmpeg>=0.2.0->moviepy==1.0.3->-r requirements_colab.txt (line 4)) (75.1.0)\n",
            "Requirement already satisfied: charset-normalizer<4,>=2 in /usr/local/lib/python3.10/dist-packages (from requests<3.0,>=2.8.1->moviepy==1.0.3->-r requirements_colab.txt (line 4)) (3.4.0)\n",
            "Requirement already satisfied: idna<4,>=2.5 in /usr/local/lib/python3.10/dist-packages (from requests<3.0,>=2.8.1->moviepy==1.0.3->-r requirements_colab.txt (line 4)) (3.10)\n",
            "Requirement already satisfied: urllib3<3,>=1.21.1 in /usr/local/lib/python3.10/dist-packages (from requests<3.0,>=2.8.1->moviepy==1.0.3->-r requirements_colab.txt (line 4)) (2.2.3)\n",
            "Requirement already satisfied: certifi>=2017.4.17 in /usr/local/lib/python3.10/dist-packages (from requests<3.0,>=2.8.1->moviepy==1.0.3->-r requirements_colab.txt (line 4)) (2024.8.30)\n",
            "Requirement already satisfied: MarkupSafe>=2.0 in /usr/local/lib/python3.10/dist-packages (from jinja2->torch==2.5.0->-r requirements_colab.txt (line 6)) (3.0.2)\n"
          ]
        }
      ],
      "source": [
        "#@title ### 0.2.2 Installing the requirements.\n",
        "\n",
        "ASSIGNMENT_PATH = '/content/gdrive/MyDrive/ece421_f2024_A3_folder/ece421fall24_assignments/A3'\n",
        "%cd $ASSIGNMENT_PATH\n",
        "%pip install -r requirements_colab.txt"
      ]
    },
    {
      "cell_type": "markdown",
      "metadata": {
        "id": "GoKK8aGur1eA"
      },
      "source": [
        "## 0.3. Importing the required modules"
      ]
    },
    {
      "cell_type": "code",
      "execution_count": 4,
      "metadata": {
        "colab": {
          "base_uri": "https://localhost:8080/"
        },
        "id": "I21Hls-URKDo",
        "outputId": "4b0980d9-9ad8-4e9e-ea9c-35d691d3036d"
      },
      "outputs": [
        {
          "output_type": "stream",
          "name": "stdout",
          "text": [
            "/content/gdrive/MyDrive/ece421_f2024_A3_folder/ece421fall24_assignments/A3\n"
          ]
        }
      ],
      "source": [
        "ASSIGNMENT_PATH = '/content/gdrive/MyDrive/ece421_f2024_A3_folder/ece421fall24_assignments/A3'\n",
        "%cd $ASSIGNMENT_PATH\n",
        "\n",
        "import os\n",
        "from IPython.display import display, Markdown\n",
        "from importlib import reload\n",
        "\n",
        "from sklearn import datasets\n",
        "from sklearn.model_selection import train_test_split\n",
        "\n",
        "import numpy as np\n",
        "import matplotlib.pyplot as plt\n",
        "\n",
        "import layers\n",
        "import loss\n",
        "import activations\n",
        "import model\n",
        "import util\n",
        "import tests_A3"
      ]
    },
    {
      "cell_type": "markdown",
      "metadata": {
        "id": "BrVYd5cyUlUR"
      },
      "source": [
        "## 0.4 Background\n",
        "\n",
        "The notation that we use in this assignment is different from what you had been introduced to in class. This is intentional, as we want to make sure that you fully understood the basics of neural networks and you are able to switch between different notations and modelings of neural networks. Furtheremore, adapting to the new notation serves us another purpose, as well. We want to use a modelling which is more compatible with PyTorch, as the second half od this assignment is to be done with PyTorch.\n",
        "\n",
        "\n",
        "Once again, do not confuse the implementation in this assignment with the Directed Acyclic Graph (DAG) model that was introduced in class. In DAG modeling of neural networks, we clamp the weight that connects to unit to zero, if the two units in the neural network are not connected to each other. While the DAG model simplifies deriving the math for feed-forward and backpropagation, implementing the DAG would result in spending a lot of time multiplying by zero which is wasteful. Instead, in the actual implementation, we keep a set of indices for the connected units and we only some over those indices.\n",
        "\n",
        "In particular, the figure below shows how we model a fully connected neural network. For more details, see the posted handout.\n",
        "\n",
        "![A 3-layer fully-connected neural network](https://drive.google.com/uc?export=view&id=1u_7_ROAf8LxzLDLjv0ane8PQJFYnnsvS)\n",
        "\n",
        "![The jth neuron in the lth layer](https://drive.google.com/uc?export=view&id=1ljHfXrZ9jSFJO0sjpQQB9JQBjksa0Xvm)\n",
        "\n",
        "![ECE421_Fall24-A3-figure-1.svg](data:image/svg+xml;base64,PD94bWwgdmVyc2lvbj0iMS4wIiBlbmNvZGluZz0iVVRGLTgiPz4KPHN2ZyB4bWxucz0iaHR0cDovL3d3dy53My5vcmcvMjAwMC9zdmciIHhtbG5zOnhsaW5rPSJodHRwOi8vd3d3LnczLm9yZy8xOTk5L3hsaW5rIiB3aWR0aD0iMjc5LjE5NHB0IiBoZWlnaHQ9IjIyMS40NDRwdCIgdmlld0JveD0iMCAwIDI3OS4xOTQgMjIxLjQ0NCIgdmVyc2lvbj0iMS4xIj4KPGRlZnM+CjxnPgo8c3ltYm9sIG92ZXJmbG93PSJ2aXNpYmxlIiBpZD0iZ2x5cGgwLTAiPgo8cGF0aCBzdHlsZT0ic3Ryb2tlOm5vbmU7IiBkPSIiLz4KPC9zeW1ib2w+CjxzeW1ib2wgb3ZlcmZsb3c9InZpc2libGUiIGlkPSJnbHlwaDAtMSI+CjxwYXRoIHN0eWxlPSJzdHJva2U6bm9uZTsiIGQ9Ik0gMi4zMTI1IC0xLjE3MTg3NSBMIDMuMTA5Mzc1IC0xLjg3NSBMIDMuNTc4MTI1IC0xLjg3NSBMIDMuNTc4MTI1IC0yLjIxODc1IEMgMy4zNTkzNzUgLTIuMTg3NSAzLjIxODc1IC0yLjE4NzUgMy4wMTU2MjUgLTIuMTg3NSBDIDIuODEyNSAtMi4xODc1IDIuNjA5Mzc1IC0yLjIwMzEyNSAyLjQwNjI1IC0yLjIxODc1IEwgMi40MDYyNSAtMS44NzUgTCAyLjQ4NDM3NSAtMS44NzUgTCAyIC0xLjQ1MzEyNSBMIDEuNTE1NjI1IC0xLjg3NSBDIDEuNTQ2ODc1IC0xLjg3NSAxLjU2MjUgLTEuODc1IDEuNTc4MTI1IC0xLjg3NSBMIDEuNTc4MTI1IC0yLjIxODc1IEMgMS4zNTkzNzUgLTIuMjAzMTI1IDEuMTQwNjI1IC0yLjE4NzUgMC45MjE4NzUgLTIuMTg3NSBDIDAuNzAzMTI1IC0yLjE4NzUgMC41NjI1IC0yLjE4NzUgMC4zMjgxMjUgLTIuMjE4NzUgTCAwLjMyODEyNSAtMS44NzUgTCAwLjc2NTYyNSAtMS44NzUgTCAxLjYyNSAtMS4xMDkzNzUgTCAwLjc1IC0wLjMyODEyNSBMIDAuMjk2ODc1IC0wLjMyODEyNSBMIDAuMjk2ODc1IDAgQyAwLjUgLTAuMDE1NjI1IDAuNjQwNjI1IC0wLjAxNTYyNSAwLjg0Mzc1IC0wLjAxNTYyNSBDIDEuMDQ2ODc1IC0wLjAxNTYyNSAxLjI1IC0wLjAxNTYyNSAxLjQ1MzEyNSAwIEwgMS40NTMxMjUgLTAuMzI4MTI1IEwgMS4zNzUgLTAuMzI4MTI1IEwgMS45Mzc1IC0wLjg0Mzc1IEwgMi41IC0wLjM0Mzc1IEMgMi40ODQzNzUgLTAuMzI4MTI1IDIuNDY4NzUgLTAuMzI4MTI1IDIuNDM3NSAtMC4zMjgxMjUgTCAyLjQzNzUgMCBDIDIuNjU2MjUgLTAuMDE1NjI1IDIuODc1IC0wLjAxNTYyNSAzLjA5Mzc1IC0wLjAxNTYyNSBDIDMuMzEyNSAtMC4wMTU2MjUgMy40Njg3NSAtMC4wMTU2MjUgMy42ODc1IDAgTCAzLjY4NzUgLTAuMzI4MTI1IEwgMy4yNSAtMC4zMjgxMjUgWiBNIDIuMzEyNSAtMS4xNzE4NzUgIi8+Cjwvc3ltYm9sPgo8c3ltYm9sIG92ZXJmbG93PSJ2aXNpYmxlIiBpZD0iZ2x5cGgwLTIiPgo8cGF0aCBzdHlsZT0ic3Ryb2tlOm5vbmU7IiBkPSJNIDEuNDA2MjUgLTMuNDUzMTI1IEwgMC40MjE4NzUgLTMuNDIxODc1IEwgMC40MjE4NzUgLTMuMDc4MTI1IEMgMC43MzQzNzUgLTMuMDc4MTI1IDAuNzgxMjUgLTMuMDc4MTI1IDAuNzgxMjUgLTIuODkwNjI1IEwgMC43ODEyNSAwIEwgMS4xODc1IDAgTCAxLjMyODEyNSAtMC4yNjU2MjUgQyAxLjY4NzUgLTAuMDE1NjI1IDIuMDMxMjUgMC4wNDY4NzUgMi4yOTY4NzUgMC4wNDY4NzUgQyAzLjMyODEyNSAwLjA0Njg3NSAzLjg1OTM3NSAtMC41IDMuODU5Mzc1IC0xLjEwOTM3NSBDIDMuODU5Mzc1IC0xLjY1NjI1IDMuNDM3NSAtMi4yNSAyLjM3NSAtMi4yNSBDIDEuODkwNjI1IC0yLjI1IDEuNTYyNSAtMi4xMjUgMS40MDYyNSAtMi4wMzEyNSBaIE0gMS40Mzc1IC0xLjU0Njg3NSBDIDEuNDM3NSAtMS42NTYyNSAxLjQzNzUgLTEuNjU2MjUgMS41MzEyNSAtMS43MzQzNzUgQyAxLjc4MTI1IC0xLjkyMTg3NSAyLjA3ODEyNSAtMS45Njg3NSAyLjI5Njg3NSAtMS45Njg3NSBDIDMuMTA5Mzc1IC0xLjk2ODc1IDMuMTA5Mzc1IC0xLjM5MDYyNSAzLjEwOTM3NSAtMS4xMDkzNzUgQyAzLjEwOTM3NSAtMC44NDM3NSAzLjEwOTM3NSAtMC4yMzQzNzUgMi4yMTg3NSAtMC4yMzQzNzUgQyAxLjc5Njg3NSAtMC4yMzQzNzUgMS41NjI1IC0wLjQ4NDM3NSAxLjQzNzUgLTAuNjQwNjI1IFogTSAxLjQzNzUgLTEuNTQ2ODc1ICIvPgo8L3N5bWJvbD4KPHN5bWJvbCBvdmVyZmxvdz0idmlzaWJsZSIgaWQ9ImdseXBoMC0zIj4KPHBhdGggc3R5bGU9InN0cm9rZTpub25lOyIgZD0iTSAzLjUxNTYyNSAtMS40Njg3NSBDIDMuNTE1NjI1IC0yLjIwMzEyNSAyLjkwNjI1IC0yLjI1IDIuNTQ2ODc1IC0yLjI1IEMgMi4wNDY4NzUgLTIuMjUgMS43MDMxMjUgLTIuMDc4MTI1IDEuNDY4NzUgLTEuNzgxMjUgTCAxLjQ2ODc1IC0zLjQ1MzEyNSBMIDAuNDg0Mzc1IC0zLjQyMTg3NSBMIDAuNDg0Mzc1IC0zLjA3ODEyNSBDIDAuNzk2ODc1IC0zLjA3ODEyNSAwLjg0Mzc1IC0zLjA3ODEyNSAwLjg0Mzc1IC0yLjg5MDYyNSBMIDAuODQzNzUgLTAuMzI4MTI1IEwgMC40ODQzNzUgLTAuMzI4MTI1IEwgMC40ODQzNzUgMCBDIDAuNjg3NSAtMC4wMTU2MjUgMC45ODQzNzUgLTAuMDE1NjI1IDEuMTcxODc1IC0wLjAxNTYyNSBDIDEuMzU5Mzc1IC0wLjAxNTYyNSAxLjY0MDYyNSAtMC4wMTU2MjUgMS44NTkzNzUgMCBMIDEuODU5Mzc1IC0wLjMyODEyNSBMIDEuNSAtMC4zMjgxMjUgTCAxLjUgLTEuMjAzMTI1IEMgMS41IC0xLjgxMjUgMi4xMjUgLTEuOTY4NzUgMi40MjE4NzUgLTEuOTY4NzUgQyAyLjc1IC0xLjk2ODc1IDIuODQzNzUgLTEuODQzNzUgMi44NDM3NSAtMS40ODQzNzUgTCAyLjg0Mzc1IC0wLjMyODEyNSBMIDIuNDg0Mzc1IC0wLjMyODEyNSBMIDIuNDg0Mzc1IDAgQyAyLjY4NzUgLTAuMDE1NjI1IDIuOTg0Mzc1IC0wLjAxNTYyNSAzLjE4NzUgLTAuMDE1NjI1IEMgMy4zNTkzNzUgLTAuMDE1NjI1IDMuNjU2MjUgLTAuMDE1NjI1IDMuODc1IDAgTCAzLjg3NSAtMC4zMjgxMjUgTCAzLjUxNTYyNSAtMC4zMjgxMjUgWiBNIDMuNTE1NjI1IC0xLjQ2ODc1ICIvPgo8L3N5bWJvbD4KPHN5bWJvbCBvdmVyZmxvdz0idmlzaWJsZSIgaWQ9ImdseXBoMC00Ij4KPHBhdGggc3R5bGU9InN0cm9rZTpub25lOyIgZD0iTSAzLjM0Mzc1IC0xLjg3NSBMIDMuNzE4NzUgLTEuODc1IEwgMy43MTg3NSAtMi4yMTg3NSBDIDMuNTc4MTI1IC0yLjIwMzEyNSAzLjQyMTg3NSAtMi4xODc1IDMuMjAzMTI1IC0yLjE4NzUgQyAzLjAzMTI1IC0yLjE4NzUgMi44MjgxMjUgLTIuMjAzMTI1IDIuNjQwNjI1IC0yLjIxODc1IEwgMi42NDA2MjUgLTEuODc1IEwgMi44NzUgLTEuODc1IEwgMi4yMTg3NSAtMC42MjUgTCAxLjQwNjI1IC0xLjg3NSBMIDEuNjA5Mzc1IC0xLjg3NSBMIDEuNjA5Mzc1IC0yLjIxODc1IEMgMS4zNzUgLTIuMjAzMTI1IDEuMDQ2ODc1IC0yLjE4NzUgMC45MjE4NzUgLTIuMTg3NSBDIDAuNzE4NzUgLTIuMTg3NSAwLjUgLTIuMjAzMTI1IDAuMjk2ODc1IC0yLjIxODc1IEwgMC4yOTY4NzUgLTEuODc1IEwgMC42NzE4NzUgLTEuODc1IEwgMS44NDM3NSAtMC4wNjI1IEMgMS44NzUgLTAuMDE1NjI1IDEuODc1IDAgMS44NzUgMCBDIDEuODc1IDAuMDE1NjI1IDEuNzk2ODc1IDAuMTU2MjUgMS43NSAwLjIzNDM3NSBDIDEuNjU2MjUgMC40MjE4NzUgMS41IDAuNzM0Mzc1IDAuOTIxODc1IDAuNzM0Mzc1IEMgMC44OTA2MjUgMC43MzQzNzUgMC44NDM3NSAwLjczNDM3NSAwLjg0Mzc1IDAuNzE4NzUgQyAwLjg0Mzc1IDAuNzAzMTI1IDAuODU5Mzc1IDAuNzAzMTI1IDAuODU5Mzc1IDAuNjg3NSBDIDAuOTIxODc1IDAuNjA5Mzc1IDAuOTM3NSAwLjUxNTYyNSAwLjkzNzUgMC40Njg3NSBDIDAuOTM3NSAwLjIzNDM3NSAwLjc2NTYyNSAwLjEwOTM3NSAwLjU3ODEyNSAwLjEwOTM3NSBDIDAuMzkwNjI1IDAuMTA5Mzc1IDAuMjE4NzUgMC4yMzQzNzUgMC4yMTg3NSAwLjQ2ODc1IEMgMC4yMTg3NSAwLjc1IDAuNSAxIDAuOTA2MjUgMSBDIDEuMjM0Mzc1IDEgMS44NzUgMC44OTA2MjUgMi4xNTYyNSAwLjM1OTM3NSBaIE0gMy4zNDM3NSAtMS44NzUgIi8+Cjwvc3ltYm9sPgo8c3ltYm9sIG92ZXJmbG93PSJ2aXNpYmxlIiBpZD0iZ2x5cGgxLTAiPgo8cGF0aCBzdHlsZT0ic3Ryb2tlOm5vbmU7IiBkPSIiLz4KPC9zeW1ib2w+CjxzeW1ib2wgb3ZlcmZsb3c9InZpc2libGUiIGlkPSJnbHlwaDEtMSI+CjxwYXRoIHN0eWxlPSJzdHJva2U6bm9uZTsiIGQ9Ik0gMS43MzQzNzUgLTMuNDUzMTI1IEwgMS43MzQzNzUgLTMuNzM0Mzc1IEwgMC44NTkzNzUgLTMuNzM0Mzc1IEwgMC44NTkzNzUgMS4yNSBMIDEuNzM0Mzc1IDEuMjUgTCAxLjczNDM3NSAwLjk2ODc1IEwgMS4xNDA2MjUgMC45Njg3NSBMIDEuMTQwNjI1IC0zLjQ1MzEyNSBaIE0gMS43MzQzNzUgLTMuNDUzMTI1ICIvPgo8L3N5bWJvbD4KPHN5bWJvbCBvdmVyZmxvdz0idmlzaWJsZSIgaWQ9ImdseXBoMS0yIj4KPHBhdGggc3R5bGU9InN0cm9rZTpub25lOyIgZD0iTSAxLjk4NDM3NSAtMy4xNzE4NzUgQyAxLjk4NDM3NSAtMy4zMTI1IDEuOTY4NzUgLTMuMzEyNSAxLjc5Njg3NSAtMy4zMTI1IEMgMS40NTMxMjUgLTMgMC44OTA2MjUgLTMgMC43OTY4NzUgLTMgTCAwLjcxODc1IC0zIEwgMC43MTg3NSAtMi43ODEyNSBMIDAuNzk2ODc1IC0yLjc4MTI1IEMgMC45MDYyNSAtMi43ODEyNSAxLjIzNDM3NSAtMi43OTY4NzUgMS41MzEyNSAtMi45MjE4NzUgTCAxLjUzMTI1IC0wLjQyMTg3NSBDIDEuNTMxMjUgLTAuMjgxMjUgMS41MzEyNSAtMC4yMTg3NSAxIC0wLjIxODc1IEwgMC43NSAtMC4yMTg3NSBMIDAuNzUgMCBDIDEuMDE1NjI1IC0wLjAxNTYyNSAxLjQ2ODc1IC0wLjAxNTYyNSAxLjc1IC0wLjAxNTYyNSBDIDIuMDQ2ODc1IC0wLjAxNTYyNSAyLjQ4NDM3NSAtMC4wMTU2MjUgMi43NjU2MjUgMCBMIDIuNzY1NjI1IC0wLjIxODc1IEwgMi41MTU2MjUgLTAuMjE4NzUgQyAxLjk4NDM3NSAtMC4yMTg3NSAxLjk4NDM3NSAtMC4yODEyNSAxLjk4NDM3NSAtMC40MjE4NzUgWiBNIDEuOTg0Mzc1IC0zLjE3MTg3NSAiLz4KPC9zeW1ib2w+CjxzeW1ib2wgb3ZlcmZsb3c9InZpc2libGUiIGlkPSJnbHlwaDEtMyI+CjxwYXRoIHN0eWxlPSJzdHJva2U6bm9uZTsiIGQ9Ik0gMS4xNDA2MjUgLTMuNzM0Mzc1IEwgMC4yODEyNSAtMy43MzQzNzUgTCAwLjI4MTI1IC0zLjQ1MzEyNSBMIDAuODU5Mzc1IC0zLjQ1MzEyNSBMIDAuODU5Mzc1IDAuOTY4NzUgTCAwLjI4MTI1IDAuOTY4NzUgTCAwLjI4MTI1IDEuMjUgTCAxLjE0MDYyNSAxLjI1IFogTSAxLjE0MDYyNSAtMy43MzQzNzUgIi8+Cjwvc3ltYm9sPgo8c3ltYm9sIG92ZXJmbG93PSJ2aXNpYmxlIiBpZD0iZ2x5cGgxLTQiPgo8cGF0aCBzdHlsZT0ic3Ryb2tlOm5vbmU7IiBkPSJNIDIuOTM3NSAtMC45Njg3NSBMIDIuNzE4NzUgLTAuOTY4NzUgQyAyLjcxODc1IC0wLjg3NSAyLjY1NjI1IC0wLjU2MjUgMi41NzgxMjUgLTAuNTE1NjI1IEMgMi41NDY4NzUgLTAuNDg0Mzc1IDIuMTI1IC0wLjQ4NDM3NSAyLjA0Njg3NSAtMC40ODQzNzUgTCAxLjA3ODEyNSAtMC40ODQzNzUgQyAxLjQwNjI1IC0wLjcxODc1IDEuNzY1NjI1IC0xIDIuMDYyNSAtMS4yMDMxMjUgQyAyLjUxNTYyNSAtMS41MTU2MjUgMi45Mzc1IC0xLjc5Njg3NSAyLjkzNzUgLTIuMzI4MTI1IEMgMi45Mzc1IC0yLjk2ODc1IDIuMzI4MTI1IC0zLjMxMjUgMS42MjUgLTMuMzEyNSBDIDAuOTUzMTI1IC0zLjMxMjUgMC40NTMxMjUgLTIuOTM3NSAwLjQ1MzEyNSAtMi40Mzc1IEMgMC40NTMxMjUgLTIuMTg3NSAwLjY3MTg3NSAtMi4xNDA2MjUgMC43NSAtMi4xNDA2MjUgQyAwLjg3NSAtMi4xNDA2MjUgMS4wMzEyNSAtMi4yMzQzNzUgMS4wMzEyNSAtMi40Mzc1IEMgMS4wMzEyNSAtMi42MDkzNzUgMC45MDYyNSAtMi43MTg3NSAwLjc1IC0yLjcxODc1IEMgMC44OTA2MjUgLTIuOTUzMTI1IDEuMTg3NSAtMy4wOTM3NSAxLjUxNTYyNSAtMy4wOTM3NSBDIDIgLTMuMDkzNzUgMi40MDYyNSAtMi44MTI1IDIuNDA2MjUgLTIuMzI4MTI1IEMgMi40MDYyNSAtMS45MDYyNSAyLjEwOTM3NSAtMS41NzgxMjUgMS43MzQzNzUgLTEuMjY1NjI1IEwgMC41MTU2MjUgLTAuMjM0Mzc1IEMgMC40Njg3NSAtMC4xODc1IDAuNDUzMTI1IC0wLjE4NzUgMC40NTMxMjUgLTAuMTU2MjUgTCAwLjQ1MzEyNSAwIEwgMi43NjU2MjUgMCBaIE0gMi45Mzc1IC0wLjk2ODc1ICIvPgo8L3N5bWJvbD4KPHN5bWJvbCBvdmVyZmxvdz0idmlzaWJsZSIgaWQ9ImdseXBoMS01Ij4KPHBhdGggc3R5bGU9InN0cm9rZTpub25lOyIgZD0iTSAxLjY0MDYyNSAtMS42NTYyNSBDIDIuMTA5Mzc1IC0xLjY1NjI1IDIuNDA2MjUgLTEuMzU5Mzc1IDIuNDA2MjUgLTAuODc1IEMgMi40MDYyNSAtMC4zNTkzNzUgMi4wOTM3NSAtMC4wOTM3NSAxLjY1NjI1IC0wLjA5Mzc1IEMgMS41OTM3NSAtMC4wOTM3NSAxIC0wLjA5Mzc1IDAuNzUgLTAuMzU5Mzc1IEMgMC45NTMxMjUgLTAuMzkwNjI1IDEuMDE1NjI1IC0wLjUzMTI1IDEuMDE1NjI1IC0wLjY1NjI1IEMgMS4wMTU2MjUgLTAuODQzNzUgMC44NzUgLTAuOTY4NzUgMC43MDMxMjUgLTAuOTY4NzUgQyAwLjU0Njg3NSAtMC45Njg3NSAwLjQwNjI1IC0wLjg1OTM3NSAwLjQwNjI1IC0wLjY0MDYyNSBDIDAuNDA2MjUgLTAuMTI1IDAuOTg0Mzc1IDAuMTA5Mzc1IDEuNjcxODc1IDAuMTA5Mzc1IEMgMi40ODQzNzUgMC4xMDkzNzUgMi45ODQzNzUgLTAuMzkwNjI1IDIuOTg0Mzc1IC0wLjg3NSBDIDIuOTg0Mzc1IC0xLjI4MTI1IDIuNjI1IC0xLjYyNSAyLjA2MjUgLTEuNzUgQyAyLjY1NjI1IC0xLjk1MzEyNSAyLjgxMjUgLTIuMzI4MTI1IDIuODEyNSAtMi42MDkzNzUgQyAyLjgxMjUgLTMuMDE1NjI1IDIuMzEyNSAtMy4zMTI1IDEuNjg3NSAtMy4zMTI1IEMgMS4wNjI1IC0zLjMxMjUgMC41NzgxMjUgLTMuMDYyNSAwLjU3ODEyNSAtMi42MDkzNzUgQyAwLjU3ODEyNSAtMi4zNzUgMC43NjU2MjUgLTIuMzEyNSAwLjg1OTM3NSAtMi4zMTI1IEMgMSAtMi4zMTI1IDEuMTQwNjI1IC0yLjQyMTg3NSAxLjE0MDYyNSAtMi42MDkzNzUgQyAxLjE0MDYyNSAtMi43MTg3NSAxLjA3ODEyNSAtMi44NTkzNzUgMC45MDYyNSAtMi44OTA2MjUgQyAxLjEwOTM3NSAtMy4xMDkzNzUgMS41NjI1IC0zLjEyNSAxLjY3MTg3NSAtMy4xMjUgQyAyLjAzMTI1IC0zLjEyNSAyLjI4MTI1IC0yLjk1MzEyNSAyLjI4MTI1IC0yLjYwOTM3NSBDIDIuMjgxMjUgLTIuMzEyNSAyLjA5Mzc1IC0xLjg1OTM3NSAxLjU3ODEyNSAtMS44MjgxMjUgQyAxLjQzNzUgLTEuODI4MTI1IDEuNDIxODc1IC0xLjgyODEyNSAxLjI4MTI1IC0xLjgxMjUgQyAxLjIzNDM3NSAtMS44MTI1IDEuMTcxODc1IC0xLjgxMjUgMS4xNzE4NzUgLTEuNzM0Mzc1IEMgMS4xNzE4NzUgLTEuNjU2MjUgMS4yMTg3NSAtMS42NTYyNSAxLjMxMjUgLTEuNjU2MjUgWiBNIDEuNjQwNjI1IC0xLjY1NjI1ICIvPgo8L3N5bWJvbD4KPHN5bWJvbCBvdmVyZmxvdz0idmlzaWJsZSIgaWQ9ImdseXBoMS02Ij4KPHBhdGggc3R5bGU9InN0cm9rZTpub25lOyIgZD0iTSAxLjY4NzUgLTMuNDUzMTI1IEwgMC44NTkzNzUgLTIuODEyNSBMIDAuOTg0Mzc1IC0yLjY0MDYyNSBMIDEuNjg3NSAtMy4xMjUgTCAyLjQwNjI1IC0yLjY0MDYyNSBMIDIuNTMxMjUgLTIuODEyNSBaIE0gMS42ODc1IC0zLjQ1MzEyNSAiLz4KPC9zeW1ib2w+CjwvZz4KPGNsaXBQYXRoIGlkPSJjbGlwMSI+CiAgPHBhdGggZD0iTSA4MCAxOTIgTCAxMTUgMTkyIEwgMTE1IDIyMS40NDUzMTMgTCA4MCAyMjEuNDQ1MzEzIFogTSA4MCAxOTIgIi8+CjwvY2xpcFBhdGg+CjxjbGlwUGF0aCBpZD0iY2xpcDIiPgogIDxwYXRoIGQ9Ik0gMTY1IDE5MiBMIDIwMCAxOTIgTCAyMDAgMjIxLjQ0NTMxMyBMIDE2NSAyMjEuNDQ1MzEzIFogTSAxNjUgMTkyICIvPgo8L2NsaXBQYXRoPgo8Y2xpcFBhdGggaWQ9ImNsaXAzIj4KICA8cGF0aCBkPSJNIDI1MCAxMDcgTCAyNzkuMTk1MzEzIDEwNyBMIDI3OS4xOTUzMTMgMTQyIEwgMjUwIDE0MiBaIE0gMjUwIDEwNyAiLz4KPC9jbGlwUGF0aD4KPGNsaXBQYXRoIGlkPSJjbGlwNCI+CiAgPHBhdGggZD0iTSAyNTAgMTM1IEwgMjc5LjE5NTMxMyAxMzUgTCAyNzkuMTk1MzEzIDE3MCBMIDI1MCAxNzAgWiBNIDI1MCAxMzUgIi8+CjwvY2xpcFBhdGg+CjxjbGlwUGF0aCBpZD0iY2xpcDUiPgogIDxwYXRoIGQ9Ik0gMjUwIDE2NCBMIDI3OS4xOTUzMTMgMTY0IEwgMjc5LjE5NTMxMyAxOTkgTCAyNTAgMTk5IFogTSAyNTAgMTY0ICIvPgo8L2NsaXBQYXRoPgo8Y2xpcFBhdGggaWQ9ImNsaXA2Ij4KICA8cGF0aCBkPSJNIDI1MCA5MiBMIDI3OS4xOTUzMTMgOTIgTCAyNzkuMTk1MzEzIDEwOSBMIDI1MCAxMDkgWiBNIDI1MCA5MiAiLz4KPC9jbGlwUGF0aD4KPC9kZWZzPgo8ZyBpZD0ic3VyZmFjZTEiPgo8cGF0aCBzdHlsZT0iZmlsbC1ydWxlOm5vbnplcm87ZmlsbDpyZ2IoNzkuOTk4Nzc5JSw3OS45OTg3NzklLDEwMCUpO2ZpbGwtb3BhY2l0eToxO3N0cm9rZS13aWR0aDowLjM5ODU7c3Ryb2tlLWxpbmVjYXA6YnV0dDtzdHJva2UtbGluZWpvaW46bWl0ZXI7c3Ryb2tlOnJnYigwJSwwJSwwJSk7c3Ryb2tlLW9wYWNpdHk6MTtzdHJva2UtbWl0ZXJsaW1pdDoxMDsiIGQ9Ik0gMTEuMzM3IC0wLjAwMTMxMjUgQyAxMS4zMzcgNi4yNjA0MDYgNi4yNjI3ODEgMTEuMzM4NTMxIDAuMDAxMDYyNSAxMS4zMzg1MzEgQyAtNi4yNjA2NTYgMTEuMzM4NTMxIC0xMS4zMzg3ODEgNi4yNjA0MDYgLTExLjMzODc4MSAtMC4wMDEzMTI1IEMgLTExLjMzODc4MSAtNi4yNjMwMzEgLTYuMjYwNjU2IC0xMS4zMzcyNSAwLjAwMTA2MjUgLTExLjMzNzI1IEMgNi4yNjI3ODEgLTExLjMzNzI1IDExLjMzNyAtNi4yNjMwMzEgMTEuMzM3IC0wLjAwMTMxMjUgWiBNIDExLjMzNyAtMC4wMDEzMTI1ICIgdHJhbnNmb3JtPSJtYXRyaXgoMSwwLDAsLTEsMTIuMDM4LDExMC4xOTQpIi8+CjxwYXRoIHN0eWxlPSJmaWxsLXJ1bGU6bm9uemVybztmaWxsOnJnYig3OS45OTg3NzklLDc5Ljk5ODc3OSUsMTAwJSk7ZmlsbC1vcGFjaXR5OjE7c3Ryb2tlLXdpZHRoOjAuMzk4NTtzdHJva2UtbGluZWNhcDpidXR0O3N0cm9rZS1saW5lam9pbjptaXRlcjtzdHJva2U6cmdiKDAlLDAlLDAlKTtzdHJva2Utb3BhY2l0eToxO3N0cm9rZS1taXRlcmxpbWl0OjEwOyIgZD0iTSAxMS4zMzcgLTI4LjM0NTA2MyBDIDExLjMzNyAtMjIuMDgzMzQ0IDYuMjYyNzgxIC0xNy4wMDkxMjUgMC4wMDEwNjI1IC0xNy4wMDkxMjUgQyAtNi4yNjA2NTYgLTE3LjAwOTEyNSAtMTEuMzM4NzgxIC0yMi4wODMzNDQgLTExLjMzODc4MSAtMjguMzQ1MDYzIEMgLTExLjMzODc4MSAtMzQuNjEwNjg4IC02LjI2MDY1NiAtMzkuNjg0OTA2IDAuMDAxMDYyNSAtMzkuNjg0OTA2IEMgNi4yNjI3ODEgLTM5LjY4NDkwNiAxMS4zMzcgLTM0LjYxMDY4OCAxMS4zMzcgLTI4LjM0NTA2MyBaIE0gMTEuMzM3IC0yOC4zNDUwNjMgIiB0cmFuc2Zvcm09Im1hdHJpeCgxLDAsMCwtMSwxMi4wMzgsMTEwLjE5NCkiLz4KPHBhdGggc3R5bGU9ImZpbGwtcnVsZTpub256ZXJvO2ZpbGw6cmdiKDc5Ljk5ODc3OSUsNzkuOTk4Nzc5JSwxMDAlKTtmaWxsLW9wYWNpdHk6MTtzdHJva2Utd2lkdGg6MC4zOTg1O3N0cm9rZS1saW5lY2FwOmJ1dHQ7c3Ryb2tlLWxpbmVqb2luOm1pdGVyO3N0cm9rZTpyZ2IoMCUsMCUsMCUpO3N0cm9rZS1vcGFjaXR5OjE7c3Ryb2tlLW1pdGVybGltaXQ6MTA7IiBkPSJNIDExLjMzNyAtNTYuNjkyNzE5IEMgMTEuMzM3IC01MC40MzEgNi4yNjI3ODEgLTQ1LjM1Njc4MSAwLjAwMTA2MjUgLTQ1LjM1Njc4MSBDIC02LjI2MDY1NiAtNDUuMzU2NzgxIC0xMS4zMzg3ODEgLTUwLjQzMSAtMTEuMzM4NzgxIC01Ni42OTI3MTkgQyAtMTEuMzM4NzgxIC02Mi45NTQ0MzggLTYuMjYwNjU2IC02OC4wMzI1NjMgMC4wMDEwNjI1IC02OC4wMzI1NjMgQyA2LjI2Mjc4MSAtNjguMDMyNTYzIDExLjMzNyAtNjIuOTU0NDM4IDExLjMzNyAtNTYuNjkyNzE5IFogTSAxMS4zMzcgLTU2LjY5MjcxOSAiIHRyYW5zZm9ybT0ibWF0cml4KDEsMCwwLC0xLDEyLjAzOCwxMTAuMTk0KSIvPgo8cGF0aCBzdHlsZT0iZmlsbC1ydWxlOm5vbnplcm87ZmlsbDpyZ2IoNzkuOTk4Nzc5JSw3OS45OTg3NzklLDEwMCUpO2ZpbGwtb3BhY2l0eToxO3N0cm9rZS13aWR0aDowLjM5ODU7c3Ryb2tlLWxpbmVjYXA6YnV0dDtzdHJva2UtbGluZWpvaW46bWl0ZXI7c3Ryb2tlOnJnYigwJSwwJSwwJSk7c3Ryb2tlLW9wYWNpdHk6MTtzdHJva2UtbWl0ZXJsaW1pdDoxMDsiIGQ9Ik0gMTEuMzM3IC04NS4wNDAzNzUgQyAxMS4zMzcgLTc4Ljc3ODY1NiA2LjI2Mjc4MSAtNzMuNzAwNTMxIDAuMDAxMDYyNSAtNzMuNzAwNTMxIEMgLTYuMjYwNjU2IC03My43MDA1MzEgLTExLjMzODc4MSAtNzguNzc4NjU2IC0xMS4zMzg3ODEgLTg1LjA0MDM3NSBDIC0xMS4zMzg3ODEgLTkxLjMwMjA5NCAtNi4yNjA2NTYgLTk2LjM4MDIxOSAwLjAwMTA2MjUgLTk2LjM4MDIxOSBDIDYuMjYyNzgxIC05Ni4zODAyMTkgMTEuMzM3IC05MS4zMDIwOTQgMTEuMzM3IC04NS4wNDAzNzUgWiBNIDExLjMzNyAtODUuMDQwMzc1ICIgdHJhbnNmb3JtPSJtYXRyaXgoMSwwLDAsLTEsMTIuMDM4LDExMC4xOTQpIi8+CjxwYXRoIHN0eWxlPSJmaWxsOm5vbmU7c3Ryb2tlLXdpZHRoOjAuMzk4NTtzdHJva2UtbGluZWNhcDpidXR0O3N0cm9rZS1saW5lam9pbjptaXRlcjtzdHJva2U6cmdiKDAlLDAlLDAlKTtzdHJva2Utb3BhY2l0eToxO3N0cm9rZS1taXRlcmxpbWl0OjEwOyIgZD0iTSAtMTEuMzM4NzgxIDIxLjI2MDQwNiBDIC0xMC41OTI2ODcgMjIuNzUyNTk0IC04Ljg0NjU5NCAyMy43NTI1OTQgLTYuMzU4MzEyIDIzLjc1MjU5NCBMIC00Ljk4MzMxMiAyMy43NTI1OTQgQyAtMi40OTExMjUgMjMuNzUyNTk0IC0wLjc0ODkzNyAyNC43NDg2ODcgMC4wMDEwNjI1IDI2LjI0MDg3NSBDIDAuNzQ3MTU2IDI0Ljc0ODY4NyAyLjQ4OTM0NCAyMy43NTI1OTQgNC45ODE1MzEgMjMuNzUyNTk0IEwgNi4zNTY1MzEgMjMuNzUyNTk0IEMgOC44NDg3MTkgMjMuNzUyNTk0IDEwLjU5MDkwNiAyMi43NTI1OTQgMTEuMzM3IDIxLjI2MDQwNiAiIHRyYW5zZm9ybT0ibWF0cml4KDEsMCwwLC0xLDEyLjAzOCwxMTAuMTk0KSIvPgo8ZyBzdHlsZT0iZmlsbDpyZ2IoMCUsMCUsMCUpO2ZpbGwtb3BhY2l0eToxOyI+CiAgPHVzZSB4bGluazpocmVmPSIjZ2x5cGgwLTEiIHg9IjEwLjA0OSIgeT0iODAuNDMzIi8+CjwvZz4KPHBhdGggc3R5bGU9ImZpbGwtcnVsZTpub256ZXJvO2ZpbGw6cmdiKDEwMCUsOTguOTc5MTg3JSw4MC4wMDAzMDUlKTtmaWxsLW9wYWNpdHk6MTtzdHJva2Utd2lkdGg6MC4zOTg1O3N0cm9rZS1saW5lY2FwOmJ1dHQ7c3Ryb2tlLWxpbmVqb2luOm1pdGVyO3N0cm9rZTpyZ2IoMCUsMCUsMCUpO3N0cm9rZS1vcGFjaXR5OjE7c3Ryb2tlLW1pdGVybGltaXQ6MTA7IiBkPSJNIDM0LjAxNjY4OCA4NS4wNDE2NTYgQyAzNC4wMTY2ODggODguMTcwNTYyIDMxLjQ3NzYyNSA5MC43MDk2MjUgMjguMzQ4NzE5IDkwLjcwOTYyNSBDIDI1LjIxNTkwNiA5MC43MDk2MjUgMjIuNjc2ODQ0IDg4LjE3MDU2MiAyMi42NzY4NDQgODUuMDQxNjU2IEMgMjIuNjc2ODQ0IDgxLjkwODg0NCAyNS4yMTU5MDYgNzkuMzY5NzgxIDI4LjM0ODcxOSA3OS4zNjk3ODEgQyAzMS40Nzc2MjUgNzkuMzY5NzgxIDM0LjAxNjY4OCA4MS45MDg4NDQgMzQuMDE2Njg4IDg1LjA0MTY1NiBaIE0gMzQuMDE2Njg4IDg1LjA0MTY1NiAiIHRyYW5zZm9ybT0ibWF0cml4KDEsMCwwLC0xLDEyLjAzOCwxMTAuMTk0KSIvPgo8cGF0aCBzdHlsZT0iZmlsbC1ydWxlOm5vbnplcm87ZmlsbDpyZ2IoMTAwJSw5OC45NzkxODclLDgwLjAwMDMwNSUpO2ZpbGwtb3BhY2l0eToxO3N0cm9rZS13aWR0aDowLjM5ODU7c3Ryb2tlLWxpbmVjYXA6YnV0dDtzdHJva2UtbGluZWpvaW46bWl0ZXI7c3Ryb2tlOnJnYigwJSwwJSwwJSk7c3Ryb2tlLW9wYWNpdHk6MTtzdHJva2UtbWl0ZXJsaW1pdDoxMDsiIGQ9Ik0gMzQuMDE2Njg4IDcwLjg2NTg3NSBDIDM0LjAxNjY4OCA3My45OTg2ODcgMzEuNDc3NjI1IDc2LjUzNzc1IDI4LjM0ODcxOSA3Ni41Mzc3NSBDIDI1LjIxNTkwNiA3Ni41Mzc3NSAyMi42NzY4NDQgNzMuOTk4Njg3IDIyLjY3Njg0NCA3MC44NjU4NzUgQyAyMi42NzY4NDQgNjcuNzM2OTY5IDI1LjIxNTkwNiA2NS4xOTc5MDYgMjguMzQ4NzE5IDY1LjE5NzkwNiBDIDMxLjQ3NzYyNSA2NS4xOTc5MDYgMzQuMDE2Njg4IDY3LjczNjk2OSAzNC4wMTY2ODggNzAuODY1ODc1IFogTSAzNC4wMTY2ODggNzAuODY1ODc1ICIgdHJhbnNmb3JtPSJtYXRyaXgoMSwwLDAsLTEsMTIuMDM4LDExMC4xOTQpIi8+CjxwYXRoIHN0eWxlPSJmaWxsLXJ1bGU6bm9uemVybztmaWxsOnJnYigxMDAlLDk4Ljk3OTE4NyUsODAuMDAwMzA1JSk7ZmlsbC1vcGFjaXR5OjE7c3Ryb2tlLXdpZHRoOjAuMzk4NTtzdHJva2UtbGluZWNhcDpidXR0O3N0cm9rZS1saW5lam9pbjptaXRlcjtzdHJva2U6cmdiKDAlLDAlLDAlKTtzdHJva2Utb3BhY2l0eToxO3N0cm9rZS1taXRlcmxpbWl0OjEwOyIgZD0iTSAzNC4wMTY2ODggNTYuNjk0IEMgMzQuMDE2Njg4IDU5LjgyMjkwNiAzMS40Nzc2MjUgNjIuMzYxOTY5IDI4LjM0ODcxOSA2Mi4zNjE5NjkgQyAyNS4yMTU5MDYgNjIuMzYxOTY5IDIyLjY3Njg0NCA1OS44MjI5MDYgMjIuNjc2ODQ0IDU2LjY5NCBDIDIyLjY3Njg0NCA1My41NjExODcgMjUuMjE1OTA2IDUxLjAyNjAzMSAyOC4zNDg3MTkgNTEuMDI2MDMxIEMgMzEuNDc3NjI1IDUxLjAyNjAzMSAzNC4wMTY2ODggNTMuNTYxMTg3IDM0LjAxNjY4OCA1Ni42OTQgWiBNIDM0LjAxNjY4OCA1Ni42OTQgIiB0cmFuc2Zvcm09Im1hdHJpeCgxLDAsMCwtMSwxMi4wMzgsMTEwLjE5NCkiLz4KPHBhdGggc3R5bGU9ImZpbGwtcnVsZTpub256ZXJvO2ZpbGw6cmdiKDEwMCUsOTguOTc5MTg3JSw4MC4wMDAzMDUlKTtmaWxsLW9wYWNpdHk6MTtzdHJva2Utd2lkdGg6MC4zOTg1O3N0cm9rZS1saW5lY2FwOmJ1dHQ7c3Ryb2tlLWxpbmVqb2luOm1pdGVyO3N0cm9rZTpyZ2IoMCUsMCUsMCUpO3N0cm9rZS1vcGFjaXR5OjE7c3Ryb2tlLW1pdGVybGltaXQ6MTA7IiBkPSJNIDM0LjAxNjY4OCA0Mi41MjIxMjUgQyAzNC4wMTY2ODggNDUuNjUxMDMxIDMxLjQ3NzYyNSA0OC4xOTAwOTQgMjguMzQ4NzE5IDQ4LjE5MDA5NCBDIDI1LjIxNTkwNiA0OC4xOTAwOTQgMjIuNjc2ODQ0IDQ1LjY1MTAzMSAyMi42NzY4NDQgNDIuNTIyMTI1IEMgMjIuNjc2ODQ0IDM5LjM4OTMxMiAyNS4yMTU5MDYgMzYuODUwMjUgMjguMzQ4NzE5IDM2Ljg1MDI1IEMgMzEuNDc3NjI1IDM2Ljg1MDI1IDM0LjAxNjY4OCAzOS4zODkzMTIgMzQuMDE2Njg4IDQyLjUyMjEyNSBaIE0gMzQuMDE2Njg4IDQyLjUyMjEyNSAiIHRyYW5zZm9ybT0ibWF0cml4KDEsMCwwLC0xLDEyLjAzOCwxMTAuMTk0KSIvPgo8cGF0aCBzdHlsZT0iZmlsbC1ydWxlOm5vbnplcm87ZmlsbDpyZ2IoMTAwJSw5OC45NzkxODclLDgwLjAwMDMwNSUpO2ZpbGwtb3BhY2l0eToxO3N0cm9rZS13aWR0aDowLjM5ODU7c3Ryb2tlLWxpbmVjYXA6YnV0dDtzdHJva2UtbGluZWpvaW46bWl0ZXI7c3Ryb2tlOnJnYigwJSwwJSwwJSk7c3Ryb2tlLW9wYWNpdHk6MTtzdHJva2UtbWl0ZXJsaW1pdDoxMDsiIGQ9Ik0gMzQuMDE2Njg4IDI4LjM0NjM0NCBDIDM0LjAxNjY4OCAzMS40NzkxNTYgMzEuNDc3NjI1IDM0LjAxNDMxMiAyOC4zNDg3MTkgMzQuMDE0MzEyIEMgMjUuMjE1OTA2IDM0LjAxNDMxMiAyMi42NzY4NDQgMzEuNDc5MTU2IDIyLjY3Njg0NCAyOC4zNDYzNDQgQyAyMi42NzY4NDQgMjUuMjE3NDM3IDI1LjIxNTkwNiAyMi42NzgzNzUgMjguMzQ4NzE5IDIyLjY3ODM3NSBDIDMxLjQ3NzYyNSAyMi42NzgzNzUgMzQuMDE2Njg4IDI1LjIxNzQzNyAzNC4wMTY2ODggMjguMzQ2MzQ0IFogTSAzNC4wMTY2ODggMjguMzQ2MzQ0ICIgdHJhbnNmb3JtPSJtYXRyaXgoMSwwLDAsLTEsMTIuMDM4LDExMC4xOTQpIi8+CjxwYXRoIHN0eWxlPSJmaWxsOm5vbmU7c3Ryb2tlLXdpZHRoOjAuMzk4NTtzdHJva2UtbGluZWNhcDpidXR0O3N0cm9rZS1saW5lam9pbjptaXRlcjtzdHJva2U6cmdiKDAlLDAlLDAlKTtzdHJva2Utb3BhY2l0eToxO3N0cm9rZS1taXRlcmxpbWl0OjEwOyIgZD0iTSAyMS4yNTg4NzUgOTIuMTI3NTk0IEMgMjEuNzkwMTI1IDkzLjYxOTc4MSAyMy4wMzIzMTMgOTQuNjE1ODc1IDI0LjgwMTg0NCA5NC42MTU4NzUgQyAyNi41NzUyODEgOTQuNjE1ODc1IDI3LjgxMzU2MyA5NS42MTU4NzUgMjguMzQ4NzE5IDk3LjEwODA2MiBDIDI4Ljg3OTk2OSA5NS42MTU4NzUgMzAuMTE4MjUgOTQuNjE1ODc1IDMxLjg5MTY4OCA5NC42MTU4NzUgQyAzMy42NjEyMTkgOTQuNjE1ODc1IDM0LjkwMzQwNiA5My42MTk3ODEgMzUuNDM0NjU2IDkyLjEyNzU5NCAiIHRyYW5zZm9ybT0ibWF0cml4KDEsMCwwLC0xLDEyLjAzOCwxMTAuMTk0KSIvPgo8ZyBzdHlsZT0iZmlsbDpyZ2IoMCUsMCUsMCUpO2ZpbGwtb3BhY2l0eToxOyI+CiAgPHVzZSB4bGluazpocmVmPSIjZ2x5cGgwLTIiIHg9IjM0LjM0NCIgeT0iOS41NjciLz4KPC9nPgo8ZyBzdHlsZT0iZmlsbDpyZ2IoMCUsMCUsMCUpO2ZpbGwtb3BhY2l0eToxOyI+CiAgPHVzZSB4bGluazpocmVmPSIjZ2x5cGgxLTEiIHg9IjM4LjUyMyIgeT0iNy41NTYiLz4KICA8dXNlIHhsaW5rOmhyZWY9IiNnbHlwaDEtMiIgeD0iNDAuNTI5NDY4IiB5PSI3LjU1NiIvPgogIDx1c2UgeGxpbms6aHJlZj0iI2dseXBoMS0zIiB4PSI0My45MTk3NCIgeT0iNy41NTYiLz4KPC9nPgo8cGF0aCBzdHlsZT0iZmlsbC1ydWxlOm5vbnplcm87ZmlsbDpyZ2IoMTAwJSw5NC45OTk2OTUlLDk0Ljk5OTY5NSUpO2ZpbGwtb3BhY2l0eToxO3N0cm9rZS13aWR0aDowLjM5ODU7c3Ryb2tlLWxpbmVjYXA6YnV0dDtzdHJva2UtbGluZWpvaW46bWl0ZXI7c3Ryb2tlOnJnYigwJSwwJSwwJSk7c3Ryb2tlLW9wYWNpdHk6MTtzdHJva2UtbWl0ZXJsaW1pdDoxMDsiIGQ9Ik0gOTYuMzc5OTY5IDE0LjE3NDQ2OSBDIDk2LjM3OTk2OSAyMC40MzYxODcgOTEuMzAxODQ0IDI1LjUxMDQwNiA4NS4wNDAxMjUgMjUuNTEwNDA2IEMgNzguNzc4NDA2IDI1LjUxMDQwNiA3My43MDAyODEgMjAuNDM2MTg3IDczLjcwMDI4MSAxNC4xNzQ0NjkgQyA3My43MDAyODEgNy45MTI3NSA3OC43Nzg0MDYgMi44MzQ2MjUgODUuMDQwMTI1IDIuODM0NjI1IEMgOTEuMzAxODQ0IDIuODM0NjI1IDk2LjM3OTk2OSA3LjkxMjc1IDk2LjM3OTk2OSAxNC4xNzQ0NjkgWiBNIDk2LjM3OTk2OSAxNC4xNzQ0NjkgIiB0cmFuc2Zvcm09Im1hdHJpeCgxLDAsMCwtMSwxMi4wMzgsMTEwLjE5NCkiLz4KPHBhdGggc3R5bGU9ImZpbGwtcnVsZTpub256ZXJvO2ZpbGw6cmdiKDEwMCUsOTQuOTk5Njk1JSw5NC45OTk2OTUlKTtmaWxsLW9wYWNpdHk6MTtzdHJva2Utd2lkdGg6MC4zOTg1O3N0cm9rZS1saW5lY2FwOmJ1dHQ7c3Ryb2tlLWxpbmVqb2luOm1pdGVyO3N0cm9rZTpyZ2IoMCUsMCUsMCUpO3N0cm9rZS1vcGFjaXR5OjE7c3Ryb2tlLW1pdGVybGltaXQ6MTA7IiBkPSJNIDk2LjM3OTk2OSAtMTQuMTczMTg4IEMgOTYuMzc5OTY5IC03LjkxMTQ2OSA5MS4zMDE4NDQgLTIuODMzMzQ0IDg1LjA0MDEyNSAtMi44MzMzNDQgQyA3OC43Nzg0MDYgLTIuODMzMzQ0IDczLjcwMDI4MSAtNy45MTE0NjkgNzMuNzAwMjgxIC0xNC4xNzMxODggQyA3My43MDAyODEgLTIwLjQzNDkwNiA3OC43Nzg0MDYgLTI1LjUxMzAzMSA4NS4wNDAxMjUgLTI1LjUxMzAzMSBDIDkxLjMwMTg0NCAtMjUuNTEzMDMxIDk2LjM3OTk2OSAtMjAuNDM0OTA2IDk2LjM3OTk2OSAtMTQuMTczMTg4IFogTSA5Ni4zNzk5NjkgLTE0LjE3MzE4OCAiIHRyYW5zZm9ybT0ibWF0cml4KDEsMCwwLC0xLDEyLjAzOCwxMTAuMTk0KSIvPgo8cGF0aCBzdHlsZT0iZmlsbC1ydWxlOm5vbnplcm87ZmlsbDpyZ2IoMTAwJSw5NC45OTk2OTUlLDk0Ljk5OTY5NSUpO2ZpbGwtb3BhY2l0eToxO3N0cm9rZS13aWR0aDowLjM5ODU7c3Ryb2tlLWxpbmVjYXA6YnV0dDtzdHJva2UtbGluZWpvaW46bWl0ZXI7c3Ryb2tlOnJnYigwJSwwJSwwJSk7c3Ryb2tlLW9wYWNpdHk6MTtzdHJva2UtbWl0ZXJsaW1pdDoxMDsiIGQ9Ik0gOTYuMzc5OTY5IC00Mi41MjA4NDQgQyA5Ni4zNzk5NjkgLTM2LjI1OTEyNSA5MS4zMDE4NDQgLTMxLjE4MSA4NS4wNDAxMjUgLTMxLjE4MSBDIDc4Ljc3ODQwNiAtMzEuMTgxIDczLjcwMDI4MSAtMzYuMjU5MTI1IDczLjcwMDI4MSAtNDIuNTIwODQ0IEMgNzMuNzAwMjgxIC00OC43ODI1NjMgNzguNzc4NDA2IC01My44NjA2ODggODUuMDQwMTI1IC01My44NjA2ODggQyA5MS4zMDE4NDQgLTUzLjg2MDY4OCA5Ni4zNzk5NjkgLTQ4Ljc4MjU2MyA5Ni4zNzk5NjkgLTQyLjUyMDg0NCBaIE0gOTYuMzc5OTY5IC00Mi41MjA4NDQgIiB0cmFuc2Zvcm09Im1hdHJpeCgxLDAsMCwtMSwxMi4wMzgsMTEwLjE5NCkiLz4KPHBhdGggc3R5bGU9ImZpbGwtcnVsZTpub256ZXJvO2ZpbGw6cmdiKDEwMCUsOTQuOTk5Njk1JSw5NC45OTk2OTUlKTtmaWxsLW9wYWNpdHk6MTtzdHJva2Utd2lkdGg6MC4zOTg1O3N0cm9rZS1saW5lY2FwOmJ1dHQ7c3Ryb2tlLWxpbmVqb2luOm1pdGVyO3N0cm9rZTpyZ2IoMCUsMCUsMCUpO3N0cm9rZS1vcGFjaXR5OjE7c3Ryb2tlLW1pdGVybGltaXQ6MTA7IiBkPSJNIDk2LjM3OTk2OSAtNzAuODY4NSBDIDk2LjM3OTk2OSAtNjQuNjAyODc1IDkxLjMwMTg0NCAtNTkuNTI4NjU2IDg1LjA0MDEyNSAtNTkuNTI4NjU2IEMgNzguNzc4NDA2IC01OS41Mjg2NTYgNzMuNzAwMjgxIC02NC42MDI4NzUgNzMuNzAwMjgxIC03MC44Njg1IEMgNzMuNzAwMjgxIC03Ny4xMzAyMTkgNzguNzc4NDA2IC04Mi4yMDQ0MzggODUuMDQwMTI1IC04Mi4yMDQ0MzggQyA5MS4zMDE4NDQgLTgyLjIwNDQzOCA5Ni4zNzk5NjkgLTc3LjEzMDIxOSA5Ni4zNzk5NjkgLTcwLjg2ODUgWiBNIDk2LjM3OTk2OSAtNzAuODY4NSAiIHRyYW5zZm9ybT0ibWF0cml4KDEsMCwwLC0xLDEyLjAzOCwxMTAuMTk0KSIvPgo8cGF0aCBzdHlsZT0iIHN0cm9rZTpub25lO2ZpbGwtcnVsZTpub256ZXJvO2ZpbGw6cmdiKDEwMCUsOTQuOTk5Njk1JSw5NC45OTk2OTUlKTtmaWxsLW9wYWNpdHk6MTsiIGQ9Ik0gMTA4LjQxNzk2OSAyMDkuNDA2MjUgQyAxMDguNDE3OTY5IDIwMy4xNDQ1MzEgMTAzLjMzOTg0NCAxOTguMDcwMzEzIDk3LjA3ODEyNSAxOTguMDcwMzEzIEMgOTAuODE2NDA2IDE5OC4wNzAzMTMgODUuNzM4MjgxIDIwMy4xNDQ1MzEgODUuNzM4MjgxIDIwOS40MDYyNSBDIDg1LjczODI4MSAyMTUuNjcxODc1IDkwLjgxNjQwNiAyMjAuNzQ2MDk0IDk3LjA3ODEyNSAyMjAuNzQ2MDk0IEMgMTAzLjMzOTg0NCAyMjAuNzQ2MDk0IDEwOC40MTc5NjkgMjE1LjY3MTg3NSAxMDguNDE3OTY5IDIwOS40MDYyNSBaIE0gMTA4LjQxNzk2OSAyMDkuNDA2MjUgIi8+CjxnIGNsaXAtcGF0aD0idXJsKCNjbGlwMSkiIGNsaXAtcnVsZT0ibm9uemVybyI+CjxwYXRoIHN0eWxlPSJmaWxsOm5vbmU7c3Ryb2tlLXdpZHRoOjAuMzk4NTtzdHJva2UtbGluZWNhcDpidXR0O3N0cm9rZS1saW5lam9pbjptaXRlcjtzdHJva2U6cmdiKDAlLDAlLDAlKTtzdHJva2Utb3BhY2l0eToxO3N0cm9rZS1taXRlcmxpbWl0OjEwOyIgZD0iTSA5Ni4zNzk5NjkgLTk5LjIxMjI1IEMgOTYuMzc5OTY5IC05Mi45NTA1MzEgOTEuMzAxODQ0IC04Ny44NzYzMTMgODUuMDQwMTI1IC04Ny44NzYzMTMgQyA3OC43Nzg0MDYgLTg3Ljg3NjMxMyA3My43MDAyODEgLTkyLjk1MDUzMSA3My43MDAyODEgLTk5LjIxMjI1IEMgNzMuNzAwMjgxIC0xMDUuNDc3ODc1IDc4Ljc3ODQwNiAtMTEwLjU1MjA5NCA4NS4wNDAxMjUgLTExMC41NTIwOTQgQyA5MS4zMDE4NDQgLTExMC41NTIwOTQgOTYuMzc5OTY5IC0xMDUuNDc3ODc1IDk2LjM3OTk2OSAtOTkuMjEyMjUgWiBNIDk2LjM3OTk2OSAtOTkuMjEyMjUgIiB0cmFuc2Zvcm09Im1hdHJpeCgxLDAsMCwtMSwxMi4wMzgsMTEwLjE5NCkiLz4KPC9nPgo8cGF0aCBzdHlsZT0iZmlsbDpub25lO3N0cm9rZS13aWR0aDowLjM5ODU7c3Ryb2tlLWxpbmVjYXA6YnV0dDtzdHJva2UtbGluZWpvaW46bWl0ZXI7c3Ryb2tlOnJnYigwJSwwJSwwJSk7c3Ryb2tlLW9wYWNpdHk6MTtzdHJva2UtbWl0ZXJsaW1pdDoxMDsiIGQ9Ik0gNzMuNzAwMjgxIDM1LjQzMjI4MSBDIDc0LjQ1MDI4MSAzNi45MjgzNzUgNzYuMTkyNDY5IDM3LjkyNDQ2OSA3OC42ODQ2NTYgMzcuOTI0NDY5IEwgODAuMDU5NjU2IDM3LjkyNDQ2OSBDIDgyLjU0NzkzOCAzNy45MjQ0NjkgODQuMjk0MDMxIDM4LjkyMDU2MiA4NS4wNDAxMjUgNDAuNDE2NjU2IEMgODUuNzg2MjE5IDM4LjkyMDU2MiA4Ny41MzIzMTMgMzcuOTI0NDY5IDkwLjAyMDU5NCAzNy45MjQ0NjkgTCA5MS4zOTk1IDM3LjkyNDQ2OSBDIDkzLjg4Nzc4MSAzNy45MjQ0NjkgOTUuNjI5OTY5IDM2LjkyODM3NSA5Ni4zNzk5NjkgMzUuNDMyMjgxICIgdHJhbnNmb3JtPSJtYXRyaXgoMSwwLDAsLTEsMTIuMDM4LDExMC4xOTQpIi8+CjxnIHN0eWxlPSJmaWxsOnJnYigwJSwwJSwwJSk7ZmlsbC1vcGFjaXR5OjE7Ij4KICA8dXNlIHhsaW5rOmhyZWY9IiNnbHlwaDAtMyIgeD0iOTEuMDM3IiB5PSI2Ni4yNiIvPgo8L2c+CjxnIHN0eWxlPSJmaWxsOnJnYigwJSwwJSwwJSk7ZmlsbC1vcGFjaXR5OjE7Ij4KICA8dXNlIHhsaW5rOmhyZWY9IiNnbHlwaDEtMSIgeD0iOTUuMjE2IiB5PSI2NC4yNDkiLz4KICA8dXNlIHhsaW5rOmhyZWY9IiNnbHlwaDEtMiIgeD0iOTcuMjIyNDY4IiB5PSI2NC4yNDkiLz4KICA8dXNlIHhsaW5rOmhyZWY9IiNnbHlwaDEtMyIgeD0iMTAwLjYxMjc0IiB5PSI2NC4yNDkiLz4KPC9nPgo8cGF0aCBzdHlsZT0iZmlsbC1ydWxlOm5vbnplcm87ZmlsbDpyZ2IoMTAwJSw5OC45NzkxODclLDgwLjAwMDMwNSUpO2ZpbGwtb3BhY2l0eToxO3N0cm9rZS13aWR0aDowLjM5ODU7c3Ryb2tlLWxpbmVjYXA6YnV0dDtzdHJva2UtbGluZWpvaW46bWl0ZXI7c3Ryb2tlOnJnYigwJSwwJSwwJSk7c3Ryb2tlLW9wYWNpdHk6MTtzdHJva2UtbWl0ZXJsaW1pdDoxMDsiIGQ9Ik0gMTE5LjA1NTc1IDg1LjA0MTY1NiBDIDExOS4wNTU3NSA4OC4xNzA1NjIgMTE2LjUxNjY4OCA5MC43MDk2MjUgMTEzLjM4Nzc4MSA5MC43MDk2MjUgQyAxMTAuMjU0OTY5IDkwLjcwOTYyNSAxMDcuNzE5ODEzIDg4LjE3MDU2MiAxMDcuNzE5ODEzIDg1LjA0MTY1NiBDIDEwNy43MTk4MTMgODEuOTA4ODQ0IDExMC4yNTQ5NjkgNzkuMzY5NzgxIDExMy4zODc3ODEgNzkuMzY5NzgxIEMgMTE2LjUxNjY4OCA3OS4zNjk3ODEgMTE5LjA1NTc1IDgxLjkwODg0NCAxMTkuMDU1NzUgODUuMDQxNjU2IFogTSAxMTkuMDU1NzUgODUuMDQxNjU2ICIgdHJhbnNmb3JtPSJtYXRyaXgoMSwwLDAsLTEsMTIuMDM4LDExMC4xOTQpIi8+CjxwYXRoIHN0eWxlPSJmaWxsLXJ1bGU6bm9uemVybztmaWxsOnJnYigxMDAlLDk4Ljk3OTE4NyUsODAuMDAwMzA1JSk7ZmlsbC1vcGFjaXR5OjE7c3Ryb2tlLXdpZHRoOjAuMzk4NTtzdHJva2UtbGluZWNhcDpidXR0O3N0cm9rZS1saW5lam9pbjptaXRlcjtzdHJva2U6cmdiKDAlLDAlLDAlKTtzdHJva2Utb3BhY2l0eToxO3N0cm9rZS1taXRlcmxpbWl0OjEwOyIgZD0iTSAxMTkuMDU1NzUgNzAuODY1ODc1IEMgMTE5LjA1NTc1IDczLjk5ODY4NyAxMTYuNTE2Njg4IDc2LjUzNzc1IDExMy4zODc3ODEgNzYuNTM3NzUgQyAxMTAuMjU0OTY5IDc2LjUzNzc1IDEwNy43MTk4MTMgNzMuOTk4Njg3IDEwNy43MTk4MTMgNzAuODY1ODc1IEMgMTA3LjcxOTgxMyA2Ny43MzY5NjkgMTEwLjI1NDk2OSA2NS4xOTc5MDYgMTEzLjM4Nzc4MSA2NS4xOTc5MDYgQyAxMTYuNTE2Njg4IDY1LjE5NzkwNiAxMTkuMDU1NzUgNjcuNzM2OTY5IDExOS4wNTU3NSA3MC44NjU4NzUgWiBNIDExOS4wNTU3NSA3MC44NjU4NzUgIiB0cmFuc2Zvcm09Im1hdHJpeCgxLDAsMCwtMSwxMi4wMzgsMTEwLjE5NCkiLz4KPHBhdGggc3R5bGU9ImZpbGwtcnVsZTpub256ZXJvO2ZpbGw6cmdiKDEwMCUsOTguOTc5MTg3JSw4MC4wMDAzMDUlKTtmaWxsLW9wYWNpdHk6MTtzdHJva2Utd2lkdGg6MC4zOTg1O3N0cm9rZS1saW5lY2FwOmJ1dHQ7c3Ryb2tlLWxpbmVqb2luOm1pdGVyO3N0cm9rZTpyZ2IoMCUsMCUsMCUpO3N0cm9rZS1vcGFjaXR5OjE7c3Ryb2tlLW1pdGVybGltaXQ6MTA7IiBkPSJNIDExOS4wNTU3NSA1Ni42OTQgQyAxMTkuMDU1NzUgNTkuODIyOTA2IDExNi41MTY2ODggNjIuMzYxOTY5IDExMy4zODc3ODEgNjIuMzYxOTY5IEMgMTEwLjI1NDk2OSA2Mi4zNjE5NjkgMTA3LjcxOTgxMyA1OS44MjI5MDYgMTA3LjcxOTgxMyA1Ni42OTQgQyAxMDcuNzE5ODEzIDUzLjU2MTE4NyAxMTAuMjU0OTY5IDUxLjAyNjAzMSAxMTMuMzg3NzgxIDUxLjAyNjAzMSBDIDExNi41MTY2ODggNTEuMDI2MDMxIDExOS4wNTU3NSA1My41NjExODcgMTE5LjA1NTc1IDU2LjY5NCBaIE0gMTE5LjA1NTc1IDU2LjY5NCAiIHRyYW5zZm9ybT0ibWF0cml4KDEsMCwwLC0xLDEyLjAzOCwxMTAuMTk0KSIvPgo8cGF0aCBzdHlsZT0iZmlsbC1ydWxlOm5vbnplcm87ZmlsbDpyZ2IoMTAwJSw5OC45NzkxODclLDgwLjAwMDMwNSUpO2ZpbGwtb3BhY2l0eToxO3N0cm9rZS13aWR0aDowLjM5ODU7c3Ryb2tlLWxpbmVjYXA6YnV0dDtzdHJva2UtbGluZWpvaW46bWl0ZXI7c3Ryb2tlOnJnYigwJSwwJSwwJSk7c3Ryb2tlLW9wYWNpdHk6MTtzdHJva2UtbWl0ZXJsaW1pdDoxMDsiIGQ9Ik0gMTE5LjA1NTc1IDQyLjUyMjEyNSBDIDExOS4wNTU3NSA0NS42NTEwMzEgMTE2LjUxNjY4OCA0OC4xOTAwOTQgMTEzLjM4Nzc4MSA0OC4xOTAwOTQgQyAxMTAuMjU0OTY5IDQ4LjE5MDA5NCAxMDcuNzE5ODEzIDQ1LjY1MTAzMSAxMDcuNzE5ODEzIDQyLjUyMjEyNSBDIDEwNy43MTk4MTMgMzkuMzg5MzEyIDExMC4yNTQ5NjkgMzYuODUwMjUgMTEzLjM4Nzc4MSAzNi44NTAyNSBDIDExNi41MTY2ODggMzYuODUwMjUgMTE5LjA1NTc1IDM5LjM4OTMxMiAxMTkuMDU1NzUgNDIuNTIyMTI1IFogTSAxMTkuMDU1NzUgNDIuNTIyMTI1ICIgdHJhbnNmb3JtPSJtYXRyaXgoMSwwLDAsLTEsMTIuMDM4LDExMC4xOTQpIi8+CjxwYXRoIHN0eWxlPSJmaWxsLXJ1bGU6bm9uemVybztmaWxsOnJnYigxMDAlLDk4Ljk3OTE4NyUsODAuMDAwMzA1JSk7ZmlsbC1vcGFjaXR5OjE7c3Ryb2tlLXdpZHRoOjAuMzk4NTtzdHJva2UtbGluZWNhcDpidXR0O3N0cm9rZS1saW5lam9pbjptaXRlcjtzdHJva2U6cmdiKDAlLDAlLDAlKTtzdHJva2Utb3BhY2l0eToxO3N0cm9rZS1taXRlcmxpbWl0OjEwOyIgZD0iTSAxMTkuMDU1NzUgMjguMzQ2MzQ0IEMgMTE5LjA1NTc1IDMxLjQ3OTE1NiAxMTYuNTE2Njg4IDM0LjAxNDMxMiAxMTMuMzg3NzgxIDM0LjAxNDMxMiBDIDExMC4yNTQ5NjkgMzQuMDE0MzEyIDEwNy43MTk4MTMgMzEuNDc5MTU2IDEwNy43MTk4MTMgMjguMzQ2MzQ0IEMgMTA3LjcxOTgxMyAyNS4yMTc0MzcgMTEwLjI1NDk2OSAyMi42NzgzNzUgMTEzLjM4Nzc4MSAyMi42NzgzNzUgQyAxMTYuNTE2Njg4IDIyLjY3ODM3NSAxMTkuMDU1NzUgMjUuMjE3NDM3IDExOS4wNTU3NSAyOC4zNDYzNDQgWiBNIDExOS4wNTU3NSAyOC4zNDYzNDQgIiB0cmFuc2Zvcm09Im1hdHJpeCgxLDAsMCwtMSwxMi4wMzgsMTEwLjE5NCkiLz4KPHBhdGggc3R5bGU9ImZpbGw6bm9uZTtzdHJva2Utd2lkdGg6MC4zOTg1O3N0cm9rZS1saW5lY2FwOmJ1dHQ7c3Ryb2tlLWxpbmVqb2luOm1pdGVyO3N0cm9rZTpyZ2IoMCUsMCUsMCUpO3N0cm9rZS1vcGFjaXR5OjE7c3Ryb2tlLW1pdGVybGltaXQ6MTA7IiBkPSJNIDEwNi4zMDE4NDQgOTIuMTI3NTk0IEMgMTA2LjgzMzA5NCA5My42MTk3ODEgMTA4LjA3MTM3NSA5NC42MTU4NzUgMTA5Ljg0NDgxMyA5NC42MTU4NzUgQyAxMTEuNjE0MzQ0IDk0LjYxNTg3NSAxMTIuODU2NTMxIDk1LjYxNTg3NSAxMTMuMzg3NzgxIDk3LjEwODA2MiBDIDExMy45MTkwMzEgOTUuNjE1ODc1IDExNS4xNTczMTMgOTQuNjE1ODc1IDExNi45MzA3NSA5NC42MTU4NzUgQyAxMTguNzA0MTg4IDk0LjYxNTg3NSAxMTkuOTQyNDY5IDkzLjYxOTc4MSAxMjAuNDczNzE5IDkyLjEyNzU5NCAiIHRyYW5zZm9ybT0ibWF0cml4KDEsMCwwLC0xLDEyLjAzOCwxMTAuMTk0KSIvPgo8ZyBzdHlsZT0iZmlsbDpyZ2IoMCUsMCUsMCUpO2ZpbGwtb3BhY2l0eToxOyI+CiAgPHVzZSB4bGluazpocmVmPSIjZ2x5cGgwLTIiIHg9IjExOS4zODQiIHk9IjkuNTY3Ii8+CjwvZz4KPGcgc3R5bGU9ImZpbGw6cmdiKDAlLDAlLDAlKTtmaWxsLW9wYWNpdHk6MTsiPgogIDx1c2UgeGxpbms6aHJlZj0iI2dseXBoMS0xIiB4PSIxMjMuNTYzIiB5PSI3LjU1NyIvPgogIDx1c2UgeGxpbms6aHJlZj0iI2dseXBoMS00IiB4PSIxMjUuNTY5NDY4IiB5PSI3LjU1NyIvPgogIDx1c2UgeGxpbms6aHJlZj0iI2dseXBoMS0zIiB4PSIxMjguOTU5NzQiIHk9IjcuNTU3Ii8+CjwvZz4KPHBhdGggc3R5bGU9ImZpbGwtcnVsZTpub256ZXJvO2ZpbGw6cmdiKDEwMCUsOTQuOTk5Njk1JSw5NC45OTk2OTUlKTtmaWxsLW9wYWNpdHk6MTtzdHJva2Utd2lkdGg6MC4zOTg1O3N0cm9rZS1saW5lY2FwOmJ1dHQ7c3Ryb2tlLWxpbmVqb2luOm1pdGVyO3N0cm9rZTpyZ2IoMCUsMCUsMCUpO3N0cm9rZS1vcGFjaXR5OjE7c3Ryb2tlLW1pdGVybGltaXQ6MTA7IiBkPSJNIDE4MS40MTkwMzEgMTQuMTc0NDY5IEMgMTgxLjQxOTAzMSAyMC40MzYxODcgMTc2LjM0NDgxMiAyNS41MTA0MDYgMTcwLjA3OTE4NyAyNS41MTA0MDYgQyAxNjMuODE3NDY5IDI1LjUxMDQwNiAxNTguNzQzMjUgMjAuNDM2MTg3IDE1OC43NDMyNSAxNC4xNzQ0NjkgQyAxNTguNzQzMjUgNy45MTI3NSAxNjMuODE3NDY5IDIuODM0NjI1IDE3MC4wNzkxODcgMi44MzQ2MjUgQyAxNzYuMzQ0ODEyIDIuODM0NjI1IDE4MS40MTkwMzEgNy45MTI3NSAxODEuNDE5MDMxIDE0LjE3NDQ2OSBaIE0gMTgxLjQxOTAzMSAxNC4xNzQ0NjkgIiB0cmFuc2Zvcm09Im1hdHJpeCgxLDAsMCwtMSwxMi4wMzgsMTEwLjE5NCkiLz4KPHBhdGggc3R5bGU9ImZpbGwtcnVsZTpub256ZXJvO2ZpbGw6cmdiKDEwMCUsOTQuOTk5Njk1JSw5NC45OTk2OTUlKTtmaWxsLW9wYWNpdHk6MTtzdHJva2Utd2lkdGg6MC4zOTg1O3N0cm9rZS1saW5lY2FwOmJ1dHQ7c3Ryb2tlLWxpbmVqb2luOm1pdGVyO3N0cm9rZTpyZ2IoMCUsMCUsMCUpO3N0cm9rZS1vcGFjaXR5OjE7c3Ryb2tlLW1pdGVybGltaXQ6MTA7IiBkPSJNIDE4MS40MTkwMzEgLTE0LjE3MzE4OCBDIDE4MS40MTkwMzEgLTcuOTExNDY5IDE3Ni4zNDQ4MTIgLTIuODMzMzQ0IDE3MC4wNzkxODcgLTIuODMzMzQ0IEMgMTYzLjgxNzQ2OSAtMi44MzMzNDQgMTU4Ljc0MzI1IC03LjkxMTQ2OSAxNTguNzQzMjUgLTE0LjE3MzE4OCBDIDE1OC43NDMyNSAtMjAuNDM0OTA2IDE2My44MTc0NjkgLTI1LjUxMzAzMSAxNzAuMDc5MTg3IC0yNS41MTMwMzEgQyAxNzYuMzQ0ODEyIC0yNS41MTMwMzEgMTgxLjQxOTAzMSAtMjAuNDM0OTA2IDE4MS40MTkwMzEgLTE0LjE3MzE4OCBaIE0gMTgxLjQxOTAzMSAtMTQuMTczMTg4ICIgdHJhbnNmb3JtPSJtYXRyaXgoMSwwLDAsLTEsMTIuMDM4LDExMC4xOTQpIi8+CjxwYXRoIHN0eWxlPSJmaWxsLXJ1bGU6bm9uemVybztmaWxsOnJnYigxMDAlLDk0Ljk5OTY5NSUsOTQuOTk5Njk1JSk7ZmlsbC1vcGFjaXR5OjE7c3Ryb2tlLXdpZHRoOjAuMzk4NTtzdHJva2UtbGluZWNhcDpidXR0O3N0cm9rZS1saW5lam9pbjptaXRlcjtzdHJva2U6cmdiKDAlLDAlLDAlKTtzdHJva2Utb3BhY2l0eToxO3N0cm9rZS1taXRlcmxpbWl0OjEwOyIgZD0iTSAxODEuNDE5MDMxIC00Mi41MjA4NDQgQyAxODEuNDE5MDMxIC0zNi4yNTkxMjUgMTc2LjM0NDgxMiAtMzEuMTgxIDE3MC4wNzkxODcgLTMxLjE4MSBDIDE2My44MTc0NjkgLTMxLjE4MSAxNTguNzQzMjUgLTM2LjI1OTEyNSAxNTguNzQzMjUgLTQyLjUyMDg0NCBDIDE1OC43NDMyNSAtNDguNzgyNTYzIDE2My44MTc0NjkgLTUzLjg2MDY4OCAxNzAuMDc5MTg3IC01My44NjA2ODggQyAxNzYuMzQ0ODEyIC01My44NjA2ODggMTgxLjQxOTAzMSAtNDguNzgyNTYzIDE4MS40MTkwMzEgLTQyLjUyMDg0NCBaIE0gMTgxLjQxOTAzMSAtNDIuNTIwODQ0ICIgdHJhbnNmb3JtPSJtYXRyaXgoMSwwLDAsLTEsMTIuMDM4LDExMC4xOTQpIi8+CjxwYXRoIHN0eWxlPSJmaWxsLXJ1bGU6bm9uemVybztmaWxsOnJnYigxMDAlLDk0Ljk5OTY5NSUsOTQuOTk5Njk1JSk7ZmlsbC1vcGFjaXR5OjE7c3Ryb2tlLXdpZHRoOjAuMzk4NTtzdHJva2UtbGluZWNhcDpidXR0O3N0cm9rZS1saW5lam9pbjptaXRlcjtzdHJva2U6cmdiKDAlLDAlLDAlKTtzdHJva2Utb3BhY2l0eToxO3N0cm9rZS1taXRlcmxpbWl0OjEwOyIgZD0iTSAxODEuNDE5MDMxIC03MC44Njg1IEMgMTgxLjQxOTAzMSAtNjQuNjAyODc1IDE3Ni4zNDQ4MTIgLTU5LjUyODY1NiAxNzAuMDc5MTg3IC01OS41Mjg2NTYgQyAxNjMuODE3NDY5IC01OS41Mjg2NTYgMTU4Ljc0MzI1IC02NC42MDI4NzUgMTU4Ljc0MzI1IC03MC44Njg1IEMgMTU4Ljc0MzI1IC03Ny4xMzAyMTkgMTYzLjgxNzQ2OSAtODIuMjA0NDM4IDE3MC4wNzkxODcgLTgyLjIwNDQzOCBDIDE3Ni4zNDQ4MTIgLTgyLjIwNDQzOCAxODEuNDE5MDMxIC03Ny4xMzAyMTkgMTgxLjQxOTAzMSAtNzAuODY4NSBaIE0gMTgxLjQxOTAzMSAtNzAuODY4NSAiIHRyYW5zZm9ybT0ibWF0cml4KDEsMCwwLC0xLDEyLjAzOCwxMTAuMTk0KSIvPgo8cGF0aCBzdHlsZT0iIHN0cm9rZTpub25lO2ZpbGwtcnVsZTpub256ZXJvO2ZpbGw6cmdiKDEwMCUsOTQuOTk5Njk1JSw5NC45OTk2OTUlKTtmaWxsLW9wYWNpdHk6MTsiIGQ9Ik0gMTkzLjQ1NzAzMSAyMDkuNDA2MjUgQyAxOTMuNDU3MDMxIDIwMy4xNDQ1MzEgMTg4LjM4MjgxMyAxOTguMDcwMzEzIDE4Mi4xMTcxODggMTk4LjA3MDMxMyBDIDE3NS44NTU0NjkgMTk4LjA3MDMxMyAxNzAuNzgxMjUgMjAzLjE0NDUzMSAxNzAuNzgxMjUgMjA5LjQwNjI1IEMgMTcwLjc4MTI1IDIxNS42NzE4NzUgMTc1Ljg1NTQ2OSAyMjAuNzQ2MDk0IDE4Mi4xMTcxODggMjIwLjc0NjA5NCBDIDE4OC4zODI4MTMgMjIwLjc0NjA5NCAxOTMuNDU3MDMxIDIxNS42NzE4NzUgMTkzLjQ1NzAzMSAyMDkuNDA2MjUgWiBNIDE5My40NTcwMzEgMjA5LjQwNjI1ICIvPgo8ZyBjbGlwLXBhdGg9InVybCgjY2xpcDIpIiBjbGlwLXJ1bGU9Im5vbnplcm8iPgo8cGF0aCBzdHlsZT0iZmlsbDpub25lO3N0cm9rZS13aWR0aDowLjM5ODU7c3Ryb2tlLWxpbmVjYXA6YnV0dDtzdHJva2UtbGluZWpvaW46bWl0ZXI7c3Ryb2tlOnJnYigwJSwwJSwwJSk7c3Ryb2tlLW9wYWNpdHk6MTtzdHJva2UtbWl0ZXJsaW1pdDoxMDsiIGQ9Ik0gMTgxLjQxOTAzMSAtOTkuMjEyMjUgQyAxODEuNDE5MDMxIC05Mi45NTA1MzEgMTc2LjM0NDgxMiAtODcuODc2MzEzIDE3MC4wNzkxODcgLTg3Ljg3NjMxMyBDIDE2My44MTc0NjkgLTg3Ljg3NjMxMyAxNTguNzQzMjUgLTkyLjk1MDUzMSAxNTguNzQzMjUgLTk5LjIxMjI1IEMgMTU4Ljc0MzI1IC0xMDUuNDc3ODc1IDE2My44MTc0NjkgLTExMC41NTIwOTQgMTcwLjA3OTE4NyAtMTEwLjU1MjA5NCBDIDE3Ni4zNDQ4MTIgLTExMC41NTIwOTQgMTgxLjQxOTAzMSAtMTA1LjQ3Nzg3NSAxODEuNDE5MDMxIC05OS4yMTIyNSBaIE0gMTgxLjQxOTAzMSAtOTkuMjEyMjUgIiB0cmFuc2Zvcm09Im1hdHJpeCgxLDAsMCwtMSwxMi4wMzgsMTEwLjE5NCkiLz4KPC9nPgo8cGF0aCBzdHlsZT0iZmlsbDpub25lO3N0cm9rZS13aWR0aDowLjM5ODU7c3Ryb2tlLWxpbmVjYXA6YnV0dDtzdHJva2UtbGluZWpvaW46bWl0ZXI7c3Ryb2tlOnJnYigwJSwwJSwwJSk7c3Ryb2tlLW9wYWNpdHk6MTtzdHJva2UtbWl0ZXJsaW1pdDoxMDsiIGQ9Ik0gMTU4Ljc0MzI1IDM1LjQzMjI4MSBDIDE1OS40ODkzNDQgMzYuOTI4Mzc1IDE2MS4yMzE1MzEgMzcuOTI0NDY5IDE2My43MjM3MTkgMzcuOTI0NDY5IEwgMTY1LjA5ODcxOSAzNy45MjQ0NjkgQyAxNjcuNTkwOTA2IDM3LjkyNDQ2OSAxNjkuMzMzMDk0IDM4LjkyMDU2MiAxNzAuMDc5MTg3IDQwLjQxNjY1NiBDIDE3MC44MjkxODcgMzguOTIwNTYyIDE3Mi41NzEzNzUgMzcuOTI0NDY5IDE3NS4wNjM1NjIgMzcuOTI0NDY5IEwgMTc2LjQzODU2MiAzNy45MjQ0NjkgQyAxNzguOTI2ODQ0IDM3LjkyNDQ2OSAxODAuNjcyOTM3IDM2LjkyODM3NSAxODEuNDE5MDMxIDM1LjQzMjI4MSAiIHRyYW5zZm9ybT0ibWF0cml4KDEsMCwwLC0xLDEyLjAzOCwxMTAuMTk0KSIvPgo8ZyBzdHlsZT0iZmlsbDpyZ2IoMCUsMCUsMCUpO2ZpbGwtb3BhY2l0eToxOyI+CiAgPHVzZSB4bGluazpocmVmPSIjZ2x5cGgwLTMiIHg9IjE3Ni4wNzciIHk9IjY2LjI2Ii8+CjwvZz4KPGcgc3R5bGU9ImZpbGw6cmdiKDAlLDAlLDAlKTtmaWxsLW9wYWNpdHk6MTsiPgogIDx1c2UgeGxpbms6aHJlZj0iI2dseXBoMS0xIiB4PSIxODAuMjU1IiB5PSI2NC4yNDkiLz4KICA8dXNlIHhsaW5rOmhyZWY9IiNnbHlwaDEtNCIgeD0iMTgyLjI2MTQ2OCIgeT0iNjQuMjQ5Ii8+CiAgPHVzZSB4bGluazpocmVmPSIjZ2x5cGgxLTMiIHg9IjE4NS42NTE3NCIgeT0iNjQuMjQ5Ii8+CjwvZz4KPHBhdGggc3R5bGU9ImZpbGwtcnVsZTpub256ZXJvO2ZpbGw6cmdiKDEwMCUsOTguOTc5MTg3JSw4MC4wMDAzMDUlKTtmaWxsLW9wYWNpdHk6MTtzdHJva2Utd2lkdGg6MC4zOTg1O3N0cm9rZS1saW5lY2FwOmJ1dHQ7c3Ryb2tlLWxpbmVqb2luOm1pdGVyO3N0cm9rZTpyZ2IoMCUsMCUsMCUpO3N0cm9rZS1vcGFjaXR5OjE7c3Ryb2tlLW1pdGVybGltaXQ6MTA7IiBkPSJNIDIwNC4wOTg3MTkgNzAuODY1ODc1IEMgMjA0LjA5ODcxOSA3My45OTg2ODcgMjAxLjU1OTY1NiA3Ni41Mzc3NSAxOTguNDI2ODQ0IDc2LjUzNzc1IEMgMTk1LjI5NzkzNyA3Ni41Mzc3NSAxOTIuNzU4ODc1IDczLjk5ODY4NyAxOTIuNzU4ODc1IDcwLjg2NTg3NSBDIDE5Mi43NTg4NzUgNjcuNzM2OTY5IDE5NS4yOTc5MzcgNjUuMTk3OTA2IDE5OC40MjY4NDQgNjUuMTk3OTA2IEMgMjAxLjU1OTY1NiA2NS4xOTc5MDYgMjA0LjA5ODcxOSA2Ny43MzY5NjkgMjA0LjA5ODcxOSA3MC44NjU4NzUgWiBNIDIwNC4wOTg3MTkgNzAuODY1ODc1ICIgdHJhbnNmb3JtPSJtYXRyaXgoMSwwLDAsLTEsMTIuMDM4LDExMC4xOTQpIi8+CjxwYXRoIHN0eWxlPSJmaWxsLXJ1bGU6bm9uemVybztmaWxsOnJnYigxMDAlLDk4Ljk3OTE4NyUsODAuMDAwMzA1JSk7ZmlsbC1vcGFjaXR5OjE7c3Ryb2tlLXdpZHRoOjAuMzk4NTtzdHJva2UtbGluZWNhcDpidXR0O3N0cm9rZS1saW5lam9pbjptaXRlcjtzdHJva2U6cmdiKDAlLDAlLDAlKTtzdHJva2Utb3BhY2l0eToxO3N0cm9rZS1taXRlcmxpbWl0OjEwOyIgZD0iTSAyMDQuMDk4NzE5IDU2LjY5NCBDIDIwNC4wOTg3MTkgNTkuODIyOTA2IDIwMS41NTk2NTYgNjIuMzYxOTY5IDE5OC40MjY4NDQgNjIuMzYxOTY5IEMgMTk1LjI5NzkzNyA2Mi4zNjE5NjkgMTkyLjc1ODg3NSA1OS44MjI5MDYgMTkyLjc1ODg3NSA1Ni42OTQgQyAxOTIuNzU4ODc1IDUzLjU2MTE4NyAxOTUuMjk3OTM3IDUxLjAyNjAzMSAxOTguNDI2ODQ0IDUxLjAyNjAzMSBDIDIwMS41NTk2NTYgNTEuMDI2MDMxIDIwNC4wOTg3MTkgNTMuNTYxMTg3IDIwNC4wOTg3MTkgNTYuNjk0IFogTSAyMDQuMDk4NzE5IDU2LjY5NCAiIHRyYW5zZm9ybT0ibWF0cml4KDEsMCwwLC0xLDEyLjAzOCwxMTAuMTk0KSIvPgo8cGF0aCBzdHlsZT0iZmlsbC1ydWxlOm5vbnplcm87ZmlsbDpyZ2IoMTAwJSw5OC45NzkxODclLDgwLjAwMDMwNSUpO2ZpbGwtb3BhY2l0eToxO3N0cm9rZS13aWR0aDowLjM5ODU7c3Ryb2tlLWxpbmVjYXA6YnV0dDtzdHJva2UtbGluZWpvaW46bWl0ZXI7c3Ryb2tlOnJnYigwJSwwJSwwJSk7c3Ryb2tlLW9wYWNpdHk6MTtzdHJva2UtbWl0ZXJsaW1pdDoxMDsiIGQ9Ik0gMjA0LjA5ODcxOSA0Mi41MjIxMjUgQyAyMDQuMDk4NzE5IDQ1LjY1MTAzMSAyMDEuNTU5NjU2IDQ4LjE5MDA5NCAxOTguNDI2ODQ0IDQ4LjE5MDA5NCBDIDE5NS4yOTc5MzcgNDguMTkwMDk0IDE5Mi43NTg4NzUgNDUuNjUxMDMxIDE5Mi43NTg4NzUgNDIuNTIyMTI1IEMgMTkyLjc1ODg3NSAzOS4zODkzMTIgMTk1LjI5NzkzNyAzNi44NTAyNSAxOTguNDI2ODQ0IDM2Ljg1MDI1IEMgMjAxLjU1OTY1NiAzNi44NTAyNSAyMDQuMDk4NzE5IDM5LjM4OTMxMiAyMDQuMDk4NzE5IDQyLjUyMjEyNSBaIE0gMjA0LjA5ODcxOSA0Mi41MjIxMjUgIiB0cmFuc2Zvcm09Im1hdHJpeCgxLDAsMCwtMSwxMi4wMzgsMTEwLjE5NCkiLz4KPHBhdGggc3R5bGU9ImZpbGw6bm9uZTtzdHJva2Utd2lkdGg6MC4zOTg1O3N0cm9rZS1saW5lY2FwOmJ1dHQ7c3Ryb2tlLWxpbmVqb2luOm1pdGVyO3N0cm9rZTpyZ2IoMCUsMCUsMCUpO3N0cm9rZS1vcGFjaXR5OjE7c3Ryb2tlLW1pdGVybGltaXQ6MTA7IiBkPSJNIDE5MS4zNDA5MDYgNzcuOTUxODEyIEMgMTkxLjg3MjE1NiA3OS40NDc5MDYgMTkzLjExNDM0NCA4MC40NDQgMTk0Ljg4Mzg3NSA4MC40NDQgQyAxOTYuNjU3MzEyIDgwLjQ0NCAxOTcuODk1NTk0IDgxLjQ0MDA5NCAxOTguNDI2ODQ0IDgyLjkzNjE4NyBDIDE5OC45NTgwOTQgODEuNDQwMDk0IDIwMC4yMDAyODEgODAuNDQ0IDIwMS45Njk4MTIgODAuNDQ0IEMgMjAzLjc0MzI1IDgwLjQ0NCAyMDQuOTgxNTMxIDc5LjQ0NzkwNiAyMDUuNTEyNzgxIDc3Ljk1MTgxMiAiIHRyYW5zZm9ybT0ibWF0cml4KDEsMCwwLC0xLDEyLjAzOCwxMTAuMTk0KSIvPgo8ZyBzdHlsZT0iZmlsbDpyZ2IoMCUsMCUsMCUpO2ZpbGwtb3BhY2l0eToxOyI+CiAgPHVzZSB4bGluazpocmVmPSIjZ2x5cGgwLTIiIHg9IjIwNC40MjMiIHk9IjIzLjc0Ii8+CjwvZz4KPGcgc3R5bGU9ImZpbGw6cmdiKDAlLDAlLDAlKTtmaWxsLW9wYWNpdHk6MTsiPgogIDx1c2UgeGxpbms6aHJlZj0iI2dseXBoMS0xIiB4PSIyMDguNjAyIiB5PSIyMS43MyIvPgogIDx1c2UgeGxpbms6aHJlZj0iI2dseXBoMS01IiB4PSIyMTAuNjA4NDY4IiB5PSIyMS43MyIvPgogIDx1c2UgeGxpbms6aHJlZj0iI2dseXBoMS0zIiB4PSIyMTMuOTk4NzQiIHk9IjIxLjczIi8+CjwvZz4KPHBhdGggc3R5bGU9IiBzdHJva2U6bm9uZTtmaWxsLXJ1bGU6bm9uemVybztmaWxsOnJnYig3OS45OTg3NzklLDEwMCUsNzkuOTk4Nzc5JSk7ZmlsbC1vcGFjaXR5OjE7IiBkPSJNIDI3OC40OTYwOTQgMTI0LjM2NzE4OCBDIDI3OC40OTYwOTQgMTE4LjEwNTQ2OSAyNzMuNDIxODc1IDExMy4wMjczNDQgMjY3LjE2MDE1NiAxMTMuMDI3MzQ0IEMgMjYwLjg5ODQzOCAxMTMuMDI3MzQ0IDI1NS44MjAzMTMgMTE4LjEwNTQ2OSAyNTUuODIwMzEzIDEyNC4zNjcxODggQyAyNTUuODIwMzEzIDEzMC42Mjg5MDYgMjYwLjg5ODQzOCAxMzUuNzA3MDMxIDI2Ny4xNjAxNTYgMTM1LjcwNzAzMSBDIDI3My40MjE4NzUgMTM1LjcwNzAzMSAyNzguNDk2MDk0IDEzMC42Mjg5MDYgMjc4LjQ5NjA5NCAxMjQuMzY3MTg4IFogTSAyNzguNDk2MDk0IDEyNC4zNjcxODggIi8+CjxnIGNsaXAtcGF0aD0idXJsKCNjbGlwMykiIGNsaXAtcnVsZT0ibm9uemVybyI+CjxwYXRoIHN0eWxlPSJmaWxsOm5vbmU7c3Ryb2tlLXdpZHRoOjAuMzk4NTtzdHJva2UtbGluZWNhcDpidXR0O3N0cm9rZS1saW5lam9pbjptaXRlcjtzdHJva2U6cmdiKDAlLDAlLDAlKTtzdHJva2Utb3BhY2l0eToxO3N0cm9rZS1taXRlcmxpbWl0OjEwOyIgZD0iTSAyNjYuNDU4MDk0IC0xNC4xNzMxODggQyAyNjYuNDU4MDk0IC03LjkxMTQ2OSAyNjEuMzgzODc1IC0yLjgzMzM0NCAyNTUuMTIyMTU2IC0yLjgzMzM0NCBDIDI0OC44NjA0MzcgLTIuODMzMzQ0IDI0My43ODIzMTIgLTcuOTExNDY5IDI0My43ODIzMTIgLTE0LjE3MzE4OCBDIDI0My43ODIzMTIgLTIwLjQzNDkwNiAyNDguODYwNDM3IC0yNS41MTMwMzEgMjU1LjEyMjE1NiAtMjUuNTEzMDMxIEMgMjYxLjM4Mzg3NSAtMjUuNTEzMDMxIDI2Ni40NTgwOTQgLTIwLjQzNDkwNiAyNjYuNDU4MDk0IC0xNC4xNzMxODggWiBNIDI2Ni40NTgwOTQgLTE0LjE3MzE4OCAiIHRyYW5zZm9ybT0ibWF0cml4KDEsMCwwLC0xLDEyLjAzOCwxMTAuMTk0KSIvPgo8L2c+CjxwYXRoIHN0eWxlPSIgc3Ryb2tlOm5vbmU7ZmlsbC1ydWxlOm5vbnplcm87ZmlsbDpyZ2IoNzkuOTk4Nzc5JSwxMDAlLDc5Ljk5ODc3OSUpO2ZpbGwtb3BhY2l0eToxOyIgZD0iTSAyNzguNDk2MDk0IDE1Mi43MTQ4NDQgQyAyNzguNDk2MDk0IDE0Ni40NTMxMjUgMjczLjQyMTg3NSAxNDEuMzc1IDI2Ny4xNjAxNTYgMTQxLjM3NSBDIDI2MC44OTg0MzggMTQxLjM3NSAyNTUuODIwMzEzIDE0Ni40NTMxMjUgMjU1LjgyMDMxMyAxNTIuNzE0ODQ0IEMgMjU1LjgyMDMxMyAxNTguOTc2NTYzIDI2MC44OTg0MzggMTY0LjA1NDY4OCAyNjcuMTYwMTU2IDE2NC4wNTQ2ODggQyAyNzMuNDIxODc1IDE2NC4wNTQ2ODggMjc4LjQ5NjA5NCAxNTguOTc2NTYzIDI3OC40OTYwOTQgMTUyLjcxNDg0NCBaIE0gMjc4LjQ5NjA5NCAxNTIuNzE0ODQ0ICIvPgo8ZyBjbGlwLXBhdGg9InVybCgjY2xpcDQpIiBjbGlwLXJ1bGU9Im5vbnplcm8iPgo8cGF0aCBzdHlsZT0iZmlsbDpub25lO3N0cm9rZS13aWR0aDowLjM5ODU7c3Ryb2tlLWxpbmVjYXA6YnV0dDtzdHJva2UtbGluZWpvaW46bWl0ZXI7c3Ryb2tlOnJnYigwJSwwJSwwJSk7c3Ryb2tlLW9wYWNpdHk6MTtzdHJva2UtbWl0ZXJsaW1pdDoxMDsiIGQ9Ik0gMjY2LjQ1ODA5NCAtNDIuNTIwODQ0IEMgMjY2LjQ1ODA5NCAtMzYuMjU5MTI1IDI2MS4zODM4NzUgLTMxLjE4MSAyNTUuMTIyMTU2IC0zMS4xODEgQyAyNDguODYwNDM3IC0zMS4xODEgMjQzLjc4MjMxMiAtMzYuMjU5MTI1IDI0My43ODIzMTIgLTQyLjUyMDg0NCBDIDI0My43ODIzMTIgLTQ4Ljc4MjU2MyAyNDguODYwNDM3IC01My44NjA2ODggMjU1LjEyMjE1NiAtNTMuODYwNjg4IEMgMjYxLjM4Mzg3NSAtNTMuODYwNjg4IDI2Ni40NTgwOTQgLTQ4Ljc4MjU2MyAyNjYuNDU4MDk0IC00Mi41MjA4NDQgWiBNIDI2Ni40NTgwOTQgLTQyLjUyMDg0NCAiIHRyYW5zZm9ybT0ibWF0cml4KDEsMCwwLC0xLDEyLjAzOCwxMTAuMTk0KSIvPgo8L2c+CjxwYXRoIHN0eWxlPSIgc3Ryb2tlOm5vbmU7ZmlsbC1ydWxlOm5vbnplcm87ZmlsbDpyZ2IoNzkuOTk4Nzc5JSwxMDAlLDc5Ljk5ODc3OSUpO2ZpbGwtb3BhY2l0eToxOyIgZD0iTSAyNzguNDk2MDk0IDE4MS4wNjI1IEMgMjc4LjQ5NjA5NCAxNzQuNzk2ODc1IDI3My40MjE4NzUgMTY5LjcyMjY1NiAyNjcuMTYwMTU2IDE2OS43MjI2NTYgQyAyNjAuODk4NDM4IDE2OS43MjI2NTYgMjU1LjgyMDMxMyAxNzQuNzk2ODc1IDI1NS44MjAzMTMgMTgxLjA2MjUgQyAyNTUuODIwMzEzIDE4Ny4zMjQyMTkgMjYwLjg5ODQzOCAxOTIuMzk4NDM4IDI2Ny4xNjAxNTYgMTkyLjM5ODQzOCBDIDI3My40MjE4NzUgMTkyLjM5ODQzOCAyNzguNDk2MDk0IDE4Ny4zMjQyMTkgMjc4LjQ5NjA5NCAxODEuMDYyNSBaIE0gMjc4LjQ5NjA5NCAxODEuMDYyNSAiLz4KPGcgY2xpcC1wYXRoPSJ1cmwoI2NsaXA1KSIgY2xpcC1ydWxlPSJub256ZXJvIj4KPHBhdGggc3R5bGU9ImZpbGw6bm9uZTtzdHJva2Utd2lkdGg6MC4zOTg1O3N0cm9rZS1saW5lY2FwOmJ1dHQ7c3Ryb2tlLWxpbmVqb2luOm1pdGVyO3N0cm9rZTpyZ2IoMCUsMCUsMCUpO3N0cm9rZS1vcGFjaXR5OjE7c3Ryb2tlLW1pdGVybGltaXQ6MTA7IiBkPSJNIDI2Ni40NTgwOTQgLTcwLjg2ODUgQyAyNjYuNDU4MDk0IC02NC42MDI4NzUgMjYxLjM4Mzg3NSAtNTkuNTI4NjU2IDI1NS4xMjIxNTYgLTU5LjUyODY1NiBDIDI0OC44NjA0MzcgLTU5LjUyODY1NiAyNDMuNzgyMzEyIC02NC42MDI4NzUgMjQzLjc4MjMxMiAtNzAuODY4NSBDIDI0My43ODIzMTIgLTc3LjEzMDIxOSAyNDguODYwNDM3IC04Mi4yMDQ0MzggMjU1LjEyMjE1NiAtODIuMjA0NDM4IEMgMjYxLjM4Mzg3NSAtODIuMjA0NDM4IDI2Ni40NTgwOTQgLTc3LjEzMDIxOSAyNjYuNDU4MDk0IC03MC44Njg1IFogTSAyNjYuNDU4MDk0IC03MC44Njg1ICIgdHJhbnNmb3JtPSJtYXRyaXgoMSwwLDAsLTEsMTIuMDM4LDExMC4xOTQpIi8+CjwvZz4KPGcgY2xpcC1wYXRoPSJ1cmwoI2NsaXA2KSIgY2xpcC1ydWxlPSJub256ZXJvIj4KPHBhdGggc3R5bGU9ImZpbGw6bm9uZTtzdHJva2Utd2lkdGg6MC4zOTg1O3N0cm9rZS1saW5lY2FwOmJ1dHQ7c3Ryb2tlLWxpbmVqb2luOm1pdGVyO3N0cm9rZTpyZ2IoMCUsMCUsMCUpO3N0cm9rZS1vcGFjaXR5OjE7c3Ryb2tlLW1pdGVybGltaXQ6MTA7IiBkPSJNIDI0My43ODIzMTIgNy4wODg1MzEgQyAyNDQuNTI4NDA2IDguNTgwNzE5IDI0Ni4yNzQ1IDkuNTc2ODEyIDI0OC43NjI3ODEgOS41NzY4MTIgTCAyNTAuMTQxNjg3IDkuNTc2ODEyIEMgMjUyLjYyOTk2OSA5LjU3NjgxMiAyNTQuMzcyMTU2IDEwLjU3MjkwNiAyNTUuMTIyMTU2IDEyLjA2OSBDIDI1NS44NjgyNSAxMC41NzI5MDYgMjU3LjYxMDQzNyA5LjU3NjgxMiAyNjAuMTAyNjI1IDkuNTc2ODEyIEwgMjYxLjQ3NzYyNSA5LjU3NjgxMiBDIDI2My45Njk4MTIgOS41NzY4MTIgMjY1LjcxMiA4LjU4MDcxOSAyNjYuNDU4MDk0IDcuMDg4NTMxICIgdHJhbnNmb3JtPSJtYXRyaXgoMSwwLDAsLTEsMTIuMDM4LDExMC4xOTQpIi8+CjwvZz4KPGcgc3R5bGU9ImZpbGw6cmdiKDAlLDAlLDAlKTtmaWxsLW9wYWNpdHk6MTsiPgogIDx1c2UgeGxpbms6aHJlZj0iI2dseXBoMS02IiB4PSIyNjUuNDYxIiB5PSI5My41NjgiLz4KPC9nPgo8ZyBzdHlsZT0iZmlsbDpyZ2IoMCUsMCUsMCUpO2ZpbGwtb3BhY2l0eToxOyI+CiAgPHVzZSB4bGluazpocmVmPSIjZ2x5cGgwLTQiIHg9IjI2NS4xMTciIHk9IjkzLjYzOCIvPgo8L2c+CjxwYXRoIHN0eWxlPSJmaWxsOm5vbmU7c3Ryb2tlLXdpZHRoOjAuMzk4NTtzdHJva2UtbGluZWNhcDpidXR0O3N0cm9rZS1saW5lam9pbjptaXRlcjtzdHJva2U6cmdiKDAlLDAlLDAlKTtzdHJva2Utb3BhY2l0eToxO3N0cm9rZS1taXRlcmxpbWl0OjEwOyIgZD0iTSAxMS4zNzk5NjkgMS44OTcxMjUgTCA3MS42OTYzNzUgMTEuOTQ3OTA2ICIgdHJhbnNmb3JtPSJtYXRyaXgoMSwwLDAsLTEsMTIuMDM4LDExMC4xOTQpIi8+CjxwYXRoIHN0eWxlPSIgc3Ryb2tlOm5vbmU7ZmlsbC1ydWxlOm5vbnplcm87ZmlsbDpyZ2IoMCUsMCUsMCUpO2ZpbGwtb3BhY2l0eToxOyIgZD0iTSA4NS42OTkyMTkgOTcuOTE3OTY5IEwgODIuMjkyOTY5IDk2Ljg2NzE4OCBMIDgzLjczNDM3NSA5OC4yNDYwOTQgTCA4Mi44MTY0MDYgMTAwLjAxMTcxOSAiLz4KPHBhdGggc3R5bGU9ImZpbGw6bm9uZTtzdHJva2Utd2lkdGg6MC4zOTg1O3N0cm9rZS1saW5lY2FwOmJ1dHQ7c3Ryb2tlLWxpbmVqb2luOm1pdGVyO3N0cm9rZTpyZ2IoMCUsMCUsMCUpO3N0cm9rZS1vcGFjaXR5OjE7c3Ryb2tlLW1pdGVybGltaXQ6MTA7IiBkPSJNIDExLjM3OTk2OSAtMS44OTU4NDQgTCA3MS42OTYzNzUgLTExLjk1MDUzMSAiIHRyYW5zZm9ybT0ibWF0cml4KDEsMCwwLC0xLDEyLjAzOCwxMTAuMTk0KSIvPgo8cGF0aCBzdHlsZT0iIHN0cm9rZTpub25lO2ZpbGwtcnVsZTpub256ZXJvO2ZpbGw6cmdiKDAlLDAlLDAlKTtmaWxsLW9wYWNpdHk6MTsiIGQ9Ik0gODUuNjk5MjE5IDEyMi40NzI2NTYgTCA4Mi44MTY0MDYgMTIwLjM3NSBMIDgzLjczNDM3NSAxMjIuMTQ0NTMxIEwgODIuMjkyOTY5IDEyMy41MTk1MzEgIi8+CjxwYXRoIHN0eWxlPSJmaWxsOm5vbmU7c3Ryb2tlLXdpZHRoOjAuMzk4NTtzdHJva2UtbGluZWNhcDpidXR0O3N0cm9rZS1saW5lam9pbjptaXRlcjtzdHJva2U6cmdiKDAlLDAlLDAlKTtzdHJva2Utb3BhY2l0eToxO3N0cm9rZS1taXRlcmxpbWl0OjEwOyIgZD0iTSAxMC4zMTc0NjkgLTUuMTU3NTYzIEwgNzIuOTM4NTYzIC0zNi40NzAwNjMgIiB0cmFuc2Zvcm09Im1hdHJpeCgxLDAsMCwtMSwxMi4wMzgsMTEwLjE5NCkiLz4KPHBhdGggc3R5bGU9IiBzdHJva2U6bm9uZTtmaWxsLXJ1bGU6bm9uemVybztmaWxsOnJnYigwJSwwJSwwJSk7ZmlsbC1vcGFjaXR5OjE7IiBkPSJNIDg2Ljc1NzgxMyAxNDcuNTU0Njg4IEwgODQuNjIxMDk0IDE0NC43MDMxMjUgTCA4NC45NzY1NjMgMTQ2LjY2NDA2MyBMIDgzLjE5NTMxMyAxNDcuNTU0Njg4ICIvPgo8cGF0aCBzdHlsZT0iZmlsbDpub25lO3N0cm9rZS13aWR0aDowLjM5ODU7c3Ryb2tlLWxpbmVjYXA6YnV0dDtzdHJva2UtbGluZWpvaW46bWl0ZXI7c3Ryb2tlOnJnYigwJSwwJSwwJSk7c3Ryb2tlLW9wYWNpdHk6MTtzdHJva2UtbWl0ZXJsaW1pdDoxMDsiIGQ9Ik0gOC44NjQzNDQgLTcuMzg4MDMxIEwgNzQuNjQ1NTk0IC02Mi4yMDQ0MzggIiB0cmFuc2Zvcm09Im1hdHJpeCgxLDAsMCwtMSwxMi4wMzgsMTEwLjE5NCkiLz4KPHBhdGggc3R5bGU9IiBzdHJva2U6bm9uZTtmaWxsLXJ1bGU6bm9uemVybztmaWxsOnJnYigwJSwwJSwwJSk7ZmlsbC1vcGFjaXR5OjE7IiBkPSJNIDg4LjIxNDg0NCAxNzMuNjc1NzgxIEwgODYuNzg1MTU2IDE3MC40MTAxNTYgTCA4Ni42ODM1OTQgMTcyLjM5ODQzOCBMIDg0Ljc0NjA5NCAxNzIuODU5Mzc1ICIvPgo8cGF0aCBzdHlsZT0iZmlsbDpub25lO3N0cm9rZS13aWR0aDowLjM5ODU7c3Ryb2tlLWxpbmVjYXA6YnV0dDtzdHJva2UtbGluZWpvaW46bWl0ZXI7c3Ryb2tlOnJnYigwJSwwJSwwJSk7c3Ryb2tlLW9wYWNpdHk6MTtzdHJva2UtbWl0ZXJsaW1pdDoxMDsiIGQ9Ik0gNy41MDg4NzUgLTguNzU5MTI1IEwgNzYuMjM1NDM4IC04OC45NDI3MTkgIiB0cmFuc2Zvcm09Im1hdHJpeCgxLDAsMCwtMSwxMi4wMzgsMTEwLjE5NCkiLz4KPHBhdGggc3R5bGU9IiBzdHJva2U6bm9uZTtmaWxsLXJ1bGU6bm9uemVybztmaWxsOnJnYigwJSwwJSwwJSk7ZmlsbC1vcGFjaXR5OjE7IiBkPSJNIDg5LjU3MDMxMyAyMDAuNjQ4NDM4IEwgODguNzA3MDMxIDE5Ny4xOTE0MDYgTCA4OC4yNzM0MzggMTk5LjEzNjcxOSBMIDg2LjI4NTE1NiAxOTkuMjY1NjI1ICIvPgo8cGF0aCBzdHlsZT0iZmlsbDpub25lO3N0cm9rZS13aWR0aDowLjM5ODU7c3Ryb2tlLWxpbmVjYXA6YnV0dDtzdHJva2UtbGluZWpvaW46bWl0ZXI7c3Ryb2tlOnJnYigwJSwwJSwwJSk7c3Ryb2tlLW9wYWNpdHk6MTtzdHJva2UtbWl0ZXJsaW1pdDoxMDsiIGQ9Ik0gMTAuMzE3NDY5IC0yMy4xODg4MTMgTCA3Mi45Mzg1NjMgOC4xMjM2ODcgIiB0cmFuc2Zvcm09Im1hdHJpeCgxLDAsMCwtMSwxMi4wMzgsMTEwLjE5NCkiLz4KPHBhdGggc3R5bGU9IiBzdHJva2U6bm9uZTtmaWxsLXJ1bGU6bm9uemVybztmaWxsOnJnYigwJSwwJSwwJSk7ZmlsbC1vcGFjaXR5OjE7IiBkPSJNIDg2Ljc1NzgxMyAxMDEuMTc5Njg4IEwgODMuMTk1MzEzIDEwMS4xNzk2ODggTCA4NC45NzY1NjMgMTAyLjA3MDMxMyBMIDg0LjYyMTA5NCAxMDQuMDMxMjUgIi8+CjxwYXRoIHN0eWxlPSJmaWxsOm5vbmU7c3Ryb2tlLXdpZHRoOjAuMzk4NTtzdHJva2UtbGluZWNhcDpidXR0O3N0cm9rZS1saW5lam9pbjptaXRlcjtzdHJva2U6cmdiKDAlLDAlLDAlKTtzdHJva2Utb3BhY2l0eToxO3N0cm9rZS1taXRlcmxpbWl0OjEwOyIgZD0iTSAxMS4zNzk5NjkgLTI2LjQ1MDUzMSBMIDcxLjY5NjM3NSAtMTYuMzk1ODQ0ICIgdHJhbnNmb3JtPSJtYXRyaXgoMSwwLDAsLTEsMTIuMDM4LDExMC4xOTQpIi8+CjxwYXRoIHN0eWxlPSIgc3Ryb2tlOm5vbmU7ZmlsbC1ydWxlOm5vbnplcm87ZmlsbDpyZ2IoMCUsMCUsMCUpO2ZpbGwtb3BhY2l0eToxOyIgZD0iTSA4NS42OTkyMTkgMTI2LjI2NTYyNSBMIDgyLjI5Mjk2OSAxMjUuMjE0ODQ0IEwgODMuNzM0Mzc1IDEyNi41ODk4NDQgTCA4Mi44MTY0MDYgMTI4LjM1OTM3NSAiLz4KPHBhdGggc3R5bGU9ImZpbGw6bm9uZTtzdHJva2Utd2lkdGg6MC4zOTg1O3N0cm9rZS1saW5lY2FwOmJ1dHQ7c3Ryb2tlLWxpbmVqb2luOm1pdGVyO3N0cm9rZTpyZ2IoMCUsMCUsMCUpO3N0cm9rZS1vcGFjaXR5OjE7c3Ryb2tlLW1pdGVybGltaXQ6MTA7IiBkPSJNIDExLjM3OTk2OSAtMzAuMjQzNSBMIDcxLjY5NjM3NSAtNDAuMjk0MjgxICIgdHJhbnNmb3JtPSJtYXRyaXgoMSwwLDAsLTEsMTIuMDM4LDExMC4xOTQpIi8+CjxwYXRoIHN0eWxlPSIgc3Ryb2tlOm5vbmU7ZmlsbC1ydWxlOm5vbnplcm87ZmlsbDpyZ2IoMCUsMCUsMCUpO2ZpbGwtb3BhY2l0eToxOyIgZD0iTSA4NS42OTkyMTkgMTUwLjgxNjQwNiBMIDgyLjgxNjQwNiAxNDguNzIyNjU2IEwgODMuNzM0Mzc1IDE1MC40ODgyODEgTCA4Mi4yOTI5NjkgMTUxLjg2NzE4OCAiLz4KPHBhdGggc3R5bGU9ImZpbGw6bm9uZTtzdHJva2Utd2lkdGg6MC4zOTg1O3N0cm9rZS1saW5lY2FwOmJ1dHQ7c3Ryb2tlLWxpbmVqb2luOm1pdGVyO3N0cm9rZTpyZ2IoMCUsMCUsMCUpO3N0cm9rZS1vcGFjaXR5OjE7c3Ryb2tlLW1pdGVybGltaXQ6MTA7IiBkPSJNIDEwLjMxNzQ2OSAtMzMuNTA1MjE5IEwgNzIuOTM4NTYzIC02NC44MTc3MTkgIiB0cmFuc2Zvcm09Im1hdHJpeCgxLDAsMCwtMSwxMi4wMzgsMTEwLjE5NCkiLz4KPHBhdGggc3R5bGU9IiBzdHJva2U6bm9uZTtmaWxsLXJ1bGU6bm9uemVybztmaWxsOnJnYigwJSwwJSwwJSk7ZmlsbC1vcGFjaXR5OjE7IiBkPSJNIDg2Ljc1NzgxMyAxNzUuOTAyMzQ0IEwgODQuNjIxMDk0IDE3My4wNTA3ODEgTCA4NC45NzY1NjMgMTc1LjAxMTcxOSBMIDgzLjE5NTMxMyAxNzUuOTAyMzQ0ICIvPgo8cGF0aCBzdHlsZT0iZmlsbDpub25lO3N0cm9rZS13aWR0aDowLjM5ODU7c3Ryb2tlLWxpbmVjYXA6YnV0dDtzdHJva2UtbGluZWpvaW46bWl0ZXI7c3Ryb2tlOnJnYigwJSwwJSwwJSk7c3Ryb2tlLW9wYWNpdHk6MTtzdHJva2UtbWl0ZXJsaW1pdDoxMDsiIGQ9Ik0gOC44NjQzNDQgLTM1LjczMTc4MSBMIDc0LjY0NTU5NCAtOTAuNTUyMDk0ICIgdHJhbnNmb3JtPSJtYXRyaXgoMSwwLDAsLTEsMTIuMDM4LDExMC4xOTQpIi8+CjxwYXRoIHN0eWxlPSIgc3Ryb2tlOm5vbmU7ZmlsbC1ydWxlOm5vbnplcm87ZmlsbDpyZ2IoMCUsMCUsMCUpO2ZpbGwtb3BhY2l0eToxOyIgZD0iTSA4OC4yMTQ4NDQgMjAyLjAyMzQzOCBMIDg2Ljc4NTE1NiAxOTguNzU3ODEzIEwgODYuNjgzNTk0IDIwMC43NDYwOTQgTCA4NC43NDYwOTQgMjAxLjIwNzAzMSAiLz4KPHBhdGggc3R5bGU9ImZpbGw6bm9uZTtzdHJva2Utd2lkdGg6MC4zOTg1O3N0cm9rZS1saW5lY2FwOmJ1dHQ7c3Ryb2tlLWxpbmVqb2luOm1pdGVyO3N0cm9rZTpyZ2IoMCUsMCUsMCUpO3N0cm9rZS1vcGFjaXR5OjE7c3Ryb2tlLW1pdGVybGltaXQ6MTA7IiBkPSJNIDguODY0MzQ0IC00OS4zMDYgTCA3NC42NDU1OTQgNS41MTA0MDYgIiB0cmFuc2Zvcm09Im1hdHJpeCgxLDAsMCwtMSwxMi4wMzgsMTEwLjE5NCkiLz4KPHBhdGggc3R5bGU9IiBzdHJva2U6bm9uZTtmaWxsLXJ1bGU6bm9uemVybztmaWxsOnJnYigwJSwwJSwwJSk7ZmlsbC1vcGFjaXR5OjE7IiBkPSJNIDg4LjIxNDg0NCAxMDMuNDA2MjUgTCA4NC43NDYwOTQgMTA0LjIyMjY1NiBMIDg2LjY4MzU5NCAxMDQuNjgzNTk0IEwgODYuNzg1MTU2IDEwNi42NzE4NzUgIi8+CjxwYXRoIHN0eWxlPSJmaWxsOm5vbmU7c3Ryb2tlLXdpZHRoOjAuMzk4NTtzdHJva2UtbGluZWNhcDpidXR0O3N0cm9rZS1saW5lam9pbjptaXRlcjtzdHJva2U6cmdiKDAlLDAlLDAlKTtzdHJva2Utb3BhY2l0eToxO3N0cm9rZS1taXRlcmxpbWl0OjEwOyIgZD0iTSAxMC4zMTc0NjkgLTUxLjUzMjU2MyBMIDcyLjkzODU2MyAtMjAuMjIzOTY5ICIgdHJhbnNmb3JtPSJtYXRyaXgoMSwwLDAsLTEsMTIuMDM4LDExMC4xOTQpIi8+CjxwYXRoIHN0eWxlPSIgc3Ryb2tlOm5vbmU7ZmlsbC1ydWxlOm5vbnplcm87ZmlsbDpyZ2IoMCUsMCUsMCUpO2ZpbGwtb3BhY2l0eToxOyIgZD0iTSA4Ni43NTc4MTMgMTI5LjUyNzM0NCBMIDgzLjE5NTMxMyAxMjkuNTI3MzQ0IEwgODQuOTc2NTYzIDEzMC40MTc5NjkgTCA4NC42MjEwOTQgMTMyLjM3ODkwNiAiLz4KPHBhdGggc3R5bGU9ImZpbGw6bm9uZTtzdHJva2Utd2lkdGg6MC4zOTg1O3N0cm9rZS1saW5lY2FwOmJ1dHQ7c3Ryb2tlLWxpbmVqb2luOm1pdGVyO3N0cm9rZTpyZ2IoMCUsMCUsMCUpO3N0cm9rZS1vcGFjaXR5OjE7c3Ryb2tlLW1pdGVybGltaXQ6MTA7IiBkPSJNIDExLjM3OTk2OSAtNTQuNzk4MTg4IEwgNzEuNjk2Mzc1IC00NC43NDM1ICIgdHJhbnNmb3JtPSJtYXRyaXgoMSwwLDAsLTEsMTIuMDM4LDExMC4xOTQpIi8+CjxwYXRoIHN0eWxlPSIgc3Ryb2tlOm5vbmU7ZmlsbC1ydWxlOm5vbnplcm87ZmlsbDpyZ2IoMCUsMCUsMCUpO2ZpbGwtb3BhY2l0eToxOyIgZD0iTSA4NS42OTkyMTkgMTU0LjYwOTM3NSBMIDgyLjI5Mjk2OSAxNTMuNTYyNSBMIDgzLjczNDM3NSAxNTQuOTM3NSBMIDgyLjgxNjQwNiAxNTYuNzA3MDMxICIvPgo8cGF0aCBzdHlsZT0iZmlsbDpub25lO3N0cm9rZS13aWR0aDowLjM5ODU7c3Ryb2tlLWxpbmVjYXA6YnV0dDtzdHJva2UtbGluZWpvaW46bWl0ZXI7c3Ryb2tlOnJnYigwJSwwJSwwJSk7c3Ryb2tlLW9wYWNpdHk6MTtzdHJva2UtbWl0ZXJsaW1pdDoxMDsiIGQ9Ik0gMTEuMzc5OTY5IC01OC41OTExNTYgTCA3MS42OTYzNzUgLTY4LjY0MTkzOCAiIHRyYW5zZm9ybT0ibWF0cml4KDEsMCwwLC0xLDEyLjAzOCwxMTAuMTk0KSIvPgo8cGF0aCBzdHlsZT0iIHN0cm9rZTpub25lO2ZpbGwtcnVsZTpub256ZXJvO2ZpbGw6cmdiKDAlLDAlLDAlKTtmaWxsLW9wYWNpdHk6MTsiIGQ9Ik0gODUuNjk5MjE5IDE3OS4xNjQwNjMgTCA4Mi44MTY0MDYgMTc3LjA2NjQwNiBMIDgzLjczNDM3NSAxNzguODM1OTM4IEwgODIuMjkyOTY5IDE4MC4yMTA5MzggIi8+CjxwYXRoIHN0eWxlPSJmaWxsOm5vbmU7c3Ryb2tlLXdpZHRoOjAuMzk4NTtzdHJva2UtbGluZWNhcDpidXR0O3N0cm9rZS1saW5lam9pbjptaXRlcjtzdHJva2U6cmdiKDAlLDAlLDAlKTtzdHJva2Utb3BhY2l0eToxO3N0cm9rZS1taXRlcmxpbWl0OjEwOyIgZD0iTSAxMC4zMTc0NjkgLTYxLjg1Mjg3NSBMIDcyLjkzODU2MyAtOTMuMTYxNDY5ICIgdHJhbnNmb3JtPSJtYXRyaXgoMSwwLDAsLTEsMTIuMDM4LDExMC4xOTQpIi8+CjxwYXRoIHN0eWxlPSIgc3Ryb2tlOm5vbmU7ZmlsbC1ydWxlOm5vbnplcm87ZmlsbDpyZ2IoMCUsMCUsMCUpO2ZpbGwtb3BhY2l0eToxOyIgZD0iTSA4Ni43NTc4MTMgMjA0LjI1IEwgODQuNjIxMDk0IDIwMS4zOTg0MzggTCA4NC45NzY1NjMgMjAzLjM1NTQ2OSBMIDgzLjE5NTMxMyAyMDQuMjUgIi8+CjxwYXRoIHN0eWxlPSJmaWxsOm5vbmU7c3Ryb2tlLXdpZHRoOjAuMzk4NTtzdHJva2UtbGluZWNhcDpidXR0O3N0cm9rZS1saW5lam9pbjptaXRlcjtzdHJva2U6cmdiKDAlLDAlLDAlKTtzdHJva2Utb3BhY2l0eToxO3N0cm9rZS1taXRlcmxpbWl0OjEwOyIgZD0iTSA3LjUwODg3NSAtNzYuMjc4NjU2IEwgNzYuMjM1NDM4IDMuOTAxMDMxICIgdHJhbnNmb3JtPSJtYXRyaXgoMSwwLDAsLTEsMTIuMDM4LDExMC4xOTQpIi8+CjxwYXRoIHN0eWxlPSIgc3Ryb2tlOm5vbmU7ZmlsbC1ydWxlOm5vbnplcm87ZmlsbDpyZ2IoMCUsMCUsMCUpO2ZpbGwtb3BhY2l0eToxOyIgZD0iTSA4OS41NzAzMTMgMTA0Ljc4MTI1IEwgODYuMjg1MTU2IDEwNi4xNjQwNjMgTCA4OC4yNzM0MzggMTA2LjI5Mjk2OSBMIDg4LjcwNzAzMSAxMDguMjM4MjgxICIvPgo8cGF0aCBzdHlsZT0iZmlsbDpub25lO3N0cm9rZS13aWR0aDowLjM5ODU7c3Ryb2tlLWxpbmVjYXA6YnV0dDtzdHJva2UtbGluZWpvaW46bWl0ZXI7c3Ryb2tlOnJnYigwJSwwJSwwJSk7c3Ryb2tlLW9wYWNpdHk6MTtzdHJva2UtbWl0ZXJsaW1pdDoxMDsiIGQ9Ik0gOC44NjQzNDQgLTc3LjY1MzY1NiBMIDc0LjY0NTU5NCAtMjIuODMzMzQ0ICIgdHJhbnNmb3JtPSJtYXRyaXgoMSwwLDAsLTEsMTIuMDM4LDExMC4xOTQpIi8+CjxwYXRoIHN0eWxlPSIgc3Ryb2tlOm5vbmU7ZmlsbC1ydWxlOm5vbnplcm87ZmlsbDpyZ2IoMCUsMCUsMCUpO2ZpbGwtb3BhY2l0eToxOyIgZD0iTSA4OC4yMTQ4NDQgMTMxLjc1MzkwNiBMIDg0Ljc0NjA5NCAxMzIuNTcwMzEzIEwgODYuNjgzNTk0IDEzMy4wMjczNDQgTCA4Ni43ODUxNTYgMTM1LjAxOTUzMSAiLz4KPHBhdGggc3R5bGU9ImZpbGw6bm9uZTtzdHJva2Utd2lkdGg6MC4zOTg1O3N0cm9rZS1saW5lY2FwOmJ1dHQ7c3Ryb2tlLWxpbmVqb2luOm1pdGVyO3N0cm9rZTpyZ2IoMCUsMCUsMCUpO3N0cm9rZS1vcGFjaXR5OjE7c3Ryb2tlLW1pdGVybGltaXQ6MTA7IiBkPSJNIDEwLjMxNzQ2OSAtNzkuODgwMjE5IEwgNzIuOTM4NTYzIC00OC41NzE2MjUgIiB0cmFuc2Zvcm09Im1hdHJpeCgxLDAsMCwtMSwxMi4wMzgsMTEwLjE5NCkiLz4KPHBhdGggc3R5bGU9IiBzdHJva2U6bm9uZTtmaWxsLXJ1bGU6bm9uemVybztmaWxsOnJnYigwJSwwJSwwJSk7ZmlsbC1vcGFjaXR5OjE7IiBkPSJNIDg2Ljc1NzgxMyAxNTcuODc1IEwgODMuMTk1MzEzIDE1Ny44NzUgTCA4NC45NzY1NjMgMTU4Ljc2NTYyNSBMIDg0LjYyMTA5NCAxNjAuNzI2NTYzICIvPgo8cGF0aCBzdHlsZT0iZmlsbDpub25lO3N0cm9rZS13aWR0aDowLjM5ODU7c3Ryb2tlLWxpbmVjYXA6YnV0dDtzdHJva2UtbGluZWpvaW46bWl0ZXI7c3Ryb2tlOnJnYigwJSwwJSwwJSk7c3Ryb2tlLW9wYWNpdHk6MTtzdHJva2UtbWl0ZXJsaW1pdDoxMDsiIGQ9Ik0gMTEuMzc5OTY5IC04My4xNDE5MzggTCA3MS42OTYzNzUgLTczLjA5MTE1NiAiIHRyYW5zZm9ybT0ibWF0cml4KDEsMCwwLC0xLDEyLjAzOCwxMTAuMTk0KSIvPgo8cGF0aCBzdHlsZT0iIHN0cm9rZTpub25lO2ZpbGwtcnVsZTpub256ZXJvO2ZpbGw6cmdiKDAlLDAlLDAlKTtmaWxsLW9wYWNpdHk6MTsiIGQ9Ik0gODUuNjk5MjE5IDE4Mi45NTcwMzEgTCA4Mi4yOTI5NjkgMTgxLjkxMDE1NiBMIDgzLjczNDM3NSAxODMuMjg1MTU2IEwgODIuODE2NDA2IDE4NS4wNTQ2ODggIi8+CjxwYXRoIHN0eWxlPSJmaWxsOm5vbmU7c3Ryb2tlLXdpZHRoOjAuMzk4NTtzdHJva2UtbGluZWNhcDpidXR0O3N0cm9rZS1saW5lam9pbjptaXRlcjtzdHJva2U6cmdiKDAlLDAlLDAlKTtzdHJva2Utb3BhY2l0eToxO3N0cm9rZS1taXRlcmxpbWl0OjEwOyIgZD0iTSAxMS4zNzk5NjkgLTg2LjkzODgxMyBMIDcxLjY5NjM3NSAtOTYuOTg5NTk0ICIgdHJhbnNmb3JtPSJtYXRyaXgoMSwwLDAsLTEsMTIuMDM4LDExMC4xOTQpIi8+CjxwYXRoIHN0eWxlPSIgc3Ryb2tlOm5vbmU7ZmlsbC1ydWxlOm5vbnplcm87ZmlsbDpyZ2IoMCUsMCUsMCUpO2ZpbGwtb3BhY2l0eToxOyIgZD0iTSA4NS42OTkyMTkgMjA3LjUxMTcxOSBMIDgyLjgxNjQwNiAyMDUuNDE0MDYzIEwgODMuNzM0Mzc1IDIwNy4xODM1OTQgTCA4Mi4yOTI5NjkgMjA4LjU1ODU5NCAiLz4KPHBhdGggc3R5bGU9ImZpbGw6bm9uZTtzdHJva2Utd2lkdGg6MC4zOTg1O3N0cm9rZS1saW5lY2FwOmJ1dHQ7c3Ryb2tlLWxpbmVqb2luOm1pdGVyO3N0cm9rZTpyZ2IoMCUsMCUsMCUpO3N0cm9rZS1vcGFjaXR5OjE7c3Ryb2tlLW1pdGVybGltaXQ6MTA7IiBkPSJNIDMyLjAxMjc4MSA4MC40NTk2MjUgTCA3Ni41ODcgMjQuNzM2OTY5ICIgdHJhbnNmb3JtPSJtYXRyaXgoMSwwLDAsLTEsMTIuMDM4LDExMC4xOTQpIi8+CjxwYXRoIHN0eWxlPSIgc3Ryb2tlOm5vbmU7ZmlsbC1ydWxlOm5vbnplcm87ZmlsbDpyZ2IoMCUsMCUsMCUpO2ZpbGwtb3BhY2l0eToxOyIgZD0iTSA4OS44NzEwOTQgODcuMDExNzE5IEwgODkuMTI1IDgzLjUyNzM0NCBMIDg4LjYyNSA4NS40NTcwMzEgTCA4Ni42MzY3MTkgODUuNTE5NTMxICIvPgo8cGF0aCBzdHlsZT0iZmlsbDpub25lO3N0cm9rZS13aWR0aDowLjM5ODU7c3Ryb2tlLWxpbmVjYXA6YnV0dDtzdHJva2UtbGluZWpvaW46bWl0ZXI7c3Ryb2tlOnJnYigwJSwwJSwwJSk7c3Ryb2tlLW9wYWNpdHk6MTtzdHJva2UtbWl0ZXJsaW1pdDoxMDsiIGQ9Ik0gMzEuNjAyNjI1IDY1Ljk4MzA2MiBMIDc3LjUzNjIxOSAtMi45MTUzNzUgIiB0cmFuc2Zvcm09Im1hdHJpeCgxLDAsMCwtMSwxMi4wMzgsMTEwLjE5NCkiLz4KPHBhdGggc3R5bGU9IiBzdHJva2U6bm9uZTtmaWxsLXJ1bGU6bm9uemVybztmaWxsOnJnYigwJSwwJSwwJSk7ZmlsbC1vcGFjaXR5OjE7IiBkPSJNIDkwLjY3OTY4OCAxMTQuNzY5NTMxIEwgOTAuMjM4MjgxIDExMS4yMzA0NjkgTCA4OS41NzQyMTkgMTEzLjEwOTM3NSBMIDg3LjU4NTkzOCAxMTMgIi8+CjxwYXRoIHN0eWxlPSJmaWxsOm5vbmU7c3Ryb2tlLXdpZHRoOjAuMzk4NTtzdHJva2UtbGluZWNhcDpidXR0O3N0cm9rZS1saW5lam9pbjptaXRlcjtzdHJva2U6cmdiKDAlLDAlLDAlKTtzdHJva2Utb3BhY2l0eToxO3N0cm9rZS1taXRlcmxpbWl0OjEwOyIgZD0iTSAzMS4yNTg4NzUgNTEuNjAwMjUgTCA3OC4zMjkxODggLTMwLjc3NDc1ICIgdHJhbnNmb3JtPSJtYXRyaXgoMSwwLDAsLTEsMTIuMDM4LDExMC4xOTQpIi8+CjxwYXRoIHN0eWxlPSIgc3Ryb2tlOm5vbmU7ZmlsbC1ydWxlOm5vbnplcm87ZmlsbDpyZ2IoMCUsMCUsMCUpO2ZpbGwtb3BhY2l0eToxOyIgZD0iTSA5MS4zNTU0NjkgMTQyLjY5NTMxMyBMIDkxLjE1NjI1IDEzOS4xMzY3MTkgTCA5MC4zNjcxODggMTQwLjk2ODc1IEwgODguMzkwNjI1IDE0MC43MTg3NSAiLz4KPHBhdGggc3R5bGU9ImZpbGw6bm9uZTtzdHJva2Utd2lkdGg6MC4zOTg1O3N0cm9rZS1saW5lY2FwOmJ1dHQ7c3Ryb2tlLWxpbmVqb2luOm1pdGVyO3N0cm9rZTpyZ2IoMCUsMCUsMCUpO3N0cm9rZS1vcGFjaXR5OjE7c3Ryb2tlLW1pdGVybGltaXQ6MTA7IiBkPSJNIDMwLjk2OTgxMyAzNy4yNzIxMjUgTCA3OC45ODkzNDQgLTU4Ljc2NjkzOCAiIHRyYW5zZm9ybT0ibWF0cml4KDEsMCwwLC0xLDEyLjAzOCwxMTAuMTk0KSIvPgo8cGF0aCBzdHlsZT0iIHN0cm9rZTpub25lO2ZpbGwtcnVsZTpub256ZXJvO2ZpbGw6cmdiKDAlLDAlLDAlKTtmaWxsLW9wYWNpdHk6MTsiIGQ9Ik0gOTEuOTE3OTY5IDE3MC43NDIxODggTCA5MS45MTc5NjkgMTY3LjE3OTY4OCBMIDkxLjAyNzM0NCAxNjguOTYwOTM4IEwgODkuMDY2NDA2IDE2OC42MDE1NjMgIi8+CjxwYXRoIHN0eWxlPSJmaWxsOm5vbmU7c3Ryb2tlLXdpZHRoOjAuMzk4NTtzdHJva2UtbGluZWNhcDpidXR0O3N0cm9rZS1saW5lam9pbjptaXRlcjtzdHJva2U6cmdiKDAlLDAlLDAlKTtzdHJva2Utb3BhY2l0eToxO3N0cm9rZS1taXRlcmxpbWl0OjEwOyIgZD0iTSAzMC43MzE1MzEgMjIuOTgzMDYyIEwgNzkuNTQ0MDMxIC04Ni44NDg5NjkgIiB0cmFuc2Zvcm09Im1hdHJpeCgxLDAsMCwtMSwxMi4wMzgsMTEwLjE5NCkiLz4KPHBhdGggc3R5bGU9IiBzdHJva2U6bm9uZTtmaWxsLXJ1bGU6bm9uemVybztmaWxsOnJnYigwJSwwJSwwJSk7ZmlsbC1vcGFjaXR5OjE7IiBkPSJNIDkyLjM5MDYyNSAxOTguODYzMjgxIEwgOTIuNTU0Njg4IDE5NS4zMDQ2ODggTCA5MS41ODIwMzEgMTk3LjA0Mjk2OSBMIDg5LjY0MDYyNSAxOTYuNTk3NjU2ICIvPgo8cGF0aCBzdHlsZT0iZmlsbDpub25lO3N0cm9rZS13aWR0aDowLjM5ODU7c3Ryb2tlLWxpbmVjYXA6YnV0dDtzdHJva2UtbGluZWpvaW46bWl0ZXI7c3Ryb2tlOnJnYigwJSwwJSwwJSk7c3Ryb2tlLW9wYWNpdHk6MTtzdHJva2UtbWl0ZXJsaW1pdDoxMDsiIGQ9Ik0gOTYuNTc5MTg4IDE0LjE3NDQ2OSBMIDE1Ni41NTE4NDQgMTQuMTc0NDY5ICIgdHJhbnNmb3JtPSJtYXRyaXgoMSwwLDAsLTEsMTIuMDM4LDExMC4xOTQpIi8+CjxwYXRoIHN0eWxlPSIgc3Ryb2tlOm5vbmU7ZmlsbC1ydWxlOm5vbnplcm87ZmlsbDpyZ2IoMCUsMCUsMCUpO2ZpbGwtb3BhY2l0eToxOyIgZD0iTSAxNzAuNTgyMDMxIDk2LjAxOTUzMSBMIDE2Ny4zOTQ1MzEgOTQuNDI1NzgxIEwgMTY4LjU4OTg0NCA5Ni4wMTk1MzEgTCAxNjcuMzk0NTMxIDk3LjYxMzI4MSAiLz4KPHBhdGggc3R5bGU9ImZpbGw6bm9uZTtzdHJva2Utd2lkdGg6MC4zOTg1O3N0cm9rZS1saW5lY2FwOmJ1dHQ7c3Ryb2tlLWxpbmVqb2luOm1pdGVyO3N0cm9rZTpyZ2IoMCUsMCUsMCUpO3N0cm9rZS1vcGFjaXR5OjE7c3Ryb2tlLW1pdGVybGltaXQ6MTA7IiBkPSJNIDk1Ljk4NTQzOCAxMC41MjYwMzEgTCAxNTcuMjQ3MTU2IC05Ljg5NTg0NCAiIHRyYW5zZm9ybT0ibWF0cml4KDEsMCwwLC0xLDEyLjAzOCwxMTAuMTk0KSIvPgo8cGF0aCBzdHlsZT0iIHN0cm9rZTpub25lO2ZpbGwtcnVsZTpub256ZXJvO2ZpbGw6cmdiKDAlLDAlLDAlKTtmaWxsLW9wYWNpdHk6MTsiIGQ9Ik0gMTcxLjE3MTg3NSAxMjAuNzE4NzUgTCAxNjguNjUyMzQ0IDExOC4xOTkyMTkgTCAxNjkuMjg1MTU2IDEyMC4wODk4NDQgTCAxNjcuNjQ0NTMxIDEyMS4yMjI2NTYgIi8+CjxwYXRoIHN0eWxlPSJmaWxsOm5vbmU7c3Ryb2tlLXdpZHRoOjAuMzk4NTtzdHJva2UtbGluZWNhcDpidXR0O3N0cm9rZS1saW5lam9pbjptaXRlcjtzdHJva2U6cmdiKDAlLDAlLDAlKTtzdHJva2Utb3BhY2l0eToxO3N0cm9rZS1taXRlcmxpbWl0OjEwOyIgZD0iTSA5NC42NDE2ODggNy43NzIxMjUgTCAxNTguODIxMzc1IC0zNS4wMTY5MzggIiB0cmFuc2Zvcm09Im1hdHJpeCgxLDAsMCwtMSwxMi4wMzgsMTEwLjE5NCkiLz4KPHBhdGggc3R5bGU9IiBzdHJva2U6bm9uZTtmaWxsLXJ1bGU6bm9uemVybztmaWxsOnJnYigwJSwwJSwwJSk7ZmlsbC1vcGFjaXR5OjE7IiBkPSJNIDE3Mi41MTk1MzEgMTQ2LjMxMjUgTCAxNzAuNzUgMTQzLjIxODc1IEwgMTcwLjg1OTM3NSAxNDUuMjEwOTM4IEwgMTY4Ljk4MDQ2OSAxNDUuODcxMDk0ICIvPgo8cGF0aCBzdHlsZT0iZmlsbDpub25lO3N0cm9rZS13aWR0aDowLjM5ODU7c3Ryb2tlLWxpbmVjYXA6YnV0dDtzdHJva2UtbGluZWpvaW46bWl0ZXI7c3Ryb2tlOnJnYigwJSwwJSwwJSk7c3Ryb2tlLW9wYWNpdHk6MTtzdHJva2UtbWl0ZXJsaW1pdDoxMDsiIGQ9Ik0gOTMuMjAwMjgxIDYuMDE0MzEyIEwgMTYwLjUxMjc4MSAtNjEuMjk4MTg4ICIgdHJhbnNmb3JtPSJtYXRyaXgoMSwwLDAsLTEsMTIuMDM4LDExMC4xOTQpIi8+CjxwYXRoIHN0eWxlPSIgc3Ryb2tlOm5vbmU7ZmlsbC1ydWxlOm5vbnplcm87ZmlsbDpyZ2IoMCUsMCUsMCUpO2ZpbGwtb3BhY2l0eToxOyIgZD0iTSAxNzMuOTYwOTM4IDE3Mi45MDIzNDQgTCAxNzIuODMyMDMxIDE2OS41MTk1MzEgTCAxNzIuNTUwNzgxIDE3MS40OTIxODggTCAxNzAuNTc4MTI1IDE3MS43NzM0MzggIi8+CjxwYXRoIHN0eWxlPSJmaWxsOm5vbmU7c3Ryb2tlLXdpZHRoOjAuMzk4NTtzdHJva2UtbGluZWNhcDpidXR0O3N0cm9rZS1saW5lam9pbjptaXRlcjtzdHJva2U6cmdiKDAlLDAlLDAlKTtzdHJva2Utb3BhY2l0eToxO3N0cm9rZS1taXRlcmxpbWl0OjEwOyIgZD0iTSA5MS45NjIgNC45NDQgTCAxNjEuOTYyIC04OC4zODgwMzEgIiB0cmFuc2Zvcm09Im1hdHJpeCgxLDAsMCwtMSwxMi4wMzgsMTEwLjE5NCkiLz4KPHBhdGggc3R5bGU9IiBzdHJva2U6bm9uZTtmaWxsLXJ1bGU6bm9uemVybztmaWxsOnJnYigwJSwwJSwwJSk7ZmlsbC1vcGFjaXR5OjE7IiBkPSJNIDE3NS4xOTUzMTMgMjAwLjE3OTY4OCBMIDE3NC41NTg1OTQgMTk2LjY3MTg3NSBMIDE3NCAxOTguNTgyMDMxIEwgMTcyLjAwNzgxMyAxOTguNTgyMDMxICIvPgo8cGF0aCBzdHlsZT0iZmlsbDpub25lO3N0cm9rZS13aWR0aDowLjM5ODU7c3Ryb2tlLWxpbmVjYXA6YnV0dDtzdHJva2UtbGluZWpvaW46bWl0ZXI7c3Ryb2tlOnJnYigwJSwwJSwwJSk7c3Ryb2tlLW9wYWNpdHk6MTtzdHJva2UtbWl0ZXJsaW1pdDoxMDsiIGQ9Ik0gOTUuOTg1NDM4IC0xMC41MjQ3NSBMIDE1Ny4yNDcxNTYgOS44OTMyMTkgIiB0cmFuc2Zvcm09Im1hdHJpeCgxLDAsMCwtMSwxMi4wMzgsMTEwLjE5NCkiLz4KPHBhdGggc3R5bGU9IiBzdHJva2U6bm9uZTtmaWxsLXJ1bGU6bm9uemVybztmaWxsOnJnYigwJSwwJSwwJSk7ZmlsbC1vcGFjaXR5OjE7IiBkPSJNIDE3MS4xNzE4NzUgOTkuNjY3OTY5IEwgMTY3LjY0NDUzMSA5OS4xNjQwNjMgTCAxNjkuMjg1MTU2IDEwMC4zMDA3ODEgTCAxNjguNjUyMzQ0IDEwMi4xODc1ICIvPgo8cGF0aCBzdHlsZT0iZmlsbDpub25lO3N0cm9rZS13aWR0aDowLjM5ODU7c3Ryb2tlLWxpbmVjYXA6YnV0dDtzdHJva2UtbGluZWpvaW46bWl0ZXI7c3Ryb2tlOnJnYigwJSwwJSwwJSk7c3Ryb2tlLW9wYWNpdHk6MTtzdHJva2UtbWl0ZXJsaW1pdDoxMDsiIGQ9Ik0gOTYuNTc5MTg4IC0xNC4xNzMxODggTCAxNTYuNTUxODQ0IC0xNC4xNzMxODggIiB0cmFuc2Zvcm09Im1hdHJpeCgxLDAsMCwtMSwxMi4wMzgsMTEwLjE5NCkiLz4KPHBhdGggc3R5bGU9IiBzdHJva2U6bm9uZTtmaWxsLXJ1bGU6bm9uemVybztmaWxsOnJnYigwJSwwJSwwJSk7ZmlsbC1vcGFjaXR5OjE7IiBkPSJNIDE3MC41ODIwMzEgMTI0LjM2NzE4OCBMIDE2Ny4zOTQ1MzEgMTIyLjc3MzQzOCBMIDE2OC41ODk4NDQgMTI0LjM2NzE4OCBMIDE2Ny4zOTQ1MzEgMTI1Ljk2MDkzOCAiLz4KPHBhdGggc3R5bGU9ImZpbGw6bm9uZTtzdHJva2Utd2lkdGg6MC4zOTg1O3N0cm9rZS1saW5lY2FwOmJ1dHQ7c3Ryb2tlLWxpbmVqb2luOm1pdGVyO3N0cm9rZTpyZ2IoMCUsMCUsMCUpO3N0cm9rZS1vcGFjaXR5OjE7c3Ryb2tlLW1pdGVybGltaXQ6MTA7IiBkPSJNIDk1Ljk4NTQzOCAtMTcuODIxNjI1IEwgMTU3LjI0NzE1NiAtMzguMjQzNSAiIHRyYW5zZm9ybT0ibWF0cml4KDEsMCwwLC0xLDEyLjAzOCwxMTAuMTk0KSIvPgo8cGF0aCBzdHlsZT0iIHN0cm9rZTpub25lO2ZpbGwtcnVsZTpub256ZXJvO2ZpbGw6cmdiKDAlLDAlLDAlKTtmaWxsLW9wYWNpdHk6MTsiIGQ9Ik0gMTcxLjE3MTg3NSAxNDkuMDY2NDA2IEwgMTY4LjY1MjM0NCAxNDYuNTQ2ODc1IEwgMTY5LjI4NTE1NiAxNDguNDM3NSBMIDE2Ny42NDQ1MzEgMTQ5LjU3MDMxMyAiLz4KPHBhdGggc3R5bGU9ImZpbGw6bm9uZTtzdHJva2Utd2lkdGg6MC4zOTg1O3N0cm9rZS1saW5lY2FwOmJ1dHQ7c3Ryb2tlLWxpbmVqb2luOm1pdGVyO3N0cm9rZTpyZ2IoMCUsMCUsMCUpO3N0cm9rZS1vcGFjaXR5OjE7c3Ryb2tlLW1pdGVybGltaXQ6MTA7IiBkPSJNIDk0LjY0MTY4OCAtMjAuNTcxNjI1IEwgMTU4LjgyMTM3NSAtNjMuMzYwNjg4ICIgdHJhbnNmb3JtPSJtYXRyaXgoMSwwLDAsLTEsMTIuMDM4LDExMC4xOTQpIi8+CjxwYXRoIHN0eWxlPSIgc3Ryb2tlOm5vbmU7ZmlsbC1ydWxlOm5vbnplcm87ZmlsbDpyZ2IoMCUsMCUsMCUpO2ZpbGwtb3BhY2l0eToxOyIgZD0iTSAxNzIuNTE5NTMxIDE3NC42NjAxNTYgTCAxNzAuNzUgMTcxLjU2NjQwNiBMIDE3MC44NTkzNzUgMTczLjU1NDY4OCBMIDE2OC45ODA0NjkgMTc0LjIxODc1ICIvPgo8cGF0aCBzdHlsZT0iZmlsbDpub25lO3N0cm9rZS13aWR0aDowLjM5ODU7c3Ryb2tlLWxpbmVjYXA6YnV0dDtzdHJva2UtbGluZWpvaW46bWl0ZXI7c3Ryb2tlOnJnYigwJSwwJSwwJSk7c3Ryb2tlLW9wYWNpdHk6MTtzdHJva2UtbWl0ZXJsaW1pdDoxMDsiIGQ9Ik0gOTMuMjAwMjgxIC0yMi4zMzMzNDQgTCAxNjAuNTEyNzgxIC04OS42NDU4NDQgIiB0cmFuc2Zvcm09Im1hdHJpeCgxLDAsMCwtMSwxMi4wMzgsMTEwLjE5NCkiLz4KPHBhdGggc3R5bGU9IiBzdHJva2U6bm9uZTtmaWxsLXJ1bGU6bm9uemVybztmaWxsOnJnYigwJSwwJSwwJSk7ZmlsbC1vcGFjaXR5OjE7IiBkPSJNIDE3My45NjA5MzggMjAxLjI1IEwgMTcyLjgzMjAzMSAxOTcuODY3MTg4IEwgMTcyLjU1MDc4MSAxOTkuODM5ODQ0IEwgMTcwLjU3ODEyNSAyMDAuMTIxMDk0ICIvPgo8cGF0aCBzdHlsZT0iZmlsbDpub25lO3N0cm9rZS13aWR0aDowLjM5ODU7c3Ryb2tlLWxpbmVjYXA6YnV0dDtzdHJva2UtbGluZWpvaW46bWl0ZXI7c3Ryb2tlOnJnYigwJSwwJSwwJSk7c3Ryb2tlLW9wYWNpdHk6MTtzdHJva2UtbWl0ZXJsaW1pdDoxMDsiIGQ9Ik0gOTQuNjQxNjg4IC0zNi4xMTg1IEwgMTU4LjgyMTM3NSA2LjY2NjY1NiAiIHRyYW5zZm9ybT0ibWF0cml4KDEsMCwwLC0xLDEyLjAzOCwxMTAuMTk0KSIvPgo8cGF0aCBzdHlsZT0iIHN0cm9rZTpub25lO2ZpbGwtcnVsZTpub256ZXJvO2ZpbGw6cmdiKDAlLDAlLDAlKTtmaWxsLW9wYWNpdHk6MTsiIGQ9Ik0gMTcyLjUxOTUzMSAxMDIuNDIxODc1IEwgMTY4Ljk4MDQ2OSAxMDIuODYzMjgxIEwgMTcwLjg1OTM3NSAxMDMuNTI3MzQ0IEwgMTcwLjc1IDEwNS41MTU2MjUgIi8+CjxwYXRoIHN0eWxlPSJmaWxsOm5vbmU7c3Ryb2tlLXdpZHRoOjAuMzk4NTtzdHJva2UtbGluZWNhcDpidXR0O3N0cm9rZS1saW5lam9pbjptaXRlcjtzdHJva2U6cmdiKDAlLDAlLDAlKTtzdHJva2Utb3BhY2l0eToxO3N0cm9rZS1taXRlcmxpbWl0OjEwOyIgZD0iTSA5NS45ODU0MzggLTM4Ljg3MjQwNiBMIDE1Ny4yNDcxNTYgLTE4LjQ1MDUzMSAiIHRyYW5zZm9ybT0ibWF0cml4KDEsMCwwLC0xLDEyLjAzOCwxMTAuMTk0KSIvPgo8cGF0aCBzdHlsZT0iIHN0cm9rZTpub25lO2ZpbGwtcnVsZTpub256ZXJvO2ZpbGw6cmdiKDAlLDAlLDAlKTtmaWxsLW9wYWNpdHk6MTsiIGQ9Ik0gMTcxLjE3MTg3NSAxMjguMDE1NjI1IEwgMTY3LjY0NDUzMSAxMjcuNTExNzE5IEwgMTY5LjI4NTE1NiAxMjguNjQ0NTMxIEwgMTY4LjY1MjM0NCAxMzAuNTM1MTU2ICIvPgo8cGF0aCBzdHlsZT0iZmlsbDpub25lO3N0cm9rZS13aWR0aDowLjM5ODU7c3Ryb2tlLWxpbmVjYXA6YnV0dDtzdHJva2UtbGluZWpvaW46bWl0ZXI7c3Ryb2tlOnJnYigwJSwwJSwwJSk7c3Ryb2tlLW9wYWNpdHk6MTtzdHJva2UtbWl0ZXJsaW1pdDoxMDsiIGQ9Ik0gOTYuNTc5MTg4IC00Mi41MjA4NDQgTCAxNTYuNTUxODQ0IC00Mi41MjA4NDQgIiB0cmFuc2Zvcm09Im1hdHJpeCgxLDAsMCwtMSwxMi4wMzgsMTEwLjE5NCkiLz4KPHBhdGggc3R5bGU9IiBzdHJva2U6bm9uZTtmaWxsLXJ1bGU6bm9uemVybztmaWxsOnJnYigwJSwwJSwwJSk7ZmlsbC1vcGFjaXR5OjE7IiBkPSJNIDE3MC41ODIwMzEgMTUyLjcxNDg0NCBMIDE2Ny4zOTQ1MzEgMTUxLjEyMTA5NCBMIDE2OC41ODk4NDQgMTUyLjcxNDg0NCBMIDE2Ny4zOTQ1MzEgMTU0LjMwODU5NCAiLz4KPHBhdGggc3R5bGU9ImZpbGw6bm9uZTtzdHJva2Utd2lkdGg6MC4zOTg1O3N0cm9rZS1saW5lY2FwOmJ1dHQ7c3Ryb2tlLWxpbmVqb2luOm1pdGVyO3N0cm9rZTpyZ2IoMCUsMCUsMCUpO3N0cm9rZS1vcGFjaXR5OjE7c3Ryb2tlLW1pdGVybGltaXQ6MTA7IiBkPSJNIDk1Ljk4NTQzOCAtNDYuMTY5MjgxIEwgMTU3LjI0NzE1NiAtNjYuNTg3MjUgIiB0cmFuc2Zvcm09Im1hdHJpeCgxLDAsMCwtMSwxMi4wMzgsMTEwLjE5NCkiLz4KPHBhdGggc3R5bGU9IiBzdHJva2U6bm9uZTtmaWxsLXJ1bGU6bm9uemVybztmaWxsOnJnYigwJSwwJSwwJSk7ZmlsbC1vcGFjaXR5OjE7IiBkPSJNIDE3MS4xNzE4NzUgMTc3LjQxNDA2MyBMIDE2OC42NTIzNDQgMTc0Ljg5MDYyNSBMIDE2OS4yODUxNTYgMTc2Ljc4MTI1IEwgMTY3LjY0NDUzMSAxNzcuOTE3OTY5ICIvPgo8cGF0aCBzdHlsZT0iZmlsbDpub25lO3N0cm9rZS13aWR0aDowLjM5ODU7c3Ryb2tlLWxpbmVjYXA6YnV0dDtzdHJva2UtbGluZWpvaW46bWl0ZXI7c3Ryb2tlOnJnYigwJSwwJSwwJSk7c3Ryb2tlLW9wYWNpdHk6MTtzdHJva2UtbWl0ZXJsaW1pdDoxMDsiIGQ9Ik0gOTQuNjQxNjg4IC00OC45MTkyODEgTCAxNTguODIxMzc1IC05MS43MDgzNDQgIiB0cmFuc2Zvcm09Im1hdHJpeCgxLDAsMCwtMSwxMi4wMzgsMTEwLjE5NCkiLz4KPHBhdGggc3R5bGU9IiBzdHJva2U6bm9uZTtmaWxsLXJ1bGU6bm9uemVybztmaWxsOnJnYigwJSwwJSwwJSk7ZmlsbC1vcGFjaXR5OjE7IiBkPSJNIDE3Mi41MTk1MzEgMjAzLjAwNzgxMyBMIDE3MC43NSAxOTkuOTE0MDYzIEwgMTcwLjg1OTM3NSAyMDEuOTAyMzQ0IEwgMTY4Ljk4MDQ2OSAyMDIuNTY2NDA2ICIvPgo8cGF0aCBzdHlsZT0iZmlsbDpub25lO3N0cm9rZS13aWR0aDowLjM5ODU7c3Ryb2tlLWxpbmVjYXA6YnV0dDtzdHJva2UtbGluZWpvaW46bWl0ZXI7c3Ryb2tlOnJnYigwJSwwJSwwJSk7c3Ryb2tlLW9wYWNpdHk6MTtzdHJva2UtbWl0ZXJsaW1pdDoxMDsiIGQ9Ik0gOTMuMjAwMjgxIC02Mi43MDgzNDQgTCAxNjAuNTEyNzgxIDQuNjA0MTU2ICIgdHJhbnNmb3JtPSJtYXRyaXgoMSwwLDAsLTEsMTIuMDM4LDExMC4xOTQpIi8+CjxwYXRoIHN0eWxlPSIgc3Ryb2tlOm5vbmU7ZmlsbC1ydWxlOm5vbnplcm87ZmlsbDpyZ2IoMCUsMCUsMCUpO2ZpbGwtb3BhY2l0eToxOyIgZD0iTSAxNzMuOTYwOTM4IDEwNC4xNzk2ODggTCAxNzAuNTc4MTI1IDEwNS4zMDQ2ODggTCAxNzIuNTUwNzgxIDEwNS41ODk4NDQgTCAxNzIuODMyMDMxIDEwNy41NjI1ICIvPgo8cGF0aCBzdHlsZT0iZmlsbDpub25lO3N0cm9rZS13aWR0aDowLjM5ODU7c3Ryb2tlLWxpbmVjYXA6YnV0dDtzdHJva2UtbGluZWpvaW46bWl0ZXI7c3Ryb2tlOnJnYigwJSwwJSwwJSk7c3Ryb2tlLW9wYWNpdHk6MTtzdHJva2UtbWl0ZXJsaW1pdDoxMDsiIGQ9Ik0gOTQuNjQxNjg4IC02NC40NjYxNTYgTCAxNTguODIxMzc1IC0yMS42NzcwOTQgIiB0cmFuc2Zvcm09Im1hdHJpeCgxLDAsMCwtMSwxMi4wMzgsMTEwLjE5NCkiLz4KPHBhdGggc3R5bGU9IiBzdHJva2U6bm9uZTtmaWxsLXJ1bGU6bm9uemVybztmaWxsOnJnYigwJSwwJSwwJSk7ZmlsbC1vcGFjaXR5OjE7IiBkPSJNIDE3Mi41MTk1MzEgMTMwLjc2NTYyNSBMIDE2OC45ODA0NjkgMTMxLjIxMDkzOCBMIDE3MC44NTkzNzUgMTMxLjg3MTA5NCBMIDE3MC43NSAxMzMuODYzMjgxICIvPgo8cGF0aCBzdHlsZT0iZmlsbDpub25lO3N0cm9rZS13aWR0aDowLjM5ODU7c3Ryb2tlLWxpbmVjYXA6YnV0dDtzdHJva2UtbGluZWpvaW46bWl0ZXI7c3Ryb2tlOnJnYigwJSwwJSwwJSk7c3Ryb2tlLW9wYWNpdHk6MTtzdHJva2UtbWl0ZXJsaW1pdDoxMDsiIGQ9Ik0gOTUuOTg1NDM4IC02Ny4yMjAwNjMgTCAxNTcuMjQ3MTU2IC00Ni43OTgxODggIiB0cmFuc2Zvcm09Im1hdHJpeCgxLDAsMCwtMSwxMi4wMzgsMTEwLjE5NCkiLz4KPHBhdGggc3R5bGU9IiBzdHJva2U6bm9uZTtmaWxsLXJ1bGU6bm9uemVybztmaWxsOnJnYigwJSwwJSwwJSk7ZmlsbC1vcGFjaXR5OjE7IiBkPSJNIDE3MS4xNzE4NzUgMTU2LjM2MzI4MSBMIDE2Ny42NDQ1MzEgMTU1Ljg1OTM3NSBMIDE2OS4yODUxNTYgMTU2Ljk5MjE4OCBMIDE2OC42NTIzNDQgMTU4Ljg4MjgxMyAiLz4KPHBhdGggc3R5bGU9ImZpbGw6bm9uZTtzdHJva2Utd2lkdGg6MC4zOTg1O3N0cm9rZS1saW5lY2FwOmJ1dHQ7c3Ryb2tlLWxpbmVqb2luOm1pdGVyO3N0cm9rZTpyZ2IoMCUsMCUsMCUpO3N0cm9rZS1vcGFjaXR5OjE7c3Ryb2tlLW1pdGVybGltaXQ6MTA7IiBkPSJNIDk2LjU3OTE4OCAtNzAuODY4NSBMIDE1Ni41NTE4NDQgLTcwLjg2ODUgIiB0cmFuc2Zvcm09Im1hdHJpeCgxLDAsMCwtMSwxMi4wMzgsMTEwLjE5NCkiLz4KPHBhdGggc3R5bGU9IiBzdHJva2U6bm9uZTtmaWxsLXJ1bGU6bm9uemVybztmaWxsOnJnYigwJSwwJSwwJSk7ZmlsbC1vcGFjaXR5OjE7IiBkPSJNIDE3MC41ODIwMzEgMTgxLjA2MjUgTCAxNjcuMzk0NTMxIDE3OS40Njg3NSBMIDE2OC41ODk4NDQgMTgxLjA2MjUgTCAxNjcuMzk0NTMxIDE4Mi42NTYyNSAiLz4KPHBhdGggc3R5bGU9ImZpbGw6bm9uZTtzdHJva2Utd2lkdGg6MC4zOTg1O3N0cm9rZS1saW5lY2FwOmJ1dHQ7c3Ryb2tlLWxpbmVqb2luOm1pdGVyO3N0cm9rZTpyZ2IoMCUsMCUsMCUpO3N0cm9rZS1vcGFjaXR5OjE7c3Ryb2tlLW1pdGVybGltaXQ6MTA7IiBkPSJNIDk1Ljk4NTQzOCAtNzQuNTE2OTM4IEwgMTU3LjI0NzE1NiAtOTQuOTM0OTA2ICIgdHJhbnNmb3JtPSJtYXRyaXgoMSwwLDAsLTEsMTIuMDM4LDExMC4xOTQpIi8+CjxwYXRoIHN0eWxlPSIgc3Ryb2tlOm5vbmU7ZmlsbC1ydWxlOm5vbnplcm87ZmlsbDpyZ2IoMCUsMCUsMCUpO2ZpbGwtb3BhY2l0eToxOyIgZD0iTSAxNzEuMTcxODc1IDIwNS43NTc4MTMgTCAxNjguNjUyMzQ0IDIwMy4yMzgyODEgTCAxNjkuMjg1MTU2IDIwNS4xMjg5MDYgTCAxNjcuNjQ0NTMxIDIwNi4yNjE3MTkgIi8+CjxwYXRoIHN0eWxlPSJmaWxsOm5vbmU7c3Ryb2tlLXdpZHRoOjAuMzk4NTtzdHJva2UtbGluZWNhcDpidXR0O3N0cm9rZS1saW5lam9pbjptaXRlcjtzdHJva2U6cmdiKDAlLDAlLDAlKTtzdHJva2Utb3BhY2l0eToxO3N0cm9rZS1taXRlcmxpbWl0OjEwOyIgZD0iTSA5MS45NjIgLTg5Ljk4MTc4MSBMIDE2MS45NjIgMy4zNTAyNSAiIHRyYW5zZm9ybT0ibWF0cml4KDEsMCwwLC0xLDEyLjAzOCwxMTAuMTk0KSIvPgo8cGF0aCBzdHlsZT0iIHN0cm9rZTpub25lO2ZpbGwtcnVsZTpub256ZXJvO2ZpbGw6cmdiKDAlLDAlLDAlKTtmaWxsLW9wYWNpdHk6MTsiIGQ9Ik0gMTc1LjE5NTMxMyAxMDUuMjUgTCAxNzIuMDA3ODEzIDEwNi44NDM3NSBMIDE3NCAxMDYuODQzNzUgTCAxNzQuNTU4NTk0IDEwOC43NTc4MTMgIi8+CjxwYXRoIHN0eWxlPSJmaWxsOm5vbmU7c3Ryb2tlLXdpZHRoOjAuMzk4NTtzdHJva2UtbGluZWNhcDpidXR0O3N0cm9rZS1saW5lam9pbjptaXRlcjtzdHJva2U6cmdiKDAlLDAlLDAlKTtzdHJva2Utb3BhY2l0eToxO3N0cm9rZS1taXRlcmxpbWl0OjEwOyIgZD0iTSA5My4yMDAyODEgLTkxLjA1NiBMIDE2MC41MTI3ODEgLTIzLjczOTU5NCAiIHRyYW5zZm9ybT0ibWF0cml4KDEsMCwwLC0xLDEyLjAzOCwxMTAuMTk0KSIvPgo8cGF0aCBzdHlsZT0iIHN0cm9rZTpub25lO2ZpbGwtcnVsZTpub256ZXJvO2ZpbGw6cmdiKDAlLDAlLDAlKTtmaWxsLW9wYWNpdHk6MTsiIGQ9Ik0gMTczLjk2MDkzOCAxMzIuNTI3MzQ0IEwgMTcwLjU3ODEyNSAxMzMuNjUyMzQ0IEwgMTcyLjU1MDc4MSAxMzMuOTMzNTk0IEwgMTcyLjgzMjAzMSAxMzUuOTA2MjUgIi8+CjxwYXRoIHN0eWxlPSJmaWxsOm5vbmU7c3Ryb2tlLXdpZHRoOjAuMzk4NTtzdHJva2UtbGluZWNhcDpidXR0O3N0cm9rZS1saW5lam9pbjptaXRlcjtzdHJva2U6cmdiKDAlLDAlLDAlKTtzdHJva2Utb3BhY2l0eToxO3N0cm9rZS1taXRlcmxpbWl0OjEwOyIgZD0iTSA5NC42NDE2ODggLTkyLjgxMzgxMyBMIDE1OC44MjEzNzUgLTUwLjAyNDc1ICIgdHJhbnNmb3JtPSJtYXRyaXgoMSwwLDAsLTEsMTIuMDM4LDExMC4xOTQpIi8+CjxwYXRoIHN0eWxlPSIgc3Ryb2tlOm5vbmU7ZmlsbC1ydWxlOm5vbnplcm87ZmlsbDpyZ2IoMCUsMCUsMCUpO2ZpbGwtb3BhY2l0eToxOyIgZD0iTSAxNzIuNTE5NTMxIDE1OS4xMTMyODEgTCAxNjguOTgwNDY5IDE1OS41NTQ2ODggTCAxNzAuODU5Mzc1IDE2MC4yMTg3NSBMIDE3MC43NSAxNjIuMjA3MDMxICIvPgo8cGF0aCBzdHlsZT0iZmlsbDpub25lO3N0cm9rZS13aWR0aDowLjM5ODU7c3Ryb2tlLWxpbmVjYXA6YnV0dDtzdHJva2UtbGluZWpvaW46bWl0ZXI7c3Ryb2tlOnJnYigwJSwwJSwwJSk7c3Ryb2tlLW9wYWNpdHk6MTtzdHJva2UtbWl0ZXJsaW1pdDoxMDsiIGQ9Ik0gOTUuOTg1NDM4IC05NS41NjM4MTMgTCAxNTcuMjQ3MTU2IC03NS4xNDU4NDQgIiB0cmFuc2Zvcm09Im1hdHJpeCgxLDAsMCwtMSwxMi4wMzgsMTEwLjE5NCkiLz4KPHBhdGggc3R5bGU9IiBzdHJva2U6bm9uZTtmaWxsLXJ1bGU6bm9uemVybztmaWxsOnJnYigwJSwwJSwwJSk7ZmlsbC1vcGFjaXR5OjE7IiBkPSJNIDE3MS4xNzE4NzUgMTg0LjcxMDkzOCBMIDE2Ny42NDQ1MzEgMTg0LjIwNzAzMSBMIDE2OS4yODUxNTYgMTg1LjMzOTg0NCBMIDE2OC42NTIzNDQgMTg3LjIzMDQ2OSAiLz4KPHBhdGggc3R5bGU9ImZpbGw6bm9uZTtzdHJva2Utd2lkdGg6MC4zOTg1O3N0cm9rZS1saW5lY2FwOmJ1dHQ7c3Ryb2tlLWxpbmVqb2luOm1pdGVyO3N0cm9rZTpyZ2IoMCUsMCUsMCUpO3N0cm9rZS1vcGFjaXR5OjE7c3Ryb2tlLW1pdGVybGltaXQ6MTA7IiBkPSJNIDk2LjU3OTE4OCAtOTkuMjEyMjUgTCAxNTYuNTUxODQ0IC05OS4yMTIyNSAiIHRyYW5zZm9ybT0ibWF0cml4KDEsMCwwLC0xLDEyLjAzOCwxMTAuMTk0KSIvPgo8cGF0aCBzdHlsZT0iIHN0cm9rZTpub25lO2ZpbGwtcnVsZTpub256ZXJvO2ZpbGw6cmdiKDAlLDAlLDAlKTtmaWxsLW9wYWNpdHk6MTsiIGQ9Ik0gMTcwLjU4MjAzMSAyMDkuNDA2MjUgTCAxNjcuMzk0NTMxIDIwNy44MTI1IEwgMTY4LjU4OTg0NCAyMDkuNDA2MjUgTCAxNjcuMzk0NTMxIDIxMSAiLz4KPHBhdGggc3R5bGU9ImZpbGw6bm9uZTtzdHJva2Utd2lkdGg6MC4zOTg1O3N0cm9rZS1saW5lY2FwOmJ1dHQ7c3Ryb2tlLWxpbmVqb2luOm1pdGVyO3N0cm9rZTpyZ2IoMCUsMCUsMCUpO3N0cm9rZS1vcGFjaXR5OjE7c3Ryb2tlLW1pdGVybGltaXQ6MTA7IiBkPSJNIDExNy4wNTE4NDQgODAuNDU5NjI1IEwgMTYxLjYyOTk2OSAyNC43MzY5NjkgIiB0cmFuc2Zvcm09Im1hdHJpeCgxLDAsMCwtMSwxMi4wMzgsMTEwLjE5NCkiLz4KPHBhdGggc3R5bGU9IiBzdHJva2U6bm9uZTtmaWxsLXJ1bGU6bm9uemVybztmaWxsOnJnYigwJSwwJSwwJSk7ZmlsbC1vcGFjaXR5OjE7IiBkPSJNIDE3NC45MTAxNTYgODcuMDExNzE5IEwgMTc0LjE2NDA2MyA4My41MjczNDQgTCAxNzMuNjY3OTY5IDg1LjQ1NzAzMSBMIDE3MS42NzU3ODEgODUuNTE5NTMxICIvPgo8cGF0aCBzdHlsZT0iZmlsbDpub25lO3N0cm9rZS13aWR0aDowLjM5ODU7c3Ryb2tlLWxpbmVjYXA6YnV0dDtzdHJva2UtbGluZWpvaW46bWl0ZXI7c3Ryb2tlOnJnYigwJSwwJSwwJSk7c3Ryb2tlLW9wYWNpdHk6MTtzdHJva2UtbWl0ZXJsaW1pdDoxMDsiIGQ9Ik0gMTE2LjY0MTY4OCA2NS45ODMwNjIgTCAxNjIuNTc1MjgxIC0yLjkxNTM3NSAiIHRyYW5zZm9ybT0ibWF0cml4KDEsMCwwLC0xLDEyLjAzOCwxMTAuMTk0KSIvPgo8cGF0aCBzdHlsZT0iIHN0cm9rZTpub25lO2ZpbGwtcnVsZTpub256ZXJvO2ZpbGw6cmdiKDAlLDAlLDAlKTtmaWxsLW9wYWNpdHk6MTsiIGQ9Ik0gMTc1LjcxODc1IDExNC43Njk1MzEgTCAxNzUuMjc3MzQ0IDExMS4yMzA0NjkgTCAxNzQuNjEzMjgxIDExMy4xMDkzNzUgTCAxNzIuNjI1IDExMyAiLz4KPHBhdGggc3R5bGU9ImZpbGw6bm9uZTtzdHJva2Utd2lkdGg6MC4zOTg1O3N0cm9rZS1saW5lY2FwOmJ1dHQ7c3Ryb2tlLWxpbmVqb2luOm1pdGVyO3N0cm9rZTpyZ2IoMCUsMCUsMCUpO3N0cm9rZS1vcGFjaXR5OjE7c3Ryb2tlLW1pdGVybGltaXQ6MTA7IiBkPSJNIDExNi4yOTc5MzggNTEuNjAwMjUgTCAxNjMuMzY4MjUgLTMwLjc3NDc1ICIgdHJhbnNmb3JtPSJtYXRyaXgoMSwwLDAsLTEsMTIuMDM4LDExMC4xOTQpIi8+CjxwYXRoIHN0eWxlPSIgc3Ryb2tlOm5vbmU7ZmlsbC1ydWxlOm5vbnplcm87ZmlsbDpyZ2IoMCUsMCUsMCUpO2ZpbGwtb3BhY2l0eToxOyIgZD0iTSAxNzYuMzk0NTMxIDE0Mi42OTUzMTMgTCAxNzYuMTk1MzEzIDEzOS4xMzY3MTkgTCAxNzUuNDA2MjUgMTQwLjk2ODc1IEwgMTczLjQyOTY4OCAxNDAuNzE4NzUgIi8+CjxwYXRoIHN0eWxlPSJmaWxsOm5vbmU7c3Ryb2tlLXdpZHRoOjAuMzk4NTtzdHJva2UtbGluZWNhcDpidXR0O3N0cm9rZS1saW5lam9pbjptaXRlcjtzdHJva2U6cmdiKDAlLDAlLDAlKTtzdHJva2Utb3BhY2l0eToxO3N0cm9rZS1taXRlcmxpbWl0OjEwOyIgZD0iTSAxMTYuMDEyNzgxIDM3LjI3MjEyNSBMIDE2NC4wMzIzMTIgLTU4Ljc2NjkzOCAiIHRyYW5zZm9ybT0ibWF0cml4KDEsMCwwLC0xLDEyLjAzOCwxMTAuMTk0KSIvPgo8cGF0aCBzdHlsZT0iIHN0cm9rZTpub25lO2ZpbGwtcnVsZTpub256ZXJvO2ZpbGw6cmdiKDAlLDAlLDAlKTtmaWxsLW9wYWNpdHk6MTsiIGQ9Ik0gMTc2Ljk2MDkzOCAxNzAuNzQyMTg4IEwgMTc2Ljk2MDkzOCAxNjcuMTc5Njg4IEwgMTc2LjA3MDMxMyAxNjguOTYwOTM4IEwgMTc0LjEwOTM3NSAxNjguNjAxNTYzICIvPgo8cGF0aCBzdHlsZT0iZmlsbDpub25lO3N0cm9rZS13aWR0aDowLjM5ODU7c3Ryb2tlLWxpbmVjYXA6YnV0dDtzdHJva2UtbGluZWpvaW46bWl0ZXI7c3Ryb2tlOnJnYigwJSwwJSwwJSk7c3Ryb2tlLW9wYWNpdHk6MTtzdHJva2UtbWl0ZXJsaW1pdDoxMDsiIGQ9Ik0gMTE1Ljc3MDU5NCAyMi45ODMwNjIgTCAxNjQuNTg3IC04Ni44NDg5NjkgIiB0cmFuc2Zvcm09Im1hdHJpeCgxLDAsMCwtMSwxMi4wMzgsMTEwLjE5NCkiLz4KPHBhdGggc3R5bGU9IiBzdHJva2U6bm9uZTtmaWxsLXJ1bGU6bm9uemVybztmaWxsOnJnYigwJSwwJSwwJSk7ZmlsbC1vcGFjaXR5OjE7IiBkPSJNIDE3Ny40MzM1OTQgMTk4Ljg2MzI4MSBMIDE3Ny41OTM3NSAxOTUuMzA0Njg4IEwgMTc2LjYyNSAxOTcuMDQyOTY5IEwgMTc0LjY3OTY4OCAxOTYuNTk3NjU2ICIvPgo8cGF0aCBzdHlsZT0iZmlsbDpub25lO3N0cm9rZS13aWR0aDowLjM5ODU7c3Ryb2tlLWxpbmVjYXA6YnV0dDtzdHJva2UtbGluZWpvaW46bWl0ZXI7c3Ryb2tlOnJnYigwJSwwJSwwJSk7c3Ryb2tlLW9wYWNpdHk6MTtzdHJva2UtbWl0ZXJsaW1pdDoxMDsiIGQ9Ik0gMTgxLjAyNDUgMTAuNTI2MDMxIEwgMjQyLjI4NjIxOSAtOS44OTU4NDQgIiB0cmFuc2Zvcm09Im1hdHJpeCgxLDAsMCwtMSwxMi4wMzgsMTEwLjE5NCkiLz4KPHBhdGggc3R5bGU9IiBzdHJva2U6bm9uZTtmaWxsLXJ1bGU6bm9uemVybztmaWxsOnJnYigwJSwwJSwwJSk7ZmlsbC1vcGFjaXR5OjE7IiBkPSJNIDI1Ni4yMTQ4NDQgMTIwLjcxODc1IEwgMjUzLjY5NTMxMyAxMTguMTk5MjE5IEwgMjU0LjMyNDIxOSAxMjAuMDg5ODQ0IEwgMjUyLjY4NzUgMTIxLjIyMjY1NiAiLz4KPHBhdGggc3R5bGU9ImZpbGw6bm9uZTtzdHJva2Utd2lkdGg6MC4zOTg1O3N0cm9rZS1saW5lY2FwOmJ1dHQ7c3Ryb2tlLWxpbmVqb2luOm1pdGVyO3N0cm9rZTpyZ2IoMCUsMCUsMCUpO3N0cm9rZS1vcGFjaXR5OjE7c3Ryb2tlLW1pdGVybGltaXQ6MTA7IiBkPSJNIDE3OS42ODA3NSA3Ljc3MjEyNSBMIDI0My44NjQzNDQgLTM1LjAxNjkzOCAiIHRyYW5zZm9ybT0ibWF0cml4KDEsMCwwLC0xLDEyLjAzOCwxMTAuMTk0KSIvPgo8cGF0aCBzdHlsZT0iIHN0cm9rZTpub25lO2ZpbGwtcnVsZTpub256ZXJvO2ZpbGw6cmdiKDAlLDAlLDAlKTtmaWxsLW9wYWNpdHk6MTsiIGQ9Ik0gMjU3LjU1ODU5NCAxNDYuMzEyNSBMIDI1NS43OTI5NjkgMTQzLjIxODc1IEwgMjU1LjkwMjM0NCAxNDUuMjEwOTM4IEwgMjU0LjAyMzQzOCAxNDUuODcxMDk0ICIvPgo8cGF0aCBzdHlsZT0iZmlsbDpub25lO3N0cm9rZS13aWR0aDowLjM5ODU7c3Ryb2tlLWxpbmVjYXA6YnV0dDtzdHJva2UtbGluZWpvaW46bWl0ZXI7c3Ryb2tlOnJnYigwJSwwJSwwJSk7c3Ryb2tlLW9wYWNpdHk6MTtzdHJva2UtbWl0ZXJsaW1pdDoxMDsiIGQ9Ik0gMTc4LjIzOTM0NCA2LjAxNDMxMiBMIDI0NS41NTE4NDQgLTYxLjI5ODE4OCAiIHRyYW5zZm9ybT0ibWF0cml4KDEsMCwwLC0xLDEyLjAzOCwxMTAuMTk0KSIvPgo8cGF0aCBzdHlsZT0iIHN0cm9rZTpub25lO2ZpbGwtcnVsZTpub256ZXJvO2ZpbGw6cmdiKDAlLDAlLDAlKTtmaWxsLW9wYWNpdHk6MTsiIGQ9Ik0gMjU5IDE3Mi45MDIzNDQgTCAyNTcuODc1IDE2OS41MTk1MzEgTCAyNTcuNTg5ODQ0IDE3MS40OTIxODggTCAyNTUuNjIxMDk0IDE3MS43NzM0MzggIi8+CjxwYXRoIHN0eWxlPSJmaWxsOm5vbmU7c3Ryb2tlLXdpZHRoOjAuMzk4NTtzdHJva2UtbGluZWNhcDpidXR0O3N0cm9rZS1saW5lam9pbjptaXRlcjtzdHJva2U6cmdiKDAlLDAlLDAlKTtzdHJva2Utb3BhY2l0eToxO3N0cm9rZS1taXRlcmxpbWl0OjEwOyIgZD0iTSAxODEuNjE4MjUgLTE0LjE3MzE4OCBMIDI0MS41OTA5MDYgLTE0LjE3MzE4OCAiIHRyYW5zZm9ybT0ibWF0cml4KDEsMCwwLC0xLDEyLjAzOCwxMTAuMTk0KSIvPgo8cGF0aCBzdHlsZT0iIHN0cm9rZTpub25lO2ZpbGwtcnVsZTpub256ZXJvO2ZpbGw6cmdiKDAlLDAlLDAlKTtmaWxsLW9wYWNpdHk6MTsiIGQ9Ik0gMjU1LjYyMTA5NCAxMjQuMzY3MTg4IEwgMjUyLjQzMzU5NCAxMjIuNzczNDM4IEwgMjUzLjYyODkwNiAxMjQuMzY3MTg4IEwgMjUyLjQzMzU5NCAxMjUuOTYwOTM4ICIvPgo8cGF0aCBzdHlsZT0iZmlsbDpub25lO3N0cm9rZS13aWR0aDowLjM5ODU7c3Ryb2tlLWxpbmVjYXA6YnV0dDtzdHJva2UtbGluZWpvaW46bWl0ZXI7c3Ryb2tlOnJnYigwJSwwJSwwJSk7c3Ryb2tlLW9wYWNpdHk6MTtzdHJva2UtbWl0ZXJsaW1pdDoxMDsiIGQ9Ik0gMTgxLjAyNDUgLTE3LjgyMTYyNSBMIDI0Mi4yODYyMTkgLTM4LjI0MzUgIiB0cmFuc2Zvcm09Im1hdHJpeCgxLDAsMCwtMSwxMi4wMzgsMTEwLjE5NCkiLz4KPHBhdGggc3R5bGU9IiBzdHJva2U6bm9uZTtmaWxsLXJ1bGU6bm9uemVybztmaWxsOnJnYigwJSwwJSwwJSk7ZmlsbC1vcGFjaXR5OjE7IiBkPSJNIDI1Ni4yMTQ4NDQgMTQ5LjA2NjQwNiBMIDI1My42OTUzMTMgMTQ2LjU0Njg3NSBMIDI1NC4zMjQyMTkgMTQ4LjQzNzUgTCAyNTIuNjg3NSAxNDkuNTcwMzEzICIvPgo8cGF0aCBzdHlsZT0iZmlsbDpub25lO3N0cm9rZS13aWR0aDowLjM5ODU7c3Ryb2tlLWxpbmVjYXA6YnV0dDtzdHJva2UtbGluZWpvaW46bWl0ZXI7c3Ryb2tlOnJnYigwJSwwJSwwJSk7c3Ryb2tlLW9wYWNpdHk6MTtzdHJva2UtbWl0ZXJsaW1pdDoxMDsiIGQ9Ik0gMTc5LjY4MDc1IC0yMC41NzE2MjUgTCAyNDMuODY0MzQ0IC02My4zNjA2ODggIiB0cmFuc2Zvcm09Im1hdHJpeCgxLDAsMCwtMSwxMi4wMzgsMTEwLjE5NCkiLz4KPHBhdGggc3R5bGU9IiBzdHJva2U6bm9uZTtmaWxsLXJ1bGU6bm9uemVybztmaWxsOnJnYigwJSwwJSwwJSk7ZmlsbC1vcGFjaXR5OjE7IiBkPSJNIDI1Ny41NTg1OTQgMTc0LjY2MDE1NiBMIDI1NS43OTI5NjkgMTcxLjU2NjQwNiBMIDI1NS45MDIzNDQgMTczLjU1NDY4OCBMIDI1NC4wMjM0MzggMTc0LjIxODc1ICIvPgo8cGF0aCBzdHlsZT0iZmlsbDpub25lO3N0cm9rZS13aWR0aDowLjM5ODU7c3Ryb2tlLWxpbmVjYXA6YnV0dDtzdHJva2UtbGluZWpvaW46bWl0ZXI7c3Ryb2tlOnJnYigwJSwwJSwwJSk7c3Ryb2tlLW9wYWNpdHk6MTtzdHJva2UtbWl0ZXJsaW1pdDoxMDsiIGQ9Ik0gMTgxLjAyNDUgLTM4Ljg3MjQwNiBMIDI0Mi4yODYyMTkgLTE4LjQ1MDUzMSAiIHRyYW5zZm9ybT0ibWF0cml4KDEsMCwwLC0xLDEyLjAzOCwxMTAuMTk0KSIvPgo8cGF0aCBzdHlsZT0iIHN0cm9rZTpub25lO2ZpbGwtcnVsZTpub256ZXJvO2ZpbGw6cmdiKDAlLDAlLDAlKTtmaWxsLW9wYWNpdHk6MTsiIGQ9Ik0gMjU2LjIxNDg0NCAxMjguMDE1NjI1IEwgMjUyLjY4NzUgMTI3LjUxMTcxOSBMIDI1NC4zMjQyMTkgMTI4LjY0NDUzMSBMIDI1My42OTUzMTMgMTMwLjUzNTE1NiAiLz4KPHBhdGggc3R5bGU9ImZpbGw6bm9uZTtzdHJva2Utd2lkdGg6MC4zOTg1O3N0cm9rZS1saW5lY2FwOmJ1dHQ7c3Ryb2tlLWxpbmVqb2luOm1pdGVyO3N0cm9rZTpyZ2IoMCUsMCUsMCUpO3N0cm9rZS1vcGFjaXR5OjE7c3Ryb2tlLW1pdGVybGltaXQ6MTA7IiBkPSJNIDE4MS42MTgyNSAtNDIuNTIwODQ0IEwgMjQxLjU5MDkwNiAtNDIuNTIwODQ0ICIgdHJhbnNmb3JtPSJtYXRyaXgoMSwwLDAsLTEsMTIuMDM4LDExMC4xOTQpIi8+CjxwYXRoIHN0eWxlPSIgc3Ryb2tlOm5vbmU7ZmlsbC1ydWxlOm5vbnplcm87ZmlsbDpyZ2IoMCUsMCUsMCUpO2ZpbGwtb3BhY2l0eToxOyIgZD0iTSAyNTUuNjIxMDk0IDE1Mi43MTQ4NDQgTCAyNTIuNDMzNTk0IDE1MS4xMjEwOTQgTCAyNTMuNjI4OTA2IDE1Mi43MTQ4NDQgTCAyNTIuNDMzNTk0IDE1NC4zMDg1OTQgIi8+CjxwYXRoIHN0eWxlPSJmaWxsOm5vbmU7c3Ryb2tlLXdpZHRoOjAuMzk4NTtzdHJva2UtbGluZWNhcDpidXR0O3N0cm9rZS1saW5lam9pbjptaXRlcjtzdHJva2U6cmdiKDAlLDAlLDAlKTtzdHJva2Utb3BhY2l0eToxO3N0cm9rZS1taXRlcmxpbWl0OjEwOyIgZD0iTSAxODEuMDI0NSAtNDYuMTY5MjgxIEwgMjQyLjI4NjIxOSAtNjYuNTg3MjUgIiB0cmFuc2Zvcm09Im1hdHJpeCgxLDAsMCwtMSwxMi4wMzgsMTEwLjE5NCkiLz4KPHBhdGggc3R5bGU9IiBzdHJva2U6bm9uZTtmaWxsLXJ1bGU6bm9uemVybztmaWxsOnJnYigwJSwwJSwwJSk7ZmlsbC1vcGFjaXR5OjE7IiBkPSJNIDI1Ni4yMTQ4NDQgMTc3LjQxNDA2MyBMIDI1My42OTUzMTMgMTc0Ljg5MDYyNSBMIDI1NC4zMjQyMTkgMTc2Ljc4MTI1IEwgMjUyLjY4NzUgMTc3LjkxNzk2OSAiLz4KPHBhdGggc3R5bGU9ImZpbGw6bm9uZTtzdHJva2Utd2lkdGg6MC4zOTg1O3N0cm9rZS1saW5lY2FwOmJ1dHQ7c3Ryb2tlLWxpbmVqb2luOm1pdGVyO3N0cm9rZTpyZ2IoMCUsMCUsMCUpO3N0cm9rZS1vcGFjaXR5OjE7c3Ryb2tlLW1pdGVybGltaXQ6MTA7IiBkPSJNIDE3OS42ODA3NSAtNjQuNDY2MTU2IEwgMjQzLjg2NDM0NCAtMjEuNjc3MDk0ICIgdHJhbnNmb3JtPSJtYXRyaXgoMSwwLDAsLTEsMTIuMDM4LDExMC4xOTQpIi8+CjxwYXRoIHN0eWxlPSIgc3Ryb2tlOm5vbmU7ZmlsbC1ydWxlOm5vbnplcm87ZmlsbDpyZ2IoMCUsMCUsMCUpO2ZpbGwtb3BhY2l0eToxOyIgZD0iTSAyNTcuNTU4NTk0IDEzMC43NjU2MjUgTCAyNTQuMDIzNDM4IDEzMS4yMTA5MzggTCAyNTUuOTAyMzQ0IDEzMS44NzEwOTQgTCAyNTUuNzkyOTY5IDEzMy44NjMyODEgIi8+CjxwYXRoIHN0eWxlPSJmaWxsOm5vbmU7c3Ryb2tlLXdpZHRoOjAuMzk4NTtzdHJva2UtbGluZWNhcDpidXR0O3N0cm9rZS1saW5lam9pbjptaXRlcjtzdHJva2U6cmdiKDAlLDAlLDAlKTtzdHJva2Utb3BhY2l0eToxO3N0cm9rZS1taXRlcmxpbWl0OjEwOyIgZD0iTSAxODEuMDI0NSAtNjcuMjIwMDYzIEwgMjQyLjI4NjIxOSAtNDYuNzk4MTg4ICIgdHJhbnNmb3JtPSJtYXRyaXgoMSwwLDAsLTEsMTIuMDM4LDExMC4xOTQpIi8+CjxwYXRoIHN0eWxlPSIgc3Ryb2tlOm5vbmU7ZmlsbC1ydWxlOm5vbnplcm87ZmlsbDpyZ2IoMCUsMCUsMCUpO2ZpbGwtb3BhY2l0eToxOyIgZD0iTSAyNTYuMjE0ODQ0IDE1Ni4zNjMyODEgTCAyNTIuNjg3NSAxNTUuODU5Mzc1IEwgMjU0LjMyNDIxOSAxNTYuOTkyMTg4IEwgMjUzLjY5NTMxMyAxNTguODgyODEzICIvPgo8cGF0aCBzdHlsZT0iZmlsbDpub25lO3N0cm9rZS13aWR0aDowLjM5ODU7c3Ryb2tlLWxpbmVjYXA6YnV0dDtzdHJva2UtbGluZWpvaW46bWl0ZXI7c3Ryb2tlOnJnYigwJSwwJSwwJSk7c3Ryb2tlLW9wYWNpdHk6MTtzdHJva2UtbWl0ZXJsaW1pdDoxMDsiIGQ9Ik0gMTgxLjYxODI1IC03MC44Njg1IEwgMjQxLjU5MDkwNiAtNzAuODY4NSAiIHRyYW5zZm9ybT0ibWF0cml4KDEsMCwwLC0xLDEyLjAzOCwxMTAuMTk0KSIvPgo8cGF0aCBzdHlsZT0iIHN0cm9rZTpub25lO2ZpbGwtcnVsZTpub256ZXJvO2ZpbGw6cmdiKDAlLDAlLDAlKTtmaWxsLW9wYWNpdHk6MTsiIGQ9Ik0gMjU1LjYyMTA5NCAxODEuMDYyNSBMIDI1Mi40MzM1OTQgMTc5LjQ2ODc1IEwgMjUzLjYyODkwNiAxODEuMDYyNSBMIDI1Mi40MzM1OTQgMTgyLjY1NjI1ICIvPgo8cGF0aCBzdHlsZT0iZmlsbDpub25lO3N0cm9rZS13aWR0aDowLjM5ODU7c3Ryb2tlLWxpbmVjYXA6YnV0dDtzdHJva2UtbGluZWpvaW46bWl0ZXI7c3Ryb2tlOnJnYigwJSwwJSwwJSk7c3Ryb2tlLW9wYWNpdHk6MTtzdHJva2UtbWl0ZXJsaW1pdDoxMDsiIGQ9Ik0gMTc4LjIzOTM0NCAtOTEuMDU2IEwgMjQ1LjU1MTg0NCAtMjMuNzM5NTk0ICIgdHJhbnNmb3JtPSJtYXRyaXgoMSwwLDAsLTEsMTIuMDM4LDExMC4xOTQpIi8+CjxwYXRoIHN0eWxlPSIgc3Ryb2tlOm5vbmU7ZmlsbC1ydWxlOm5vbnplcm87ZmlsbDpyZ2IoMCUsMCUsMCUpO2ZpbGwtb3BhY2l0eToxOyIgZD0iTSAyNTkgMTMyLjUyNzM0NCBMIDI1NS42MjEwOTQgMTMzLjY1MjM0NCBMIDI1Ny41ODk4NDQgMTMzLjkzMzU5NCBMIDI1Ny44NzUgMTM1LjkwNjI1ICIvPgo8cGF0aCBzdHlsZT0iZmlsbDpub25lO3N0cm9rZS13aWR0aDowLjM5ODU7c3Ryb2tlLWxpbmVjYXA6YnV0dDtzdHJva2UtbGluZWpvaW46bWl0ZXI7c3Ryb2tlOnJnYigwJSwwJSwwJSk7c3Ryb2tlLW9wYWNpdHk6MTtzdHJva2UtbWl0ZXJsaW1pdDoxMDsiIGQ9Ik0gMTc5LjY4MDc1IC05Mi44MTM4MTMgTCAyNDMuODY0MzQ0IC01MC4wMjQ3NSAiIHRyYW5zZm9ybT0ibWF0cml4KDEsMCwwLC0xLDEyLjAzOCwxMTAuMTk0KSIvPgo8cGF0aCBzdHlsZT0iIHN0cm9rZTpub25lO2ZpbGwtcnVsZTpub256ZXJvO2ZpbGw6cmdiKDAlLDAlLDAlKTtmaWxsLW9wYWNpdHk6MTsiIGQ9Ik0gMjU3LjU1ODU5NCAxNTkuMTEzMjgxIEwgMjU0LjAyMzQzOCAxNTkuNTU0Njg4IEwgMjU1LjkwMjM0NCAxNjAuMjE4NzUgTCAyNTUuNzkyOTY5IDE2Mi4yMDcwMzEgIi8+CjxwYXRoIHN0eWxlPSJmaWxsOm5vbmU7c3Ryb2tlLXdpZHRoOjAuMzk4NTtzdHJva2UtbGluZWNhcDpidXR0O3N0cm9rZS1saW5lam9pbjptaXRlcjtzdHJva2U6cmdiKDAlLDAlLDAlKTtzdHJva2Utb3BhY2l0eToxO3N0cm9rZS1taXRlcmxpbWl0OjEwOyIgZD0iTSAxODEuMDI0NSAtOTUuNTYzODEzIEwgMjQyLjI4NjIxOSAtNzUuMTQ1ODQ0ICIgdHJhbnNmb3JtPSJtYXRyaXgoMSwwLDAsLTEsMTIuMDM4LDExMC4xOTQpIi8+CjxwYXRoIHN0eWxlPSIgc3Ryb2tlOm5vbmU7ZmlsbC1ydWxlOm5vbnplcm87ZmlsbDpyZ2IoMCUsMCUsMCUpO2ZpbGwtb3BhY2l0eToxOyIgZD0iTSAyNTYuMjE0ODQ0IDE4NC43MTA5MzggTCAyNTIuNjg3NSAxODQuMjA3MDMxIEwgMjU0LjMyNDIxOSAxODUuMzM5ODQ0IEwgMjUzLjY5NTMxMyAxODcuMjMwNDY5ICIvPgo8cGF0aCBzdHlsZT0iZmlsbDpub25lO3N0cm9rZS13aWR0aDowLjM5ODU7c3Ryb2tlLWxpbmVjYXA6YnV0dDtzdHJva2UtbGluZWpvaW46bWl0ZXI7c3Ryb2tlOnJnYigwJSwwJSwwJSk7c3Ryb2tlLW9wYWNpdHk6MTtzdHJva2UtbWl0ZXJsaW1pdDoxMDsiIGQ9Ik0gMjAxLjY4NDY1NiA2NS45ODMwNjIgTCAyNDcuNjE0MzQ0IC0yLjkxNTM3NSAiIHRyYW5zZm9ybT0ibWF0cml4KDEsMCwwLC0xLDEyLjAzOCwxMTAuMTk0KSIvPgo8cGF0aCBzdHlsZT0iIHN0cm9rZTpub25lO2ZpbGwtcnVsZTpub256ZXJvO2ZpbGw6cmdiKDAlLDAlLDAlKTtmaWxsLW9wYWNpdHk6MTsiIGQ9Ik0gMjYwLjc1NzgxMyAxMTQuNzY5NTMxIEwgMjYwLjMxNjQwNiAxMTEuMjMwNDY5IEwgMjU5LjY1MjM0NCAxMTMuMTA5Mzc1IEwgMjU3LjY2NDA2MyAxMTMgIi8+CjxwYXRoIHN0eWxlPSJmaWxsOm5vbmU7c3Ryb2tlLXdpZHRoOjAuMzk4NTtzdHJva2UtbGluZWNhcDpidXR0O3N0cm9rZS1saW5lam9pbjptaXRlcjtzdHJva2U6cmdiKDAlLDAlLDAlKTtzdHJva2Utb3BhY2l0eToxO3N0cm9rZS1taXRlcmxpbWl0OjEwOyIgZD0iTSAyMDEuMzQwOTA2IDUxLjYwMDI1IEwgMjQ4LjQwNzMxMiAtMzAuNzc0NzUgIiB0cmFuc2Zvcm09Im1hdHJpeCgxLDAsMCwtMSwxMi4wMzgsMTEwLjE5NCkiLz4KPHBhdGggc3R5bGU9IiBzdHJva2U6bm9uZTtmaWxsLXJ1bGU6bm9uemVybztmaWxsOnJnYigwJSwwJSwwJSk7ZmlsbC1vcGFjaXR5OjE7IiBkPSJNIDI2MS40MzM1OTQgMTQyLjY5NTMxMyBMIDI2MS4yMzgyODEgMTM5LjEzNjcxOSBMIDI2MC40NDUzMTMgMTQwLjk2ODc1IEwgMjU4LjQ2ODc1IDE0MC43MTg3NSAiLz4KPHBhdGggc3R5bGU9ImZpbGw6bm9uZTtzdHJva2Utd2lkdGg6MC4zOTg1O3N0cm9rZS1saW5lY2FwOmJ1dHQ7c3Ryb2tlLWxpbmVqb2luOm1pdGVyO3N0cm9rZTpyZ2IoMCUsMCUsMCUpO3N0cm9rZS1vcGFjaXR5OjE7c3Ryb2tlLW1pdGVybGltaXQ6MTA7IiBkPSJNIDIwMS4wNTE4NDQgMzcuMjcyMTI1IEwgMjQ5LjA3MTM3NSAtNTguNzY2OTM4ICIgdHJhbnNmb3JtPSJtYXRyaXgoMSwwLDAsLTEsMTIuMDM4LDExMC4xOTQpIi8+CjxwYXRoIHN0eWxlPSIgc3Ryb2tlOm5vbmU7ZmlsbC1ydWxlOm5vbnplcm87ZmlsbDpyZ2IoMCUsMCUsMCUpO2ZpbGwtb3BhY2l0eToxOyIgZD0iTSAyNjIgMTcwLjc0MjE4OCBMIDI2MiAxNjcuMTc5Njg4IEwgMjYxLjEwOTM3NSAxNjguOTYwOTM4IEwgMjU5LjE0ODQzOCAxNjguNjAxNTYzICIvPgo8L2c+Cjwvc3ZnPgo=)\n",
        "\n",
        "![ECE421_Fall24-A3-figure-2.svg](data:image/svg+xml;base64,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)"
      ]
    },
    {
      "cell_type": "markdown",
      "metadata": {
        "id": "SEGisvjJjueG"
      },
      "source": [
        "# 1. Implementing Feed-Forward Neural Network Using `NumPy`\n",
        "\n",
        "In this section, you implement a feed-forward neural network (NN) that will perform classification on the IRIS dataset using functions in the `NumPy` library only."
      ]
    },
    {
      "cell_type": "markdown",
      "metadata": {
        "id": "GrFUVSBPkBtw"
      },
      "source": [
        "## 1.1. Basic Network Layers\n",
        "\n",
        "In this question you will implement the layers needed for basic classification neural networks. For each part, you will be asked to\n",
        "\n",
        "1. derive the gradients,\n",
        "2. write the matching code,\n",
        "3. pass the tests."
      ]
    },
    {
      "cell_type": "markdown",
      "metadata": {
        "id": "KxcyrfyVkIxH"
      },
      "source": [
        "### 1.1.1 ReLU\n",
        "\n",
        "ReLU is a very common activation function that is typically used in the hidden layers of a neural network and is defined as\n",
        "\\begin{equation}\n",
        "\t\\sigma_{\\text{ReLU}}(\\gamma) = \\begin{cases}\n",
        "\t\t0, \\text{ if }\\gamma<0,\\\\\n",
        "\t\t\\gamma, \\text{ otherwise}.\n",
        "\t\\end{cases}\n",
        "\\end{equation}\n",
        "Note that the activation function is applied elementwise to a vector or matrix input.\n",
        "\n",
        "Before you implement the ReLU activation function in `activations.py`, answer the following question.\n",
        "\n",
        "  * Derive the gradient of the downstream loss with respect to the input of the ReLU activation function, $Z$. You must arrive at a solution in terms of $\\partial L/\\partial Y$, the gradient of the loss w.r.t.~the output of ReLU $Y = \\sigma_{\\text{ReLU}}(Z)$, and the batched input $Z$,i.e., where $Z \\in \\mathbb{R}^{m \\times n}$. Include your derivation in your writeup.\n",
        "\n",
        "\tHint: you are allowed to use operations like elementwise multiplication and/or division!\n",
        "\n",
        "Now, implement the forward and backward passes of the ReLU activation in the script `activations.py`. Do not iterate over training examples, use batched operations.\n",
        "\n",
        "The following tests check your implementation. We will use similar test, but with different values to test your code. We also check if you iterated over training examples or not. If instead of using batched operations, you iterate over examples, you will get 0, even if you pass all the tests."
      ]
    },
    {
      "cell_type": "code",
      "execution_count": null,
      "metadata": {
        "colab": {
          "base_uri": "https://localhost:8080/"
        },
        "id": "GxlsNQGHVtLy",
        "outputId": "62dcc45a-0522-48a9-bcfc-6ddcdf7136e7"
      },
      "outputs": [
        {
          "name": "stdout",
          "output_type": "stream",
          "text": [
            "Test Result: 6/6\n"
          ]
        }
      ],
      "source": [
        "#@title Testing forward method of ReLU\n",
        "\n",
        "reload(tests_A3)\n",
        "\n",
        "tests_A3.test_activation_relu_forward()"
      ]
    },
    {
      "cell_type": "code",
      "execution_count": null,
      "metadata": {
        "colab": {
          "base_uri": "https://localhost:8080/"
        },
        "id": "OsPYUMgAlA97",
        "outputId": "2b943329-a6c5-4a6e-f816-dae58a4416e5"
      },
      "outputs": [
        {
          "name": "stdout",
          "output_type": "stream",
          "text": [
            "Test Result: 6/6\n"
          ]
        }
      ],
      "source": [
        "#@title Testing backward method of ReLU\n",
        "\n",
        "reload(tests_A3)\n",
        "\n",
        "tests_A3.test_activation_relu_backward()"
      ]
    },
    {
      "cell_type": "markdown",
      "metadata": {
        "id": "lly-SzNdsG41"
      },
      "source": [
        "### 1.1.2 Fully-Connected Layer\n",
        "\n",
        "\n",
        "In this section, you will implement the forward and backward passes for the fully-connected layer in the \\verb|layers| script. You will write the fully-connected layer for a general input $\\mathbf{h}$ that contains a mini-batch of $m$ examples with $d$ features. When implementing a new layer, it is important to manually verify correctness of the forward and backward passes.\n",
        "\n",
        "Before you implement the forward and backward passes of the fully-connected layer in \\verb|layers|, answer the following question.\n",
        "\n",
        "  * Derive the gradients of the loss $L \\in \\mathbb{R}$ with respect to weight matrix $W \\in \\mathbb{R}^{n^{[l]} \\times n^{[l+1]}}$, i.e., $\\partial L/\\partial W$, and with respect to the bias row vector $\\mathbf{b} \\in \\mathbb{R}^{1 \\times n^{[l+1]}}$, i.e., $\\partial L/\\partial \\mathbf{b}$, in the fully-connected layer. You will also need to take the gradient of the loss with respect to the input of the layer $\\partial L/\\partial X$, which will be passed to lower layers, where $X \\in \\mathbb{R}^{m \\times n^{[l]}}$ is the batched input. Again, you must arrive at a solution that uses batched $X$ and $Z$. Please express your solution in terms of $\\partial L/\\partial Z$, which you have already obtained in question~\\ref{q1}, where $Z=XW+\\mathbf{1}^\\top \\mathbf{b}$ and $\\mathbf{1} \\in \\mathbb{R}^{1 \\times m}$ is a row of ones. Note that $\\mathbf{1}^\\top \\mathbf{b}$ is a matrix whose each row is the row vector $\\mathbf{b}$. So, we are adding the same bias vector to each sample during the forward pass: this is the mathematical equivalent of numpy broadcasting. Include your derivations in your writeup.\n",
        "\n",
        "Now, implement the forward and backward passes of `FullyConnectedLayer` in `layer.py`. The backward method takes in an argument `dLdY`, the gradient of the loss with respect to the output of the layer, which is computed by higher layers and backpropagated. This should be incorporated into your gradient calculation. Do not loop over training points; use batched operations.\n",
        "\n",
        "The following tests check your implementation. We will use similar test, but with different values to test your code. We also check if you iterated over training examples or not. If instead of using batched operations, you iterate over examples, you will get 0, even if you pass all the tests."
      ]
    },
    {
      "cell_type": "code",
      "execution_count": 5,
      "metadata": {
        "colab": {
          "base_uri": "https://localhost:8080/"
        },
        "id": "UpechzJBsBrJ",
        "outputId": "15a899bc-76ba-4ae8-a125-64207a930386"
      },
      "outputs": [
        {
          "output_type": "stream",
          "name": "stdout",
          "text": [
            "Test Result: 6/6\n"
          ]
        }
      ],
      "source": [
        "#@title Testing forward passes of fully connected layer with ReLU as its activation function\n",
        "\n",
        "reload(tests_A3)\n",
        "\n",
        "tests_A3.test_fully_connected_forward_relu()"
      ]
    },
    {
      "cell_type": "code",
      "execution_count": 6,
      "metadata": {
        "colab": {
          "base_uri": "https://localhost:8080/"
        },
        "id": "FqdePYUmsqHi",
        "outputId": "b5388869-e410-4a87-d89c-30f957cb2529"
      },
      "outputs": [
        {
          "output_type": "stream",
          "name": "stdout",
          "text": [
            "Test Result: 6/6\n"
          ]
        }
      ],
      "source": [
        "#@title Testing backward passes of fully connected layer with ReLU as its activation function\n",
        "\n",
        "reload(tests_A3)\n",
        "\n",
        "tests_A3.test_fully_connected_backward_relu()"
      ]
    },
    {
      "cell_type": "code",
      "execution_count": 7,
      "metadata": {
        "cellView": "form",
        "colab": {
          "base_uri": "https://localhost:8080/"
        },
        "id": "PZLrcjn1sqpa",
        "outputId": "37fc906d-bf5b-47c6-c8e9-9962882a8ba2"
      },
      "outputs": [
        {
          "output_type": "stream",
          "name": "stdout",
          "text": [
            "Test Result: 11/11\n"
          ]
        }
      ],
      "source": [
        "#@title Testing forward passes of fully connected layer with TanH as its activation function\n",
        "\n",
        "reload(tests_A3)\n",
        "\n",
        "tests_A3.test_fully_connected_forward_tanh()"
      ]
    },
    {
      "cell_type": "code",
      "execution_count": 8,
      "metadata": {
        "colab": {
          "base_uri": "https://localhost:8080/"
        },
        "id": "YIuXLHM6srZF",
        "outputId": "3f9a7fb8-977a-4bdf-aebc-b016564a1a76"
      },
      "outputs": [
        {
          "output_type": "stream",
          "name": "stdout",
          "text": [
            "Test Result: 11/11\n"
          ]
        }
      ],
      "source": [
        "#@title Testing backward passes of fully connected layer with TanH as its activation function\n",
        "\n",
        "reload(tests_A3)\n",
        "\n",
        "tests_A3.test_fully_connected_backward_tanh()"
      ]
    },
    {
      "cell_type": "markdown",
      "metadata": {
        "id": "FvIo_SMBtYEC"
      },
      "source": [
        "### 1.1.3 Softmax Activation\n",
        "\n",
        "Next, we need to define an activation function for the output layer. The ReLU activation function returns continuous values that are (potentially) unbounded to the right. Since we are building a classifier, we want to return probabilities over classes. The softmax function has the desirable property that it outputs a probability distribution. That is, the softmax function squashes continuous values into the range $[0, 1]$ and normalizes the outputs so that they add up to $1$. For this reason, many classification neural networks use the softmax activation. The softmax activation takes in a vector $\\mathbf{s}$ of $k$ un-normalized values $s_1, \\ldots, s_k$ and outputs a probability distribution over the k possible classes. The forward pass of the softmax activation on input $s_i$ is\n",
        "\\begin{equation*}\n",
        "\t\\sigma_i = \\frac{e^{s_i}}{\\sum\\limits_{j=1}^k e^{s_j}},\n",
        "\\end{equation*}\n",
        "where $k$ ranges over all elements in $\\mathbf{s}$. Due to issues of numerical stability, the following modified version of this function is commonly used.\n",
        "\\begin{equation*}\n",
        "\t\\sigma_i = \\frac{e^{s_i -m}}{\\sum\\limits_{j=1}^k e^{s_j-m}},\n",
        "\\end{equation*}\n",
        "where $m = \\underset{j \\in \\{1,\\ldots,k\\}}{\\max} s_j$. We strongly recommend implementing the latter formula.\\\\\n",
        "\n",
        "Before you implement the forward and backward passes of the softmax activation in \\verb|activations.py|, answer the following question.\n",
        "\n",
        "  * For a single training point, derive $\\partial \\sigma_i/\\partial s_j$ for an arbitrary $(i, j)$ pair, i.e., derive the Jacobian Matrix\n",
        "\t\\begin{equation}\n",
        "\t\t\\begin{bmatrix}\n",
        "\t\t\t\\frac{\\partial \\sigma_1}{\\partial s_1}, &\\frac{\\partial \\sigma_1}{\\partial s_2}, &\\ldots, &\\frac{\\partial \\sigma_1}{\\partial s_k}\\\\\n",
        "\t\t\t\\frac{\\partial \\sigma_2}{\\partial s_1}, &\\frac{\\partial \\sigma_2}{\\partial s_2}, &\\ldots, &\\frac{\\partial \\sigma_2}{\\partial s_k}\\\\\n",
        "\t\t\t\\vdots &\\vdots &\\vdots &\\vdots\\\\\n",
        "\t\t\t\\frac{\\partial \\sigma_k}{\\partial s_1}, &\\frac{\\partial \\sigma_k}{\\partial s_2}, &\\ldots, &\\frac{\\partial \\sigma_k}{\\partial s_k}\n",
        "\t\t\\end{bmatrix}.\n",
        "\t\\end{equation}\n",
        "\tInclude your derivation in your writeup. You do not need to use batched inputs for this question; an answer for a single training point is acceptable.\n",
        "\n",
        "Now, implement the forward and backward passes of the softmax activation in `activations.py`. We recommend vectorizing the backward pass for efficiency.\n",
        "\n",
        "For this question only, you are allowed to use a \"for\" loop over the training points in the mini-batch.\n",
        "\n",
        "The following tests check your implementation. We will use similar test, but with different values to test your code.\n"
      ]
    },
    {
      "cell_type": "code",
      "execution_count": 9,
      "metadata": {
        "cellView": "form",
        "id": "IDsGfm61sxzy",
        "colab": {
          "base_uri": "https://localhost:8080/"
        },
        "outputId": "5ce01925-7bc7-404c-ed3b-18506cf5c69b"
      },
      "outputs": [
        {
          "output_type": "stream",
          "name": "stdout",
          "text": [
            "Test Result: 6/6\n"
          ]
        }
      ],
      "source": [
        "#@title Testing forward passes of softmax\n",
        "\n",
        "reload(tests_A3)\n",
        "\n",
        "tests_A3.test_activation_softmax_forward()"
      ]
    },
    {
      "cell_type": "code",
      "execution_count": 10,
      "metadata": {
        "cellView": "form",
        "id": "xCn12kUmt-0m",
        "colab": {
          "base_uri": "https://localhost:8080/"
        },
        "outputId": "0a777cf6-7164-4f66-dffe-2c9dac0b296a"
      },
      "outputs": [
        {
          "output_type": "stream",
          "name": "stdout",
          "text": [
            "Test Result: 6/6\n"
          ]
        }
      ],
      "source": [
        "#@title Testing backward passes of softmax\n",
        "\n",
        "reload(tests_A3)\n",
        "\n",
        "tests_A3.test_activation_softmax_backward()"
      ]
    },
    {
      "cell_type": "markdown",
      "metadata": {
        "id": "fIXj9s2_uQ3F"
      },
      "source": [
        "### 1.1.4 Cross-Entropy Loss\n",
        "\n",
        "\n",
        "For this classification network, we will be using the multi-class cross-entropy loss function\n",
        "\\begin{equation}\n",
        "\tL = -\\mathbf{y} \\cdot \\ln \\hat{\\mathbf{y}}\n",
        "\\end{equation}\n",
        "where $\\mathbf{y}$ is the binary one-hot vector encoding the ground truth labels and $\\hat{\\mathbf{y}}$ is the network's output, a vector of probabilities over classes. Note that $\\ln \\hat{\\mathbf{y}}$ is the elementwise natural log $\\hat{\\mathbf{y}}$, and $\\cdot$ represents the dot product between $\\mathbf{y}$ and $\\ln \\hat{\\mathbf{y}}$. The cross-entropy loss calculated for a mini-batch of $m$ samples is\n",
        "\\begin{equation}\n",
        "\tL = -\\frac{1}{m}\\sum\\limits_{i=1}^m \\mathbf{y}_i \\cdot \\ln \\hat{\\mathbf{y}}_i.\n",
        "\\end{equation}\n",
        "Let $Y \\in \\mathbb{R}^{m \\times k}$ and $\\hat{Y} \\in \\mathbb{R}^{m \\times k}$ be the one-hot labels and network outputs for the $m$ samples, stacked in a matrix. Then, $ \\mathbf{y}_i$ and $\\hat{\\mathbf{y}}_i$ in the expression above are just the $i_{\\text{th}}$ rows of $Y$ and $\\hat{Y}$.\n",
        "\n",
        "Before you implement the forward and backward passes of the cross-entropy cost, answer the following question.\n",
        "\n",
        "  * Derive $\\partial L/ \\partial \\hat{Y}$ the gradient of the cross-entropy cost with respect to the network's predictions, $\\hat{Y}$. You must use batched inputs. Include your derivation in your writeup.\n",
        "\n",
        "  Hint: You are allowed to use operations like elementwise multiplication and/or division!\n",
        "\n",
        "Now, implement the forward and backward passes of `CrossEntropyLoss` in `loss.py`.\n",
        "\n",
        "Do not iterate over training examples; use batched operations.\n",
        "\n",
        "The following tests check your implementation. We will use similar test, but with different values to test your code. We also check if you iterated over training examples or not. If instead of using batched operations, you iterate over examples, you will get 0, even if you pass all the tests.\n"
      ]
    },
    {
      "cell_type": "code",
      "execution_count": 11,
      "metadata": {
        "cellView": "form",
        "id": "Ysc3iw3Yuvez",
        "colab": {
          "base_uri": "https://localhost:8080/"
        },
        "outputId": "58fdb261-3af0-4023-c3b8-83bd073faa27"
      },
      "outputs": [
        {
          "output_type": "stream",
          "name": "stdout",
          "text": [
            "Test Result: 6/6\n"
          ]
        }
      ],
      "source": [
        "#@title Testing forward passes of cross_entropy\n",
        "\n",
        "reload(tests_A3)\n",
        "\n",
        "tests_A3.test_loss_cross_entropy_forward()"
      ]
    },
    {
      "cell_type": "code",
      "execution_count": 12,
      "metadata": {
        "cellView": "form",
        "id": "kZUfcBXPuypJ",
        "colab": {
          "base_uri": "https://localhost:8080/"
        },
        "outputId": "5b6fcb95-b2cf-4b04-8ac5-2b0438193002"
      },
      "outputs": [
        {
          "output_type": "stream",
          "name": "stdout",
          "text": [
            "Test Result: 6/6\n"
          ]
        }
      ],
      "source": [
        "#@title Testing backward passes of cross_entropy\n",
        "\n",
        "reload(tests_A3)\n",
        "\n",
        "tests_A3.test_loss_cross_entropy_backward()"
      ]
    },
    {
      "cell_type": "markdown",
      "metadata": {
        "id": "GaG5xCJ5vOrh"
      },
      "source": [
        "## 1.2. Two-Layer Fully Connected Networks\n",
        "\n",
        "Now, you will use the methods you've written to train a two-layer network (also referred to as a one-hidden layer network). You will use the Iris Dataset, which contains $4$ features for $3$ different classes of irises."
      ]
    },
    {
      "cell_type": "markdown",
      "metadata": {
        "id": "ok4ARDCSvYxy"
      },
      "source": [
        "### 1.2.1. Implementing Fully Connected Layer\n",
        "\n",
        "Fill in the forward, backward, and predict methods for the `NeuralNetworkModel` class in`model.py`.\n",
        "\n",
        "We have provided you with several other classes that are critical for the training process.\n",
        "\n",
        "  * The data loader (in `util.py`), which is responsible for loading batches of data that will be fed to your model during training. You may wish to alter the data loader to handle data pre-processing.\n",
        "\n",
        "  * The stochastic gradient descent optimizer (in `optimizer.py`), which performs the gradient updates and optionally incorporates a momentum term.\n",
        "\n",
        "  * A logger (in `util.py`), which saves hyperparameters and learned parameters and plots the loss as your model trains.\n",
        "\n",
        "Outputs will be saved to the folder `experiments/`. You can change the name of the folder a given run saves to by changing the parameter called model name. Be careful about overwriting folders; if you forget to change the name and perform a run with identical hyperparameters, your previous run will be overwritten!"
      ]
    },
    {
      "cell_type": "code",
      "execution_count": 13,
      "metadata": {
        "cellView": "form",
        "id": "D4sJDO1QvVA0",
        "colab": {
          "base_uri": "https://localhost:8080/"
        },
        "outputId": "2373d6b6-ac9b-4793-d1ba-9a98bc6c445d"
      },
      "outputs": [
        {
          "output_type": "stream",
          "name": "stdout",
          "text": [
            "Relative error for each test case is expected to be less than 1e-8\n",
            "Relative error for relu activation: 1.538884632208583e-11\n",
            "Relative error for softmax activation: 1.657605952842582e-10\n",
            "Test Result: 2/2\n"
          ]
        }
      ],
      "source": [
        "#@title Testing if you find the correct gradients by comparing your output to our numerical approach\n",
        "#@markdown This tests your implemented activation functions\n",
        "\n",
        "reload(tests_A3)\n",
        "\n",
        "tests_A3.test_gradients_activation()"
      ]
    },
    {
      "cell_type": "code",
      "execution_count": 14,
      "metadata": {
        "cellView": "form",
        "id": "bwVv7-TUwlcf",
        "colab": {
          "base_uri": "https://localhost:8080/"
        },
        "outputId": "fc7c3657-84e2-45c6-948d-a4b652f40362"
      },
      "outputs": [
        {
          "output_type": "stream",
          "name": "stdout",
          "text": [
            "Relative error for each test case is expected to be less than 1e-8\n",
            "Relative error for sigmoid activation: 4.693987086762986e-11\n",
            "* Test Result for Sigmoid Gradients (Optional, no extra credit):  1/1\n"
          ]
        }
      ],
      "source": [
        "#@title OPTIONAL: Testing your implemented sigmoid activation function (No Extra Credit)\n",
        "\n",
        "reload(tests_A3)\n",
        "\n",
        "tests_A3.test_gradients_optional_sigmoid()"
      ]
    },
    {
      "cell_type": "code",
      "execution_count": 15,
      "metadata": {
        "cellView": "form",
        "id": "o3cmsjhvwKUl",
        "colab": {
          "base_uri": "https://localhost:8080/"
        },
        "outputId": "5827831d-4d3c-4246-e5ef-9bb62e771e3e"
      },
      "outputs": [
        {
          "output_type": "stream",
          "name": "stdout",
          "text": [
            "Relative error for each test case is expected to be less than 1e-8\n",
            "Relative error for W: 2.712419431090583e-11\n",
            "Relative error for b: 4.428462408252424e-11\n",
            "Test Result: 2/2\n"
          ]
        }
      ],
      "source": [
        "#@title Testing if you find the correct gradients by comparing your output to our numerical approach\n",
        "#@markdown This tests your implemented fully connected layer\n",
        "\n",
        "reload(tests_A3)\n",
        "\n",
        "tests_A3.test_gradients_fully_connected_layer()"
      ]
    },
    {
      "cell_type": "markdown",
      "metadata": {
        "id": "_oJLvh27FYWk"
      },
      "source": [
        "## 1.2.2. Hyperparameter Tuning (in a very small scale)\n",
        "\n",
        "In the following cell, we Train a 2-layer neural network on the Iris Dataset. Feel free to modify the following hyperparameters.\n",
        "\n",
        "  * Learning rate\n",
        "  * Momemntum hyperparameter\n",
        "  * Activation functions\n",
        "  * Hidden layer size (number of units per hidden layer)\n",
        "\n",
        "Interestingly, random seed can also be considered as a hyperparameter. However, for consistency and reproducibility, let's not change it in this assignment.\n",
        "\n",
        "answer the following question.\n",
        "\n",
        "  * Try at least 3 different combinations of the above hyperparameters. Report the results of your exploration, including the values of the parameters you explored and which set of parameters gave the best test error. Provide plots showing the loss versus iterations for your best model and report your final test error."
      ]
    },
    {
      "cell_type": "code",
      "execution_count": 16,
      "metadata": {
        "id": "qwot7iBxGLxi",
        "colab": {
          "base_uri": "https://localhost:8080/"
        },
        "outputId": "930e6e16-93bb-43d9-8929-5abfcc9f143d"
      },
      "outputs": [
        {
          "output_type": "stream",
          "name": "stdout",
          "text": [
            "Training feed forward neural network on iris with SGD for 100 epochs...\n"
          ]
        },
        {
          "output_type": "stream",
          "name": "stderr",
          "text": [
            "100%|██████████| 5/5 [00:00<00:00, 833.89it/s]\n"
          ]
        },
        {
          "output_type": "stream",
          "name": "stdout",
          "text": [
            "Epoch 0:\n",
            "\t Training Loss: 11.116, Training Accuracy: 0.472, Val Loss: 7.4187, Val Accuracy: 0.7333\n"
          ]
        },
        {
          "output_type": "stream",
          "name": "stderr",
          "text": [
            "100%|██████████| 5/5 [00:00<00:00, 1067.58it/s]\n"
          ]
        },
        {
          "output_type": "stream",
          "name": "stdout",
          "text": [
            "Epoch 1:\n",
            "\t Training Loss: 10.9313, Training Accuracy: 0.584, Val Loss: 7.4978, Val Accuracy: 0.7333\n"
          ]
        },
        {
          "output_type": "stream",
          "name": "stderr",
          "text": [
            "100%|██████████| 5/5 [00:00<00:00, 1348.48it/s]\n"
          ]
        },
        {
          "output_type": "stream",
          "name": "stdout",
          "text": [
            "Epoch 2:\n",
            "\t Training Loss: 10.892, Training Accuracy: 0.6, Val Loss: 7.4088, Val Accuracy: 0.7333\n"
          ]
        },
        {
          "output_type": "stream",
          "name": "stderr",
          "text": [
            "100%|██████████| 5/5 [00:00<00:00, 964.56it/s]\n"
          ]
        },
        {
          "output_type": "stream",
          "name": "stdout",
          "text": [
            "Epoch 3:\n",
            "\t Training Loss: 8.209, Training Accuracy: 0.704, Val Loss: 7.4328, Val Accuracy: 0.7333\n"
          ]
        },
        {
          "output_type": "stream",
          "name": "stderr",
          "text": [
            "100%|██████████| 5/5 [00:00<00:00, 979.29it/s]\n"
          ]
        },
        {
          "output_type": "stream",
          "name": "stdout",
          "text": [
            "Epoch 4:\n",
            "\t Training Loss: 11.7567, Training Accuracy: 0.576, Val Loss: 7.4241, Val Accuracy: 0.7333\n"
          ]
        },
        {
          "output_type": "stream",
          "name": "stderr",
          "text": [
            "100%|██████████| 5/5 [00:00<00:00, 991.66it/s]\n"
          ]
        },
        {
          "output_type": "stream",
          "name": "stdout",
          "text": [
            "Epoch 5:\n",
            "\t Training Loss: 9.091, Training Accuracy: 0.672, Val Loss: 7.3941, Val Accuracy: 0.7333\n"
          ]
        },
        {
          "output_type": "stream",
          "name": "stderr",
          "text": [
            "100%|██████████| 5/5 [00:00<00:00, 924.34it/s]\n"
          ]
        },
        {
          "output_type": "stream",
          "name": "stdout",
          "text": [
            "Epoch 6:\n",
            "\t Training Loss: 9.0769, Training Accuracy: 0.672, Val Loss: 7.385, Val Accuracy: 0.7333\n"
          ]
        },
        {
          "output_type": "stream",
          "name": "stderr",
          "text": [
            "100%|██████████| 5/5 [00:00<00:00, 1480.31it/s]\n"
          ]
        },
        {
          "output_type": "stream",
          "name": "stdout",
          "text": [
            "Epoch 7:\n",
            "\t Training Loss: 9.079, Training Accuracy: 0.672, Val Loss: 7.3827, Val Accuracy: 0.7333\n"
          ]
        },
        {
          "output_type": "stream",
          "name": "stderr",
          "text": [
            "100%|██████████| 5/5 [00:00<00:00, 979.57it/s]\n"
          ]
        },
        {
          "output_type": "stream",
          "name": "stdout",
          "text": [
            "Epoch 8:\n",
            "\t Training Loss: 9.9569, Training Accuracy: 0.64, Val Loss: 7.3804, Val Accuracy: 0.7333\n"
          ]
        },
        {
          "output_type": "stream",
          "name": "stderr",
          "text": [
            "100%|██████████| 5/5 [00:00<00:00, 665.47it/s]\n"
          ]
        },
        {
          "output_type": "stream",
          "name": "stdout",
          "text": [
            "Epoch 9:\n",
            "\t Training Loss: 9.9553, Training Accuracy: 0.64, Val Loss: 7.3787, Val Accuracy: 0.7333\n"
          ]
        },
        {
          "output_type": "stream",
          "name": "stderr",
          "text": [
            "100%|██████████| 5/5 [00:00<00:00, 884.69it/s]\n"
          ]
        },
        {
          "output_type": "stream",
          "name": "stdout",
          "text": [
            "Epoch 10:\n",
            "\t Training Loss: 9.9542, Training Accuracy: 0.64, Val Loss: 7.3775, Val Accuracy: 0.7333\n"
          ]
        },
        {
          "output_type": "stream",
          "name": "stderr",
          "text": [
            "100%|██████████| 5/5 [00:00<00:00, 1060.67it/s]\n"
          ]
        },
        {
          "output_type": "stream",
          "name": "stdout",
          "text": [
            "Epoch 11:\n",
            "\t Training Loss: 8.1859, Training Accuracy: 0.704, Val Loss: 7.3768, Val Accuracy: 0.7333\n"
          ]
        },
        {
          "output_type": "stream",
          "name": "stderr",
          "text": [
            "100%|██████████| 5/5 [00:00<00:00, 1439.86it/s]\n"
          ]
        },
        {
          "output_type": "stream",
          "name": "stdout",
          "text": [
            "Epoch 12:\n",
            "\t Training Loss: 9.069, Training Accuracy: 0.672, Val Loss: 7.3762, Val Accuracy: 0.7333\n"
          ]
        },
        {
          "output_type": "stream",
          "name": "stderr",
          "text": [
            "100%|██████████| 5/5 [00:00<00:00, 1497.22it/s]\n"
          ]
        },
        {
          "output_type": "stream",
          "name": "stdout",
          "text": [
            "Epoch 13:\n",
            "\t Training Loss: 10.8386, Training Accuracy: 0.608, Val Loss: 7.3757, Val Accuracy: 0.7333\n"
          ]
        },
        {
          "output_type": "stream",
          "name": "stderr",
          "text": [
            "100%|██████████| 5/5 [00:00<00:00, 1382.62it/s]\n"
          ]
        },
        {
          "output_type": "stream",
          "name": "stdout",
          "text": [
            "Epoch 14:\n",
            "\t Training Loss: 11.7205, Training Accuracy: 0.576, Val Loss: 7.3753, Val Accuracy: 0.7333\n"
          ]
        },
        {
          "output_type": "stream",
          "name": "stderr",
          "text": [
            "100%|██████████| 5/5 [00:00<00:00, 878.24it/s]\n"
          ]
        },
        {
          "output_type": "stream",
          "name": "stdout",
          "text": [
            "Epoch 15:\n",
            "\t Training Loss: 9.0678, Training Accuracy: 0.672, Val Loss: 7.375, Val Accuracy: 0.7333\n"
          ]
        },
        {
          "output_type": "stream",
          "name": "stderr",
          "text": [
            "100%|██████████| 5/5 [00:00<00:00, 1019.47it/s]\n"
          ]
        },
        {
          "output_type": "stream",
          "name": "stdout",
          "text": [
            "Epoch 16:\n",
            "\t Training Loss: 10.8361, Training Accuracy: 0.608, Val Loss: 7.3748, Val Accuracy: 0.7333\n"
          ]
        },
        {
          "output_type": "stream",
          "name": "stderr",
          "text": [
            "100%|██████████| 5/5 [00:00<00:00, 583.92it/s]\n"
          ]
        },
        {
          "output_type": "stream",
          "name": "stdout",
          "text": [
            "Epoch 17:\n",
            "\t Training Loss: 8.1871, Training Accuracy: 0.704, Val Loss: 7.3745, Val Accuracy: 0.7333\n"
          ]
        },
        {
          "output_type": "stream",
          "name": "stderr",
          "text": [
            "100%|██████████| 5/5 [00:00<00:00, 639.92it/s]\n"
          ]
        },
        {
          "output_type": "stream",
          "name": "stdout",
          "text": [
            "Epoch 18:\n",
            "\t Training Loss: 9.068, Training Accuracy: 0.672, Val Loss: 7.3743, Val Accuracy: 0.7333\n"
          ]
        },
        {
          "output_type": "stream",
          "name": "stderr",
          "text": [
            "100%|██████████| 5/5 [00:00<00:00, 895.45it/s]\n"
          ]
        },
        {
          "output_type": "stream",
          "name": "stdout",
          "text": [
            "Epoch 19:\n",
            "\t Training Loss: 8.1834, Training Accuracy: 0.704, Val Loss: 7.3742, Val Accuracy: 0.7333\n"
          ]
        },
        {
          "output_type": "stream",
          "name": "stderr",
          "text": [
            "100%|██████████| 5/5 [00:00<00:00, 1677.72it/s]\n"
          ]
        },
        {
          "output_type": "stream",
          "name": "stdout",
          "text": [
            "Epoch 20:\n",
            "\t Training Loss: 10.836, Training Accuracy: 0.608, Val Loss: 7.374, Val Accuracy: 0.7333\n"
          ]
        },
        {
          "output_type": "stream",
          "name": "stderr",
          "text": [
            "100%|██████████| 5/5 [00:00<00:00, 922.72it/s]\n"
          ]
        },
        {
          "output_type": "stream",
          "name": "stdout",
          "text": [
            "Epoch 21:\n",
            "\t Training Loss: 9.0677, Training Accuracy: 0.672, Val Loss: 7.3737, Val Accuracy: 0.7333\n"
          ]
        },
        {
          "output_type": "stream",
          "name": "stderr",
          "text": [
            "100%|██████████| 5/5 [00:00<00:00, 957.87it/s]\n"
          ]
        },
        {
          "output_type": "stream",
          "name": "stdout",
          "text": [
            "Epoch 22:\n",
            "\t Training Loss: 10.8353, Training Accuracy: 0.608, Val Loss: 7.3735, Val Accuracy: 0.7333\n"
          ]
        },
        {
          "output_type": "stream",
          "name": "stderr",
          "text": [
            "100%|██████████| 5/5 [00:00<00:00, 868.46it/s]\n"
          ]
        },
        {
          "output_type": "stream",
          "name": "stdout",
          "text": [
            "Epoch 23:\n",
            "\t Training Loss: 9.9514, Training Accuracy: 0.64, Val Loss: 7.3734, Val Accuracy: 0.7333\n"
          ]
        },
        {
          "output_type": "stream",
          "name": "stderr",
          "text": [
            "100%|██████████| 5/5 [00:00<00:00, 1083.41it/s]\n"
          ]
        },
        {
          "output_type": "stream",
          "name": "stdout",
          "text": [
            "Epoch 24:\n",
            "\t Training Loss: 8.1826, Training Accuracy: 0.704, Val Loss: 7.3733, Val Accuracy: 0.7333\n"
          ]
        },
        {
          "output_type": "stream",
          "name": "stderr",
          "text": [
            "100%|██████████| 5/5 [00:00<00:00, 982.18it/s]\n"
          ]
        },
        {
          "output_type": "stream",
          "name": "stdout",
          "text": [
            "Epoch 25:\n",
            "\t Training Loss: 8.1828, Training Accuracy: 0.704, Val Loss: 7.3731, Val Accuracy: 0.7333\n"
          ]
        },
        {
          "output_type": "stream",
          "name": "stderr",
          "text": [
            "100%|██████████| 5/5 [00:00<00:00, 880.64it/s]\n"
          ]
        },
        {
          "output_type": "stream",
          "name": "stdout",
          "text": [
            "Epoch 26:\n",
            "\t Training Loss: 9.0671, Training Accuracy: 0.672, Val Loss: 7.373, Val Accuracy: 0.7333\n"
          ]
        },
        {
          "output_type": "stream",
          "name": "stderr",
          "text": [
            "100%|██████████| 5/5 [00:00<00:00, 720.47it/s]\n"
          ]
        },
        {
          "output_type": "stream",
          "name": "stdout",
          "text": [
            "Epoch 27:\n",
            "\t Training Loss: 9.9539, Training Accuracy: 0.64, Val Loss: 7.3729, Val Accuracy: 0.7333\n"
          ]
        },
        {
          "output_type": "stream",
          "name": "stderr",
          "text": [
            "100%|██████████| 5/5 [00:00<00:00, 811.69it/s]\n"
          ]
        },
        {
          "output_type": "stream",
          "name": "stdout",
          "text": [
            "Epoch 28:\n",
            "\t Training Loss: 9.9511, Training Accuracy: 0.64, Val Loss: 7.3727, Val Accuracy: 0.7333\n"
          ]
        },
        {
          "output_type": "stream",
          "name": "stderr",
          "text": [
            "100%|██████████| 5/5 [00:00<00:00, 753.56it/s]\n"
          ]
        },
        {
          "output_type": "stream",
          "name": "stdout",
          "text": [
            "Epoch 29:\n",
            "\t Training Loss: 9.9509, Training Accuracy: 0.64, Val Loss: 7.3727, Val Accuracy: 0.7333\n"
          ]
        },
        {
          "output_type": "stream",
          "name": "stderr",
          "text": [
            "100%|██████████| 5/5 [00:00<00:00, 824.90it/s]\n"
          ]
        },
        {
          "output_type": "stream",
          "name": "stdout",
          "text": [
            "Epoch 30:\n",
            "\t Training Loss: 9.0664, Training Accuracy: 0.672, Val Loss: 7.3725, Val Accuracy: 0.7333\n"
          ]
        },
        {
          "output_type": "stream",
          "name": "stderr",
          "text": [
            "100%|██████████| 5/5 [00:00<00:00, 1283.68it/s]\n"
          ]
        },
        {
          "output_type": "stream",
          "name": "stdout",
          "text": [
            "Epoch 31:\n",
            "\t Training Loss: 9.9502, Training Accuracy: 0.64, Val Loss: 7.3724, Val Accuracy: 0.7333\n"
          ]
        },
        {
          "output_type": "stream",
          "name": "stderr",
          "text": [
            "100%|██████████| 5/5 [00:00<00:00, 859.74it/s]\n"
          ]
        },
        {
          "output_type": "stream",
          "name": "stdout",
          "text": [
            "Epoch 32:\n",
            "\t Training Loss: 9.9503, Training Accuracy: 0.64, Val Loss: 7.3723, Val Accuracy: 0.7333\n"
          ]
        },
        {
          "output_type": "stream",
          "name": "stderr",
          "text": [
            "100%|██████████| 5/5 [00:00<00:00, 948.12it/s]\n"
          ]
        },
        {
          "output_type": "stream",
          "name": "stdout",
          "text": [
            "Epoch 33:\n",
            "\t Training Loss: 10.8343, Training Accuracy: 0.608, Val Loss: 7.3722, Val Accuracy: 0.7333\n"
          ]
        },
        {
          "output_type": "stream",
          "name": "stderr",
          "text": [
            "100%|██████████| 5/5 [00:00<00:00, 904.76it/s]\n"
          ]
        },
        {
          "output_type": "stream",
          "name": "stdout",
          "text": [
            "Epoch 34:\n",
            "\t Training Loss: 8.1819, Training Accuracy: 0.704, Val Loss: 7.3721, Val Accuracy: 0.7333\n"
          ]
        },
        {
          "output_type": "stream",
          "name": "stderr",
          "text": [
            "100%|██████████| 5/5 [00:00<00:00, 994.01it/s]\n"
          ]
        },
        {
          "output_type": "stream",
          "name": "stdout",
          "text": [
            "Epoch 35:\n",
            "\t Training Loss: 9.0663, Training Accuracy: 0.672, Val Loss: 7.372, Val Accuracy: 0.7333\n"
          ]
        },
        {
          "output_type": "stream",
          "name": "stderr",
          "text": [
            "100%|██████████| 5/5 [00:00<00:00, 732.55it/s]\n"
          ]
        },
        {
          "output_type": "stream",
          "name": "stdout",
          "text": [
            "Epoch 36:\n",
            "\t Training Loss: 10.8343, Training Accuracy: 0.608, Val Loss: 7.372, Val Accuracy: 0.7333\n"
          ]
        },
        {
          "output_type": "stream",
          "name": "stderr",
          "text": [
            "100%|██████████| 5/5 [00:00<00:00, 847.71it/s]\n"
          ]
        },
        {
          "output_type": "stream",
          "name": "stdout",
          "text": [
            "Epoch 37:\n",
            "\t Training Loss: 9.9503, Training Accuracy: 0.64, Val Loss: 7.3719, Val Accuracy: 0.7333\n"
          ]
        },
        {
          "output_type": "stream",
          "name": "stderr",
          "text": [
            "100%|██████████| 5/5 [00:00<00:00, 943.56it/s]\n"
          ]
        },
        {
          "output_type": "stream",
          "name": "stdout",
          "text": [
            "Epoch 38:\n",
            "\t Training Loss: 9.95, Training Accuracy: 0.64, Val Loss: 7.3718, Val Accuracy: 0.7333\n"
          ]
        },
        {
          "output_type": "stream",
          "name": "stderr",
          "text": [
            "100%|██████████| 5/5 [00:00<00:00, 997.69it/s]\n"
          ]
        },
        {
          "output_type": "stream",
          "name": "stdout",
          "text": [
            "Epoch 39:\n",
            "\t Training Loss: 11.7183, Training Accuracy: 0.576, Val Loss: 7.3718, Val Accuracy: 0.7333\n"
          ]
        },
        {
          "output_type": "stream",
          "name": "stderr",
          "text": [
            "100%|██████████| 5/5 [00:00<00:00, 765.30it/s]\n"
          ]
        },
        {
          "output_type": "stream",
          "name": "stdout",
          "text": [
            "Epoch 40:\n",
            "\t Training Loss: 9.0661, Training Accuracy: 0.672, Val Loss: 7.3717, Val Accuracy: 0.7333\n"
          ]
        },
        {
          "output_type": "stream",
          "name": "stderr",
          "text": [
            "100%|██████████| 5/5 [00:00<00:00, 958.83it/s]\n"
          ]
        },
        {
          "output_type": "stream",
          "name": "stdout",
          "text": [
            "Epoch 41:\n",
            "\t Training Loss: 9.0656, Training Accuracy: 0.672, Val Loss: 7.3716, Val Accuracy: 0.7333\n"
          ]
        },
        {
          "output_type": "stream",
          "name": "stderr",
          "text": [
            "100%|██████████| 5/5 [00:00<00:00, 829.11it/s]\n"
          ]
        },
        {
          "output_type": "stream",
          "name": "stdout",
          "text": [
            "Epoch 42:\n",
            "\t Training Loss: 9.0669, Training Accuracy: 0.672, Val Loss: 7.3716, Val Accuracy: 0.7333\n"
          ]
        },
        {
          "output_type": "stream",
          "name": "stderr",
          "text": [
            "100%|██████████| 5/5 [00:00<00:00, 994.24it/s]\n"
          ]
        },
        {
          "output_type": "stream",
          "name": "stdout",
          "text": [
            "Epoch 43:\n",
            "\t Training Loss: 9.9503, Training Accuracy: 0.64, Val Loss: 7.3715, Val Accuracy: 0.7333\n"
          ]
        },
        {
          "output_type": "stream",
          "name": "stderr",
          "text": [
            "100%|██████████| 5/5 [00:00<00:00, 997.03it/s]\n"
          ]
        },
        {
          "output_type": "stream",
          "name": "stdout",
          "text": [
            "Epoch 44:\n",
            "\t Training Loss: 9.0656, Training Accuracy: 0.672, Val Loss: 7.3715, Val Accuracy: 0.7333\n"
          ]
        },
        {
          "output_type": "stream",
          "name": "stderr",
          "text": [
            "100%|██████████| 5/5 [00:00<00:00, 675.09it/s]\n"
          ]
        },
        {
          "output_type": "stream",
          "name": "stdout",
          "text": [
            "Epoch 45:\n",
            "\t Training Loss: 9.0677, Training Accuracy: 0.672, Val Loss: 7.3714, Val Accuracy: 0.7333\n"
          ]
        },
        {
          "output_type": "stream",
          "name": "stderr",
          "text": [
            "100%|██████████| 5/5 [00:00<00:00, 1117.05it/s]\n"
          ]
        },
        {
          "output_type": "stream",
          "name": "stdout",
          "text": [
            "Epoch 46:\n",
            "\t Training Loss: 9.0657, Training Accuracy: 0.672, Val Loss: 7.3714, Val Accuracy: 0.7333\n"
          ]
        },
        {
          "output_type": "stream",
          "name": "stderr",
          "text": [
            "100%|██████████| 5/5 [00:00<00:00, 953.08it/s]\n"
          ]
        },
        {
          "output_type": "stream",
          "name": "stdout",
          "text": [
            "Epoch 47:\n",
            "\t Training Loss: 9.0657, Training Accuracy: 0.672, Val Loss: 7.3714, Val Accuracy: 0.7333\n"
          ]
        },
        {
          "output_type": "stream",
          "name": "stderr",
          "text": [
            "100%|██████████| 5/5 [00:00<00:00, 883.42it/s]\n"
          ]
        },
        {
          "output_type": "stream",
          "name": "stdout",
          "text": [
            "Epoch 48:\n",
            "\t Training Loss: 9.0661, Training Accuracy: 0.672, Val Loss: 7.3713, Val Accuracy: 0.7333\n"
          ]
        },
        {
          "output_type": "stream",
          "name": "stderr",
          "text": [
            "100%|██████████| 5/5 [00:00<00:00, 875.02it/s]\n"
          ]
        },
        {
          "output_type": "stream",
          "name": "stdout",
          "text": [
            "Epoch 49:\n",
            "\t Training Loss: 9.0656, Training Accuracy: 0.672, Val Loss: 7.3712, Val Accuracy: 0.7333\n"
          ]
        },
        {
          "output_type": "stream",
          "name": "stderr",
          "text": [
            "100%|██████████| 5/5 [00:00<00:00, 905.00it/s]\n"
          ]
        },
        {
          "output_type": "stream",
          "name": "stdout",
          "text": [
            "Epoch 50:\n",
            "\t Training Loss: 11.718, Training Accuracy: 0.576, Val Loss: 7.3711, Val Accuracy: 0.7333\n"
          ]
        },
        {
          "output_type": "stream",
          "name": "stderr",
          "text": [
            "100%|██████████| 5/5 [00:00<00:00, 912.76it/s]\n"
          ]
        },
        {
          "output_type": "stream",
          "name": "stdout",
          "text": [
            "Epoch 51:\n",
            "\t Training Loss: 9.9497, Training Accuracy: 0.64, Val Loss: 7.3711, Val Accuracy: 0.7333\n"
          ]
        },
        {
          "output_type": "stream",
          "name": "stderr",
          "text": [
            "100%|██████████| 5/5 [00:00<00:00, 1049.57it/s]\n"
          ]
        },
        {
          "output_type": "stream",
          "name": "stdout",
          "text": [
            "Epoch 52:\n",
            "\t Training Loss: 9.9493, Training Accuracy: 0.64, Val Loss: 7.371, Val Accuracy: 0.7333\n"
          ]
        },
        {
          "output_type": "stream",
          "name": "stderr",
          "text": [
            "100%|██████████| 5/5 [00:00<00:00, 482.79it/s]\n"
          ]
        },
        {
          "output_type": "stream",
          "name": "stdout",
          "text": [
            "Epoch 53:\n",
            "\t Training Loss: 9.0652, Training Accuracy: 0.672, Val Loss: 7.371, Val Accuracy: 0.7333\n"
          ]
        },
        {
          "output_type": "stream",
          "name": "stderr",
          "text": [
            "100%|██████████| 5/5 [00:00<00:00, 560.84it/s]\n"
          ]
        },
        {
          "output_type": "stream",
          "name": "stdout",
          "text": [
            "Epoch 54:\n",
            "\t Training Loss: 9.9494, Training Accuracy: 0.64, Val Loss: 7.3709, Val Accuracy: 0.7333\n"
          ]
        },
        {
          "output_type": "stream",
          "name": "stderr",
          "text": [
            "100%|██████████| 5/5 [00:00<00:00, 860.94it/s]\n"
          ]
        },
        {
          "output_type": "stream",
          "name": "stdout",
          "text": [
            "Epoch 55:\n",
            "\t Training Loss: 11.7176, Training Accuracy: 0.576, Val Loss: 7.3709, Val Accuracy: 0.7333\n"
          ]
        },
        {
          "output_type": "stream",
          "name": "stderr",
          "text": [
            "100%|██████████| 5/5 [00:00<00:00, 876.66it/s]\n"
          ]
        },
        {
          "output_type": "stream",
          "name": "stdout",
          "text": [
            "Epoch 56:\n",
            "\t Training Loss: 9.9496, Training Accuracy: 0.64, Val Loss: 7.3709, Val Accuracy: 0.7333\n"
          ]
        },
        {
          "output_type": "stream",
          "name": "stderr",
          "text": [
            "100%|██████████| 5/5 [00:00<00:00, 871.49it/s]\n"
          ]
        },
        {
          "output_type": "stream",
          "name": "stdout",
          "text": [
            "Epoch 57:\n",
            "\t Training Loss: 8.1811, Training Accuracy: 0.704, Val Loss: 7.3708, Val Accuracy: 0.7333\n"
          ]
        },
        {
          "output_type": "stream",
          "name": "stderr",
          "text": [
            "100%|██████████| 5/5 [00:00<00:00, 810.37it/s]\n"
          ]
        },
        {
          "output_type": "stream",
          "name": "stdout",
          "text": [
            "Epoch 58:\n",
            "\t Training Loss: 11.7175, Training Accuracy: 0.576, Val Loss: 7.3708, Val Accuracy: 0.7333\n"
          ]
        },
        {
          "output_type": "stream",
          "name": "stderr",
          "text": [
            "100%|██████████| 5/5 [00:00<00:00, 841.45it/s]\n"
          ]
        },
        {
          "output_type": "stream",
          "name": "stdout",
          "text": [
            "Epoch 59:\n",
            "\t Training Loss: 10.8333, Training Accuracy: 0.608, Val Loss: 7.3707, Val Accuracy: 0.7333\n"
          ]
        },
        {
          "output_type": "stream",
          "name": "stderr",
          "text": [
            "100%|██████████| 5/5 [00:00<00:00, 781.24it/s]\n"
          ]
        },
        {
          "output_type": "stream",
          "name": "stdout",
          "text": [
            "Epoch 60:\n",
            "\t Training Loss: 10.8338, Training Accuracy: 0.608, Val Loss: 7.3707, Val Accuracy: 0.7333\n"
          ]
        },
        {
          "output_type": "stream",
          "name": "stderr",
          "text": [
            "100%|██████████| 5/5 [00:00<00:00, 635.67it/s]\n"
          ]
        },
        {
          "output_type": "stream",
          "name": "stdout",
          "text": [
            "Epoch 61:\n",
            "\t Training Loss: 9.067, Training Accuracy: 0.672, Val Loss: 7.3707, Val Accuracy: 0.7333\n"
          ]
        },
        {
          "output_type": "stream",
          "name": "stderr",
          "text": [
            "100%|██████████| 5/5 [00:00<00:00, 553.57it/s]\n"
          ]
        },
        {
          "output_type": "stream",
          "name": "stdout",
          "text": [
            "Epoch 62:\n",
            "\t Training Loss: 9.9495, Training Accuracy: 0.64, Val Loss: 7.3707, Val Accuracy: 0.7333\n"
          ]
        },
        {
          "output_type": "stream",
          "name": "stderr",
          "text": [
            "100%|██████████| 5/5 [00:00<00:00, 839.40it/s]\n"
          ]
        },
        {
          "output_type": "stream",
          "name": "stdout",
          "text": [
            "Epoch 63:\n",
            "\t Training Loss: 10.8333, Training Accuracy: 0.608, Val Loss: 7.3707, Val Accuracy: 0.7333\n"
          ]
        },
        {
          "output_type": "stream",
          "name": "stderr",
          "text": [
            "100%|██████████| 5/5 [00:00<00:00, 770.30it/s]\n"
          ]
        },
        {
          "output_type": "stream",
          "name": "stdout",
          "text": [
            "Epoch 64:\n",
            "\t Training Loss: 9.9491, Training Accuracy: 0.64, Val Loss: 7.3706, Val Accuracy: 0.7333\n"
          ]
        },
        {
          "output_type": "stream",
          "name": "stderr",
          "text": [
            "100%|██████████| 5/5 [00:00<00:00, 736.23it/s]\n"
          ]
        },
        {
          "output_type": "stream",
          "name": "stdout",
          "text": [
            "Epoch 65:\n",
            "\t Training Loss: 9.065, Training Accuracy: 0.672, Val Loss: 7.3706, Val Accuracy: 0.7333\n"
          ]
        },
        {
          "output_type": "stream",
          "name": "stderr",
          "text": [
            "100%|██████████| 5/5 [00:00<00:00, 762.96it/s]\n"
          ]
        },
        {
          "output_type": "stream",
          "name": "stdout",
          "text": [
            "Epoch 66:\n",
            "\t Training Loss: 9.9504, Training Accuracy: 0.64, Val Loss: 7.3706, Val Accuracy: 0.7333\n"
          ]
        },
        {
          "output_type": "stream",
          "name": "stderr",
          "text": [
            "100%|██████████| 5/5 [00:00<00:00, 1317.06it/s]\n"
          ]
        },
        {
          "output_type": "stream",
          "name": "stdout",
          "text": [
            "Epoch 67:\n",
            "\t Training Loss: 9.9493, Training Accuracy: 0.64, Val Loss: 7.3706, Val Accuracy: 0.7333\n"
          ]
        },
        {
          "output_type": "stream",
          "name": "stderr",
          "text": [
            "100%|██████████| 5/5 [00:00<00:00, 843.79it/s]\n"
          ]
        },
        {
          "output_type": "stream",
          "name": "stdout",
          "text": [
            "Epoch 68:\n",
            "\t Training Loss: 11.7174, Training Accuracy: 0.576, Val Loss: 7.3706, Val Accuracy: 0.7333\n"
          ]
        },
        {
          "output_type": "stream",
          "name": "stderr",
          "text": [
            "100%|██████████| 5/5 [00:00<00:00, 783.72it/s]\n"
          ]
        },
        {
          "output_type": "stream",
          "name": "stdout",
          "text": [
            "Epoch 69:\n",
            "\t Training Loss: 9.0662, Training Accuracy: 0.672, Val Loss: 7.3705, Val Accuracy: 0.7333\n"
          ]
        },
        {
          "output_type": "stream",
          "name": "stderr",
          "text": [
            "100%|██████████| 5/5 [00:00<00:00, 902.16it/s]\n"
          ]
        },
        {
          "output_type": "stream",
          "name": "stdout",
          "text": [
            "Epoch 70:\n",
            "\t Training Loss: 9.9502, Training Accuracy: 0.64, Val Loss: 7.3705, Val Accuracy: 0.7333\n"
          ]
        },
        {
          "output_type": "stream",
          "name": "stderr",
          "text": [
            "100%|██████████| 5/5 [00:00<00:00, 550.29it/s]\n"
          ]
        },
        {
          "output_type": "stream",
          "name": "stdout",
          "text": [
            "Epoch 71:\n",
            "\t Training Loss: 8.181, Training Accuracy: 0.704, Val Loss: 7.3705, Val Accuracy: 0.7333\n"
          ]
        },
        {
          "output_type": "stream",
          "name": "stderr",
          "text": [
            "100%|██████████| 5/5 [00:00<00:00, 754.29it/s]\n"
          ]
        },
        {
          "output_type": "stream",
          "name": "stdout",
          "text": [
            "Epoch 72:\n",
            "\t Training Loss: 11.7172, Training Accuracy: 0.576, Val Loss: 7.3705, Val Accuracy: 0.7333\n"
          ]
        },
        {
          "output_type": "stream",
          "name": "stderr",
          "text": [
            "100%|██████████| 5/5 [00:00<00:00, 1004.91it/s]\n"
          ]
        },
        {
          "output_type": "stream",
          "name": "stdout",
          "text": [
            "Epoch 73:\n",
            "\t Training Loss: 10.8333, Training Accuracy: 0.608, Val Loss: 7.3704, Val Accuracy: 0.7333\n"
          ]
        },
        {
          "output_type": "stream",
          "name": "stderr",
          "text": [
            "100%|██████████| 5/5 [00:00<00:00, 795.13it/s]\n"
          ]
        },
        {
          "output_type": "stream",
          "name": "stdout",
          "text": [
            "Epoch 74:\n",
            "\t Training Loss: 9.9489, Training Accuracy: 0.64, Val Loss: 7.3703, Val Accuracy: 0.7333\n"
          ]
        },
        {
          "output_type": "stream",
          "name": "stderr",
          "text": [
            "100%|██████████| 5/5 [00:00<00:00, 1081.17it/s]\n"
          ]
        },
        {
          "output_type": "stream",
          "name": "stdout",
          "text": [
            "Epoch 75:\n",
            "\t Training Loss: 9.95, Training Accuracy: 0.64, Val Loss: 7.3703, Val Accuracy: 0.7333\n"
          ]
        },
        {
          "output_type": "stream",
          "name": "stderr",
          "text": [
            "100%|██████████| 5/5 [00:00<00:00, 724.91it/s]\n"
          ]
        },
        {
          "output_type": "stream",
          "name": "stdout",
          "text": [
            "Epoch 76:\n",
            "\t Training Loss: 9.0649, Training Accuracy: 0.672, Val Loss: 7.3702, Val Accuracy: 0.7333\n"
          ]
        },
        {
          "output_type": "stream",
          "name": "stderr",
          "text": [
            "100%|██████████| 5/5 [00:00<00:00, 734.04it/s]\n"
          ]
        },
        {
          "output_type": "stream",
          "name": "stdout",
          "text": [
            "Epoch 77:\n",
            "\t Training Loss: 11.7171, Training Accuracy: 0.576, Val Loss: 7.3702, Val Accuracy: 0.7333\n"
          ]
        },
        {
          "output_type": "stream",
          "name": "stderr",
          "text": [
            "100%|██████████| 5/5 [00:00<00:00, 859.14it/s]\n"
          ]
        },
        {
          "output_type": "stream",
          "name": "stdout",
          "text": [
            "Epoch 78:\n",
            "\t Training Loss: 9.0648, Training Accuracy: 0.672, Val Loss: 7.3702, Val Accuracy: 0.7333\n"
          ]
        },
        {
          "output_type": "stream",
          "name": "stderr",
          "text": [
            "100%|██████████| 5/5 [00:00<00:00, 696.64it/s]\n"
          ]
        },
        {
          "output_type": "stream",
          "name": "stdout",
          "text": [
            "Epoch 79:\n",
            "\t Training Loss: 10.833, Training Accuracy: 0.608, Val Loss: 7.3701, Val Accuracy: 0.7333\n"
          ]
        },
        {
          "output_type": "stream",
          "name": "stderr",
          "text": [
            "100%|██████████| 5/5 [00:00<00:00, 671.15it/s]\n"
          ]
        },
        {
          "output_type": "stream",
          "name": "stdout",
          "text": [
            "Epoch 80:\n",
            "\t Training Loss: 11.717, Training Accuracy: 0.576, Val Loss: 7.3701, Val Accuracy: 0.7333\n"
          ]
        },
        {
          "output_type": "stream",
          "name": "stderr",
          "text": [
            "100%|██████████| 5/5 [00:00<00:00, 764.55it/s]\n"
          ]
        },
        {
          "output_type": "stream",
          "name": "stdout",
          "text": [
            "Epoch 81:\n",
            "\t Training Loss: 9.949, Training Accuracy: 0.64, Val Loss: 7.3701, Val Accuracy: 0.7333\n"
          ]
        },
        {
          "output_type": "stream",
          "name": "stderr",
          "text": [
            "100%|██████████| 5/5 [00:00<00:00, 854.03it/s]\n"
          ]
        },
        {
          "output_type": "stream",
          "name": "stdout",
          "text": [
            "Epoch 82:\n",
            "\t Training Loss: 9.0645, Training Accuracy: 0.672, Val Loss: 7.3701, Val Accuracy: 0.7333\n"
          ]
        },
        {
          "output_type": "stream",
          "name": "stderr",
          "text": [
            "100%|██████████| 5/5 [00:00<00:00, 825.94it/s]\n"
          ]
        },
        {
          "output_type": "stream",
          "name": "stdout",
          "text": [
            "Epoch 83:\n",
            "\t Training Loss: 8.1804, Training Accuracy: 0.704, Val Loss: 7.3701, Val Accuracy: 0.7333\n"
          ]
        },
        {
          "output_type": "stream",
          "name": "stderr",
          "text": [
            "100%|██████████| 5/5 [00:00<00:00, 886.71it/s]\n"
          ]
        },
        {
          "output_type": "stream",
          "name": "stdout",
          "text": [
            "Epoch 84:\n",
            "\t Training Loss: 10.8329, Training Accuracy: 0.608, Val Loss: 7.37, Val Accuracy: 0.7333\n"
          ]
        },
        {
          "output_type": "stream",
          "name": "stderr",
          "text": [
            "100%|██████████| 5/5 [00:00<00:00, 647.51it/s]\n"
          ]
        },
        {
          "output_type": "stream",
          "name": "stdout",
          "text": [
            "Epoch 85:\n",
            "\t Training Loss: 9.0644, Training Accuracy: 0.672, Val Loss: 7.37, Val Accuracy: 0.7333\n"
          ]
        },
        {
          "output_type": "stream",
          "name": "stderr",
          "text": [
            "100%|██████████| 5/5 [00:00<00:00, 770.08it/s]\n"
          ]
        },
        {
          "output_type": "stream",
          "name": "stdout",
          "text": [
            "Epoch 86:\n",
            "\t Training Loss: 9.9488, Training Accuracy: 0.64, Val Loss: 7.37, Val Accuracy: 0.7333\n"
          ]
        },
        {
          "output_type": "stream",
          "name": "stderr",
          "text": [
            "100%|██████████| 5/5 [00:00<00:00, 788.97it/s]\n"
          ]
        },
        {
          "output_type": "stream",
          "name": "stdout",
          "text": [
            "Epoch 87:\n",
            "\t Training Loss: 10.8328, Training Accuracy: 0.608, Val Loss: 7.37, Val Accuracy: 0.7333\n"
          ]
        },
        {
          "output_type": "stream",
          "name": "stderr",
          "text": [
            "100%|██████████| 5/5 [00:00<00:00, 795.79it/s]\n"
          ]
        },
        {
          "output_type": "stream",
          "name": "stdout",
          "text": [
            "Epoch 88:\n",
            "\t Training Loss: 9.0646, Training Accuracy: 0.672, Val Loss: 7.37, Val Accuracy: 0.7333\n"
          ]
        },
        {
          "output_type": "stream",
          "name": "stderr",
          "text": [
            "100%|██████████| 5/5 [00:00<00:00, 1211.39it/s]\n"
          ]
        },
        {
          "output_type": "stream",
          "name": "stdout",
          "text": [
            "Epoch 89:\n",
            "\t Training Loss: 9.9486, Training Accuracy: 0.64, Val Loss: 7.3699, Val Accuracy: 0.7333\n"
          ]
        },
        {
          "output_type": "stream",
          "name": "stderr",
          "text": [
            "100%|██████████| 5/5 [00:00<00:00, 1386.09it/s]\n"
          ]
        },
        {
          "output_type": "stream",
          "name": "stdout",
          "text": [
            "Epoch 90:\n",
            "\t Training Loss: 9.9493, Training Accuracy: 0.64, Val Loss: 7.3699, Val Accuracy: 0.7333\n"
          ]
        },
        {
          "output_type": "stream",
          "name": "stderr",
          "text": [
            "100%|██████████| 5/5 [00:00<00:00, 823.48it/s]\n"
          ]
        },
        {
          "output_type": "stream",
          "name": "stdout",
          "text": [
            "Epoch 91:\n",
            "\t Training Loss: 9.9485, Training Accuracy: 0.64, Val Loss: 7.3699, Val Accuracy: 0.7333\n"
          ]
        },
        {
          "output_type": "stream",
          "name": "stderr",
          "text": [
            "100%|██████████| 5/5 [00:00<00:00, 876.59it/s]\n"
          ]
        },
        {
          "output_type": "stream",
          "name": "stdout",
          "text": [
            "Epoch 92:\n",
            "\t Training Loss: 11.7169, Training Accuracy: 0.576, Val Loss: 7.3699, Val Accuracy: 0.7333\n"
          ]
        },
        {
          "output_type": "stream",
          "name": "stderr",
          "text": [
            "100%|██████████| 5/5 [00:00<00:00, 867.95it/s]\n"
          ]
        },
        {
          "output_type": "stream",
          "name": "stdout",
          "text": [
            "Epoch 93:\n",
            "\t Training Loss: 9.9485, Training Accuracy: 0.64, Val Loss: 7.3699, Val Accuracy: 0.7333\n"
          ]
        },
        {
          "output_type": "stream",
          "name": "stderr",
          "text": [
            "100%|██████████| 5/5 [00:00<00:00, 857.03it/s]\n"
          ]
        },
        {
          "output_type": "stream",
          "name": "stdout",
          "text": [
            "Epoch 94:\n",
            "\t Training Loss: 9.0644, Training Accuracy: 0.672, Val Loss: 7.3699, Val Accuracy: 0.7333\n"
          ]
        },
        {
          "output_type": "stream",
          "name": "stderr",
          "text": [
            "100%|██████████| 5/5 [00:00<00:00, 481.63it/s]\n"
          ]
        },
        {
          "output_type": "stream",
          "name": "stdout",
          "text": [
            "Epoch 95:\n",
            "\t Training Loss: 9.0646, Training Accuracy: 0.672, Val Loss: 7.3698, Val Accuracy: 0.7333\n"
          ]
        },
        {
          "output_type": "stream",
          "name": "stderr",
          "text": [
            "100%|██████████| 5/5 [00:00<00:00, 447.16it/s]\n"
          ]
        },
        {
          "output_type": "stream",
          "name": "stdout",
          "text": [
            "Epoch 96:\n",
            "\t Training Loss: 11.717, Training Accuracy: 0.576, Val Loss: 7.3698, Val Accuracy: 0.7333\n"
          ]
        },
        {
          "output_type": "stream",
          "name": "stderr",
          "text": [
            "100%|██████████| 5/5 [00:00<00:00, 1043.88it/s]\n"
          ]
        },
        {
          "output_type": "stream",
          "name": "stdout",
          "text": [
            "Epoch 97:\n",
            "\t Training Loss: 9.0643, Training Accuracy: 0.672, Val Loss: 7.3698, Val Accuracy: 0.7333\n"
          ]
        },
        {
          "output_type": "stream",
          "name": "stderr",
          "text": [
            "100%|██████████| 5/5 [00:00<00:00, 799.71it/s]\n"
          ]
        },
        {
          "output_type": "stream",
          "name": "stdout",
          "text": [
            "Epoch 98:\n",
            "\t Training Loss: 9.9487, Training Accuracy: 0.64, Val Loss: 7.3698, Val Accuracy: 0.7333\n"
          ]
        },
        {
          "output_type": "stream",
          "name": "stderr",
          "text": [
            "100%|██████████| 5/5 [00:00<00:00, 1529.54it/s]\n"
          ]
        },
        {
          "output_type": "stream",
          "name": "stdout",
          "text": [
            "Epoch 99:\n",
            "\t Training Loss: 8.1801, Training Accuracy: 0.704, Val Loss: 7.3698, Val Accuracy: 0.7333\n",
            "\n",
            "Test Loss: 7.1849, Test Accuracy: 0.74\n"
          ]
        }
      ],
      "source": [
        "#@title Training a two-layer feed forward neural network\n",
        "\n",
        "# An attribute dictionary is exactly like a dictionary,\n",
        "# except you can access the values as attributes rather than keys.\n",
        "class AttrDict(dict):\n",
        "  def __init__(self, *args, **kwargs):\n",
        "    super(AttrDict, self).__init__(*args, **kwargs)\n",
        "    self.__dict__ = self\n",
        "\n",
        "\n",
        "# Define layer arguments\n",
        "fc1 = AttrDict({\"activation\": \"relu\", \"n_out\": 5})\n",
        "fc_out = AttrDict({\"activation\": \"softmax\", \"n_out\": None}) # n_out is not defined for last layer. This will be set by the dataset.\n",
        "layer_args = [fc1, fc_out]\n",
        "\n",
        "# Define model, data, and logger arguments\n",
        "optimizer_args = AttrDict({\"lr\": 0.01, \"momentum_hyperparameter\": 0.9})\n",
        "model_args = AttrDict({\"loss\": \"cross_entropy\", \"layer_args\": layer_args,\n",
        "                       \"optimizer_args\": optimizer_args, \"seed\": 0})\n",
        "data_args = AttrDict({\"name\": \"iris\", \"batch_size\": 25})\n",
        "log_args = AttrDict({\"save\": True, \"plot\": True, \"save_dir\": \"experiments/\"})\n",
        "\n",
        "# Set random seed. Random seed must be set before importing other modules.\n",
        "import numpy as np\n",
        "np.random.seed(model_args.seed)\n",
        "\n",
        "# Define model name for saving.\n",
        "model_name = f'{len(layer_args)}layers' + f'_{fc1[\"n_out\"]}' + f'-lr{optimizer_args.lr}' +\\\n",
        "             f'_mom{optimizer_args.momentum_hyperparameter}' + f'_seed{model_args.seed}'\n",
        "\n",
        "# Initialize logger, model, and dataset.\n",
        "from model import NeuralNetworkModel\n",
        "from util import Dataset, Logger\n",
        "logger = Logger(model_name=model_name, model_args=model_args, data_args=data_args,\n",
        "                save=log_args.save, plot=log_args.plot, save_dir=log_args.save_dir)\n",
        "model = NeuralNetworkModel(loss=model_args.loss, layer_args=model_args.layer_args,\n",
        "                           optimizer_args=model_args.optimizer_args, logger=logger)\n",
        "dataset = Dataset(\n",
        "    np.load('datasets/iris/iris_train_data.npy'),\n",
        "    np.load('datasets/iris/iris_train_labels.npy'),\n",
        "    data_args.batch_size,\n",
        "    np.load('datasets/iris/iris_val_data.npy'),\n",
        "    np.load('datasets/iris/iris_val_labels.npy'),\n",
        "    np.load('datasets/iris/iris_test_data.npy'),\n",
        "    np.load('datasets/iris/iris_test_labels.npy')\n",
        "    )\n",
        "\n",
        "# Train model!\n",
        "epochs = 100\n",
        "print(f\"Training feed forward neural network on {data_args.name} with SGD for {epochs} epochs...\")\n",
        "model.train(dataset, epochs=epochs)\n",
        "test_log = model.test(dataset)"
      ]
    },
    {
      "cell_type": "markdown",
      "metadata": {
        "id": "-YarXov-KxI3"
      },
      "source": [
        "# 2. Implementing Neural Networks Using `PyTorch`\n",
        "\n",
        "This part of the assignment is designed to get you familiar with how engineerings in the real world train neural network systems.\n",
        "\n",
        "This notebook will have the following components:\n",
        "\n",
        "  1. Understanding the basics of Pytorch (no deliverables)\n",
        "  2. Training a simple neural network on MNIST (Deliverable = training graphs)\n",
        "\n",
        "You will also get practice being an ML engineer by reading documentation and using it to implement models. The first section of this notebook will cover an outline of what you need to know -- we are confident that you can find the rest on your own."
      ]
    },
    {
      "cell_type": "code",
      "execution_count": 17,
      "metadata": {
        "id": "sDTqLsXYLqV7"
      },
      "outputs": [],
      "source": [
        "#@title ## 2.0. Imports for pytorch\n",
        "import numpy as np\n",
        "import torch\n",
        "import torchvision\n",
        "from torch import nn\n",
        "import matplotlib\n",
        "from matplotlib import pyplot as plt\n",
        "from tqdm.notebook import tqdm"
      ]
    },
    {
      "cell_type": "markdown",
      "metadata": {
        "id": "3DopnglQLXl-"
      },
      "source": [
        "## 2.1. Understanding Pytorch\n",
        "\n",
        "Pytorch is based on the \"autograd\" paradigm. Essentially, you perform operations on multi-dimensional arrays like in numpy, except pytorch will automatically handle gradient tracking. In this section you will understand how to use pytorch.\n",
        "\n",
        "This section should help you understand the full pipeline of creating and training a model in pytorch. Feel free to re-use code from this section in the assigned tasks.\n",
        "\n",
        "Content in this section closely follows this pytorch tutorial: https://pytorch.org/tutorials/beginner/basics/intro.html"
      ]
    },
    {
      "cell_type": "code",
      "execution_count": null,
      "metadata": {
        "colab": {
          "base_uri": "https://localhost:8080/"
        },
        "id": "kR8fS8KtKhwF",
        "outputId": "3ea7cfe4-573d-4591-e793-0af8cf8a8ef0"
      },
      "outputs": [
        {
          "name": "stdout",
          "output_type": "stream",
          "text": [
            "Tensor from np: \n",
            " tensor([[1, 2],\n",
            "        [3, 4]]) \n",
            "\n",
            "Rand Tensor: \n",
            " tensor([[0.2871, 0.2241, 0.4341],\n",
            "        [0.4298, 0.8472, 0.5758]]) \n",
            "\n",
            "Rand Numpy Array: \n",
            " [[0.28712815 0.2240519  0.43410254]\n",
            " [0.42980546 0.8471543  0.5757566 ]] \n",
            "\n",
            "First row:  tensor([1., 1., 1., 1.])\n",
            "First column:  tensor([1., 1., 1., 1.])\n",
            "Sum as a tensor: tensor(64.) , Sum as an item: 64.0\n",
            "tensor([[2., 2., 2.],\n",
            "        [2., 2., 2.],\n",
            "        [2., 2., 2.],\n",
            "        [2., 2., 2.]])\n",
            "tensor([[0.9155, 0.2129, 0.8663],\n",
            "        [0.4605, 0.1286, 0.0233],\n",
            "        [0.3237, 0.2994, 0.0014],\n",
            "        [0.5030, 0.7554, 0.0610]])\n",
            "tensor([[1.9155, 1.2129, 1.8663],\n",
            "        [1.4605, 1.1286, 1.0233],\n",
            "        [1.3237, 1.2994, 1.0014],\n",
            "        [1.5030, 1.7554, 1.0610]])\n",
            "torch.Size([4, 3]) torch.Size([12]) torch.Size([3, 4])\n"
          ]
        }
      ],
      "source": [
        "#@title ## 2.1.1 Tensors\n",
        "\n",
        "#@markdown Tensors can be created from numpy data or by using pytorch directly.\n",
        "\n",
        "#@markdown They also support slicing and math operations very similar to numpy.\n",
        "\n",
        "#@markdown See the examples in this cell.\n",
        "\n",
        "data = [[1, 2],[3, 4]]\n",
        "x_data = torch.tensor(data)\n",
        "\n",
        "np_array = np.array(data)\n",
        "x_np = torch.from_numpy(np_array)\n",
        "\n",
        "shape = (2,3,)\n",
        "rand_tensor = torch.rand(shape)\n",
        "np_rand_array = rand_tensor.numpy()\n",
        "\n",
        "print(f\"Tensor from np: \\n {x_np} \\n\")\n",
        "print(f\"Rand Tensor: \\n {rand_tensor} \\n\")\n",
        "print(f\"Rand Numpy Array: \\n {np_rand_array} \\n\")\n",
        "\n",
        "# Slicing\n",
        "tensor = torch.ones(4, 4)\n",
        "print('First row: ',tensor[0])\n",
        "print('First column: ', tensor[:, 0])\n",
        "\n",
        "# Matrix Operations multiplication\n",
        "y1 = tensor @ tensor.T\n",
        "y2 = tensor.matmul(tensor.T)\n",
        "\n",
        "# Getting a single item\n",
        "scalar = torch.sum(y1) # sums all elements\n",
        "item = scalar.item() # converting single tensor value to a Python number\n",
        "print(\"Sum as a tensor:\", scalar, \", Sum as an item:\", item)\n",
        "\n",
        "# tensor addition\n",
        "x = torch.ones(4, 3)\n",
        "y = torch.ones(4, 3)\n",
        "print(x + y)\n",
        "\n",
        "# tensor multiplication\n",
        "x = torch.rand(4, 3)\n",
        "y = torch.ones(4, 3)\n",
        "print(x * y)\n",
        "\n",
        "# Provide output tensor as argument\n",
        "result = torch.ones(4,3)\n",
        "# specify a pre-allocated tensor where the result of the operation will be stored\n",
        "torch.add(x, y, out = result)\n",
        "print(result)\n",
        "\n",
        "# resize and reshape tensors\n",
        "x = torch.randn(4, 3)\n",
        "y = x.view(12)\n",
        "z = x.view(-1, 4)  # the size -1 is inferred from other dimensions\n",
        "print(x.size(), y.size(), z.size())"
      ]
    },
    {
      "cell_type": "code",
      "execution_count": null,
      "metadata": {
        "id": "sxZ62AgDNNb9"
      },
      "outputs": [],
      "source": [
        "#@title ## 2.1.2. Autograd\n",
        "#@markdown This small section shows you how pytorch computes gradients.\n",
        "\n",
        "#@markdown When we create tenors, we can set `requires_grad` to be true to indicate\n",
        "#@markdown that we are using gradients. For most of the work that you actually do,\n",
        "#@markdown you will use the `nn` package, which automatically sets all parameter\n",
        "#@markdown tensors to have `requires_grad=True`.\n",
        "\n",
        "#@markdown This cell is an example of computing the gradient for a single data\n",
        "#@markdown point in logistic regression using pytorch's autograd.\n",
        "\n",
        "\n",
        "x = torch.ones(5)  # input tensor\n",
        "y = torch.zeros(1) # label\n",
        "w = torch.randn(5, 1, requires_grad=True)\n",
        "b = torch.randn(1, requires_grad=True)\n",
        "pred = torch.sigmoid(torch.matmul(x, w) + b)\n",
        "loss = torch.nn.functional.binary_cross_entropy(pred, y)\n",
        "loss.backward() # Computers gradients\n",
        "print(\"W gradient:\", w.grad)\n",
        "print(\"b gradient:\", b.grad)\n",
        "\n",
        "# when we want to actually take an update step, we can use optimizers:\n",
        "optimizer = torch.optim.SGD([w, b], lr=0.1)\n",
        "print(\"Weight before\", w)\n",
        "optimizer.step() # use the computed gradients to update\n",
        "# Print updated weights\n",
        "print(\"Updated weight\", w)\n",
        "\n",
        "# Performing operations with gradients enabled is slow...\n",
        "# You can disable gradient computation using the following enclosure:\n",
        "with torch.no_grad():\n",
        "    # Perform operations without gradients\n",
        "    ..."
      ]
    },
    {
      "cell_type": "code",
      "execution_count": null,
      "metadata": {
        "colab": {
          "base_uri": "https://localhost:8080/"
        },
        "id": "XRH3sYIlPABG",
        "outputId": "8958d76d-eaac-4a6a-d8a5-19240337b6c8"
      },
      "outputs": [
        {
          "name": "stdout",
          "output_type": "stream",
          "text": [
            "Using device cpu\n"
          ]
        }
      ],
      "source": [
        "#@title ## 2.1.3. Devices\n",
        "\n",
        "#@markdown Pytorch supports accelerating computation using GPUs which are available on google colab. To use a GPU on google colab, go to runtime -> change runtime type -> select GPU.\n",
        "\n",
        "#@markdown Note that there is some level of strategy for knowing when to use which runtime type. Colab will kick users off of GPU for a certain period of time if you use it too much. Thus, its best to run simple models and prototype to get everything working on CPU, then switch the instance type over to GPU for training runs and parameter tuning.\n",
        "\n",
        "#@markdown Its best practice to make sure your code works on any device (GPU or CPU) for pytorch, but note that numpy operations can only run on the CPU. Here is a standard flow for using GPU acceleration:\n",
        "\n",
        "\n",
        "# Determine the device\n",
        "device = torch.device(\"cuda\" if torch.cuda.is_available() else \"cpu\")\n",
        "print(\"Using device\", device)\n",
        "# Next create your tensors\n",
        "tensor = torch.zeros(4, 4, requires_grad=True)\n",
        "# Move the tensor to the device you want to use\n",
        "tensor = tensor.to(device)\n",
        "\n",
        "# Perform whatever operations you want.... (often this will involve gradients)\n",
        "# These operations will be accelerated by GPU.\n",
        "tensor = 10*(tensor + 1)\n",
        "\n",
        "# bring the tensor back to CPU, first detaching it from any gradient computations\n",
        "tensor = tensor.detach().cpu()\n",
        "\n",
        "tensor_np = tensor.numpy() # Convert to numpy if you want to perform numpy operations."
      ]
    },
    {
      "cell_type": "code",
      "execution_count": null,
      "metadata": {
        "id": "D1QjqZ9JPcLk"
      },
      "outputs": [],
      "source": [
        "#@title ## 2.1.4. The NN Package\n",
        "\n",
        "#@markdown Pytorch implements composable blocks in `Module` classes. All layers\n",
        "#@markdown and modules in pytorch inherit from `nn.Module`. When you make a module\n",
        "#@markdown you need to implement two functions: `__init__(self, *args, **kwargs)`\n",
        "#@markdown and `foward(self, *args, **kwargs)`. Modules also have some nice helper\n",
        "#@markdown functions, namely `parameters` which will recursively return all of the\n",
        "#@markdown parameters. Here is an example of a logistic regression model:\n",
        "\n",
        "class Perceptron(nn.Module):\n",
        "  def __init__(self, in_dim):\n",
        "    super().__init__()\n",
        "    self.layer = nn.Linear(in_dim, 1) # This is a linear layer, it computes Xw + b\n",
        "\n",
        "  def forward(self, x):\n",
        "    return torch.sigmoid(self.layer(x)).squeeze(-1)\n",
        "\n",
        "perceptron = Perceptron(10)\n",
        "perceptron = perceptron.to(device) # Move all the perceptron's tensors to the device\n",
        "print(\"Parameters\", list(perceptron.parameters()))"
      ]
    },
    {
      "cell_type": "code",
      "execution_count": null,
      "metadata": {
        "id": "RLPqGIsQPtzn"
      },
      "outputs": [],
      "source": [
        "#@title ## 2.1.5. Datasets\n",
        "\n",
        "#@markdown Pytorch has nice interfaces for using datasets.\n",
        "\n",
        "#@markdown Suppose we create a logistic regression dataset as follows:\n",
        "\n",
        "c1_x1, c1_x2 = np.random.multivariate_normal([-2.5,3], [[1, 0.3],[0.3, 1]], 100).T\n",
        "c2_x1, c2_x2 = np.random.multivariate_normal([1,1], [[2, 1],[1, 2]], 100).T\n",
        "c1_X = np.vstack((c1_x1, c1_x2)).T\n",
        "c2_X = np.vstack((c2_x1, c2_x2)).T\n",
        "train_X = np.concatenate((c1_X, c2_X))\n",
        "train_y = np.concatenate((np.zeros(100), np.ones(100)))\n",
        "# Shuffle the data\n",
        "permutation = np.random.permutation(train_X.shape[0])\n",
        "train_X = train_X[permutation, :]\n",
        "train_y = train_y[permutation]\n",
        "# Plot the data\n",
        "plt.plot(c1_x1, c1_x2, 'x')\n",
        "plt.plot(c2_x1, c2_x2, 'o')\n",
        "plt.axis('equal')\n",
        "plt.show()"
      ]
    },
    {
      "cell_type": "code",
      "execution_count": null,
      "metadata": {
        "id": "_iU07k9aQDKP"
      },
      "outputs": [],
      "source": [
        "#@title ### 2.1.5.1 Datasets and DataLoader\n",
        "\n",
        "#@markdown We can then create a pytorch dataset object as follows. Often times,\n",
        "#@markdown the default pytorch datasets will create these objects for you. Then,\n",
        "#@markdown we can apply dataloaders to iterate over the dataset in batches.\n",
        "\n",
        "dataset = torch.utils.data.TensorDataset(torch.from_numpy(train_X), torch.from_numpy(train_y))\n",
        "# We can create a dataloader that iterates over the dataset in batches.\n",
        "dataloader = torch.utils.data.DataLoader(dataset, batch_size=10, shuffle=True)\n",
        "for x, y in dataloader:\n",
        "    print(\"Batch x:\", x)\n",
        "    print(\"Batch y:\", y)\n",
        "    break\n",
        "\n",
        "# Clean up the dataloader as we make a new one later\n",
        "del dataloader"
      ]
    },
    {
      "cell_type": "code",
      "execution_count": null,
      "metadata": {
        "id": "tCDx-YrnQwmz"
      },
      "outputs": [],
      "source": [
        "#@title ## 2.1.6. Training Loop Example\n",
        "\n",
        "#@markdown Here is an example of training a full logistic regression model in\n",
        "#@markdown pytorch. Note the extensive use of modules -- modules can be used for\n",
        "#@markdown storing networks, computation steps etc.\n",
        "\n",
        "device = torch.device(\"cuda\" if torch.cuda.is_available() else \"cpu\")\n",
        "print(\"Using device\", device)\n",
        "\n",
        "epochs = 10\n",
        "batch_size = 10\n",
        "learning_rate = 0.01\n",
        "\n",
        "num_features = dataset[0][0].shape[0]\n",
        "model = Perceptron(num_features).to(device)\n",
        "optimizer = torch.optim.SGD(model.parameters(), lr=learning_rate)\n",
        "criterion = torch.nn.BCELoss()\n",
        "dataloader = torch.utils.data.DataLoader(dataset, batch_size=batch_size, shuffle=True)\n",
        "\n",
        "model.train() # Put model in training mode\n",
        "for epoch in range(epochs):\n",
        "    training_losses = []\n",
        "    for x, y in tqdm(dataloader, unit=\"batch\"):\n",
        "        x, y = x.float().to(device), y.float().to(device)\n",
        "        optimizer.zero_grad() # Remove the gradients from the previous step\n",
        "        pred = model(x)\n",
        "        loss = criterion(pred, y)\n",
        "        loss.backward()\n",
        "        optimizer.step()\n",
        "        training_losses.append(loss.item())\n",
        "    print(\"Finished Epoch\", epoch + 1, \", training loss:\", np.mean(training_losses))\n",
        "\n",
        "# We can run predictions on the data to determine the final accuracy.\n",
        "with torch.no_grad():\n",
        "    model.eval() # Put model in eval mode\n",
        "    num_correct = 0\n",
        "    for x, y in dataloader:\n",
        "        x, y = x.float().to(device), y.float().to(device)\n",
        "        pred = model(x)\n",
        "        num_correct += torch.sum(torch.round(pred) == y).item()\n",
        "    print(\"Final Accuracy:\", num_correct / len(dataset))\n",
        "    model.train() # Put model back in train mode"
      ]
    },
    {
      "cell_type": "markdown",
      "metadata": {
        "id": "yOg-LKSzRCK0"
      },
      "source": [
        "## 2.2. Task: MLP For FashionMNIST\n",
        "Now you will train a multi-layer perceptron model on an MNIST-like dataset. Your deliverables are as follows:\n",
        "\n",
        "1. Code for training an MLP on MNIST (can be in code appendix, tagged in your submission).\n",
        "2. A plot of the training loss and validation loss for each epoch of training after trainnig for at least 8 epochs.\n",
        "3. A plot of the training and validation accuracy, showing that it is at least 82% for validation by the end of training.\n",
        "\n",
        "Below we will create the training and validation datasets for you, and provide a very basic skeleton of the code. Please leverage the example training loop from above.\n",
        "\n",
        "Some pytorch components you should definitely use:\n",
        "1. `nn.Linear`\n",
        "2. Some activation function like `nn.ReLU`\n",
        "3. `nn.CrossEntropyLoss`: if you choose to use `nn.CrossEntropyLoss` or `F.cross_entropy`, DO NOT add an explicit softmax layer in your neural network. PyTorch devs found it more numerically stable to combine softmax and cross entropy loss into a single module and if you explicitly attach a softmax layer at the end of your model, you would unintentionally be applying it twice, which can degrade performance.\n",
        "\n",
        "Here are challenges you will need to overcome:\n",
        "1. The data is default configured in image form i.e. (1 x 28 x 28), versus one feature vector. You will need to reshape it somewhere to feed it in as vector to the MLP. There are many ways of doing this.\n",
        "2. You need to write code for plotting.\n",
        "3. You need to find appropriate hyper-parameters to achieve good accuracy.\n",
        "\n",
        "Your underlying model must be fully connected or dense, and may not have convolutions etc., but you can use anything in torch.optim or any layers in torch.nn besides nn.Linear that do not have weights."
      ]
    },
    {
      "cell_type": "code",
      "execution_count": 19,
      "metadata": {
        "id": "CxvP0za3REcu"
      },
      "outputs": [],
      "source": [
        "# Creating the datasets\n",
        "transform = torchvision.transforms.ToTensor() # feel free to modify this as you see fit.\n",
        "\n",
        "training_data = torchvision.datasets.FashionMNIST(\n",
        "    root=\"data\",\n",
        "    train=True,\n",
        "    download=True,\n",
        "    transform=transform,\n",
        ")\n",
        "\n",
        "validation_data = torchvision.datasets.FashionMNIST(\n",
        "    root=\"data\",\n",
        "    train=False,\n",
        "    download=True,\n",
        "    transform=transform,\n",
        ")"
      ]
    },
    {
      "cell_type": "code",
      "execution_count": null,
      "metadata": {
        "colab": {
          "base_uri": "https://localhost:8080/",
          "height": 451
        },
        "id": "cYiVIqH9RI3i",
        "outputId": "2fa214c6-b625-4d2d-b0f1-8d906cefba70"
      },
      "outputs": [
        {
          "data": {
            "text/plain": [
              "<matplotlib.image.AxesImage at 0x7dcb609bea40>"
            ]
          },
          "execution_count": 4,
          "metadata": {},
          "output_type": "execute_result"
        },
        {
          "data": {
            "image/png": "[encoded data removed]",
            "text/plain": [
              "<Figure size 640x480 with 1 Axes>"
            ]
          },
          "metadata": {},
          "output_type": "display_data"
        }
      ],
      "source": [
        "#@title FasionMNIST visualization\n",
        "#@markdown Before training a neural network, let's visualize our data first!\n",
        "#@markdown Running the cell below will display the first 9 images in a 3 by 3 grid.\n",
        "\n",
        "images = [training_data[i][0] for i in range(9)]\n",
        "plt.imshow(torchvision.utils.make_grid(torch.stack(images), nrow=3, padding=5).numpy().transpose((1, 2, 0)))"
      ]
    },
    {
      "cell_type": "code",
      "execution_count": 30,
      "metadata": {
        "colab": {
          "base_uri": "https://localhost:8080/",
          "height": 1000,
          "referenced_widgets": [
            "6024e287368d47bc92501850fb8d419f",
            "be09bf3a7d3340aab6c836d9f173d89e",
            "290fdc8807504d928335e1e23f5bc92e",
            "83989bf65daf4da3bcf925b93b751c9a",
            "1dc79d54c1c0432b8d3355603084a90e",
            "f83a579d4b7e4a9ca83e898fd9d8814c",
            "9a4116bb09644a5caa87a9009a8306a8",
            "1d03cf5e398d46f9b622c1ed5d97490d",
            "83d7b725c3484c3eae5b3f8e69fff8a1",
            "1a1ec65c2cc045e69e674e47a4dd2db7",
            "172f023c1faf4546aef2338a7c5edd89",
            "5ef38fcfc79b489d9d0cc8cc73a9eb5f",
            "4caa8d85404d48bb8a6d8a706630ccb7",
            "eadb682720fe4731a33112768f22bf4c",
            "ce54558ca4cb49baae6d8e3eb68d2e29",
            "e71d1bfbb76046ffaa8653f1369d4270",
            "942b81c65b26403694b1d88448720bcb",
            "5d68ab7616624cb1858f20dc2384d616",
            "d90f04e1e39f40d0979bb7fcf1fe6c11",
            "4f44231049354d2187d86d6ff6e0b050",
            "2e9498d370184145b2daf94733b0887a",
            "a65e80dabb824982a024264f5245e3d2",
            "cb33519c855e47168d871abebc29f543",
            "21cea59f96134b25ab772fc80d3c6349",
            "ffb1778aa9e4455580297fdcc0c8c03f",
            "b51c673da1ed48d2b0a8a8ed5fdb3d42",
            "ba1a763f5204405385698375d1c3f630",
            "8c57fb6d4d8445c7a41b20f5b2ccc88d",
            "98a19267df7b4f1bb263dffa2eb93bea",
            "8e01b5be6d454fcd882ca05fed07c87e",
            "51273f48bcd64b0591c9c16cc9a62ef3",
            "0de300aaa9d94d738bf380f2d2464d3e",
            "b9138a58aa6a4affa53e54f7f6de8648",
            "ab1f58d95e184b8b8cc379ebffe39ca0",
            "7fefd94df0b948c59991e666a0d96607",
            "5da6f4881be747709de1e5b7f58f6971",
            "b49b0377728b4bf8b4e2c543a3072071",
            "faa92c1a3d34401ab3a0d07d933f3209",
            "dff36153e53f4bae9ed49a345aa8bee3",
            "57e3bc96e6cb4f12855b116cec123ff4",
            "a00b495bc66346a5983e2c9732f4bcb8",
            "ea09709eb4194cd0b64cb47e6e788c2e",
            "049ef9d7f86f4a1e8bd2c111b2aa4904",
            "ee365044c0b449abad8e8abd1c0b777d",
            "4f17bfe2be7740b8a2473c354940257b",
            "e74f1e12b0c341279ef6f273bddbb789",
            "299abee625f8466bae0424528635a9c1",
            "e8d75499999f41a29ba10424637a090b",
            "81f3badb23194e0bac9d8c0c6a324844",
            "5fc307b465b245e5b45b270485e7a1d6",
            "d228466c537b4116ae2ef654a7b332e8",
            "a1782b7eedbd49d4b20de0f19a24daab",
            "8a07ce5e88da42b0bf5c5267e079c68f",
            "1cadc1dc235f4c73b57aa7d234e6809d",
            "7de6c85387114615b74f8bdc16fde7f6",
            "7ad185b4069645508c4e82005c66d544",
            "6f738343f9664c1a89de126f481d7c8b",
            "6b61881f30e14533aaf3984debfd6fde",
            "02769dea1c22442a836a41c688510c0d",
            "23635e2669c842c8b359b68c0c2812f3",
            "37192b2b3b84416fb44544e1103eb907",
            "d72ebf84174643858a9c46c21f12a131",
            "1774624a02874fd8ad69151caa4c1656",
            "50118e6b402940fbae3cd37e048c3a77",
            "c7b0db4e292945bd8d77f9b29b1ce4f0",
            "e26f39065d1e4ec392ad08429e7c1931",
            "54c2aa22659843f09b8d8b2ff260108b",
            "791b35a9808c4bd58eb95afee1bf31ff",
            "67785327e1054e02895301d8f68952b5",
            "752cadb375e24d81b0b5510d3c096e15",
            "a4a775e7ce66460d9cccff9ba45d46d5",
            "2e40c03d4e66414592eedb2bc26219fa",
            "055dd0982fd24c099da750111deb1de2",
            "02e57f5ba2ad483eaa13b5fe1f364aa5",
            "861c7f7e29f44850b71357fe23bf59ab",
            "cb17e09926e24f4f85cafa8f6ea33542",
            "ce884992da13400eba292bc8d8faa34f",
            "56da3d1821d246f6b5270075efabbb05",
            "5ef9211ad75b4765a9bf364942c2c26e",
            "fad429030fca454aace8e304e74edb60",
            "b51f5b40469e4dc08ef3f5b1ced05e7b",
            "47130209d6574b4d8a037f2b7bf314c8",
            "f10b08fe6ad840f2a46e0a70e91e4012",
            "4fa34381b4724527b829c4bf2d07e4cc",
            "293bcc1f673d45999e1d610aee330f64",
            "310170698d1041ea897e3b3d36e8f4a2",
            "5ae1d4b9d56746f1898dd00fed39eb76",
            "92cedbf5de3345c9b8109cd450e8f776",
            "2f3f9d9d200943e28b7b7d0781a5c9ea",
            "8e5887f720a5490d8ab145ebef0f7016",
            "01dea08eac4a44ae95da425d5453c36a",
            "61361aa2e0e84984b351fdf232776ba7",
            "dee93341e2ed4c76926da4cddb6e3079",
            "85b7cdd00e304683907b9114d99c14d1",
            "3e9aa2d0bb1f4979bcf47c2321aa9e35",
            "8b4e2bf38a1349b18a03d3102fd40811",
            "049bf716244d425b9e869368db5d488e",
            "95c958b7baae452885e4529c60970f4d",
            "135fa81a7799464d984e9e478230e75f",
            "cee6c892e720445a858235fad47f3356",
            "23300af34cbf43dbba301eb81d728b71",
            "31497d5b5ae14271ac894c75804dc483",
            "c7203fe3bbf646a7a0e7be91559213fb",
            "3ff7d7f361ce49a382aaae5d3efd597b",
            "797a633a2c034f2687a797fc622894d8",
            "36b38a709d824e67a37bea0327423d8b",
            "b625729265a64b109fa05f4a682360da",
            "807582d2b233441cb52be0e3116760b2",
            "304740e6b8044af297bcd9965f88e7a6",
            "80a2f1268fa14b2b9ee1762d3c3d2503",
            "4c4866b8b6f7440595b9f9c91fb627bc",
            "74c68aa98b714995af660316e92f1fc2",
            "e63a48b46e71421498677659e872d2ec",
            "534d2eee7ff84c1e951f1828faf541d5",
            "7dcf8218ebfc4f44ac02b660db4e4a09",
            "a6df41202c5d441ba78af45cbf11c1fa",
            "43f152e038064889b8a5e6fe7afcabdd",
            "b248b019d91c487786292c27f10044ac",
            "8a8260f5f4654475b0e039c2f2049fcc",
            "5e5a9e46c3a04da688125218134310f3",
            "ca04e5895d1b42e3a7a6f03536f9578e",
            "4fa824ea564e447abfe443967043f9ea",
            "6c7d05be19a7468dba8b225a4c211bc6",
            "e5dad5071f0f40eea42a2a917cb9321a",
            "d8d729b17ad2489e9392b1ab180a41e0",
            "a89dce19827c443d8c6fd0696d26db92",
            "7f6bf508fd8b4398acf1634eadbca728",
            "c10eed98af2c45b0a276100ae2821689",
            "0c9dca8651d7473b8803d53795bc59ce",
            "91075fb59e1148bc9a1ad7da8d484cab",
            "f24dee56e9b34a1da646e8007b768fb3",
            "864789d24c1646689864ed8cef65d26d",
            "e8368b94cb8a447a895b7b7916a78962",
            "fd308014a8c54cf7af1a070f534f5a68",
            "8a90770a276947dd9d52ef2f1caaf480",
            "bcf88e1750734d4e9a29e952650807e8",
            "e1cd282dd8874b91b538a6973288cb06",
            "380856e2904e4c16899a5452f5823f52",
            "460a68c7ef2e41b4934f9a74953327bf",
            "7a1ff7e2b34e4755a8f57129c1378ed9",
            "c1aa9118a4dc440cbe5ee6f5be99449e",
            "89d7f3dc8570407095d208cb86c54189",
            "489cc55e71104e74b7d74206eb6401a4",
            "e2ff60c0a79d4edd97081b571b03101c",
            "8cb3da59bd2c4c6398c8c9c160593624",
            "6756200aa62c494981b2b60b7a5aaf88",
            "2cc1a599adbb42fba6965e4e494bc49e",
            "d4048f54f4b04c83beb74623ce7afc6f",
            "7116c06a9290437c89c6496467e24508",
            "f3a077d6398f45199d6db60047dd78b2",
            "fb19ac9345074713977bd9efd58bbf7c",
            "ae9a65af1df04a2da1934e434de2fb53",
            "ff5b07e1b4ea411dbbf10e2b73ae20ed",
            "a1ad973b806b4acfa1d949095d90539f",
            "41254d1cc7fa42669c1c01915298b65d",
            "5139fe8a92f644c2855a9fcd2d9b6a07",
            "42a8010d8d9e4751b9eb316a392345e8",
            "0ab00a069bdd4972b0c8b5803c567d8b",
            "b991283243de46a8bc1f007cd80932ae",
            "ee0255028d1f43beb48b9b2602e02e12",
            "d22f4c46040d48ff8054133319dd2d43",
            "0567feea8dd341b190b3bf670582b38a",
            "a5a41a3f714f4c02830e271edac43eb2",
            "ebb0777cc4234e4b949273d2deff9ffb",
            "e1d9019c4d52405aa7c20db73ec8756d",
            "3baeb48023fa4d5da61c3c2723d019aa",
            "8a0855c5ae5f4d7bb7083714a9c9c8d1",
            "48386a625cb348c2b2c260eb9b455e11",
            "bb7f9a7505aa416e902539a4f2b474ef",
            "cf1dae24e83b4e3f9196e283dbbf44c2",
            "bc952af9c4eb4a25861ce512d9c89b93",
            "ba18ea3eed9747ffaf556a4238be70c0",
            "bb62bbaeb26c41e98a95c2808dfd408f",
            "0f451ba9230a4be586f12959c4ee8ce4",
            "8d52cb6094c84c7d821a0a8e16ec10c6",
            "30d394bdea504085a449d1658175a2a9",
            "302b6cecc5e84456910c3e09e54fcc90",
            "a78f6ba228944009963f85bfec586f1c",
            "87d566efa70f4a9a8d7916a76f26ddee",
            "d0d5e542ca754fe59f573809c4f5a261",
            "65a33c22948c41d6bea2bb26a4aa6c18",
            "5a7800dc8a764c8d80478baa3ffcf01c",
            "dcb9db99945e4fa08e77b403cd6f0669",
            "2c813d7c39c042febe67294eb2d96548",
            "3e148730b42342afa72d58fac0c863ee",
            "73d69f78d9da4aa49bc42a646cfee371",
            "c80d41b5f8d54c73a2079e634f2c9444",
            "d5c26d9c556249e8b5d28a458f3cfe2f",
            "cdc450bc25974b8db6b77a578d32c5ec",
            "795bc39903744aabad33eab817396d4c",
            "709546b915d7485fb19b865a3930318b",
            "c42ec82f7b724e4dbce1888d149b42fd",
            "cec70f2a245e42d29e5b135e52a51544",
            "82405e9f876a4587be156f1f147d788a",
            "84965a30f8194555a16635a42c578e21",
            "3d61df0eb62147a7b673eda4866d3991",
            "76e53a1c4b3a41f4bfb6455968a3ed2f",
            "2a4245ef5d1a484ebec57b3ee06e4d22",
            "cae2114cf2bf45b2b04f48b7400d0227",
            "2dc5c1fbc2074711b5b623a6952c0381",
            "81efa774d5a9452aae29f040f08911eb",
            "9a858e7bd0fd482c9f222c47012d6839",
            "e0ffc1c1d04b4b70a049c22faf20bc91",
            "090129295c2e4ba6a3bc6cecd9c127bc",
            "67855f46fd044313967eaca64af0fd2b",
            "a4fbbef377074e65b9e0060a2a8899fa",
            "5cce53a691644a5b915d791e2699f9b2",
            "eb4e43b15cd848fc94b3eb292cf565e0",
            "69a0b5e0b9604359976090bc4f55d3c0",
            "74f3557091534f9e8e1d3ff73fb58a72",
            "1e021f39b8e549ceb554e7b1fde394d8",
            "cbd413d7b5d642998a7b328b684d9b8c",
            "a8baf39ff4e348689921f6425cda9951",
            "13e5dc67d1074cc88c4a999b04f21112",
            "1919a13d83884a62ba78781fadbd4936",
            "f836fda9f60c4e99b9e48fecb90d5df2",
            "ad91c83ecd574637a2f91b205f51bb40",
            "d3fc573f69144c7789be6ee7242b3b9b",
            "b39e22fba9c240028674166ebaba81d7",
            "3faa190edcbf45389e899b0ea6a220e1"
          ]
        },
        "id": "3lWWLtVFRXLP",
        "outputId": "3217bfd3-df33-4502-b065-923c7b522993"
      },
      "outputs": [
        {
          "output_type": "stream",
          "name": "stdout",
          "text": [
            "Using device cuda\n"
          ]
        },
        {
          "output_type": "display_data",
          "data": {
            "text/plain": [
              "  0%|          | 0/938 [00:00<?, ?batch/s]"
            ],
            "application/vnd.jupyter.widget-view+json": {
              "version_major": 2,
              "version_minor": 0,
              "model_id": "6024e287368d47bc92501850fb8d419f"
            }
          },
          "metadata": {}
        },
        {
          "output_type": "stream",
          "name": "stdout",
          "text": [
            "Epoch 1, Train Loss: 0.9404, Train Acc: 0.6730, Val Loss: 0.6121, Val Acc: 0.7814\n"
          ]
        },
        {
          "output_type": "display_data",
          "data": {
            "text/plain": [
              "  0%|          | 0/938 [00:00<?, ?batch/s]"
            ],
            "application/vnd.jupyter.widget-view+json": {
              "version_major": 2,
              "version_minor": 0,
              "model_id": "5ef38fcfc79b489d9d0cc8cc73a9eb5f"
            }
          },
          "metadata": {}
        },
        {
          "output_type": "stream",
          "name": "stdout",
          "text": [
            "Epoch 2, Train Loss: 0.5445, Train Acc: 0.8097, Val Loss: 0.5972, Val Acc: 0.7809\n"
          ]
        },
        {
          "output_type": "display_data",
          "data": {
            "text/plain": [
              "  0%|          | 0/938 [00:00<?, ?batch/s]"
            ],
            "application/vnd.jupyter.widget-view+json": {
              "version_major": 2,
              "version_minor": 0,
              "model_id": "cb33519c855e47168d871abebc29f543"
            }
          },
          "metadata": {}
        },
        {
          "output_type": "stream",
          "name": "stdout",
          "text": [
            "Epoch 3, Train Loss: 0.4779, Train Acc: 0.8314, Val Loss: 0.5242, Val Acc: 0.8022\n"
          ]
        },
        {
          "output_type": "display_data",
          "data": {
            "text/plain": [
              "  0%|          | 0/938 [00:00<?, ?batch/s]"
            ],
            "application/vnd.jupyter.widget-view+json": {
              "version_major": 2,
              "version_minor": 0,
              "model_id": "ab1f58d95e184b8b8cc379ebffe39ca0"
            }
          },
          "metadata": {}
        },
        {
          "output_type": "stream",
          "name": "stdout",
          "text": [
            "Epoch 4, Train Loss: 0.4417, Train Acc: 0.8447, Val Loss: 0.4684, Val Acc: 0.8323\n"
          ]
        },
        {
          "output_type": "display_data",
          "data": {
            "text/plain": [
              "  0%|          | 0/938 [00:00<?, ?batch/s]"
            ],
            "application/vnd.jupyter.widget-view+json": {
              "version_major": 2,
              "version_minor": 0,
              "model_id": "4f17bfe2be7740b8a2473c354940257b"
            }
          },
          "metadata": {}
        },
        {
          "output_type": "stream",
          "name": "stdout",
          "text": [
            "Epoch 5, Train Loss: 0.4146, Train Acc: 0.8538, Val Loss: 0.4451, Val Acc: 0.8407\n"
          ]
        },
        {
          "output_type": "display_data",
          "data": {
            "text/plain": [
              "  0%|          | 0/938 [00:00<?, ?batch/s]"
            ],
            "application/vnd.jupyter.widget-view+json": {
              "version_major": 2,
              "version_minor": 0,
              "model_id": "7ad185b4069645508c4e82005c66d544"
            }
          },
          "metadata": {}
        },
        {
          "output_type": "stream",
          "name": "stdout",
          "text": [
            "Epoch 6, Train Loss: 0.3947, Train Acc: 0.8591, Val Loss: 0.4161, Val Acc: 0.8525\n"
          ]
        },
        {
          "output_type": "display_data",
          "data": {
            "text/plain": [
              "  0%|          | 0/938 [00:00<?, ?batch/s]"
            ],
            "application/vnd.jupyter.widget-view+json": {
              "version_major": 2,
              "version_minor": 0,
              "model_id": "54c2aa22659843f09b8d8b2ff260108b"
            }
          },
          "metadata": {}
        },
        {
          "output_type": "stream",
          "name": "stdout",
          "text": [
            "Epoch 7, Train Loss: 0.3790, Train Acc: 0.8654, Val Loss: 0.3983, Val Acc: 0.8596\n"
          ]
        },
        {
          "output_type": "display_data",
          "data": {
            "text/plain": [
              "  0%|          | 0/938 [00:00<?, ?batch/s]"
            ],
            "application/vnd.jupyter.widget-view+json": {
              "version_major": 2,
              "version_minor": 0,
              "model_id": "56da3d1821d246f6b5270075efabbb05"
            }
          },
          "metadata": {}
        },
        {
          "output_type": "stream",
          "name": "stdout",
          "text": [
            "Epoch 8, Train Loss: 0.3652, Train Acc: 0.8700, Val Loss: 0.4158, Val Acc: 0.8503\n"
          ]
        },
        {
          "output_type": "display_data",
          "data": {
            "text/plain": [
              "  0%|          | 0/938 [00:00<?, ?batch/s]"
            ],
            "application/vnd.jupyter.widget-view+json": {
              "version_major": 2,
              "version_minor": 0,
              "model_id": "2f3f9d9d200943e28b7b7d0781a5c9ea"
            }
          },
          "metadata": {}
        },
        {
          "output_type": "stream",
          "name": "stdout",
          "text": [
            "Epoch 9, Train Loss: 0.3529, Train Acc: 0.8740, Val Loss: 0.4265, Val Acc: 0.8444\n"
          ]
        },
        {
          "output_type": "display_data",
          "data": {
            "text/plain": [
              "  0%|          | 0/938 [00:00<?, ?batch/s]"
            ],
            "application/vnd.jupyter.widget-view+json": {
              "version_major": 2,
              "version_minor": 0,
              "model_id": "cee6c892e720445a858235fad47f3356"
            }
          },
          "metadata": {}
        },
        {
          "output_type": "stream",
          "name": "stdout",
          "text": [
            "Epoch 10, Train Loss: 0.3432, Train Acc: 0.8770, Val Loss: 0.4180, Val Acc: 0.8461\n"
          ]
        },
        {
          "output_type": "display_data",
          "data": {
            "text/plain": [
              "  0%|          | 0/938 [00:00<?, ?batch/s]"
            ],
            "application/vnd.jupyter.widget-view+json": {
              "version_major": 2,
              "version_minor": 0,
              "model_id": "4c4866b8b6f7440595b9f9c91fb627bc"
            }
          },
          "metadata": {}
        },
        {
          "output_type": "stream",
          "name": "stdout",
          "text": [
            "Epoch 11, Train Loss: 0.3337, Train Acc: 0.8795, Val Loss: 0.3806, Val Acc: 0.8658\n"
          ]
        },
        {
          "output_type": "display_data",
          "data": {
            "text/plain": [
              "  0%|          | 0/938 [00:00<?, ?batch/s]"
            ],
            "application/vnd.jupyter.widget-view+json": {
              "version_major": 2,
              "version_minor": 0,
              "model_id": "4fa824ea564e447abfe443967043f9ea"
            }
          },
          "metadata": {}
        },
        {
          "output_type": "stream",
          "name": "stdout",
          "text": [
            "Epoch 12, Train Loss: 0.3258, Train Acc: 0.8824, Val Loss: 0.3771, Val Acc: 0.8626\n"
          ]
        },
        {
          "output_type": "display_data",
          "data": {
            "text/plain": [
              "  0%|          | 0/938 [00:00<?, ?batch/s]"
            ],
            "application/vnd.jupyter.widget-view+json": {
              "version_major": 2,
              "version_minor": 0,
              "model_id": "e8368b94cb8a447a895b7b7916a78962"
            }
          },
          "metadata": {}
        },
        {
          "output_type": "stream",
          "name": "stdout",
          "text": [
            "Epoch 13, Train Loss: 0.3164, Train Acc: 0.8850, Val Loss: 0.3767, Val Acc: 0.8660\n"
          ]
        },
        {
          "output_type": "display_data",
          "data": {
            "text/plain": [
              "  0%|          | 0/938 [00:00<?, ?batch/s]"
            ],
            "application/vnd.jupyter.widget-view+json": {
              "version_major": 2,
              "version_minor": 0,
              "model_id": "e2ff60c0a79d4edd97081b571b03101c"
            }
          },
          "metadata": {}
        },
        {
          "output_type": "stream",
          "name": "stdout",
          "text": [
            "Epoch 14, Train Loss: 0.3087, Train Acc: 0.8876, Val Loss: 0.3762, Val Acc: 0.8655\n"
          ]
        },
        {
          "output_type": "display_data",
          "data": {
            "text/plain": [
              "  0%|          | 0/938 [00:00<?, ?batch/s]"
            ],
            "application/vnd.jupyter.widget-view+json": {
              "version_major": 2,
              "version_minor": 0,
              "model_id": "41254d1cc7fa42669c1c01915298b65d"
            }
          },
          "metadata": {}
        },
        {
          "output_type": "stream",
          "name": "stdout",
          "text": [
            "Epoch 15, Train Loss: 0.3010, Train Acc: 0.8905, Val Loss: 0.3739, Val Acc: 0.8654\n"
          ]
        },
        {
          "output_type": "display_data",
          "data": {
            "text/plain": [
              "  0%|          | 0/938 [00:00<?, ?batch/s]"
            ],
            "application/vnd.jupyter.widget-view+json": {
              "version_major": 2,
              "version_minor": 0,
              "model_id": "3baeb48023fa4d5da61c3c2723d019aa"
            }
          },
          "metadata": {}
        },
        {
          "output_type": "stream",
          "name": "stdout",
          "text": [
            "Epoch 16, Train Loss: 0.2951, Train Acc: 0.8919, Val Loss: 0.3745, Val Acc: 0.8586\n"
          ]
        },
        {
          "output_type": "display_data",
          "data": {
            "text/plain": [
              "  0%|          | 0/938 [00:00<?, ?batch/s]"
            ],
            "application/vnd.jupyter.widget-view+json": {
              "version_major": 2,
              "version_minor": 0,
              "model_id": "302b6cecc5e84456910c3e09e54fcc90"
            }
          },
          "metadata": {}
        },
        {
          "output_type": "stream",
          "name": "stdout",
          "text": [
            "Epoch 17, Train Loss: 0.2902, Train Acc: 0.8938, Val Loss: 0.4155, Val Acc: 0.8407\n"
          ]
        },
        {
          "output_type": "display_data",
          "data": {
            "text/plain": [
              "  0%|          | 0/938 [00:00<?, ?batch/s]"
            ],
            "application/vnd.jupyter.widget-view+json": {
              "version_major": 2,
              "version_minor": 0,
              "model_id": "d5c26d9c556249e8b5d28a458f3cfe2f"
            }
          },
          "metadata": {}
        },
        {
          "output_type": "stream",
          "name": "stdout",
          "text": [
            "Epoch 18, Train Loss: 0.2840, Train Acc: 0.8962, Val Loss: 0.3664, Val Acc: 0.8680\n"
          ]
        },
        {
          "output_type": "display_data",
          "data": {
            "text/plain": [
              "  0%|          | 0/938 [00:00<?, ?batch/s]"
            ],
            "application/vnd.jupyter.widget-view+json": {
              "version_major": 2,
              "version_minor": 0,
              "model_id": "cae2114cf2bf45b2b04f48b7400d0227"
            }
          },
          "metadata": {}
        },
        {
          "output_type": "stream",
          "name": "stdout",
          "text": [
            "Epoch 19, Train Loss: 0.2785, Train Acc: 0.8984, Val Loss: 0.3498, Val Acc: 0.8728\n"
          ]
        },
        {
          "output_type": "display_data",
          "data": {
            "text/plain": [
              "  0%|          | 0/938 [00:00<?, ?batch/s]"
            ],
            "application/vnd.jupyter.widget-view+json": {
              "version_major": 2,
              "version_minor": 0,
              "model_id": "74f3557091534f9e8e1d3ff73fb58a72"
            }
          },
          "metadata": {}
        },
        {
          "output_type": "stream",
          "name": "stdout",
          "text": [
            "Epoch 20, Train Loss: 0.2741, Train Acc: 0.9003, Val Loss: 0.3822, Val Acc: 0.8653\n"
          ]
        },
        {
          "output_type": "display_data",
          "data": {
            "text/plain": [
              "<Figure size 1200x500 with 1 Axes>"
            ],
            "image/png": "[encoded data removed]"
          },
          "metadata": {}
        },
        {
          "output_type": "display_data",
          "data": {
            "text/plain": [
              "<Figure size 1200x500 with 1 Axes>"
            ],
            "image/png": "[encoded data removed]"
          },
          "metadata": {}
        },
        {
          "output_type": "stream",
          "name": "stdout",
          "text": [
            "Final Validation Accuracy is 86.53%\n"
          ]
        }
      ],
      "source": [
        "import torch.nn.functional as F\n",
        "\n",
        "# Set device\n",
        "device = torch.device(\"cuda\" if torch.cuda.is_available() else \"cpu\")\n",
        "print(\"Using device\", device)\n",
        "\n",
        "# Dataloaders for batch processing\n",
        "batch_size = 64\n",
        "train_loader = torch.utils.data.DataLoader(training_data, batch_size=batch_size, shuffle=True)\n",
        "val_loader = torch.utils.data.DataLoader(validation_data, batch_size=batch_size, shuffle=False)\n",
        "\n",
        "# Define our 3-layer artificial neural network (MLP) model\n",
        "class FashionMLP(nn.Module):\n",
        "    def __init__(self):\n",
        "        super(FashionMLP, self).__init__()\n",
        "        self.layer1 = nn.Linear(28 * 28, 128)  # Input: 784 (28x28), Output: 128 neurons\n",
        "        self.layer2 = nn.Linear(128, 64)       # Hidden layer: 128 -> 64 neurons\n",
        "        self.layer3 = nn.Linear(64, 10)        # Output layer: 64 -> 10 (Use 10 as final output layer since there are 10 classes in FashionMNIST)\n",
        "\n",
        "    def forward(self, img):\n",
        "        flattened = img.view(-1, 28 * 28)  # Flatten the image into a vector\n",
        "        activation1 = F.relu(self.layer1(flattened))  # First hidden layer, apply Relu activation function\n",
        "        activation2 = F.relu(self.layer2(activation1))  # Second hidden layer, apply Relu activation function\n",
        "        output = self.layer3(activation2)  # Output layer, no activation function\n",
        "        return output\n",
        "\n",
        "# Instantiate the model and move it to the appropriate device\n",
        "model = FashionMLP().to(device)\n",
        "\n",
        "# Optimizer (SGD) and loss function (cross entropy)\n",
        "learning_rate = 0.03\n",
        "optimizer = torch.optim.SGD(model.parameters(), lr=learning_rate)\n",
        "loss_func = nn.CrossEntropyLoss()\n",
        "\n",
        "epochs = 20  # Increased epochs to try to achieve 82% accuracy\n",
        "train_losses = [] # store training losses for plotting\n",
        "val_losses = [] # store validation losses for plotting\n",
        "train_accuracies = [] # store training accuracies for plotting\n",
        "val_accuracies = [] # store validation accuracies for plotting\n",
        "\n",
        "# Training loop\n",
        "model.train()  # Put model in training mode\n",
        "for epoch in range(epochs):\n",
        "    training_losses = []\n",
        "    correct_train = 0\n",
        "    total_train = 0\n",
        "    for x, y in tqdm(train_loader, unit=\"batch\"):\n",
        "        x, y = x.to(device), y.to(device)  # Move data to the appropriate device\n",
        "        optimizer.zero_grad()  # Clear previous gradients\n",
        "        pred = model(x)  # Forward pass\n",
        "        loss = loss_func(pred, y)  # Compute loss by nn.CrossEntropyLoss\n",
        "        loss.backward()  # Backpropagate to compute gradients\n",
        "        optimizer.step()  # Update model parameters\n",
        "\n",
        "        # Track training loss\n",
        "        training_losses.append(loss.item())\n",
        "\n",
        "        # Compute training accuracy\n",
        "        _, predicted = torch.max(pred.data, 1)\n",
        "        total_train += y.size(0)\n",
        "        correct_train += (predicted == y).sum().item()\n",
        "\n",
        "    train_losses.append(np.mean(training_losses))\n",
        "    train_accuracies.append(correct_train / total_train)\n",
        "\n",
        "    # Compute the validation loss with nn.CrossEntropyLoss()\n",
        "    model.eval()  # Set model to evaluation mode\n",
        "    validation_losses = [] # store the validation losses for plot\n",
        "    correct_val = 0\n",
        "    total_val = 0\n",
        "    with torch.no_grad():\n",
        "        for x_val, y_val in val_loader:\n",
        "            x_val, y_val = x_val.to(device), y_val.to(device)\n",
        "            pred_val = model(x_val)  # Forward pass for validation data\n",
        "            val_loss = loss_func(pred_val, y_val) # Apply cross entropy loss function to it\n",
        "            validation_losses.append(val_loss.item())\n",
        "\n",
        "            # Compute validation accuracy\n",
        "            _, predicted_val = torch.max(pred_val.data, 1)\n",
        "            total_val += y_val.size(0)\n",
        "            correct_val += (predicted_val == y_val).sum().item()\n",
        "\n",
        "    val_losses.append(np.mean(validation_losses))\n",
        "    val_accuracies.append(correct_val / total_val)\n",
        "\n",
        "    print(f'Epoch {epoch+1}, '\n",
        "          f'Train Loss: {train_losses[-1]:.4f}, Train Acc: {train_accuracies[-1]:.4f}, '\n",
        "          f'Val Loss: {val_losses[-1]:.4f}, Val Acc: {val_accuracies[-1]:.4f}')\n",
        "\n",
        "    model.train()  # Set model back to training mode after validation\n",
        "\n",
        "# Plotting the results\n",
        "\n",
        "# Plot training and validation loss for the first 10 epochs\n",
        "plt.figure(figsize=(12, 5))\n",
        "plt.subplot(1, 2, 1)\n",
        "plt.plot(range(1, 11), train_losses[:10], label=\"Training Loss\")\n",
        "plt.plot(range(1, 11), val_losses[:10], label=\"Validation Loss\")\n",
        "plt.title(\"Loss over First 10 Epochs\")\n",
        "plt.xlabel(\"Epochs\")\n",
        "plt.ylabel(\"Loss\")\n",
        "plt.legend()\n",
        "plt.show()\n",
        "\n",
        "\n",
        "# Plot training and validation accuracy over all epochs\n",
        "plt.figure(figsize=(12, 5))\n",
        "plt.subplot(1, 2, 2)\n",
        "plt.plot(range(1, epochs+1), train_accuracies, label=\"Training Accuracy\")\n",
        "plt.plot(range(1, epochs+1), val_accuracies, label=\"Validation Accuracy\")\n",
        "plt.title(\"Accuracy over Epochs\")\n",
        "plt.xlabel(\"Epochs\")\n",
        "plt.ylabel(\"Accuracy\")\n",
        "plt.legend()\n",
        "plt.show()\n",
        "\n",
        "# Return final accuracy for validation\n",
        "final_accuracy = val_accuracies[-1]\n",
        "print(\"Final Validation Accuracy is {}%\".format(final_accuracy * 100))"
      ]
    }
  ],
  "metadata": {
    "accelerator": "GPU",
    "colab": {
      "collapsed_sections": [
        "fIXj9s2_uQ3F"
      ],
      "gpuType": "T4",
      "provenance": []
    },
    "kernelspec": {
      "display_name": "Python 3",
      "name": "python3"
    },
    "language_info": {
      "name": "python"
    },
    "widgets": {
      "application/vnd.jupyter.widget-state+json": {
        "6024e287368d47bc92501850fb8d419f": {
          "model_module": "@jupyter-widgets/controls",
          "model_name": "HBoxModel",
          "model_module_version": "1.5.0",
          "state": {
            "_dom_classes": [],
            "_model_module": "@jupyter-widgets/controls",
            "_model_module_version": "1.5.0",
            "_model_name": "HBoxModel",
            "_view_count": null,
            "_view_module": "@jupyter-widgets/controls",
            "_view_module_version": "1.5.0",
            "_view_name": "HBoxView",
            "box_style": "",
            "children": [
              "IPY_MODEL_be09bf3a7d3340aab6c836d9f173d89e",
              "IPY_MODEL_290fdc8807504d928335e1e23f5bc92e",
              "IPY_MODEL_83989bf65daf4da3bcf925b93b751c9a"
            ],
            "layout": "IPY_MODEL_1dc79d54c1c0432b8d3355603084a90e"
          }
        },
        "be09bf3a7d3340aab6c836d9f173d89e": {
          "model_module": "@jupyter-widgets/controls",
          "model_name": "HTMLModel",
          "model_module_version": "1.5.0",
          "state": {
            "_dom_classes": [],
            "_model_module": "@jupyter-widgets/controls",
            "_model_module_version": "1.5.0",
            "_model_name": "HTMLModel",
            "_view_count": null,
            "_view_module": "@jupyter-widgets/controls",
            "_view_module_version": "1.5.0",
            "_view_name": "HTMLView",
            "description": "",
            "description_tooltip": null,
            "layout": "IPY_MODEL_f83a579d4b7e4a9ca83e898fd9d8814c",
            "placeholder": "​",
            "style": "IPY_MODEL_9a4116bb09644a5caa87a9009a8306a8",
            "value": "100%"
          }
        },
        "290fdc8807504d928335e1e23f5bc92e": {
          "model_module": "@jupyter-widgets/controls",
          "model_name": "FloatProgressModel",
          "model_module_version": "1.5.0",
          "state": {
            "_dom_classes": [],
            "_model_module": "@jupyter-widgets/controls",
            "_model_module_version": "1.5.0",
            "_model_name": "FloatProgressModel",
            "_view_count": null,
            "_view_module": "@jupyter-widgets/controls",
            "_view_module_version": "1.5.0",
            "_view_name": "ProgressView",
            "bar_style": "success",
            "description": "",
            "description_tooltip": null,
            "layout": "IPY_MODEL_1d03cf5e398d46f9b622c1ed5d97490d",
            "max": 938,
            "min": 0,
            "orientation": "horizontal",
            "style": "IPY_MODEL_83d7b725c3484c3eae5b3f8e69fff8a1",
            "value": 938
          }
        },
        "83989bf65daf4da3bcf925b93b751c9a": {
          "model_module": "@jupyter-widgets/controls",
          "model_name": "HTMLModel",
          "model_module_version": "1.5.0",
          "state": {
            "_dom_classes": [],
            "_model_module": "@jupyter-widgets/controls",
            "_model_module_version": "1.5.0",
            "_model_name": "HTMLModel",
            "_view_count": null,
            "_view_module": "@jupyter-widgets/controls",
            "_view_module_version": "1.5.0",
            "_view_name": "HTMLView",
            "description": "",
            "description_tooltip": null,
            "layout": "IPY_MODEL_1a1ec65c2cc045e69e674e47a4dd2db7",
            "placeholder": "​",
            "style": "IPY_MODEL_172f023c1faf4546aef2338a7c5edd89",
            "value": " 938/938 [00:09&lt;00:00, 69.62batch/s]"
          }
        },
        "1dc79d54c1c0432b8d3355603084a90e": {
          "model_module": "@jupyter-widgets/base",
          "model_name": "LayoutModel",
          "model_module_version": "1.2.0",
          "state": {
            "_model_module": "@jupyter-widgets/base",
            "_model_module_version": "1.2.0",
            "_model_name": "LayoutModel",
            "_view_count": null,
            "_view_module": "@jupyter-widgets/base",
            "_view_module_version": "1.2.0",
            "_view_name": "LayoutView",
            "align_content": null,
            "align_items": null,
            "align_self": null,
            "border": null,
            "bottom": null,
            "display": null,
            "flex": null,
            "flex_flow": null,
            "grid_area": null,
            "grid_auto_columns": null,
            "grid_auto_flow": null,
            "grid_auto_rows": null,
            "grid_column": null,
            "grid_gap": null,
            "grid_row": null,
            "grid_template_areas": null,
            "grid_template_columns": null,
            "grid_template_rows": null,
            "height": null,
            "justify_content": null,
            "justify_items": null,
            "left": null,
            "margin": null,
            "max_height": null,
            "max_width": null,
            "min_height": null,
            "min_width": null,
            "object_fit": null,
            "object_position": null,
            "order": null,
            "overflow": null,
            "overflow_x": null,
            "overflow_y": null,
            "padding": null,
            "right": null,
            "top": null,
            "visibility": null,
            "width": null
          }
        },
        "f83a579d4b7e4a9ca83e898fd9d8814c": {
          "model_module": "@jupyter-widgets/base",
          "model_name": "LayoutModel",
          "model_module_version": "1.2.0",
          "state": {
            "_model_module": "@jupyter-widgets/base",
            "_model_module_version": "1.2.0",
            "_model_name": "LayoutModel",
            "_view_count": null,
            "_view_module": "@jupyter-widgets/base",
            "_view_module_version": "1.2.0",
            "_view_name": "LayoutView",
            "align_content": null,
            "align_items": null,
            "align_self": null,
            "border": null,
            "bottom": null,
            "display": null,
            "flex": null,
            "flex_flow": null,
            "grid_area": null,
            "grid_auto_columns": null,
            "grid_auto_flow": null,
            "grid_auto_rows": null,
            "grid_column": null,
            "grid_gap": null,
            "grid_row": null,
            "grid_template_areas": null,
            "grid_template_columns": null,
            "grid_template_rows": null,
            "height": null,
            "justify_content": null,
            "justify_items": null,
            "left": null,
            "margin": null,
            "max_height": null,
            "max_width": null,
            "min_height": null,
            "min_width": null,
            "object_fit": null,
            "object_position": null,
            "order": null,
            "overflow": null,
            "overflow_x": null,
            "overflow_y": null,
            "padding": null,
            "right": null,
            "top": null,
            "visibility": null,
            "width": null
          }
        },
        "9a4116bb09644a5caa87a9009a8306a8": {
          "model_module": "@jupyter-widgets/controls",
          "model_name": "DescriptionStyleModel",
          "model_module_version": "1.5.0",
          "state": {
            "_model_module": "@jupyter-widgets/controls",
            "_model_module_version": "1.5.0",
            "_model_name": "DescriptionStyleModel",
            "_view_count": null,
            "_view_module": "@jupyter-widgets/base",
            "_view_module_version": "1.2.0",
            "_view_name": "StyleView",
            "description_width": ""
          }
        },
        "1d03cf5e398d46f9b622c1ed5d97490d": {
          "model_module": "@jupyter-widgets/base",
          "model_name": "LayoutModel",
          "model_module_version": "1.2.0",
          "state": {
            "_model_module": "@jupyter-widgets/base",
            "_model_module_version": "1.2.0",
            "_model_name": "LayoutModel",
            "_view_count": null,
            "_view_module": "@jupyter-widgets/base",
            "_view_module_version": "1.2.0",
            "_view_name": "LayoutView",
            "align_content": null,
            "align_items": null,
            "align_self": null,
            "border": null,
            "bottom": null,
            "display": null,
            "flex": null,
            "flex_flow": null,
            "grid_area": null,
            "grid_auto_columns": null,
            "grid_auto_flow": null,
            "grid_auto_rows": null,
            "grid_column": null,
            "grid_gap": null,
            "grid_row": null,
            "grid_template_areas": null,
            "grid_template_columns": null,
            "grid_template_rows": null,
            "height": null,
            "justify_content": null,
            "justify_items": null,
            "left": null,
            "margin": null,
            "max_height": null,
            "max_width": null,
            "min_height": null,
            "min_width": null,
            "object_fit": null,
            "object_position": null,
            "order": null,
            "overflow": null,
            "overflow_x": null,
            "overflow_y": null,
            "padding": null,
            "right": null,
            "top": null,
            "visibility": null,
            "width": null
          }
        },
        "83d7b725c3484c3eae5b3f8e69fff8a1": {
          "model_module": "@jupyter-widgets/controls",
          "model_name": "ProgressStyleModel",
          "model_module_version": "1.5.0",
          "state": {
            "_model_module": "@jupyter-widgets/controls",
            "_model_module_version": "1.5.0",
            "_model_name": "ProgressStyleModel",
            "_view_count": null,
            "_view_module": "@jupyter-widgets/base",
            "_view_module_version": "1.2.0",
            "_view_name": "StyleView",
            "bar_color": null,
            "description_width": ""
          }
        },
        "1a1ec65c2cc045e69e674e47a4dd2db7": {
          "model_module": "@jupyter-widgets/base",
          "model_name": "LayoutModel",
          "model_module_version": "1.2.0",
          "state": {
            "_model_module": "@jupyter-widgets/base",
            "_model_module_version": "1.2.0",
            "_model_name": "LayoutModel",
            "_view_count": null,
            "_view_module": "@jupyter-widgets/base",
            "_view_module_version": "1.2.0",
            "_view_name": "LayoutView",
            "align_content": null,
            "align_items": null,
            "align_self": null,
            "border": null,
            "bottom": null,
            "display": null,
            "flex": null,
            "flex_flow": null,
            "grid_area": null,
            "grid_auto_columns": null,
            "grid_auto_flow": null,
            "grid_auto_rows": null,
            "grid_column": null,
            "grid_gap": null,
            "grid_row": null,
            "grid_template_areas": null,
            "grid_template_columns": null,
            "grid_template_rows": null,
            "height": null,
            "justify_content": null,
            "justify_items": null,
            "left": null,
            "margin": null,
            "max_height": null,
            "max_width": null,
            "min_height": null,
            "min_width": null,
            "object_fit": null,
            "object_position": null,
            "order": null,
            "overflow": null,
            "overflow_x": null,
            "overflow_y": null,
            "padding": null,
            "right": null,
            "top": null,
            "visibility": null,
            "width": null
          }
        },
        "172f023c1faf4546aef2338a7c5edd89": {
          "model_module": "@jupyter-widgets/controls",
          "model_name": "DescriptionStyleModel",
          "model_module_version": "1.5.0",
          "state": {
            "_model_module": "@jupyter-widgets/controls",
            "_model_module_version": "1.5.0",
            "_model_name": "DescriptionStyleModel",
            "_view_count": null,
            "_view_module": "@jupyter-widgets/base",
            "_view_module_version": "1.2.0",
            "_view_name": "StyleView",
            "description_width": ""
          }
        },
        "5ef38fcfc79b489d9d0cc8cc73a9eb5f": {
          "model_module": "@jupyter-widgets/controls",
          "model_name": "HBoxModel",
          "model_module_version": "1.5.0",
          "state": {
            "_dom_classes": [],
            "_model_module": "@jupyter-widgets/controls",
            "_model_module_version": "1.5.0",
            "_model_name": "HBoxModel",
            "_view_count": null,
            "_view_module": "@jupyter-widgets/controls",
            "_view_module_version": "1.5.0",
            "_view_name": "HBoxView",
            "box_style": "",
            "children": [
              "IPY_MODEL_4caa8d85404d48bb8a6d8a706630ccb7",
              "IPY_MODEL_eadb682720fe4731a33112768f22bf4c",
              "IPY_MODEL_ce54558ca4cb49baae6d8e3eb68d2e29"
            ],
            "layout": "IPY_MODEL_e71d1bfbb76046ffaa8653f1369d4270"
          }
        },
        "4caa8d85404d48bb8a6d8a706630ccb7": {
          "model_module": "@jupyter-widgets/controls",
          "model_name": "HTMLModel",
          "model_module_version": "1.5.0",
          "state": {
            "_dom_classes": [],
            "_model_module": "@jupyter-widgets/controls",
            "_model_module_version": "1.5.0",
            "_model_name": "HTMLModel",
            "_view_count": null,
            "_view_module": "@jupyter-widgets/controls",
            "_view_module_version": "1.5.0",
            "_view_name": "HTMLView",
            "description": "",
            "description_tooltip": null,
            "layout": "IPY_MODEL_942b81c65b26403694b1d88448720bcb",
            "placeholder": "​",
            "style": "IPY_MODEL_5d68ab7616624cb1858f20dc2384d616",
            "value": "100%"
          }
        },
        "eadb682720fe4731a33112768f22bf4c": {
          "model_module": "@jupyter-widgets/controls",
          "model_name": "FloatProgressModel",
          "model_module_version": "1.5.0",
          "state": {
            "_dom_classes": [],
            "_model_module": "@jupyter-widgets/controls",
            "_model_module_version": "1.5.0",
            "_model_name": "FloatProgressModel",
            "_view_count": null,
            "_view_module": "@jupyter-widgets/controls",
            "_view_module_version": "1.5.0",
            "_view_name": "ProgressView",
            "bar_style": "success",
            "description": "",
            "description_tooltip": null,
            "layout": "IPY_MODEL_d90f04e1e39f40d0979bb7fcf1fe6c11",
            "max": 938,
            "min": 0,
            "orientation": "horizontal",
            "style": "IPY_MODEL_4f44231049354d2187d86d6ff6e0b050",
            "value": 938
          }
        },
        "ce54558ca4cb49baae6d8e3eb68d2e29": {
          "model_module": "@jupyter-widgets/controls",
          "model_name": "HTMLModel",
          "model_module_version": "1.5.0",
          "state": {
            "_dom_classes": [],
            "_model_module": "@jupyter-widgets/controls",
            "_model_module_version": "1.5.0",
            "_model_name": "HTMLModel",
            "_view_count": null,
            "_view_module": "@jupyter-widgets/controls",
            "_view_module_version": "1.5.0",
            "_view_name": "HTMLView",
            "description": "",
            "description_tooltip": null,
            "layout": "IPY_MODEL_2e9498d370184145b2daf94733b0887a",
            "placeholder": "​",
            "style": "IPY_MODEL_a65e80dabb824982a024264f5245e3d2",
            "value": " 938/938 [00:08&lt;00:00, 103.92batch/s]"
          }
        },
        "e71d1bfbb76046ffaa8653f1369d4270": {
          "model_module": "@jupyter-widgets/base",
          "model_name": "LayoutModel",
          "model_module_version": "1.2.0",
          "state": {
            "_model_module": "@jupyter-widgets/base",
            "_model_module_version": "1.2.0",
            "_model_name": "LayoutModel",
            "_view_count": null,
            "_view_module": "@jupyter-widgets/base",
            "_view_module_version": "1.2.0",
            "_view_name": "LayoutView",
            "align_content": null,
            "align_items": null,
            "align_self": null,
            "border": null,
            "bottom": null,
            "display": null,
            "flex": null,
            "flex_flow": null,
            "grid_area": null,
            "grid_auto_columns": null,
            "grid_auto_flow": null,
            "grid_auto_rows": null,
            "grid_column": null,
            "grid_gap": null,
            "grid_row": null,
            "grid_template_areas": null,
            "grid_template_columns": null,
            "grid_template_rows": null,
            "height": null,
            "justify_content": null,
            "justify_items": null,
            "left": null,
            "margin": null,
            "max_height": null,
            "max_width": null,
            "min_height": null,
            "min_width": null,
            "object_fit": null,
            "object_position": null,
            "order": null,
            "overflow": null,
            "overflow_x": null,
            "overflow_y": null,
            "padding": null,
            "right": null,
            "top": null,
            "visibility": null,
            "width": null
          }
        },
        "942b81c65b26403694b1d88448720bcb": {
          "model_module": "@jupyter-widgets/base",
          "model_name": "LayoutModel",
          "model_module_version": "1.2.0",
          "state": {
            "_model_module": "@jupyter-widgets/base",
            "_model_module_version": "1.2.0",
            "_model_name": "LayoutModel",
            "_view_count": null,
            "_view_module": "@jupyter-widgets/base",
            "_view_module_version": "1.2.0",
            "_view_name": "LayoutView",
            "align_content": null,
            "align_items": null,
            "align_self": null,
            "border": null,
            "bottom": null,
            "display": null,
            "flex": null,
            "flex_flow": null,
            "grid_area": null,
            "grid_auto_columns": null,
            "grid_auto_flow": null,
            "grid_auto_rows": null,
            "grid_column": null,
            "grid_gap": null,
            "grid_row": null,
            "grid_template_areas": null,
            "grid_template_columns": null,
            "grid_template_rows": null,
            "height": null,
            "justify_content": null,
            "justify_items": null,
            "left": null,
            "margin": null,
            "max_height": null,
            "max_width": null,
            "min_height": null,
            "min_width": null,
            "object_fit": null,
            "object_position": null,
            "order": null,
            "overflow": null,
            "overflow_x": null,
            "overflow_y": null,
            "padding": null,
            "right": null,
            "top": null,
            "visibility": null,
            "width": null
          }
        },
        "5d68ab7616624cb1858f20dc2384d616": {
          "model_module": "@jupyter-widgets/controls",
          "model_name": "DescriptionStyleModel",
          "model_module_version": "1.5.0",
          "state": {
            "_model_module": "@jupyter-widgets/controls",
            "_model_module_version": "1.5.0",
            "_model_name": "DescriptionStyleModel",
            "_view_count": null,
            "_view_module": "@jupyter-widgets/base",
            "_view_module_version": "1.2.0",
            "_view_name": "StyleView",
            "description_width": ""
          }
        },
        "d90f04e1e39f40d0979bb7fcf1fe6c11": {
          "model_module": "@jupyter-widgets/base",
          "model_name": "LayoutModel",
          "model_module_version": "1.2.0",
          "state": {
            "_model_module": "@jupyter-widgets/base",
            "_model_module_version": "1.2.0",
            "_model_name": "LayoutModel",
            "_view_count": null,
            "_view_module": "@jupyter-widgets/base",
            "_view_module_version": "1.2.0",
            "_view_name": "LayoutView",
            "align_content": null,
            "align_items": null,
            "align_self": null,
            "border": null,
            "bottom": null,
            "display": null,
            "flex": null,
            "flex_flow": null,
            "grid_area": null,
            "grid_auto_columns": null,
            "grid_auto_flow": null,
            "grid_auto_rows": null,
            "grid_column": null,
            "grid_gap": null,
            "grid_row": null,
            "grid_template_areas": null,
            "grid_template_columns": null,
            "grid_template_rows": null,
            "height": null,
            "justify_content": null,
            "justify_items": null,
            "left": null,
            "margin": null,
            "max_height": null,
            "max_width": null,
            "min_height": null,
            "min_width": null,
            "object_fit": null,
            "object_position": null,
            "order": null,
            "overflow": null,
            "overflow_x": null,
            "overflow_y": null,
            "padding": null,
            "right": null,
            "top": null,
            "visibility": null,
            "width": null
          }
        },
        "4f44231049354d2187d86d6ff6e0b050": {
          "model_module": "@jupyter-widgets/controls",
          "model_name": "ProgressStyleModel",
          "model_module_version": "1.5.0",
          "state": {
            "_model_module": "@jupyter-widgets/controls",
            "_model_module_version": "1.5.0",
            "_model_name": "ProgressStyleModel",
            "_view_count": null,
            "_view_module": "@jupyter-widgets/base",
            "_view_module_version": "1.2.0",
            "_view_name": "StyleView",
            "bar_color": null,
            "description_width": ""
          }
        },
        "2e9498d370184145b2daf94733b0887a": {
          "model_module": "@jupyter-widgets/base",
          "model_name": "LayoutModel",
          "model_module_version": "1.2.0",
          "state": {
            "_model_module": "@jupyter-widgets/base",
            "_model_module_version": "1.2.0",
            "_model_name": "LayoutModel",
            "_view_count": null,
            "_view_module": "@jupyter-widgets/base",
            "_view_module_version": "1.2.0",
            "_view_name": "LayoutView",
            "align_content": null,
            "align_items": null,
            "align_self": null,
            "border": null,
            "bottom": null,
            "display": null,
            "flex": null,
            "flex_flow": null,
            "grid_area": null,
            "grid_auto_columns": null,
            "grid_auto_flow": null,
            "grid_auto_rows": null,
            "grid_column": null,
            "grid_gap": null,
            "grid_row": null,
            "grid_template_areas": null,
            "grid_template_columns": null,
            "grid_template_rows": null,
            "height": null,
            "justify_content": null,
            "justify_items": null,
            "left": null,
            "margin": null,
            "max_height": null,
            "max_width": null,
            "min_height": null,
            "min_width": null,
            "object_fit": null,
            "object_position": null,
            "order": null,
            "overflow": null,
            "overflow_x": null,
            "overflow_y": null,
            "padding": null,
            "right": null,
            "top": null,
            "visibility": null,
            "width": null
          }
        },
        "a65e80dabb824982a024264f5245e3d2": {
          "model_module": "@jupyter-widgets/controls",
          "model_name": "DescriptionStyleModel",
          "model_module_version": "1.5.0",
          "state": {
            "_model_module": "@jupyter-widgets/controls",
            "_model_module_version": "1.5.0",
            "_model_name": "DescriptionStyleModel",
            "_view_count": null,
            "_view_module": "@jupyter-widgets/base",
            "_view_module_version": "1.2.0",
            "_view_name": "StyleView",
            "description_width": ""
          }
        },
        "cb33519c855e47168d871abebc29f543": {
          "model_module": "@jupyter-widgets/controls",
          "model_name": "HBoxModel",
          "model_module_version": "1.5.0",
          "state": {
            "_dom_classes": [],
            "_model_module": "@jupyter-widgets/controls",
            "_model_module_version": "1.5.0",
            "_model_name": "HBoxModel",
            "_view_count": null,
            "_view_module": "@jupyter-widgets/controls",
            "_view_module_version": "1.5.0",
            "_view_name": "HBoxView",
            "box_style": "",
            "children": [
              "IPY_MODEL_21cea59f96134b25ab772fc80d3c6349",
              "IPY_MODEL_ffb1778aa9e4455580297fdcc0c8c03f",
              "IPY_MODEL_b51c673da1ed48d2b0a8a8ed5fdb3d42"
            ],
            "layout": "IPY_MODEL_ba1a763f5204405385698375d1c3f630"
          }
        },
        "21cea59f96134b25ab772fc80d3c6349": {
          "model_module": "@jupyter-widgets/controls",
          "model_name": "HTMLModel",
          "model_module_version": "1.5.0",
          "state": {
            "_dom_classes": [],
            "_model_module": "@jupyter-widgets/controls",
            "_model_module_version": "1.5.0",
            "_model_name": "HTMLModel",
            "_view_count": null,
            "_view_module": "@jupyter-widgets/controls",
            "_view_module_version": "1.5.0",
            "_view_name": "HTMLView",
            "description": "",
            "description_tooltip": null,
            "layout": "IPY_MODEL_8c57fb6d4d8445c7a41b20f5b2ccc88d",
            "placeholder": "​",
            "style": "IPY_MODEL_98a19267df7b4f1bb263dffa2eb93bea",
            "value": "100%"
          }
        },
        "ffb1778aa9e4455580297fdcc0c8c03f": {
          "model_module": "@jupyter-widgets/controls",
          "model_name": "FloatProgressModel",
          "model_module_version": "1.5.0",
          "state": {
            "_dom_classes": [],
            "_model_module": "@jupyter-widgets/controls",
            "_model_module_version": "1.5.0",
            "_model_name": "FloatProgressModel",
            "_view_count": null,
            "_view_module": "@jupyter-widgets/controls",
            "_view_module_version": "1.5.0",
            "_view_name": "ProgressView",
            "bar_style": "success",
            "description": "",
            "description_tooltip": null,
            "layout": "IPY_MODEL_8e01b5be6d454fcd882ca05fed07c87e",
            "max": 938,
            "min": 0,
            "orientation": "horizontal",
            "style": "IPY_MODEL_51273f48bcd64b0591c9c16cc9a62ef3",
            "value": 938
          }
        },
        "b51c673da1ed48d2b0a8a8ed5fdb3d42": {
          "model_module": "@jupyter-widgets/controls",
          "model_name": "HTMLModel",
          "model_module_version": "1.5.0",
          "state": {
            "_dom_classes": [],
            "_model_module": "@jupyter-widgets/controls",
            "_model_module_version": "1.5.0",
            "_model_name": "HTMLModel",
            "_view_count": null,
            "_view_module": "@jupyter-widgets/controls",
            "_view_module_version": "1.5.0",
            "_view_name": "HTMLView",
            "description": "",
            "description_tooltip": null,
            "layout": "IPY_MODEL_0de300aaa9d94d738bf380f2d2464d3e",
            "placeholder": "​",
            "style": "IPY_MODEL_b9138a58aa6a4affa53e54f7f6de8648",
            "value": " 938/938 [00:10&lt;00:00, 109.09batch/s]"
          }
        },
        "ba1a763f5204405385698375d1c3f630": {
          "model_module": "@jupyter-widgets/base",
          "model_name": "LayoutModel",
          "model_module_version": "1.2.0",
          "state": {
            "_model_module": "@jupyter-widgets/base",
            "_model_module_version": "1.2.0",
            "_model_name": "LayoutModel",
            "_view_count": null,
            "_view_module": "@jupyter-widgets/base",
            "_view_module_version": "1.2.0",
            "_view_name": "LayoutView",
            "align_content": null,
            "align_items": null,
            "align_self": null,
            "border": null,
            "bottom": null,
            "display": null,
            "flex": null,
            "flex_flow": null,
            "grid_area": null,
            "grid_auto_columns": null,
            "grid_auto_flow": null,
            "grid_auto_rows": null,
            "grid_column": null,
            "grid_gap": null,
            "grid_row": null,
            "grid_template_areas": null,
            "grid_template_columns": null,
            "grid_template_rows": null,
            "height": null,
            "justify_content": null,
            "justify_items": null,
            "left": null,
            "margin": null,
            "max_height": null,
            "max_width": null,
            "min_height": null,
            "min_width": null,
            "object_fit": null,
            "object_position": null,
            "order": null,
            "overflow": null,
            "overflow_x": null,
            "overflow_y": null,
            "padding": null,
            "right": null,
            "top": null,
            "visibility": null,
            "width": null
          }
        },
        "8c57fb6d4d8445c7a41b20f5b2ccc88d": {
          "model_module": "@jupyter-widgets/base",
          "model_name": "LayoutModel",
          "model_module_version": "1.2.0",
          "state": {
            "_model_module": "@jupyter-widgets/base",
            "_model_module_version": "1.2.0",
            "_model_name": "LayoutModel",
            "_view_count": null,
            "_view_module": "@jupyter-widgets/base",
            "_view_module_version": "1.2.0",
            "_view_name": "LayoutView",
            "align_content": null,
            "align_items": null,
            "align_self": null,
            "border": null,
            "bottom": null,
            "display": null,
            "flex": null,
            "flex_flow": null,
            "grid_area": null,
            "grid_auto_columns": null,
            "grid_auto_flow": null,
            "grid_auto_rows": null,
            "grid_column": null,
            "grid_gap": null,
            "grid_row": null,
            "grid_template_areas": null,
            "grid_template_columns": null,
            "grid_template_rows": null,
            "height": null,
            "justify_content": null,
            "justify_items": null,
            "left": null,
            "margin": null,
            "max_height": null,
            "max_width": null,
            "min_height": null,
            "min_width": null,
            "object_fit": null,
            "object_position": null,
            "order": null,
            "overflow": null,
            "overflow_x": null,
            "overflow_y": null,
            "padding": null,
            "right": null,
            "top": null,
            "visibility": null,
            "width": null
          }
        },
        "98a19267df7b4f1bb263dffa2eb93bea": {
          "model_module": "@jupyter-widgets/controls",
          "model_name": "DescriptionStyleModel",
          "model_module_version": "1.5.0",
          "state": {
            "_model_module": "@jupyter-widgets/controls",
            "_model_module_version": "1.5.0",
            "_model_name": "DescriptionStyleModel",
            "_view_count": null,
            "_view_module": "@jupyter-widgets/base",
            "_view_module_version": "1.2.0",
            "_view_name": "StyleView",
            "description_width": ""
          }
        },
        "8e01b5be6d454fcd882ca05fed07c87e": {
          "model_module": "@jupyter-widgets/base",
          "model_name": "LayoutModel",
          "model_module_version": "1.2.0",
          "state": {
            "_model_module": "@jupyter-widgets/base",
            "_model_module_version": "1.2.0",
            "_model_name": "LayoutModel",
            "_view_count": null,
            "_view_module": "@jupyter-widgets/base",
            "_view_module_version": "1.2.0",
            "_view_name": "LayoutView",
            "align_content": null,
            "align_items": null,
            "align_self": null,
            "border": null,
            "bottom": null,
            "display": null,
            "flex": null,
            "flex_flow": null,
            "grid_area": null,
            "grid_auto_columns": null,
            "grid_auto_flow": null,
            "grid_auto_rows": null,
            "grid_column": null,
            "grid_gap": null,
            "grid_row": null,
            "grid_template_areas": null,
            "grid_template_columns": null,
            "grid_template_rows": null,
            "height": null,
            "justify_content": null,
            "justify_items": null,
            "left": null,
            "margin": null,
            "max_height": null,
            "max_width": null,
            "min_height": null,
            "min_width": null,
            "object_fit": null,
            "object_position": null,
            "order": null,
            "overflow": null,
            "overflow_x": null,
            "overflow_y": null,
            "padding": null,
            "right": null,
            "top": null,
            "visibility": null,
            "width": null
          }
        },
        "51273f48bcd64b0591c9c16cc9a62ef3": {
          "model_module": "@jupyter-widgets/controls",
          "model_name": "ProgressStyleModel",
          "model_module_version": "1.5.0",
          "state": {
            "_model_module": "@jupyter-widgets/controls",
            "_model_module_version": "1.5.0",
            "_model_name": "ProgressStyleModel",
            "_view_count": null,
            "_view_module": "@jupyter-widgets/base",
            "_view_module_version": "1.2.0",
            "_view_name": "StyleView",
            "bar_color": null,
            "description_width": ""
          }
        },
        "0de300aaa9d94d738bf380f2d2464d3e": {
          "model_module": "@jupyter-widgets/base",
          "model_name": "LayoutModel",
          "model_module_version": "1.2.0",
          "state": {
            "_model_module": "@jupyter-widgets/base",
            "_model_module_version": "1.2.0",
            "_model_name": "LayoutModel",
            "_view_count": null,
            "_view_module": "@jupyter-widgets/base",
            "_view_module_version": "1.2.0",
            "_view_name": "LayoutView",
            "align_content": null,
            "align_items": null,
            "align_self": null,
            "border": null,
            "bottom": null,
            "display": null,
            "flex": null,
            "flex_flow": null,
            "grid_area": null,
            "grid_auto_columns": null,
            "grid_auto_flow": null,
            "grid_auto_rows": null,
            "grid_column": null,
            "grid_gap": null,
            "grid_row": null,
            "grid_template_areas": null,
            "grid_template_columns": null,
            "grid_template_rows": null,
            "height": null,
            "justify_content": null,
            "justify_items": null,
            "left": null,
            "margin": null,
            "max_height": null,
            "max_width": null,
            "min_height": null,
            "min_width": null,
            "object_fit": null,
            "object_position": null,
            "order": null,
            "overflow": null,
            "overflow_x": null,
            "overflow_y": null,
            "padding": null,
            "right": null,
            "top": null,
            "visibility": null,
            "width": null
          }
        },
        "b9138a58aa6a4affa53e54f7f6de8648": {
          "model_module": "@jupyter-widgets/controls",
          "model_name": "DescriptionStyleModel",
          "model_module_version": "1.5.0",
          "state": {
            "_model_module": "@jupyter-widgets/controls",
            "_model_module_version": "1.5.0",
            "_model_name": "DescriptionStyleModel",
            "_view_count": null,
            "_view_module": "@jupyter-widgets/base",
            "_view_module_version": "1.2.0",
            "_view_name": "StyleView",
            "description_width": ""
          }
        },
        "ab1f58d95e184b8b8cc379ebffe39ca0": {
          "model_module": "@jupyter-widgets/controls",
          "model_name": "HBoxModel",
          "model_module_version": "1.5.0",
          "state": {
            "_dom_classes": [],
            "_model_module": "@jupyter-widgets/controls",
            "_model_module_version": "1.5.0",
            "_model_name": "HBoxModel",
            "_view_count": null,
            "_view_module": "@jupyter-widgets/controls",
            "_view_module_version": "1.5.0",
            "_view_name": "HBoxView",
            "box_style": "",
            "children": [
              "IPY_MODEL_7fefd94df0b948c59991e666a0d96607",
              "IPY_MODEL_5da6f4881be747709de1e5b7f58f6971",
              "IPY_MODEL_b49b0377728b4bf8b4e2c543a3072071"
            ],
            "layout": "IPY_MODEL_faa92c1a3d34401ab3a0d07d933f3209"
          }
        },
        "7fefd94df0b948c59991e666a0d96607": {
          "model_module": "@jupyter-widgets/controls",
          "model_name": "HTMLModel",
          "model_module_version": "1.5.0",
          "state": {
            "_dom_classes": [],
            "_model_module": "@jupyter-widgets/controls",
            "_model_module_version": "1.5.0",
            "_model_name": "HTMLModel",
            "_view_count": null,
            "_view_module": "@jupyter-widgets/controls",
            "_view_module_version": "1.5.0",
            "_view_name": "HTMLView",
            "description": "",
            "description_tooltip": null,
            "layout": "IPY_MODEL_dff36153e53f4bae9ed49a345aa8bee3",
            "placeholder": "​",
            "style": "IPY_MODEL_57e3bc96e6cb4f12855b116cec123ff4",
            "value": "100%"
          }
        },
        "5da6f4881be747709de1e5b7f58f6971": {
          "model_module": "@jupyter-widgets/controls",
          "model_name": "FloatProgressModel",
          "model_module_version": "1.5.0",
          "state": {
            "_dom_classes": [],
            "_model_module": "@jupyter-widgets/controls",
            "_model_module_version": "1.5.0",
            "_model_name": "FloatProgressModel",
            "_view_count": null,
            "_view_module": "@jupyter-widgets/controls",
            "_view_module_version": "1.5.0",
            "_view_name": "ProgressView",
            "bar_style": "success",
            "description": "",
            "description_tooltip": null,
            "layout": "IPY_MODEL_a00b495bc66346a5983e2c9732f4bcb8",
            "max": 938,
            "min": 0,
            "orientation": "horizontal",
            "style": "IPY_MODEL_ea09709eb4194cd0b64cb47e6e788c2e",
            "value": 938
          }
        },
        "b49b0377728b4bf8b4e2c543a3072071": {
          "model_module": "@jupyter-widgets/controls",
          "model_name": "HTMLModel",
          "model_module_version": "1.5.0",
          "state": {
            "_dom_classes": [],
            "_model_module": "@jupyter-widgets/controls",
            "_model_module_version": "1.5.0",
            "_model_name": "HTMLModel",
            "_view_count": null,
            "_view_module": "@jupyter-widgets/controls",
            "_view_module_version": "1.5.0",
            "_view_name": "HTMLView",
            "description": "",
            "description_tooltip": null,
            "layout": "IPY_MODEL_049ef9d7f86f4a1e8bd2c111b2aa4904",
            "placeholder": "​",
            "style": "IPY_MODEL_ee365044c0b449abad8e8abd1c0b777d",
            "value": " 938/938 [00:09&lt;00:00, 105.11batch/s]"
          }
        },
        "faa92c1a3d34401ab3a0d07d933f3209": {
          "model_module": "@jupyter-widgets/base",
          "model_name": "LayoutModel",
          "model_module_version": "1.2.0",
          "state": {
            "_model_module": "@jupyter-widgets/base",
            "_model_module_version": "1.2.0",
            "_model_name": "LayoutModel",
            "_view_count": null,
            "_view_module": "@jupyter-widgets/base",
            "_view_module_version": "1.2.0",
            "_view_name": "LayoutView",
            "align_content": null,
            "align_items": null,
            "align_self": null,
            "border": null,
            "bottom": null,
            "display": null,
            "flex": null,
            "flex_flow": null,
            "grid_area": null,
            "grid_auto_columns": null,
            "grid_auto_flow": null,
            "grid_auto_rows": null,
            "grid_column": null,
            "grid_gap": null,
            "grid_row": null,
            "grid_template_areas": null,
            "grid_template_columns": null,
            "grid_template_rows": null,
            "height": null,
            "justify_content": null,
            "justify_items": null,
            "left": null,
            "margin": null,
            "max_height": null,
            "max_width": null,
            "min_height": null,
            "min_width": null,
            "object_fit": null,
            "object_position": null,
            "order": null,
            "overflow": null,
            "overflow_x": null,
            "overflow_y": null,
            "padding": null,
            "right": null,
            "top": null,
            "visibility": null,
            "width": null
          }
        },
        "dff36153e53f4bae9ed49a345aa8bee3": {
          "model_module": "@jupyter-widgets/base",
          "model_name": "LayoutModel",
          "model_module_version": "1.2.0",
          "state": {
            "_model_module": "@jupyter-widgets/base",
            "_model_module_version": "1.2.0",
            "_model_name": "LayoutModel",
            "_view_count": null,
            "_view_module": "@jupyter-widgets/base",
            "_view_module_version": "1.2.0",
            "_view_name": "LayoutView",
            "align_content": null,
            "align_items": null,
            "align_self": null,
            "border": null,
            "bottom": null,
            "display": null,
            "flex": null,
            "flex_flow": null,
            "grid_area": null,
            "grid_auto_columns": null,
            "grid_auto_flow": null,
            "grid_auto_rows": null,
            "grid_column": null,
            "grid_gap": null,
            "grid_row": null,
            "grid_template_areas": null,
            "grid_template_columns": null,
            "grid_template_rows": null,
            "height": null,
            "justify_content": null,
            "justify_items": null,
            "left": null,
            "margin": null,
            "max_height": null,
            "max_width": null,
            "min_height": null,
            "min_width": null,
            "object_fit": null,
            "object_position": null,
            "order": null,
            "overflow": null,
            "overflow_x": null,
            "overflow_y": null,
            "padding": null,
            "right": null,
            "top": null,
            "visibility": null,
            "width": null
          }
        },
        "57e3bc96e6cb4f12855b116cec123ff4": {
          "model_module": "@jupyter-widgets/controls",
          "model_name": "DescriptionStyleModel",
          "model_module_version": "1.5.0",
          "state": {
            "_model_module": "@jupyter-widgets/controls",
            "_model_module_version": "1.5.0",
            "_model_name": "DescriptionStyleModel",
            "_view_count": null,
            "_view_module": "@jupyter-widgets/base",
            "_view_module_version": "1.2.0",
            "_view_name": "StyleView",
            "description_width": ""
          }
        },
        "a00b495bc66346a5983e2c9732f4bcb8": {
          "model_module": "@jupyter-widgets/base",
          "model_name": "LayoutModel",
          "model_module_version": "1.2.0",
          "state": {
            "_model_module": "@jupyter-widgets/base",
            "_model_module_version": "1.2.0",
            "_model_name": "LayoutModel",
            "_view_count": null,
            "_view_module": "@jupyter-widgets/base",
            "_view_module_version": "1.2.0",
            "_view_name": "LayoutView",
            "align_content": null,
            "align_items": null,
            "align_self": null,
            "border": null,
            "bottom": null,
            "display": null,
            "flex": null,
            "flex_flow": null,
            "grid_area": null,
            "grid_auto_columns": null,
            "grid_auto_flow": null,
            "grid_auto_rows": null,
            "grid_column": null,
            "grid_gap": null,
            "grid_row": null,
            "grid_template_areas": null,
            "grid_template_columns": null,
            "grid_template_rows": null,
            "height": null,
            "justify_content": null,
            "justify_items": null,
            "left": null,
            "margin": null,
            "max_height": null,
            "max_width": null,
            "min_height": null,
            "min_width": null,
            "object_fit": null,
            "object_position": null,
            "order": null,
            "overflow": null,
            "overflow_x": null,
            "overflow_y": null,
            "padding": null,
            "right": null,
            "top": null,
            "visibility": null,
            "width": null
          }
        },
        "ea09709eb4194cd0b64cb47e6e788c2e": {
          "model_module": "@jupyter-widgets/controls",
          "model_name": "ProgressStyleModel",
          "model_module_version": "1.5.0",
          "state": {
            "_model_module": "@jupyter-widgets/controls",
            "_model_module_version": "1.5.0",
            "_model_name": "ProgressStyleModel",
            "_view_count": null,
            "_view_module": "@jupyter-widgets/base",
            "_view_module_version": "1.2.0",
            "_view_name": "StyleView",
            "bar_color": null,
            "description_width": ""
          }
        },
        "049ef9d7f86f4a1e8bd2c111b2aa4904": {
          "model_module": "@jupyter-widgets/base",
          "model_name": "LayoutModel",
          "model_module_version": "1.2.0",
          "state": {
            "_model_module": "@jupyter-widgets/base",
            "_model_module_version": "1.2.0",
            "_model_name": "LayoutModel",
            "_view_count": null,
            "_view_module": "@jupyter-widgets/base",
            "_view_module_version": "1.2.0",
            "_view_name": "LayoutView",
            "align_content": null,
            "align_items": null,
            "align_self": null,
            "border": null,
            "bottom": null,
            "display": null,
            "flex": null,
            "flex_flow": null,
            "grid_area": null,
            "grid_auto_columns": null,
            "grid_auto_flow": null,
            "grid_auto_rows": null,
            "grid_column": null,
            "grid_gap": null,
            "grid_row": null,
            "grid_template_areas": null,
            "grid_template_columns": null,
            "grid_template_rows": null,
            "height": null,
            "justify_content": null,
            "justify_items": null,
            "left": null,
            "margin": null,
            "max_height": null,
            "max_width": null,
            "min_height": null,
            "min_width": null,
            "object_fit": null,
            "object_position": null,
            "order": null,
            "overflow": null,
            "overflow_x": null,
            "overflow_y": null,
            "padding": null,
            "right": null,
            "top": null,
            "visibility": null,
            "width": null
          }
        },
        "ee365044c0b449abad8e8abd1c0b777d": {
          "model_module": "@jupyter-widgets/controls",
          "model_name": "DescriptionStyleModel",
          "model_module_version": "1.5.0",
          "state": {
            "_model_module": "@jupyter-widgets/controls",
            "_model_module_version": "1.5.0",
            "_model_name": "DescriptionStyleModel",
            "_view_count": null,
            "_view_module": "@jupyter-widgets/base",
            "_view_module_version": "1.2.0",
            "_view_name": "StyleView",
            "description_width": ""
          }
        },
        "4f17bfe2be7740b8a2473c354940257b": {
          "model_module": "@jupyter-widgets/controls",
          "model_name": "HBoxModel",
          "model_module_version": "1.5.0",
          "state": {
            "_dom_classes": [],
            "_model_module": "@jupyter-widgets/controls",
            "_model_module_version": "1.5.0",
            "_model_name": "HBoxModel",
            "_view_count": null,
            "_view_module": "@jupyter-widgets/controls",
            "_view_module_version": "1.5.0",
            "_view_name": "HBoxView",
            "box_style": "",
            "children": [
              "IPY_MODEL_e74f1e12b0c341279ef6f273bddbb789",
              "IPY_MODEL_299abee625f8466bae0424528635a9c1",
              "IPY_MODEL_e8d75499999f41a29ba10424637a090b"
            ],
            "layout": "IPY_MODEL_81f3badb23194e0bac9d8c0c6a324844"
          }
        },
        "e74f1e12b0c341279ef6f273bddbb789": {
          "model_module": "@jupyter-widgets/controls",
          "model_name": "HTMLModel",
          "model_module_version": "1.5.0",
          "state": {
            "_dom_classes": [],
            "_model_module": "@jupyter-widgets/controls",
            "_model_module_version": "1.5.0",
            "_model_name": "HTMLModel",
            "_view_count": null,
            "_view_module": "@jupyter-widgets/controls",
            "_view_module_version": "1.5.0",
            "_view_name": "HTMLView",
            "description": "",
            "description_tooltip": null,
            "layout": "IPY_MODEL_5fc307b465b245e5b45b270485e7a1d6",
            "placeholder": "​",
            "style": "IPY_MODEL_d228466c537b4116ae2ef654a7b332e8",
            "value": "100%"
          }
        },
        "299abee625f8466bae0424528635a9c1": {
          "model_module": "@jupyter-widgets/controls",
          "model_name": "FloatProgressModel",
          "model_module_version": "1.5.0",
          "state": {
            "_dom_classes": [],
            "_model_module": "@jupyter-widgets/controls",
            "_model_module_version": "1.5.0",
            "_model_name": "FloatProgressModel",
            "_view_count": null,
            "_view_module": "@jupyter-widgets/controls",
            "_view_module_version": "1.5.0",
            "_view_name": "ProgressView",
            "bar_style": "success",
            "description": "",
            "description_tooltip": null,
            "layout": "IPY_MODEL_a1782b7eedbd49d4b20de0f19a24daab",
            "max": 938,
            "min": 0,
            "orientation": "horizontal",
            "style": "IPY_MODEL_8a07ce5e88da42b0bf5c5267e079c68f",
            "value": 938
          }
        },
        "e8d75499999f41a29ba10424637a090b": {
          "model_module": "@jupyter-widgets/controls",
          "model_name": "HTMLModel",
          "model_module_version": "1.5.0",
          "state": {
            "_dom_classes": [],
            "_model_module": "@jupyter-widgets/controls",
            "_model_module_version": "1.5.0",
            "_model_name": "HTMLModel",
            "_view_count": null,
            "_view_module": "@jupyter-widgets/controls",
            "_view_module_version": "1.5.0",
            "_view_name": "HTMLView",
            "description": "",
            "description_tooltip": null,
            "layout": "IPY_MODEL_1cadc1dc235f4c73b57aa7d234e6809d",
            "placeholder": "​",
            "style": "IPY_MODEL_7de6c85387114615b74f8bdc16fde7f6",
            "value": " 938/938 [00:09&lt;00:00, 102.16batch/s]"
          }
        },
        "81f3badb23194e0bac9d8c0c6a324844": {
          "model_module": "@jupyter-widgets/base",
          "model_name": "LayoutModel",
          "model_module_version": "1.2.0",
          "state": {
            "_model_module": "@jupyter-widgets/base",
            "_model_module_version": "1.2.0",
            "_model_name": "LayoutModel",
            "_view_count": null,
            "_view_module": "@jupyter-widgets/base",
            "_view_module_version": "1.2.0",
            "_view_name": "LayoutView",
            "align_content": null,
            "align_items": null,
            "align_self": null,
            "border": null,
            "bottom": null,
            "display": null,
            "flex": null,
            "flex_flow": null,
            "grid_area": null,
            "grid_auto_columns": null,
            "grid_auto_flow": null,
            "grid_auto_rows": null,
            "grid_column": null,
            "grid_gap": null,
            "grid_row": null,
            "grid_template_areas": null,
            "grid_template_columns": null,
            "grid_template_rows": null,
            "height": null,
            "justify_content": null,
            "justify_items": null,
            "left": null,
            "margin": null,
            "max_height": null,
            "max_width": null,
            "min_height": null,
            "min_width": null,
            "object_fit": null,
            "object_position": null,
            "order": null,
            "overflow": null,
            "overflow_x": null,
            "overflow_y": null,
            "padding": null,
            "right": null,
            "top": null,
            "visibility": null,
            "width": null
          }
        },
        "5fc307b465b245e5b45b270485e7a1d6": {
          "model_module": "@jupyter-widgets/base",
          "model_name": "LayoutModel",
          "model_module_version": "1.2.0",
          "state": {
            "_model_module": "@jupyter-widgets/base",
            "_model_module_version": "1.2.0",
            "_model_name": "LayoutModel",
            "_view_count": null,
            "_view_module": "@jupyter-widgets/base",
            "_view_module_version": "1.2.0",
            "_view_name": "LayoutView",
            "align_content": null,
            "align_items": null,
            "align_self": null,
            "border": null,
            "bottom": null,
            "display": null,
            "flex": null,
            "flex_flow": null,
            "grid_area": null,
            "grid_auto_columns": null,
            "grid_auto_flow": null,
            "grid_auto_rows": null,
            "grid_column": null,
            "grid_gap": null,
            "grid_row": null,
            "grid_template_areas": null,
            "grid_template_columns": null,
            "grid_template_rows": null,
            "height": null,
            "justify_content": null,
            "justify_items": null,
            "left": null,
            "margin": null,
            "max_height": null,
            "max_width": null,
            "min_height": null,
            "min_width": null,
            "object_fit": null,
            "object_position": null,
            "order": null,
            "overflow": null,
            "overflow_x": null,
            "overflow_y": null,
            "padding": null,
            "right": null,
            "top": null,
            "visibility": null,
            "width": null
          }
        },
        "d228466c537b4116ae2ef654a7b332e8": {
          "model_module": "@jupyter-widgets/controls",
          "model_name": "DescriptionStyleModel",
          "model_module_version": "1.5.0",
          "state": {
            "_model_module": "@jupyter-widgets/controls",
            "_model_module_version": "1.5.0",
            "_model_name": "DescriptionStyleModel",
            "_view_count": null,
            "_view_module": "@jupyter-widgets/base",
            "_view_module_version": "1.2.0",
            "_view_name": "StyleView",
            "description_width": ""
          }
        },
        "a1782b7eedbd49d4b20de0f19a24daab": {
          "model_module": "@jupyter-widgets/base",
          "model_name": "LayoutModel",
          "model_module_version": "1.2.0",
          "state": {
            "_model_module": "@jupyter-widgets/base",
            "_model_module_version": "1.2.0",
            "_model_name": "LayoutModel",
            "_view_count": null,
            "_view_module": "@jupyter-widgets/base",
            "_view_module_version": "1.2.0",
            "_view_name": "LayoutView",
            "align_content": null,
            "align_items": null,
            "align_self": null,
            "border": null,
            "bottom": null,
            "display": null,
            "flex": null,
            "flex_flow": null,
            "grid_area": null,
            "grid_auto_columns": null,
            "grid_auto_flow": null,
            "grid_auto_rows": null,
            "grid_column": null,
            "grid_gap": null,
            "grid_row": null,
            "grid_template_areas": null,
            "grid_template_columns": null,
            "grid_template_rows": null,
            "height": null,
            "justify_content": null,
            "justify_items": null,
            "left": null,
            "margin": null,
            "max_height": null,
            "max_width": null,
            "min_height": null,
            "min_width": null,
            "object_fit": null,
            "object_position": null,
            "order": null,
            "overflow": null,
            "overflow_x": null,
            "overflow_y": null,
            "padding": null,
            "right": null,
            "top": null,
            "visibility": null,
            "width": null
          }
        },
        "8a07ce5e88da42b0bf5c5267e079c68f": {
          "model_module": "@jupyter-widgets/controls",
          "model_name": "ProgressStyleModel",
          "model_module_version": "1.5.0",
          "state": {
            "_model_module": "@jupyter-widgets/controls",
            "_model_module_version": "1.5.0",
            "_model_name": "ProgressStyleModel",
            "_view_count": null,
            "_view_module": "@jupyter-widgets/base",
            "_view_module_version": "1.2.0",
            "_view_name": "StyleView",
            "bar_color": null,
            "description_width": ""
          }
        },
        "1cadc1dc235f4c73b57aa7d234e6809d": {
          "model_module": "@jupyter-widgets/base",
          "model_name": "LayoutModel",
          "model_module_version": "1.2.0",
          "state": {
            "_model_module": "@jupyter-widgets/base",
            "_model_module_version": "1.2.0",
            "_model_name": "LayoutModel",
            "_view_count": null,
            "_view_module": "@jupyter-widgets/base",
            "_view_module_version": "1.2.0",
            "_view_name": "LayoutView",
            "align_content": null,
            "align_items": null,
            "align_self": null,
            "border": null,
            "bottom": null,
            "display": null,
            "flex": null,
            "flex_flow": null,
            "grid_area": null,
            "grid_auto_columns": null,
            "grid_auto_flow": null,
            "grid_auto_rows": null,
            "grid_column": null,
            "grid_gap": null,
            "grid_row": null,
            "grid_template_areas": null,
            "grid_template_columns": null,
            "grid_template_rows": null,
            "height": null,
            "justify_content": null,
            "justify_items": null,
            "left": null,
            "margin": null,
            "max_height": null,
            "max_width": null,
            "min_height": null,
            "min_width": null,
            "object_fit": null,
            "object_position": null,
            "order": null,
            "overflow": null,
            "overflow_x": null,
            "overflow_y": null,
            "padding": null,
            "right": null,
            "top": null,
            "visibility": null,
            "width": null
          }
        },
        "7de6c85387114615b74f8bdc16fde7f6": {
          "model_module": "@jupyter-widgets/controls",
          "model_name": "DescriptionStyleModel",
          "model_module_version": "1.5.0",
          "state": {
            "_model_module": "@jupyter-widgets/controls",
            "_model_module_version": "1.5.0",
            "_model_name": "DescriptionStyleModel",
            "_view_count": null,
            "_view_module": "@jupyter-widgets/base",
            "_view_module_version": "1.2.0",
            "_view_name": "StyleView",
            "description_width": ""
          }
        },
        "7ad185b4069645508c4e82005c66d544": {
          "model_module": "@jupyter-widgets/controls",
          "model_name": "HBoxModel",
          "model_module_version": "1.5.0",
          "state": {
            "_dom_classes": [],
            "_model_module": "@jupyter-widgets/controls",
            "_model_module_version": "1.5.0",
            "_model_name": "HBoxModel",
            "_view_count": null,
            "_view_module": "@jupyter-widgets/controls",
            "_view_module_version": "1.5.0",
            "_view_name": "HBoxView",
            "box_style": "",
            "children": [
              "IPY_MODEL_6f738343f9664c1a89de126f481d7c8b",
              "IPY_MODEL_6b61881f30e14533aaf3984debfd6fde",
              "IPY_MODEL_02769dea1c22442a836a41c688510c0d"
            ],
            "layout": "IPY_MODEL_23635e2669c842c8b359b68c0c2812f3"
          }
        },
        "6f738343f9664c1a89de126f481d7c8b": {
          "model_module": "@jupyter-widgets/controls",
          "model_name": "HTMLModel",
          "model_module_version": "1.5.0",
          "state": {
            "_dom_classes": [],
            "_model_module": "@jupyter-widgets/controls",
            "_model_module_version": "1.5.0",
            "_model_name": "HTMLModel",
            "_view_count": null,
            "_view_module": "@jupyter-widgets/controls",
            "_view_module_version": "1.5.0",
            "_view_name": "HTMLView",
            "description": "",
            "description_tooltip": null,
            "layout": "IPY_MODEL_37192b2b3b84416fb44544e1103eb907",
            "placeholder": "​",
            "style": "IPY_MODEL_d72ebf84174643858a9c46c21f12a131",
            "value": "100%"
          }
        },
        "6b61881f30e14533aaf3984debfd6fde": {
          "model_module": "@jupyter-widgets/controls",
          "model_name": "FloatProgressModel",
          "model_module_version": "1.5.0",
          "state": {
            "_dom_classes": [],
            "_model_module": "@jupyter-widgets/controls",
            "_model_module_version": "1.5.0",
            "_model_name": "FloatProgressModel",
            "_view_count": null,
            "_view_module": "@jupyter-widgets/controls",
            "_view_module_version": "1.5.0",
            "_view_name": "ProgressView",
            "bar_style": "success",
            "description": "",
            "description_tooltip": null,
            "layout": "IPY_MODEL_1774624a02874fd8ad69151caa4c1656",
            "max": 938,
            "min": 0,
            "orientation": "horizontal",
            "style": "IPY_MODEL_50118e6b402940fbae3cd37e048c3a77",
            "value": 938
          }
        },
        "02769dea1c22442a836a41c688510c0d": {
          "model_module": "@jupyter-widgets/controls",
          "model_name": "HTMLModel",
          "model_module_version": "1.5.0",
          "state": {
            "_dom_classes": [],
            "_model_module": "@jupyter-widgets/controls",
            "_model_module_version": "1.5.0",
            "_model_name": "HTMLModel",
            "_view_count": null,
            "_view_module": "@jupyter-widgets/controls",
            "_view_module_version": "1.5.0",
            "_view_name": "HTMLView",
            "description": "",
            "description_tooltip": null,
            "layout": "IPY_MODEL_c7b0db4e292945bd8d77f9b29b1ce4f0",
            "placeholder": "​",
            "style": "IPY_MODEL_e26f39065d1e4ec392ad08429e7c1931",
            "value": " 938/938 [00:08&lt;00:00, 88.97batch/s]"
          }
        },
        "23635e2669c842c8b359b68c0c2812f3": {
          "model_module": "@jupyter-widgets/base",
          "model_name": "LayoutModel",
          "model_module_version": "1.2.0",
          "state": {
            "_model_module": "@jupyter-widgets/base",
            "_model_module_version": "1.2.0",
            "_model_name": "LayoutModel",
            "_view_count": null,
            "_view_module": "@jupyter-widgets/base",
            "_view_module_version": "1.2.0",
            "_view_name": "LayoutView",
            "align_content": null,
            "align_items": null,
            "align_self": null,
            "border": null,
            "bottom": null,
            "display": null,
            "flex": null,
            "flex_flow": null,
            "grid_area": null,
            "grid_auto_columns": null,
            "grid_auto_flow": null,
            "grid_auto_rows": null,
            "grid_column": null,
            "grid_gap": null,
            "grid_row": null,
            "grid_template_areas": null,
            "grid_template_columns": null,
            "grid_template_rows": null,
            "height": null,
            "justify_content": null,
            "justify_items": null,
            "left": null,
            "margin": null,
            "max_height": null,
            "max_width": null,
            "min_height": null,
            "min_width": null,
            "object_fit": null,
            "object_position": null,
            "order": null,
            "overflow": null,
            "overflow_x": null,
            "overflow_y": null,
            "padding": null,
            "right": null,
            "top": null,
            "visibility": null,
            "width": null
          }
        },
        "37192b2b3b84416fb44544e1103eb907": {
          "model_module": "@jupyter-widgets/base",
          "model_name": "LayoutModel",
          "model_module_version": "1.2.0",
          "state": {
            "_model_module": "@jupyter-widgets/base",
            "_model_module_version": "1.2.0",
            "_model_name": "LayoutModel",
            "_view_count": null,
            "_view_module": "@jupyter-widgets/base",
            "_view_module_version": "1.2.0",
            "_view_name": "LayoutView",
            "align_content": null,
            "align_items": null,
            "align_self": null,
            "border": null,
            "bottom": null,
            "display": null,
            "flex": null,
            "flex_flow": null,
            "grid_area": null,
            "grid_auto_columns": null,
            "grid_auto_flow": null,
            "grid_auto_rows": null,
            "grid_column": null,
            "grid_gap": null,
            "grid_row": null,
            "grid_template_areas": null,
            "grid_template_columns": null,
            "grid_template_rows": null,
            "height": null,
            "justify_content": null,
            "justify_items": null,
            "left": null,
            "margin": null,
            "max_height": null,
            "max_width": null,
            "min_height": null,
            "min_width": null,
            "object_fit": null,
            "object_position": null,
            "order": null,
            "overflow": null,
            "overflow_x": null,
            "overflow_y": null,
            "padding": null,
            "right": null,
            "top": null,
            "visibility": null,
            "width": null
          }
        },
        "d72ebf84174643858a9c46c21f12a131": {
          "model_module": "@jupyter-widgets/controls",
          "model_name": "DescriptionStyleModel",
          "model_module_version": "1.5.0",
          "state": {
            "_model_module": "@jupyter-widgets/controls",
            "_model_module_version": "1.5.0",
            "_model_name": "DescriptionStyleModel",
            "_view_count": null,
            "_view_module": "@jupyter-widgets/base",
            "_view_module_version": "1.2.0",
            "_view_name": "StyleView",
            "description_width": ""
          }
        },
        "1774624a02874fd8ad69151caa4c1656": {
          "model_module": "@jupyter-widgets/base",
          "model_name": "LayoutModel",
          "model_module_version": "1.2.0",
          "state": {
            "_model_module": "@jupyter-widgets/base",
            "_model_module_version": "1.2.0",
            "_model_name": "LayoutModel",
            "_view_count": null,
            "_view_module": "@jupyter-widgets/base",
            "_view_module_version": "1.2.0",
            "_view_name": "LayoutView",
            "align_content": null,
            "align_items": null,
            "align_self": null,
            "border": null,
            "bottom": null,
            "display": null,
            "flex": null,
            "flex_flow": null,
            "grid_area": null,
            "grid_auto_columns": null,
            "grid_auto_flow": null,
            "grid_auto_rows": null,
            "grid_column": null,
            "grid_gap": null,
            "grid_row": null,
            "grid_template_areas": null,
            "grid_template_columns": null,
            "grid_template_rows": null,
            "height": null,
            "justify_content": null,
            "justify_items": null,
            "left": null,
            "margin": null,
            "max_height": null,
            "max_width": null,
            "min_height": null,
            "min_width": null,
            "object_fit": null,
            "object_position": null,
            "order": null,
            "overflow": null,
            "overflow_x": null,
            "overflow_y": null,
            "padding": null,
            "right": null,
            "top": null,
            "visibility": null,
            "width": null
          }
        },
        "50118e6b402940fbae3cd37e048c3a77": {
          "model_module": "@jupyter-widgets/controls",
          "model_name": "ProgressStyleModel",
          "model_module_version": "1.5.0",
          "state": {
            "_model_module": "@jupyter-widgets/controls",
            "_model_module_version": "1.5.0",
            "_model_name": "ProgressStyleModel",
            "_view_count": null,
            "_view_module": "@jupyter-widgets/base",
            "_view_module_version": "1.2.0",
            "_view_name": "StyleView",
            "bar_color": null,
            "description_width": ""
          }
        },
        "c7b0db4e292945bd8d77f9b29b1ce4f0": {
          "model_module": "@jupyter-widgets/base",
          "model_name": "LayoutModel",
          "model_module_version": "1.2.0",
          "state": {
            "_model_module": "@jupyter-widgets/base",
            "_model_module_version": "1.2.0",
            "_model_name": "LayoutModel",
            "_view_count": null,
            "_view_module": "@jupyter-widgets/base",
            "_view_module_version": "1.2.0",
            "_view_name": "LayoutView",
            "align_content": null,
            "align_items": null,
            "align_self": null,
            "border": null,
            "bottom": null,
            "display": null,
            "flex": null,
            "flex_flow": null,
            "grid_area": null,
            "grid_auto_columns": null,
            "grid_auto_flow": null,
            "grid_auto_rows": null,
            "grid_column": null,
            "grid_gap": null,
            "grid_row": null,
            "grid_template_areas": null,
            "grid_template_columns": null,
            "grid_template_rows": null,
            "height": null,
            "justify_content": null,
            "justify_items": null,
            "left": null,
            "margin": null,
            "max_height": null,
            "max_width": null,
            "min_height": null,
            "min_width": null,
            "object_fit": null,
            "object_position": null,
            "order": null,
            "overflow": null,
            "overflow_x": null,
            "overflow_y": null,
            "padding": null,
            "right": null,
            "top": null,
            "visibility": null,
            "width": null
          }
        },
        "e26f39065d1e4ec392ad08429e7c1931": {
          "model_module": "@jupyter-widgets/controls",
          "model_name": "DescriptionStyleModel",
          "model_module_version": "1.5.0",
          "state": {
            "_model_module": "@jupyter-widgets/controls",
            "_model_module_version": "1.5.0",
            "_model_name": "DescriptionStyleModel",
            "_view_count": null,
            "_view_module": "@jupyter-widgets/base",
            "_view_module_version": "1.2.0",
            "_view_name": "StyleView",
            "description_width": ""
          }
        },
        "54c2aa22659843f09b8d8b2ff260108b": {
          "model_module": "@jupyter-widgets/controls",
          "model_name": "HBoxModel",
          "model_module_version": "1.5.0",
          "state": {
            "_dom_classes": [],
            "_model_module": "@jupyter-widgets/controls",
            "_model_module_version": "1.5.0",
            "_model_name": "HBoxModel",
            "_view_count": null,
            "_view_module": "@jupyter-widgets/controls",
            "_view_module_version": "1.5.0",
            "_view_name": "HBoxView",
            "box_style": "",
            "children": [
              "IPY_MODEL_791b35a9808c4bd58eb95afee1bf31ff",
              "IPY_MODEL_67785327e1054e02895301d8f68952b5",
              "IPY_MODEL_752cadb375e24d81b0b5510d3c096e15"
            ],
            "layout": "IPY_MODEL_a4a775e7ce66460d9cccff9ba45d46d5"
          }
        },
        "791b35a9808c4bd58eb95afee1bf31ff": {
          "model_module": "@jupyter-widgets/controls",
          "model_name": "HTMLModel",
          "model_module_version": "1.5.0",
          "state": {
            "_dom_classes": [],
            "_model_module": "@jupyter-widgets/controls",
            "_model_module_version": "1.5.0",
            "_model_name": "HTMLModel",
            "_view_count": null,
            "_view_module": "@jupyter-widgets/controls",
            "_view_module_version": "1.5.0",
            "_view_name": "HTMLView",
            "description": "",
            "description_tooltip": null,
            "layout": "IPY_MODEL_2e40c03d4e66414592eedb2bc26219fa",
            "placeholder": "​",
            "style": "IPY_MODEL_055dd0982fd24c099da750111deb1de2",
            "value": "100%"
          }
        },
        "67785327e1054e02895301d8f68952b5": {
          "model_module": "@jupyter-widgets/controls",
          "model_name": "FloatProgressModel",
          "model_module_version": "1.5.0",
          "state": {
            "_dom_classes": [],
            "_model_module": "@jupyter-widgets/controls",
            "_model_module_version": "1.5.0",
            "_model_name": "FloatProgressModel",
            "_view_count": null,
            "_view_module": "@jupyter-widgets/controls",
            "_view_module_version": "1.5.0",
            "_view_name": "ProgressView",
            "bar_style": "success",
            "description": "",
            "description_tooltip": null,
            "layout": "IPY_MODEL_02e57f5ba2ad483eaa13b5fe1f364aa5",
            "max": 938,
            "min": 0,
            "orientation": "horizontal",
            "style": "IPY_MODEL_861c7f7e29f44850b71357fe23bf59ab",
            "value": 938
          }
        },
        "752cadb375e24d81b0b5510d3c096e15": {
          "model_module": "@jupyter-widgets/controls",
          "model_name": "HTMLModel",
          "model_module_version": "1.5.0",
          "state": {
            "_dom_classes": [],
            "_model_module": "@jupyter-widgets/controls",
            "_model_module_version": "1.5.0",
            "_model_name": "HTMLModel",
            "_view_count": null,
            "_view_module": "@jupyter-widgets/controls",
            "_view_module_version": "1.5.0",
            "_view_name": "HTMLView",
            "description": "",
            "description_tooltip": null,
            "layout": "IPY_MODEL_cb17e09926e24f4f85cafa8f6ea33542",
            "placeholder": "​",
            "style": "IPY_MODEL_ce884992da13400eba292bc8d8faa34f",
            "value": " 938/938 [00:09&lt;00:00, 112.93batch/s]"
          }
        },
        "a4a775e7ce66460d9cccff9ba45d46d5": {
          "model_module": "@jupyter-widgets/base",
          "model_name": "LayoutModel",
          "model_module_version": "1.2.0",
          "state": {
            "_model_module": "@jupyter-widgets/base",
            "_model_module_version": "1.2.0",
            "_model_name": "LayoutModel",
            "_view_count": null,
            "_view_module": "@jupyter-widgets/base",
            "_view_module_version": "1.2.0",
            "_view_name": "LayoutView",
            "align_content": null,
            "align_items": null,
            "align_self": null,
            "border": null,
            "bottom": null,
            "display": null,
            "flex": null,
            "flex_flow": null,
            "grid_area": null,
            "grid_auto_columns": null,
            "grid_auto_flow": null,
            "grid_auto_rows": null,
            "grid_column": null,
            "grid_gap": null,
            "grid_row": null,
            "grid_template_areas": null,
            "grid_template_columns": null,
            "grid_template_rows": null,
            "height": null,
            "justify_content": null,
            "justify_items": null,
            "left": null,
            "margin": null,
            "max_height": null,
            "max_width": null,
            "min_height": null,
            "min_width": null,
            "object_fit": null,
            "object_position": null,
            "order": null,
            "overflow": null,
            "overflow_x": null,
            "overflow_y": null,
            "padding": null,
            "right": null,
            "top": null,
            "visibility": null,
            "width": null
          }
        },
        "2e40c03d4e66414592eedb2bc26219fa": {
          "model_module": "@jupyter-widgets/base",
          "model_name": "LayoutModel",
          "model_module_version": "1.2.0",
          "state": {
            "_model_module": "@jupyter-widgets/base",
            "_model_module_version": "1.2.0",
            "_model_name": "LayoutModel",
            "_view_count": null,
            "_view_module": "@jupyter-widgets/base",
            "_view_module_version": "1.2.0",
            "_view_name": "LayoutView",
            "align_content": null,
            "align_items": null,
            "align_self": null,
            "border": null,
            "bottom": null,
            "display": null,
            "flex": null,
            "flex_flow": null,
            "grid_area": null,
            "grid_auto_columns": null,
            "grid_auto_flow": null,
            "grid_auto_rows": null,
            "grid_column": null,
            "grid_gap": null,
            "grid_row": null,
            "grid_template_areas": null,
            "grid_template_columns": null,
            "grid_template_rows": null,
            "height": null,
            "justify_content": null,
            "justify_items": null,
            "left": null,
            "margin": null,
            "max_height": null,
            "max_width": null,
            "min_height": null,
            "min_width": null,
            "object_fit": null,
            "object_position": null,
            "order": null,
            "overflow": null,
            "overflow_x": null,
            "overflow_y": null,
            "padding": null,
            "right": null,
            "top": null,
            "visibility": null,
            "width": null
          }
        },
        "055dd0982fd24c099da750111deb1de2": {
          "model_module": "@jupyter-widgets/controls",
          "model_name": "DescriptionStyleModel",
          "model_module_version": "1.5.0",
          "state": {
            "_model_module": "@jupyter-widgets/controls",
            "_model_module_version": "1.5.0",
            "_model_name": "DescriptionStyleModel",
            "_view_count": null,
            "_view_module": "@jupyter-widgets/base",
            "_view_module_version": "1.2.0",
            "_view_name": "StyleView",
            "description_width": ""
          }
        },
        "02e57f5ba2ad483eaa13b5fe1f364aa5": {
          "model_module": "@jupyter-widgets/base",
          "model_name": "LayoutModel",
          "model_module_version": "1.2.0",
          "state": {
            "_model_module": "@jupyter-widgets/base",
            "_model_module_version": "1.2.0",
            "_model_name": "LayoutModel",
            "_view_count": null,
            "_view_module": "@jupyter-widgets/base",
            "_view_module_version": "1.2.0",
            "_view_name": "LayoutView",
            "align_content": null,
            "align_items": null,
            "align_self": null,
            "border": null,
            "bottom": null,
            "display": null,
            "flex": null,
            "flex_flow": null,
            "grid_area": null,
            "grid_auto_columns": null,
            "grid_auto_flow": null,
            "grid_auto_rows": null,
            "grid_column": null,
            "grid_gap": null,
            "grid_row": null,
            "grid_template_areas": null,
            "grid_template_columns": null,
            "grid_template_rows": null,
            "height": null,
            "justify_content": null,
            "justify_items": null,
            "left": null,
            "margin": null,
            "max_height": null,
            "max_width": null,
            "min_height": null,
            "min_width": null,
            "object_fit": null,
            "object_position": null,
            "order": null,
            "overflow": null,
            "overflow_x": null,
            "overflow_y": null,
            "padding": null,
            "right": null,
            "top": null,
            "visibility": null,
            "width": null
          }
        },
        "861c7f7e29f44850b71357fe23bf59ab": {
          "model_module": "@jupyter-widgets/controls",
          "model_name": "ProgressStyleModel",
          "model_module_version": "1.5.0",
          "state": {
            "_model_module": "@jupyter-widgets/controls",
            "_model_module_version": "1.5.0",
            "_model_name": "ProgressStyleModel",
            "_view_count": null,
            "_view_module": "@jupyter-widgets/base",
            "_view_module_version": "1.2.0",
            "_view_name": "StyleView",
            "bar_color": null,
            "description_width": ""
          }
        },
        "cb17e09926e24f4f85cafa8f6ea33542": {
          "model_module": "@jupyter-widgets/base",
          "model_name": "LayoutModel",
          "model_module_version": "1.2.0",
          "state": {
            "_model_module": "@jupyter-widgets/base",
            "_model_module_version": "1.2.0",
            "_model_name": "LayoutModel",
            "_view_count": null,
            "_view_module": "@jupyter-widgets/base",
            "_view_module_version": "1.2.0",
            "_view_name": "LayoutView",
            "align_content": null,
            "align_items": null,
            "align_self": null,
            "border": null,
            "bottom": null,
            "display": null,
            "flex": null,
            "flex_flow": null,
            "grid_area": null,
            "grid_auto_columns": null,
            "grid_auto_flow": null,
            "grid_auto_rows": null,
            "grid_column": null,
            "grid_gap": null,
            "grid_row": null,
            "grid_template_areas": null,
            "grid_template_columns": null,
            "grid_template_rows": null,
            "height": null,
            "justify_content": null,
            "justify_items": null,
            "left": null,
            "margin": null,
            "max_height": null,
            "max_width": null,
            "min_height": null,
            "min_width": null,
            "object_fit": null,
            "object_position": null,
            "order": null,
            "overflow": null,
            "overflow_x": null,
            "overflow_y": null,
            "padding": null,
            "right": null,
            "top": null,
            "visibility": null,
            "width": null
          }
        },
        "ce884992da13400eba292bc8d8faa34f": {
          "model_module": "@jupyter-widgets/controls",
          "model_name": "DescriptionStyleModel",
          "model_module_version": "1.5.0",
          "state": {
            "_model_module": "@jupyter-widgets/controls",
            "_model_module_version": "1.5.0",
            "_model_name": "DescriptionStyleModel",
            "_view_count": null,
            "_view_module": "@jupyter-widgets/base",
            "_view_module_version": "1.2.0",
            "_view_name": "StyleView",
            "description_width": ""
          }
        },
        "56da3d1821d246f6b5270075efabbb05": {
          "model_module": "@jupyter-widgets/controls",
          "model_name": "HBoxModel",
          "model_module_version": "1.5.0",
          "state": {
            "_dom_classes": [],
            "_model_module": "@jupyter-widgets/controls",
            "_model_module_version": "1.5.0",
            "_model_name": "HBoxModel",
            "_view_count": null,
            "_view_module": "@jupyter-widgets/controls",
            "_view_module_version": "1.5.0",
            "_view_name": "HBoxView",
            "box_style": "",
            "children": [
              "IPY_MODEL_5ef9211ad75b4765a9bf364942c2c26e",
              "IPY_MODEL_fad429030fca454aace8e304e74edb60",
              "IPY_MODEL_b51f5b40469e4dc08ef3f5b1ced05e7b"
            ],
            "layout": "IPY_MODEL_47130209d6574b4d8a037f2b7bf314c8"
          }
        },
        "5ef9211ad75b4765a9bf364942c2c26e": {
          "model_module": "@jupyter-widgets/controls",
          "model_name": "HTMLModel",
          "model_module_version": "1.5.0",
          "state": {
            "_dom_classes": [],
            "_model_module": "@jupyter-widgets/controls",
            "_model_module_version": "1.5.0",
            "_model_name": "HTMLModel",
            "_view_count": null,
            "_view_module": "@jupyter-widgets/controls",
            "_view_module_version": "1.5.0",
            "_view_name": "HTMLView",
            "description": "",
            "description_tooltip": null,
            "layout": "IPY_MODEL_f10b08fe6ad840f2a46e0a70e91e4012",
            "placeholder": "​",
            "style": "IPY_MODEL_4fa34381b4724527b829c4bf2d07e4cc",
            "value": "100%"
          }
        },
        "fad429030fca454aace8e304e74edb60": {
          "model_module": "@jupyter-widgets/controls",
          "model_name": "FloatProgressModel",
          "model_module_version": "1.5.0",
          "state": {
            "_dom_classes": [],
            "_model_module": "@jupyter-widgets/controls",
            "_model_module_version": "1.5.0",
            "_model_name": "FloatProgressModel",
            "_view_count": null,
            "_view_module": "@jupyter-widgets/controls",
            "_view_module_version": "1.5.0",
            "_view_name": "ProgressView",
            "bar_style": "success",
            "description": "",
            "description_tooltip": null,
            "layout": "IPY_MODEL_293bcc1f673d45999e1d610aee330f64",
            "max": 938,
            "min": 0,
            "orientation": "horizontal",
            "style": "IPY_MODEL_310170698d1041ea897e3b3d36e8f4a2",
            "value": 938
          }
        },
        "b51f5b40469e4dc08ef3f5b1ced05e7b": {
          "model_module": "@jupyter-widgets/controls",
          "model_name": "HTMLModel",
          "model_module_version": "1.5.0",
          "state": {
            "_dom_classes": [],
            "_model_module": "@jupyter-widgets/controls",
            "_model_module_version": "1.5.0",
            "_model_name": "HTMLModel",
            "_view_count": null,
            "_view_module": "@jupyter-widgets/controls",
            "_view_module_version": "1.5.0",
            "_view_name": "HTMLView",
            "description": "",
            "description_tooltip": null,
            "layout": "IPY_MODEL_5ae1d4b9d56746f1898dd00fed39eb76",
            "placeholder": "​",
            "style": "IPY_MODEL_92cedbf5de3345c9b8109cd450e8f776",
            "value": " 938/938 [00:09&lt;00:00, 111.86batch/s]"
          }
        },
        "47130209d6574b4d8a037f2b7bf314c8": {
          "model_module": "@jupyter-widgets/base",
          "model_name": "LayoutModel",
          "model_module_version": "1.2.0",
          "state": {
            "_model_module": "@jupyter-widgets/base",
            "_model_module_version": "1.2.0",
            "_model_name": "LayoutModel",
            "_view_count": null,
            "_view_module": "@jupyter-widgets/base",
            "_view_module_version": "1.2.0",
            "_view_name": "LayoutView",
            "align_content": null,
            "align_items": null,
            "align_self": null,
            "border": null,
            "bottom": null,
            "display": null,
            "flex": null,
            "flex_flow": null,
            "grid_area": null,
            "grid_auto_columns": null,
            "grid_auto_flow": null,
            "grid_auto_rows": null,
            "grid_column": null,
            "grid_gap": null,
            "grid_row": null,
            "grid_template_areas": null,
            "grid_template_columns": null,
            "grid_template_rows": null,
            "height": null,
            "justify_content": null,
            "justify_items": null,
            "left": null,
            "margin": null,
            "max_height": null,
            "max_width": null,
            "min_height": null,
            "min_width": null,
            "object_fit": null,
            "object_position": null,
            "order": null,
            "overflow": null,
            "overflow_x": null,
            "overflow_y": null,
            "padding": null,
            "right": null,
            "top": null,
            "visibility": null,
            "width": null
          }
        },
        "f10b08fe6ad840f2a46e0a70e91e4012": {
          "model_module": "@jupyter-widgets/base",
          "model_name": "LayoutModel",
          "model_module_version": "1.2.0",
          "state": {
            "_model_module": "@jupyter-widgets/base",
            "_model_module_version": "1.2.0",
            "_model_name": "LayoutModel",
            "_view_count": null,
            "_view_module": "@jupyter-widgets/base",
            "_view_module_version": "1.2.0",
            "_view_name": "LayoutView",
            "align_content": null,
            "align_items": null,
            "align_self": null,
            "border": null,
            "bottom": null,
            "display": null,
            "flex": null,
            "flex_flow": null,
            "grid_area": null,
            "grid_auto_columns": null,
            "grid_auto_flow": null,
            "grid_auto_rows": null,
            "grid_column": null,
            "grid_gap": null,
            "grid_row": null,
            "grid_template_areas": null,
            "grid_template_columns": null,
            "grid_template_rows": null,
            "height": null,
            "justify_content": null,
            "justify_items": null,
            "left": null,
            "margin": null,
            "max_height": null,
            "max_width": null,
            "min_height": null,
            "min_width": null,
            "object_fit": null,
            "object_position": null,
            "order": null,
            "overflow": null,
            "overflow_x": null,
            "overflow_y": null,
            "padding": null,
            "right": null,
            "top": null,
            "visibility": null,
            "width": null
          }
        },
        "4fa34381b4724527b829c4bf2d07e4cc": {
          "model_module": "@jupyter-widgets/controls",
          "model_name": "DescriptionStyleModel",
          "model_module_version": "1.5.0",
          "state": {
            "_model_module": "@jupyter-widgets/controls",
            "_model_module_version": "1.5.0",
            "_model_name": "DescriptionStyleModel",
            "_view_count": null,
            "_view_module": "@jupyter-widgets/base",
            "_view_module_version": "1.2.0",
            "_view_name": "StyleView",
            "description_width": ""
          }
        },
        "293bcc1f673d45999e1d610aee330f64": {
          "model_module": "@jupyter-widgets/base",
          "model_name": "LayoutModel",
          "model_module_version": "1.2.0",
          "state": {
            "_model_module": "@jupyter-widgets/base",
            "_model_module_version": "1.2.0",
            "_model_name": "LayoutModel",
            "_view_count": null,
            "_view_module": "@jupyter-widgets/base",
            "_view_module_version": "1.2.0",
            "_view_name": "LayoutView",
            "align_content": null,
            "align_items": null,
            "align_self": null,
            "border": null,
            "bottom": null,
            "display": null,
            "flex": null,
            "flex_flow": null,
            "grid_area": null,
            "grid_auto_columns": null,
            "grid_auto_flow": null,
            "grid_auto_rows": null,
            "grid_column": null,
            "grid_gap": null,
            "grid_row": null,
            "grid_template_areas": null,
            "grid_template_columns": null,
            "grid_template_rows": null,
            "height": null,
            "justify_content": null,
            "justify_items": null,
            "left": null,
            "margin": null,
            "max_height": null,
            "max_width": null,
            "min_height": null,
            "min_width": null,
            "object_fit": null,
            "object_position": null,
            "order": null,
            "overflow": null,
            "overflow_x": null,
            "overflow_y": null,
            "padding": null,
            "right": null,
            "top": null,
            "visibility": null,
            "width": null
          }
        },
        "310170698d1041ea897e3b3d36e8f4a2": {
          "model_module": "@jupyter-widgets/controls",
          "model_name": "ProgressStyleModel",
          "model_module_version": "1.5.0",
          "state": {
            "_model_module": "@jupyter-widgets/controls",
            "_model_module_version": "1.5.0",
            "_model_name": "ProgressStyleModel",
            "_view_count": null,
            "_view_module": "@jupyter-widgets/base",
            "_view_module_version": "1.2.0",
            "_view_name": "StyleView",
            "bar_color": null,
            "description_width": ""
          }
        },
        "5ae1d4b9d56746f1898dd00fed39eb76": {
          "model_module": "@jupyter-widgets/base",
          "model_name": "LayoutModel",
          "model_module_version": "1.2.0",
          "state": {
            "_model_module": "@jupyter-widgets/base",
            "_model_module_version": "1.2.0",
            "_model_name": "LayoutModel",
            "_view_count": null,
            "_view_module": "@jupyter-widgets/base",
            "_view_module_version": "1.2.0",
            "_view_name": "LayoutView",
            "align_content": null,
            "align_items": null,
            "align_self": null,
            "border": null,
            "bottom": null,
            "display": null,
            "flex": null,
            "flex_flow": null,
            "grid_area": null,
            "grid_auto_columns": null,
            "grid_auto_flow": null,
            "grid_auto_rows": null,
            "grid_column": null,
            "grid_gap": null,
            "grid_row": null,
            "grid_template_areas": null,
            "grid_template_columns": null,
            "grid_template_rows": null,
            "height": null,
            "justify_content": null,
            "justify_items": null,
            "left": null,
            "margin": null,
            "max_height": null,
            "max_width": null,
            "min_height": null,
            "min_width": null,
            "object_fit": null,
            "object_position": null,
            "order": null,
            "overflow": null,
            "overflow_x": null,
            "overflow_y": null,
            "padding": null,
            "right": null,
            "top": null,
            "visibility": null,
            "width": null
          }
        },
        "92cedbf5de3345c9b8109cd450e8f776": {
          "model_module": "@jupyter-widgets/controls",
          "model_name": "DescriptionStyleModel",
          "model_module_version": "1.5.0",
          "state": {
            "_model_module": "@jupyter-widgets/controls",
            "_model_module_version": "1.5.0",
            "_model_name": "DescriptionStyleModel",
            "_view_count": null,
            "_view_module": "@jupyter-widgets/base",
            "_view_module_version": "1.2.0",
            "_view_name": "StyleView",
            "description_width": ""
          }
        },
        "2f3f9d9d200943e28b7b7d0781a5c9ea": {
          "model_module": "@jupyter-widgets/controls",
          "model_name": "HBoxModel",
          "model_module_version": "1.5.0",
          "state": {
            "_dom_classes": [],
            "_model_module": "@jupyter-widgets/controls",
            "_model_module_version": "1.5.0",
            "_model_name": "HBoxModel",
            "_view_count": null,
            "_view_module": "@jupyter-widgets/controls",
            "_view_module_version": "1.5.0",
            "_view_name": "HBoxView",
            "box_style": "",
            "children": [
              "IPY_MODEL_8e5887f720a5490d8ab145ebef0f7016",
              "IPY_MODEL_01dea08eac4a44ae95da425d5453c36a",
              "IPY_MODEL_61361aa2e0e84984b351fdf232776ba7"
            ],
            "layout": "IPY_MODEL_dee93341e2ed4c76926da4cddb6e3079"
          }
        },
        "8e5887f720a5490d8ab145ebef0f7016": {
          "model_module": "@jupyter-widgets/controls",
          "model_name": "HTMLModel",
          "model_module_version": "1.5.0",
          "state": {
            "_dom_classes": [],
            "_model_module": "@jupyter-widgets/controls",
            "_model_module_version": "1.5.0",
            "_model_name": "HTMLModel",
            "_view_count": null,
            "_view_module": "@jupyter-widgets/controls",
            "_view_module_version": "1.5.0",
            "_view_name": "HTMLView",
            "description": "",
            "description_tooltip": null,
            "layout": "IPY_MODEL_85b7cdd00e304683907b9114d99c14d1",
            "placeholder": "​",
            "style": "IPY_MODEL_3e9aa2d0bb1f4979bcf47c2321aa9e35",
            "value": "100%"
          }
        },
        "01dea08eac4a44ae95da425d5453c36a": {
          "model_module": "@jupyter-widgets/controls",
          "model_name": "FloatProgressModel",
          "model_module_version": "1.5.0",
          "state": {
            "_dom_classes": [],
            "_model_module": "@jupyter-widgets/controls",
            "_model_module_version": "1.5.0",
            "_model_name": "FloatProgressModel",
            "_view_count": null,
            "_view_module": "@jupyter-widgets/controls",
            "_view_module_version": "1.5.0",
            "_view_name": "ProgressView",
            "bar_style": "success",
            "description": "",
            "description_tooltip": null,
            "layout": "IPY_MODEL_8b4e2bf38a1349b18a03d3102fd40811",
            "max": 938,
            "min": 0,
            "orientation": "horizontal",
            "style": "IPY_MODEL_049bf716244d425b9e869368db5d488e",
            "value": 938
          }
        },
        "61361aa2e0e84984b351fdf232776ba7": {
          "model_module": "@jupyter-widgets/controls",
          "model_name": "HTMLModel",
          "model_module_version": "1.5.0",
          "state": {
            "_dom_classes": [],
            "_model_module": "@jupyter-widgets/controls",
            "_model_module_version": "1.5.0",
            "_model_name": "HTMLModel",
            "_view_count": null,
            "_view_module": "@jupyter-widgets/controls",
            "_view_module_version": "1.5.0",
            "_view_name": "HTMLView",
            "description": "",
            "description_tooltip": null,
            "layout": "IPY_MODEL_95c958b7baae452885e4529c60970f4d",
            "placeholder": "​",
            "style": "IPY_MODEL_135fa81a7799464d984e9e478230e75f",
            "value": " 938/938 [00:09&lt;00:00, 107.92batch/s]"
          }
        },
        "dee93341e2ed4c76926da4cddb6e3079": {
          "model_module": "@jupyter-widgets/base",
          "model_name": "LayoutModel",
          "model_module_version": "1.2.0",
          "state": {
            "_model_module": "@jupyter-widgets/base",
            "_model_module_version": "1.2.0",
            "_model_name": "LayoutModel",
            "_view_count": null,
            "_view_module": "@jupyter-widgets/base",
            "_view_module_version": "1.2.0",
            "_view_name": "LayoutView",
            "align_content": null,
            "align_items": null,
            "align_self": null,
            "border": null,
            "bottom": null,
            "display": null,
            "flex": null,
            "flex_flow": null,
            "grid_area": null,
            "grid_auto_columns": null,
            "grid_auto_flow": null,
            "grid_auto_rows": null,
            "grid_column": null,
            "grid_gap": null,
            "grid_row": null,
            "grid_template_areas": null,
            "grid_template_columns": null,
            "grid_template_rows": null,
            "height": null,
            "justify_content": null,
            "justify_items": null,
            "left": null,
            "margin": null,
            "max_height": null,
            "max_width": null,
            "min_height": null,
            "min_width": null,
            "object_fit": null,
            "object_position": null,
            "order": null,
            "overflow": null,
            "overflow_x": null,
            "overflow_y": null,
            "padding": null,
            "right": null,
            "top": null,
            "visibility": null,
            "width": null
          }
        },
        "85b7cdd00e304683907b9114d99c14d1": {
          "model_module": "@jupyter-widgets/base",
          "model_name": "LayoutModel",
          "model_module_version": "1.2.0",
          "state": {
            "_model_module": "@jupyter-widgets/base",
            "_model_module_version": "1.2.0",
            "_model_name": "LayoutModel",
            "_view_count": null,
            "_view_module": "@jupyter-widgets/base",
            "_view_module_version": "1.2.0",
            "_view_name": "LayoutView",
            "align_content": null,
            "align_items": null,
            "align_self": null,
            "border": null,
            "bottom": null,
            "display": null,
            "flex": null,
            "flex_flow": null,
            "grid_area": null,
            "grid_auto_columns": null,
            "grid_auto_flow": null,
            "grid_auto_rows": null,
            "grid_column": null,
            "grid_gap": null,
            "grid_row": null,
            "grid_template_areas": null,
            "grid_template_columns": null,
            "grid_template_rows": null,
            "height": null,
            "justify_content": null,
            "justify_items": null,
            "left": null,
            "margin": null,
            "max_height": null,
            "max_width": null,
            "min_height": null,
            "min_width": null,
            "object_fit": null,
            "object_position": null,
            "order": null,
            "overflow": null,
            "overflow_x": null,
            "overflow_y": null,
            "padding": null,
            "right": null,
            "top": null,
            "visibility": null,
            "width": null
          }
        },
        "3e9aa2d0bb1f4979bcf47c2321aa9e35": {
          "model_module": "@jupyter-widgets/controls",
          "model_name": "DescriptionStyleModel",
          "model_module_version": "1.5.0",
          "state": {
            "_model_module": "@jupyter-widgets/controls",
            "_model_module_version": "1.5.0",
            "_model_name": "DescriptionStyleModel",
            "_view_count": null,
            "_view_module": "@jupyter-widgets/base",
            "_view_module_version": "1.2.0",
            "_view_name": "StyleView",
            "description_width": ""
          }
        },
        "8b4e2bf38a1349b18a03d3102fd40811": {
          "model_module": "@jupyter-widgets/base",
          "model_name": "LayoutModel",
          "model_module_version": "1.2.0",
          "state": {
            "_model_module": "@jupyter-widgets/base",
            "_model_module_version": "1.2.0",
            "_model_name": "LayoutModel",
            "_view_count": null,
            "_view_module": "@jupyter-widgets/base",
            "_view_module_version": "1.2.0",
            "_view_name": "LayoutView",
            "align_content": null,
            "align_items": null,
            "align_self": null,
            "border": null,
            "bottom": null,
            "display": null,
            "flex": null,
            "flex_flow": null,
            "grid_area": null,
            "grid_auto_columns": null,
            "grid_auto_flow": null,
            "grid_auto_rows": null,
            "grid_column": null,
            "grid_gap": null,
            "grid_row": null,
            "grid_template_areas": null,
            "grid_template_columns": null,
            "grid_template_rows": null,
            "height": null,
            "justify_content": null,
            "justify_items": null,
            "left": null,
            "margin": null,
            "max_height": null,
            "max_width": null,
            "min_height": null,
            "min_width": null,
            "object_fit": null,
            "object_position": null,
            "order": null,
            "overflow": null,
            "overflow_x": null,
            "overflow_y": null,
            "padding": null,
            "right": null,
            "top": null,
            "visibility": null,
            "width": null
          }
        },
        "049bf716244d425b9e869368db5d488e": {
          "model_module": "@jupyter-widgets/controls",
          "model_name": "ProgressStyleModel",
          "model_module_version": "1.5.0",
          "state": {
            "_model_module": "@jupyter-widgets/controls",
            "_model_module_version": "1.5.0",
            "_model_name": "ProgressStyleModel",
            "_view_count": null,
            "_view_module": "@jupyter-widgets/base",
            "_view_module_version": "1.2.0",
            "_view_name": "StyleView",
            "bar_color": null,
            "description_width": ""
          }
        },
        "95c958b7baae452885e4529c60970f4d": {
          "model_module": "@jupyter-widgets/base",
          "model_name": "LayoutModel",
          "model_module_version": "1.2.0",
          "state": {
            "_model_module": "@jupyter-widgets/base",
            "_model_module_version": "1.2.0",
            "_model_name": "LayoutModel",
            "_view_count": null,
            "_view_module": "@jupyter-widgets/base",
            "_view_module_version": "1.2.0",
            "_view_name": "LayoutView",
            "align_content": null,
            "align_items": null,
            "align_self": null,
            "border": null,
            "bottom": null,
            "display": null,
            "flex": null,
            "flex_flow": null,
            "grid_area": null,
            "grid_auto_columns": null,
            "grid_auto_flow": null,
            "grid_auto_rows": null,
            "grid_column": null,
            "grid_gap": null,
            "grid_row": null,
            "grid_template_areas": null,
            "grid_template_columns": null,
            "grid_template_rows": null,
            "height": null,
            "justify_content": null,
            "justify_items": null,
            "left": null,
            "margin": null,
            "max_height": null,
            "max_width": null,
            "min_height": null,
            "min_width": null,
            "object_fit": null,
            "object_position": null,
            "order": null,
            "overflow": null,
            "overflow_x": null,
            "overflow_y": null,
            "padding": null,
            "right": null,
            "top": null,
            "visibility": null,
            "width": null
          }
        },
        "135fa81a7799464d984e9e478230e75f": {
          "model_module": "@jupyter-widgets/controls",
          "model_name": "DescriptionStyleModel",
          "model_module_version": "1.5.0",
          "state": {
            "_model_module": "@jupyter-widgets/controls",
            "_model_module_version": "1.5.0",
            "_model_name": "DescriptionStyleModel",
            "_view_count": null,
            "_view_module": "@jupyter-widgets/base",
            "_view_module_version": "1.2.0",
            "_view_name": "StyleView",
            "description_width": ""
          }
        },
        "cee6c892e720445a858235fad47f3356": {
          "model_module": "@jupyter-widgets/controls",
          "model_name": "HBoxModel",
          "model_module_version": "1.5.0",
          "state": {
            "_dom_classes": [],
            "_model_module": "@jupyter-widgets/controls",
            "_model_module_version": "1.5.0",
            "_model_name": "HBoxModel",
            "_view_count": null,
            "_view_module": "@jupyter-widgets/controls",
            "_view_module_version": "1.5.0",
            "_view_name": "HBoxView",
            "box_style": "",
            "children": [
              "IPY_MODEL_23300af34cbf43dbba301eb81d728b71",
              "IPY_MODEL_31497d5b5ae14271ac894c75804dc483",
              "IPY_MODEL_c7203fe3bbf646a7a0e7be91559213fb"
            ],
            "layout": "IPY_MODEL_3ff7d7f361ce49a382aaae5d3efd597b"
          }
        },
        "23300af34cbf43dbba301eb81d728b71": {
          "model_module": "@jupyter-widgets/controls",
          "model_name": "HTMLModel",
          "model_module_version": "1.5.0",
          "state": {
            "_dom_classes": [],
            "_model_module": "@jupyter-widgets/controls",
            "_model_module_version": "1.5.0",
            "_model_name": "HTMLModel",
            "_view_count": null,
            "_view_module": "@jupyter-widgets/controls",
            "_view_module_version": "1.5.0",
            "_view_name": "HTMLView",
            "description": "",
            "description_tooltip": null,
            "layout": "IPY_MODEL_797a633a2c034f2687a797fc622894d8",
            "placeholder": "​",
            "style": "IPY_MODEL_36b38a709d824e67a37bea0327423d8b",
            "value": "100%"
          }
        },
        "31497d5b5ae14271ac894c75804dc483": {
          "model_module": "@jupyter-widgets/controls",
          "model_name": "FloatProgressModel",
          "model_module_version": "1.5.0",
          "state": {
            "_dom_classes": [],
            "_model_module": "@jupyter-widgets/controls",
            "_model_module_version": "1.5.0",
            "_model_name": "FloatProgressModel",
            "_view_count": null,
            "_view_module": "@jupyter-widgets/controls",
            "_view_module_version": "1.5.0",
            "_view_name": "ProgressView",
            "bar_style": "success",
            "description": "",
            "description_tooltip": null,
            "layout": "IPY_MODEL_b625729265a64b109fa05f4a682360da",
            "max": 938,
            "min": 0,
            "orientation": "horizontal",
            "style": "IPY_MODEL_807582d2b233441cb52be0e3116760b2",
            "value": 938
          }
        },
        "c7203fe3bbf646a7a0e7be91559213fb": {
          "model_module": "@jupyter-widgets/controls",
          "model_name": "HTMLModel",
          "model_module_version": "1.5.0",
          "state": {
            "_dom_classes": [],
            "_model_module": "@jupyter-widgets/controls",
            "_model_module_version": "1.5.0",
            "_model_name": "HTMLModel",
            "_view_count": null,
            "_view_module": "@jupyter-widgets/controls",
            "_view_module_version": "1.5.0",
            "_view_name": "HTMLView",
            "description": "",
            "description_tooltip": null,
            "layout": "IPY_MODEL_304740e6b8044af297bcd9965f88e7a6",
            "placeholder": "​",
            "style": "IPY_MODEL_80a2f1268fa14b2b9ee1762d3c3d2503",
            "value": " 938/938 [00:09&lt;00:00, 82.36batch/s]"
          }
        },
        "3ff7d7f361ce49a382aaae5d3efd597b": {
          "model_module": "@jupyter-widgets/base",
          "model_name": "LayoutModel",
          "model_module_version": "1.2.0",
          "state": {
            "_model_module": "@jupyter-widgets/base",
            "_model_module_version": "1.2.0",
            "_model_name": "LayoutModel",
            "_view_count": null,
            "_view_module": "@jupyter-widgets/base",
            "_view_module_version": "1.2.0",
            "_view_name": "LayoutView",
            "align_content": null,
            "align_items": null,
            "align_self": null,
            "border": null,
            "bottom": null,
            "display": null,
            "flex": null,
            "flex_flow": null,
            "grid_area": null,
            "grid_auto_columns": null,
            "grid_auto_flow": null,
            "grid_auto_rows": null,
            "grid_column": null,
            "grid_gap": null,
            "grid_row": null,
            "grid_template_areas": null,
            "grid_template_columns": null,
            "grid_template_rows": null,
            "height": null,
            "justify_content": null,
            "justify_items": null,
            "left": null,
            "margin": null,
            "max_height": null,
            "max_width": null,
            "min_height": null,
            "min_width": null,
            "object_fit": null,
            "object_position": null,
            "order": null,
            "overflow": null,
            "overflow_x": null,
            "overflow_y": null,
            "padding": null,
            "right": null,
            "top": null,
            "visibility": null,
            "width": null
          }
        },
        "797a633a2c034f2687a797fc622894d8": {
          "model_module": "@jupyter-widgets/base",
          "model_name": "LayoutModel",
          "model_module_version": "1.2.0",
          "state": {
            "_model_module": "@jupyter-widgets/base",
            "_model_module_version": "1.2.0",
            "_model_name": "LayoutModel",
            "_view_count": null,
            "_view_module": "@jupyter-widgets/base",
            "_view_module_version": "1.2.0",
            "_view_name": "LayoutView",
            "align_content": null,
            "align_items": null,
            "align_self": null,
            "border": null,
            "bottom": null,
            "display": null,
            "flex": null,
            "flex_flow": null,
            "grid_area": null,
            "grid_auto_columns": null,
            "grid_auto_flow": null,
            "grid_auto_rows": null,
            "grid_column": null,
            "grid_gap": null,
            "grid_row": null,
            "grid_template_areas": null,
            "grid_template_columns": null,
            "grid_template_rows": null,
            "height": null,
            "justify_content": null,
            "justify_items": null,
            "left": null,
            "margin": null,
            "max_height": null,
            "max_width": null,
            "min_height": null,
            "min_width": null,
            "object_fit": null,
            "object_position": null,
            "order": null,
            "overflow": null,
            "overflow_x": null,
            "overflow_y": null,
            "padding": null,
            "right": null,
            "top": null,
            "visibility": null,
            "width": null
          }
        },
        "36b38a709d824e67a37bea0327423d8b": {
          "model_module": "@jupyter-widgets/controls",
          "model_name": "DescriptionStyleModel",
          "model_module_version": "1.5.0",
          "state": {
            "_model_module": "@jupyter-widgets/controls",
            "_model_module_version": "1.5.0",
            "_model_name": "DescriptionStyleModel",
            "_view_count": null,
            "_view_module": "@jupyter-widgets/base",
            "_view_module_version": "1.2.0",
            "_view_name": "StyleView",
            "description_width": ""
          }
        },
        "b625729265a64b109fa05f4a682360da": {
          "model_module": "@jupyter-widgets/base",
          "model_name": "LayoutModel",
          "model_module_version": "1.2.0",
          "state": {
            "_model_module": "@jupyter-widgets/base",
            "_model_module_version": "1.2.0",
            "_model_name": "LayoutModel",
            "_view_count": null,
            "_view_module": "@jupyter-widgets/base",
            "_view_module_version": "1.2.0",
            "_view_name": "LayoutView",
            "align_content": null,
            "align_items": null,
            "align_self": null,
            "border": null,
            "bottom": null,
            "display": null,
            "flex": null,
            "flex_flow": null,
            "grid_area": null,
            "grid_auto_columns": null,
            "grid_auto_flow": null,
            "grid_auto_rows": null,
            "grid_column": null,
            "grid_gap": null,
            "grid_row": null,
            "grid_template_areas": null,
            "grid_template_columns": null,
            "grid_template_rows": null,
            "height": null,
            "justify_content": null,
            "justify_items": null,
            "left": null,
            "margin": null,
            "max_height": null,
            "max_width": null,
            "min_height": null,
            "min_width": null,
            "object_fit": null,
            "object_position": null,
            "order": null,
            "overflow": null,
            "overflow_x": null,
            "overflow_y": null,
            "padding": null,
            "right": null,
            "top": null,
            "visibility": null,
            "width": null
          }
        },
        "807582d2b233441cb52be0e3116760b2": {
          "model_module": "@jupyter-widgets/controls",
          "model_name": "ProgressStyleModel",
          "model_module_version": "1.5.0",
          "state": {
            "_model_module": "@jupyter-widgets/controls",
            "_model_module_version": "1.5.0",
            "_model_name": "ProgressStyleModel",
            "_view_count": null,
            "_view_module": "@jupyter-widgets/base",
            "_view_module_version": "1.2.0",
            "_view_name": "StyleView",
            "bar_color": null,
            "description_width": ""
          }
        },
        "304740e6b8044af297bcd9965f88e7a6": {
          "model_module": "@jupyter-widgets/base",
          "model_name": "LayoutModel",
          "model_module_version": "1.2.0",
          "state": {
            "_model_module": "@jupyter-widgets/base",
            "_model_module_version": "1.2.0",
            "_model_name": "LayoutModel",
            "_view_count": null,
            "_view_module": "@jupyter-widgets/base",
            "_view_module_version": "1.2.0",
            "_view_name": "LayoutView",
            "align_content": null,
            "align_items": null,
            "align_self": null,
            "border": null,
            "bottom": null,
            "display": null,
            "flex": null,
            "flex_flow": null,
            "grid_area": null,
            "grid_auto_columns": null,
            "grid_auto_flow": null,
            "grid_auto_rows": null,
            "grid_column": null,
            "grid_gap": null,
            "grid_row": null,
            "grid_template_areas": null,
            "grid_template_columns": null,
            "grid_template_rows": null,
            "height": null,
            "justify_content": null,
            "justify_items": null,
            "left": null,
            "margin": null,
            "max_height": null,
            "max_width": null,
            "min_height": null,
            "min_width": null,
            "object_fit": null,
            "object_position": null,
            "order": null,
            "overflow": null,
            "overflow_x": null,
            "overflow_y": null,
            "padding": null,
            "right": null,
            "top": null,
            "visibility": null,
            "width": null
          }
        },
        "80a2f1268fa14b2b9ee1762d3c3d2503": {
          "model_module": "@jupyter-widgets/controls",
          "model_name": "DescriptionStyleModel",
          "model_module_version": "1.5.0",
          "state": {
            "_model_module": "@jupyter-widgets/controls",
            "_model_module_version": "1.5.0",
            "_model_name": "DescriptionStyleModel",
            "_view_count": null,
            "_view_module": "@jupyter-widgets/base",
            "_view_module_version": "1.2.0",
            "_view_name": "StyleView",
            "description_width": ""
          }
        },
        "4c4866b8b6f7440595b9f9c91fb627bc": {
          "model_module": "@jupyter-widgets/controls",
          "model_name": "HBoxModel",
          "model_module_version": "1.5.0",
          "state": {
            "_dom_classes": [],
            "_model_module": "@jupyter-widgets/controls",
            "_model_module_version": "1.5.0",
            "_model_name": "HBoxModel",
            "_view_count": null,
            "_view_module": "@jupyter-widgets/controls",
            "_view_module_version": "1.5.0",
            "_view_name": "HBoxView",
            "box_style": "",
            "children": [
              "IPY_MODEL_74c68aa98b714995af660316e92f1fc2",
              "IPY_MODEL_e63a48b46e71421498677659e872d2ec",
              "IPY_MODEL_534d2eee7ff84c1e951f1828faf541d5"
            ],
            "layout": "IPY_MODEL_7dcf8218ebfc4f44ac02b660db4e4a09"
          }
        },
        "74c68aa98b714995af660316e92f1fc2": {
          "model_module": "@jupyter-widgets/controls",
          "model_name": "HTMLModel",
          "model_module_version": "1.5.0",
          "state": {
            "_dom_classes": [],
            "_model_module": "@jupyter-widgets/controls",
            "_model_module_version": "1.5.0",
            "_model_name": "HTMLModel",
            "_view_count": null,
            "_view_module": "@jupyter-widgets/controls",
            "_view_module_version": "1.5.0",
            "_view_name": "HTMLView",
            "description": "",
            "description_tooltip": null,
            "layout": "IPY_MODEL_a6df41202c5d441ba78af45cbf11c1fa",
            "placeholder": "​",
            "style": "IPY_MODEL_43f152e038064889b8a5e6fe7afcabdd",
            "value": "100%"
          }
        },
        "e63a48b46e71421498677659e872d2ec": {
          "model_module": "@jupyter-widgets/controls",
          "model_name": "FloatProgressModel",
          "model_module_version": "1.5.0",
          "state": {
            "_dom_classes": [],
            "_model_module": "@jupyter-widgets/controls",
            "_model_module_version": "1.5.0",
            "_model_name": "FloatProgressModel",
            "_view_count": null,
            "_view_module": "@jupyter-widgets/controls",
            "_view_module_version": "1.5.0",
            "_view_name": "ProgressView",
            "bar_style": "success",
            "description": "",
            "description_tooltip": null,
            "layout": "IPY_MODEL_b248b019d91c487786292c27f10044ac",
            "max": 938,
            "min": 0,
            "orientation": "horizontal",
            "style": "IPY_MODEL_8a8260f5f4654475b0e039c2f2049fcc",
            "value": 938
          }
        },
        "534d2eee7ff84c1e951f1828faf541d5": {
          "model_module": "@jupyter-widgets/controls",
          "model_name": "HTMLModel",
          "model_module_version": "1.5.0",
          "state": {
            "_dom_classes": [],
            "_model_module": "@jupyter-widgets/controls",
            "_model_module_version": "1.5.0",
            "_model_name": "HTMLModel",
            "_view_count": null,
            "_view_module": "@jupyter-widgets/controls",
            "_view_module_version": "1.5.0",
            "_view_name": "HTMLView",
            "description": "",
            "description_tooltip": null,
            "layout": "IPY_MODEL_5e5a9e46c3a04da688125218134310f3",
            "placeholder": "​",
            "style": "IPY_MODEL_ca04e5895d1b42e3a7a6f03536f9578e",
            "value": " 938/938 [00:08&lt;00:00, 105.20batch/s]"
          }
        },
        "7dcf8218ebfc4f44ac02b660db4e4a09": {
          "model_module": "@jupyter-widgets/base",
          "model_name": "LayoutModel",
          "model_module_version": "1.2.0",
          "state": {
            "_model_module": "@jupyter-widgets/base",
            "_model_module_version": "1.2.0",
            "_model_name": "LayoutModel",
            "_view_count": null,
            "_view_module": "@jupyter-widgets/base",
            "_view_module_version": "1.2.0",
            "_view_name": "LayoutView",
            "align_content": null,
            "align_items": null,
            "align_self": null,
            "border": null,
            "bottom": null,
            "display": null,
            "flex": null,
            "flex_flow": null,
            "grid_area": null,
            "grid_auto_columns": null,
            "grid_auto_flow": null,
            "grid_auto_rows": null,
            "grid_column": null,
            "grid_gap": null,
            "grid_row": null,
            "grid_template_areas": null,
            "grid_template_columns": null,
            "grid_template_rows": null,
            "height": null,
            "justify_content": null,
            "justify_items": null,
            "left": null,
            "margin": null,
            "max_height": null,
            "max_width": null,
            "min_height": null,
            "min_width": null,
            "object_fit": null,
            "object_position": null,
            "order": null,
            "overflow": null,
            "overflow_x": null,
            "overflow_y": null,
            "padding": null,
            "right": null,
            "top": null,
            "visibility": null,
            "width": null
          }
        },
        "a6df41202c5d441ba78af45cbf11c1fa": {
          "model_module": "@jupyter-widgets/base",
          "model_name": "LayoutModel",
          "model_module_version": "1.2.0",
          "state": {
            "_model_module": "@jupyter-widgets/base",
            "_model_module_version": "1.2.0",
            "_model_name": "LayoutModel",
            "_view_count": null,
            "_view_module": "@jupyter-widgets/base",
            "_view_module_version": "1.2.0",
            "_view_name": "LayoutView",
            "align_content": null,
            "align_items": null,
            "align_self": null,
            "border": null,
            "bottom": null,
            "display": null,
            "flex": null,
            "flex_flow": null,
            "grid_area": null,
            "grid_auto_columns": null,
            "grid_auto_flow": null,
            "grid_auto_rows": null,
            "grid_column": null,
            "grid_gap": null,
            "grid_row": null,
            "grid_template_areas": null,
            "grid_template_columns": null,
            "grid_template_rows": null,
            "height": null,
            "justify_content": null,
            "justify_items": null,
            "left": null,
            "margin": null,
            "max_height": null,
            "max_width": null,
            "min_height": null,
            "min_width": null,
            "object_fit": null,
            "object_position": null,
            "order": null,
            "overflow": null,
            "overflow_x": null,
            "overflow_y": null,
            "padding": null,
            "right": null,
            "top": null,
            "visibility": null,
            "width": null
          }
        },
        "43f152e038064889b8a5e6fe7afcabdd": {
          "model_module": "@jupyter-widgets/controls",
          "model_name": "DescriptionStyleModel",
          "model_module_version": "1.5.0",
          "state": {
            "_model_module": "@jupyter-widgets/controls",
            "_model_module_version": "1.5.0",
            "_model_name": "DescriptionStyleModel",
            "_view_count": null,
            "_view_module": "@jupyter-widgets/base",
            "_view_module_version": "1.2.0",
            "_view_name": "StyleView",
            "description_width": ""
          }
        },
        "b248b019d91c487786292c27f10044ac": {
          "model_module": "@jupyter-widgets/base",
          "model_name": "LayoutModel",
          "model_module_version": "1.2.0",
          "state": {
            "_model_module": "@jupyter-widgets/base",
            "_model_module_version": "1.2.0",
            "_model_name": "LayoutModel",
            "_view_count": null,
            "_view_module": "@jupyter-widgets/base",
            "_view_module_version": "1.2.0",
            "_view_name": "LayoutView",
            "align_content": null,
            "align_items": null,
            "align_self": null,
            "border": null,
            "bottom": null,
            "display": null,
            "flex": null,
            "flex_flow": null,
            "grid_area": null,
            "grid_auto_columns": null,
            "grid_auto_flow": null,
            "grid_auto_rows": null,
            "grid_column": null,
            "grid_gap": null,
            "grid_row": null,
            "grid_template_areas": null,
            "grid_template_columns": null,
            "grid_template_rows": null,
            "height": null,
            "justify_content": null,
            "justify_items": null,
            "left": null,
            "margin": null,
            "max_height": null,
            "max_width": null,
            "min_height": null,
            "min_width": null,
            "object_fit": null,
            "object_position": null,
            "order": null,
            "overflow": null,
            "overflow_x": null,
            "overflow_y": null,
            "padding": null,
            "right": null,
            "top": null,
            "visibility": null,
            "width": null
          }
        },
        "8a8260f5f4654475b0e039c2f2049fcc": {
          "model_module": "@jupyter-widgets/controls",
          "model_name": "ProgressStyleModel",
          "model_module_version": "1.5.0",
          "state": {
            "_model_module": "@jupyter-widgets/controls",
            "_model_module_version": "1.5.0",
            "_model_name": "ProgressStyleModel",
            "_view_count": null,
            "_view_module": "@jupyter-widgets/base",
            "_view_module_version": "1.2.0",
            "_view_name": "StyleView",
            "bar_color": null,
            "description_width": ""
          }
        },
        "5e5a9e46c3a04da688125218134310f3": {
          "model_module": "@jupyter-widgets/base",
          "model_name": "LayoutModel",
          "model_module_version": "1.2.0",
          "state": {
            "_model_module": "@jupyter-widgets/base",
            "_model_module_version": "1.2.0",
            "_model_name": "LayoutModel",
            "_view_count": null,
            "_view_module": "@jupyter-widgets/base",
            "_view_module_version": "1.2.0",
            "_view_name": "LayoutView",
            "align_content": null,
            "align_items": null,
            "align_self": null,
            "border": null,
            "bottom": null,
            "display": null,
            "flex": null,
            "flex_flow": null,
            "grid_area": null,
            "grid_auto_columns": null,
            "grid_auto_flow": null,
            "grid_auto_rows": null,
            "grid_column": null,
            "grid_gap": null,
            "grid_row": null,
            "grid_template_areas": null,
            "grid_template_columns": null,
            "grid_template_rows": null,
            "height": null,
            "justify_content": null,
            "justify_items": null,
            "left": null,
            "margin": null,
            "max_height": null,
            "max_width": null,
            "min_height": null,
            "min_width": null,
            "object_fit": null,
            "object_position": null,
            "order": null,
            "overflow": null,
            "overflow_x": null,
            "overflow_y": null,
            "padding": null,
            "right": null,
            "top": null,
            "visibility": null,
            "width": null
          }
        },
        "ca04e5895d1b42e3a7a6f03536f9578e": {
          "model_module": "@jupyter-widgets/controls",
          "model_name": "DescriptionStyleModel",
          "model_module_version": "1.5.0",
          "state": {
            "_model_module": "@jupyter-widgets/controls",
            "_model_module_version": "1.5.0",
            "_model_name": "DescriptionStyleModel",
            "_view_count": null,
            "_view_module": "@jupyter-widgets/base",
            "_view_module_version": "1.2.0",
            "_view_name": "StyleView",
            "description_width": ""
          }
        },
        "4fa824ea564e447abfe443967043f9ea": {
          "model_module": "@jupyter-widgets/controls",
          "model_name": "HBoxModel",
          "model_module_version": "1.5.0",
          "state": {
            "_dom_classes": [],
            "_model_module": "@jupyter-widgets/controls",
            "_model_module_version": "1.5.0",
            "_model_name": "HBoxModel",
            "_view_count": null,
            "_view_module": "@jupyter-widgets/controls",
            "_view_module_version": "1.5.0",
            "_view_name": "HBoxView",
            "box_style": "",
            "children": [
              "IPY_MODEL_6c7d05be19a7468dba8b225a4c211bc6",
              "IPY_MODEL_e5dad5071f0f40eea42a2a917cb9321a",
              "IPY_MODEL_d8d729b17ad2489e9392b1ab180a41e0"
            ],
            "layout": "IPY_MODEL_a89dce19827c443d8c6fd0696d26db92"
          }
        },
        "6c7d05be19a7468dba8b225a4c211bc6": {
          "model_module": "@jupyter-widgets/controls",
          "model_name": "HTMLModel",
          "model_module_version": "1.5.0",
          "state": {
            "_dom_classes": [],
            "_model_module": "@jupyter-widgets/controls",
            "_model_module_version": "1.5.0",
            "_model_name": "HTMLModel",
            "_view_count": null,
            "_view_module": "@jupyter-widgets/controls",
            "_view_module_version": "1.5.0",
            "_view_name": "HTMLView",
            "description": "",
            "description_tooltip": null,
            "layout": "IPY_MODEL_7f6bf508fd8b4398acf1634eadbca728",
            "placeholder": "​",
            "style": "IPY_MODEL_c10eed98af2c45b0a276100ae2821689",
            "value": "100%"
          }
        },
        "e5dad5071f0f40eea42a2a917cb9321a": {
          "model_module": "@jupyter-widgets/controls",
          "model_name": "FloatProgressModel",
          "model_module_version": "1.5.0",
          "state": {
            "_dom_classes": [],
            "_model_module": "@jupyter-widgets/controls",
            "_model_module_version": "1.5.0",
            "_model_name": "FloatProgressModel",
            "_view_count": null,
            "_view_module": "@jupyter-widgets/controls",
            "_view_module_version": "1.5.0",
            "_view_name": "ProgressView",
            "bar_style": "success",
            "description": "",
            "description_tooltip": null,
            "layout": "IPY_MODEL_0c9dca8651d7473b8803d53795bc59ce",
            "max": 938,
            "min": 0,
            "orientation": "horizontal",
            "style": "IPY_MODEL_91075fb59e1148bc9a1ad7da8d484cab",
            "value": 938
          }
        },
        "d8d729b17ad2489e9392b1ab180a41e0": {
          "model_module": "@jupyter-widgets/controls",
          "model_name": "HTMLModel",
          "model_module_version": "1.5.0",
          "state": {
            "_dom_classes": [],
            "_model_module": "@jupyter-widgets/controls",
            "_model_module_version": "1.5.0",
            "_model_name": "HTMLModel",
            "_view_count": null,
            "_view_module": "@jupyter-widgets/controls",
            "_view_module_version": "1.5.0",
            "_view_name": "HTMLView",
            "description": "",
            "description_tooltip": null,
            "layout": "IPY_MODEL_f24dee56e9b34a1da646e8007b768fb3",
            "placeholder": "​",
            "style": "IPY_MODEL_864789d24c1646689864ed8cef65d26d",
            "value": " 938/938 [00:09&lt;00:00, 100.69batch/s]"
          }
        },
        "a89dce19827c443d8c6fd0696d26db92": {
          "model_module": "@jupyter-widgets/base",
          "model_name": "LayoutModel",
          "model_module_version": "1.2.0",
          "state": {
            "_model_module": "@jupyter-widgets/base",
            "_model_module_version": "1.2.0",
            "_model_name": "LayoutModel",
            "_view_count": null,
            "_view_module": "@jupyter-widgets/base",
            "_view_module_version": "1.2.0",
            "_view_name": "LayoutView",
            "align_content": null,
            "align_items": null,
            "align_self": null,
            "border": null,
            "bottom": null,
            "display": null,
            "flex": null,
            "flex_flow": null,
            "grid_area": null,
            "grid_auto_columns": null,
            "grid_auto_flow": null,
            "grid_auto_rows": null,
            "grid_column": null,
            "grid_gap": null,
            "grid_row": null,
            "grid_template_areas": null,
            "grid_template_columns": null,
            "grid_template_rows": null,
            "height": null,
            "justify_content": null,
            "justify_items": null,
            "left": null,
            "margin": null,
            "max_height": null,
            "max_width": null,
            "min_height": null,
            "min_width": null,
            "object_fit": null,
            "object_position": null,
            "order": null,
            "overflow": null,
            "overflow_x": null,
            "overflow_y": null,
            "padding": null,
            "right": null,
            "top": null,
            "visibility": null,
            "width": null
          }
        },
        "7f6bf508fd8b4398acf1634eadbca728": {
          "model_module": "@jupyter-widgets/base",
          "model_name": "LayoutModel",
          "model_module_version": "1.2.0",
          "state": {
            "_model_module": "@jupyter-widgets/base",
            "_model_module_version": "1.2.0",
            "_model_name": "LayoutModel",
            "_view_count": null,
            "_view_module": "@jupyter-widgets/base",
            "_view_module_version": "1.2.0",
            "_view_name": "LayoutView",
            "align_content": null,
            "align_items": null,
            "align_self": null,
            "border": null,
            "bottom": null,
            "display": null,
            "flex": null,
            "flex_flow": null,
            "grid_area": null,
            "grid_auto_columns": null,
            "grid_auto_flow": null,
            "grid_auto_rows": null,
            "grid_column": null,
            "grid_gap": null,
            "grid_row": null,
            "grid_template_areas": null,
            "grid_template_columns": null,
            "grid_template_rows": null,
            "height": null,
            "justify_content": null,
            "justify_items": null,
            "left": null,
            "margin": null,
            "max_height": null,
            "max_width": null,
            "min_height": null,
            "min_width": null,
            "object_fit": null,
            "object_position": null,
            "order": null,
            "overflow": null,
            "overflow_x": null,
            "overflow_y": null,
            "padding": null,
            "right": null,
            "top": null,
            "visibility": null,
            "width": null
          }
        },
        "c10eed98af2c45b0a276100ae2821689": {
          "model_module": "@jupyter-widgets/controls",
          "model_name": "DescriptionStyleModel",
          "model_module_version": "1.5.0",
          "state": {
            "_model_module": "@jupyter-widgets/controls",
            "_model_module_version": "1.5.0",
            "_model_name": "DescriptionStyleModel",
            "_view_count": null,
            "_view_module": "@jupyter-widgets/base",
            "_view_module_version": "1.2.0",
            "_view_name": "StyleView",
            "description_width": ""
          }
        },
        "0c9dca8651d7473b8803d53795bc59ce": {
          "model_module": "@jupyter-widgets/base",
          "model_name": "LayoutModel",
          "model_module_version": "1.2.0",
          "state": {
            "_model_module": "@jupyter-widgets/base",
            "_model_module_version": "1.2.0",
            "_model_name": "LayoutModel",
            "_view_count": null,
            "_view_module": "@jupyter-widgets/base",
            "_view_module_version": "1.2.0",
            "_view_name": "LayoutView",
            "align_content": null,
            "align_items": null,
            "align_self": null,
            "border": null,
            "bottom": null,
            "display": null,
            "flex": null,
            "flex_flow": null,
            "grid_area": null,
            "grid_auto_columns": null,
            "grid_auto_flow": null,
            "grid_auto_rows": null,
            "grid_column": null,
            "grid_gap": null,
            "grid_row": null,
            "grid_template_areas": null,
            "grid_template_columns": null,
            "grid_template_rows": null,
            "height": null,
            "justify_content": null,
            "justify_items": null,
            "left": null,
            "margin": null,
            "max_height": null,
            "max_width": null,
            "min_height": null,
            "min_width": null,
            "object_fit": null,
            "object_position": null,
            "order": null,
            "overflow": null,
            "overflow_x": null,
            "overflow_y": null,
            "padding": null,
            "right": null,
            "top": null,
            "visibility": null,
            "width": null
          }
        },
        "91075fb59e1148bc9a1ad7da8d484cab": {
          "model_module": "@jupyter-widgets/controls",
          "model_name": "ProgressStyleModel",
          "model_module_version": "1.5.0",
          "state": {
            "_model_module": "@jupyter-widgets/controls",
            "_model_module_version": "1.5.0",
            "_model_name": "ProgressStyleModel",
            "_view_count": null,
            "_view_module": "@jupyter-widgets/base",
            "_view_module_version": "1.2.0",
            "_view_name": "StyleView",
            "bar_color": null,
            "description_width": ""
          }
        },
        "f24dee56e9b34a1da646e8007b768fb3": {
          "model_module": "@jupyter-widgets/base",
          "model_name": "LayoutModel",
          "model_module_version": "1.2.0",
          "state": {
            "_model_module": "@jupyter-widgets/base",
            "_model_module_version": "1.2.0",
            "_model_name": "LayoutModel",
            "_view_count": null,
            "_view_module": "@jupyter-widgets/base",
            "_view_module_version": "1.2.0",
            "_view_name": "LayoutView",
            "align_content": null,
            "align_items": null,
            "align_self": null,
            "border": null,
            "bottom": null,
            "display": null,
            "flex": null,
            "flex_flow": null,
            "grid_area": null,
            "grid_auto_columns": null,
            "grid_auto_flow": null,
            "grid_auto_rows": null,
            "grid_column": null,
            "grid_gap": null,
            "grid_row": null,
            "grid_template_areas": null,
            "grid_template_columns": null,
            "grid_template_rows": null,
            "height": null,
            "justify_content": null,
            "justify_items": null,
            "left": null,
            "margin": null,
            "max_height": null,
            "max_width": null,
            "min_height": null,
            "min_width": null,
            "object_fit": null,
            "object_position": null,
            "order": null,
            "overflow": null,
            "overflow_x": null,
            "overflow_y": null,
            "padding": null,
            "right": null,
            "top": null,
            "visibility": null,
            "width": null
          }
        },
        "864789d24c1646689864ed8cef65d26d": {
          "model_module": "@jupyter-widgets/controls",
          "model_name": "DescriptionStyleModel",
          "model_module_version": "1.5.0",
          "state": {
            "_model_module": "@jupyter-widgets/controls",
            "_model_module_version": "1.5.0",
            "_model_name": "DescriptionStyleModel",
            "_view_count": null,
            "_view_module": "@jupyter-widgets/base",
            "_view_module_version": "1.2.0",
            "_view_name": "StyleView",
            "description_width": ""
          }
        },
        "e8368b94cb8a447a895b7b7916a78962": {
          "model_module": "@jupyter-widgets/controls",
          "model_name": "HBoxModel",
          "model_module_version": "1.5.0",
          "state": {
            "_dom_classes": [],
            "_model_module": "@jupyter-widgets/controls",
            "_model_module_version": "1.5.0",
            "_model_name": "HBoxModel",
            "_view_count": null,
            "_view_module": "@jupyter-widgets/controls",
            "_view_module_version": "1.5.0",
            "_view_name": "HBoxView",
            "box_style": "",
            "children": [
              "IPY_MODEL_fd308014a8c54cf7af1a070f534f5a68",
              "IPY_MODEL_8a90770a276947dd9d52ef2f1caaf480",
              "IPY_MODEL_bcf88e1750734d4e9a29e952650807e8"
            ],
            "layout": "IPY_MODEL_e1cd282dd8874b91b538a6973288cb06"
          }
        },
        "fd308014a8c54cf7af1a070f534f5a68": {
          "model_module": "@jupyter-widgets/controls",
          "model_name": "HTMLModel",
          "model_module_version": "1.5.0",
          "state": {
            "_dom_classes": [],
            "_model_module": "@jupyter-widgets/controls",
            "_model_module_version": "1.5.0",
            "_model_name": "HTMLModel",
            "_view_count": null,
            "_view_module": "@jupyter-widgets/controls",
            "_view_module_version": "1.5.0",
            "_view_name": "HTMLView",
            "description": "",
            "description_tooltip": null,
            "layout": "IPY_MODEL_380856e2904e4c16899a5452f5823f52",
            "placeholder": "​",
            "style": "IPY_MODEL_460a68c7ef2e41b4934f9a74953327bf",
            "value": "100%"
          }
        },
        "8a90770a276947dd9d52ef2f1caaf480": {
          "model_module": "@jupyter-widgets/controls",
          "model_name": "FloatProgressModel",
          "model_module_version": "1.5.0",
          "state": {
            "_dom_classes": [],
            "_model_module": "@jupyter-widgets/controls",
            "_model_module_version": "1.5.0",
            "_model_name": "FloatProgressModel",
            "_view_count": null,
            "_view_module": "@jupyter-widgets/controls",
            "_view_module_version": "1.5.0",
            "_view_name": "ProgressView",
            "bar_style": "success",
            "description": "",
            "description_tooltip": null,
            "layout": "IPY_MODEL_7a1ff7e2b34e4755a8f57129c1378ed9",
            "max": 938,
            "min": 0,
            "orientation": "horizontal",
            "style": "IPY_MODEL_c1aa9118a4dc440cbe5ee6f5be99449e",
            "value": 938
          }
        },
        "bcf88e1750734d4e9a29e952650807e8": {
          "model_module": "@jupyter-widgets/controls",
          "model_name": "HTMLModel",
          "model_module_version": "1.5.0",
          "state": {
            "_dom_classes": [],
            "_model_module": "@jupyter-widgets/controls",
            "_model_module_version": "1.5.0",
            "_model_name": "HTMLModel",
            "_view_count": null,
            "_view_module": "@jupyter-widgets/controls",
            "_view_module_version": "1.5.0",
            "_view_name": "HTMLView",
            "description": "",
            "description_tooltip": null,
            "layout": "IPY_MODEL_89d7f3dc8570407095d208cb86c54189",
            "placeholder": "​",
            "style": "IPY_MODEL_489cc55e71104e74b7d74206eb6401a4",
            "value": " 938/938 [00:09&lt;00:00, 104.77batch/s]"
          }
        },
        "e1cd282dd8874b91b538a6973288cb06": {
          "model_module": "@jupyter-widgets/base",
          "model_name": "LayoutModel",
          "model_module_version": "1.2.0",
          "state": {
            "_model_module": "@jupyter-widgets/base",
            "_model_module_version": "1.2.0",
            "_model_name": "LayoutModel",
            "_view_count": null,
            "_view_module": "@jupyter-widgets/base",
            "_view_module_version": "1.2.0",
            "_view_name": "LayoutView",
            "align_content": null,
            "align_items": null,
            "align_self": null,
            "border": null,
            "bottom": null,
            "display": null,
            "flex": null,
            "flex_flow": null,
            "grid_area": null,
            "grid_auto_columns": null,
            "grid_auto_flow": null,
            "grid_auto_rows": null,
            "grid_column": null,
            "grid_gap": null,
            "grid_row": null,
            "grid_template_areas": null,
            "grid_template_columns": null,
            "grid_template_rows": null,
            "height": null,
            "justify_content": null,
            "justify_items": null,
            "left": null,
            "margin": null,
            "max_height": null,
            "max_width": null,
            "min_height": null,
            "min_width": null,
            "object_fit": null,
            "object_position": null,
            "order": null,
            "overflow": null,
            "overflow_x": null,
            "overflow_y": null,
            "padding": null,
            "right": null,
            "top": null,
            "visibility": null,
            "width": null
          }
        },
        "380856e2904e4c16899a5452f5823f52": {
          "model_module": "@jupyter-widgets/base",
          "model_name": "LayoutModel",
          "model_module_version": "1.2.0",
          "state": {
            "_model_module": "@jupyter-widgets/base",
            "_model_module_version": "1.2.0",
            "_model_name": "LayoutModel",
            "_view_count": null,
            "_view_module": "@jupyter-widgets/base",
            "_view_module_version": "1.2.0",
            "_view_name": "LayoutView",
            "align_content": null,
            "align_items": null,
            "align_self": null,
            "border": null,
            "bottom": null,
            "display": null,
            "flex": null,
            "flex_flow": null,
            "grid_area": null,
            "grid_auto_columns": null,
            "grid_auto_flow": null,
            "grid_auto_rows": null,
            "grid_column": null,
            "grid_gap": null,
            "grid_row": null,
            "grid_template_areas": null,
            "grid_template_columns": null,
            "grid_template_rows": null,
            "height": null,
            "justify_content": null,
            "justify_items": null,
            "left": null,
            "margin": null,
            "max_height": null,
            "max_width": null,
            "min_height": null,
            "min_width": null,
            "object_fit": null,
            "object_position": null,
            "order": null,
            "overflow": null,
            "overflow_x": null,
            "overflow_y": null,
            "padding": null,
            "right": null,
            "top": null,
            "visibility": null,
            "width": null
          }
        },
        "460a68c7ef2e41b4934f9a74953327bf": {
          "model_module": "@jupyter-widgets/controls",
          "model_name": "DescriptionStyleModel",
          "model_module_version": "1.5.0",
          "state": {
            "_model_module": "@jupyter-widgets/controls",
            "_model_module_version": "1.5.0",
            "_model_name": "DescriptionStyleModel",
            "_view_count": null,
            "_view_module": "@jupyter-widgets/base",
            "_view_module_version": "1.2.0",
            "_view_name": "StyleView",
            "description_width": ""
          }
        },
        "7a1ff7e2b34e4755a8f57129c1378ed9": {
          "model_module": "@jupyter-widgets/base",
          "model_name": "LayoutModel",
          "model_module_version": "1.2.0",
          "state": {
            "_model_module": "@jupyter-widgets/base",
            "_model_module_version": "1.2.0",
            "_model_name": "LayoutModel",
            "_view_count": null,
            "_view_module": "@jupyter-widgets/base",
            "_view_module_version": "1.2.0",
            "_view_name": "LayoutView",
            "align_content": null,
            "align_items": null,
            "align_self": null,
            "border": null,
            "bottom": null,
            "display": null,
            "flex": null,
            "flex_flow": null,
            "grid_area": null,
            "grid_auto_columns": null,
            "grid_auto_flow": null,
            "grid_auto_rows": null,
            "grid_column": null,
            "grid_gap": null,
            "grid_row": null,
            "grid_template_areas": null,
            "grid_template_columns": null,
            "grid_template_rows": null,
            "height": null,
            "justify_content": null,
            "justify_items": null,
            "left": null,
            "margin": null,
            "max_height": null,
            "max_width": null,
            "min_height": null,
            "min_width": null,
            "object_fit": null,
            "object_position": null,
            "order": null,
            "overflow": null,
            "overflow_x": null,
            "overflow_y": null,
            "padding": null,
            "right": null,
            "top": null,
            "visibility": null,
            "width": null
          }
        },
        "c1aa9118a4dc440cbe5ee6f5be99449e": {
          "model_module": "@jupyter-widgets/controls",
          "model_name": "ProgressStyleModel",
          "model_module_version": "1.5.0",
          "state": {
            "_model_module": "@jupyter-widgets/controls",
            "_model_module_version": "1.5.0",
            "_model_name": "ProgressStyleModel",
            "_view_count": null,
            "_view_module": "@jupyter-widgets/base",
            "_view_module_version": "1.2.0",
            "_view_name": "StyleView",
            "bar_color": null,
            "description_width": ""
          }
        },
        "89d7f3dc8570407095d208cb86c54189": {
          "model_module": "@jupyter-widgets/base",
          "model_name": "LayoutModel",
          "model_module_version": "1.2.0",
          "state": {
            "_model_module": "@jupyter-widgets/base",
            "_model_module_version": "1.2.0",
            "_model_name": "LayoutModel",
            "_view_count": null,
            "_view_module": "@jupyter-widgets/base",
            "_view_module_version": "1.2.0",
            "_view_name": "LayoutView",
            "align_content": null,
            "align_items": null,
            "align_self": null,
            "border": null,
            "bottom": null,
            "display": null,
            "flex": null,
            "flex_flow": null,
            "grid_area": null,
            "grid_auto_columns": null,
            "grid_auto_flow": null,
            "grid_auto_rows": null,
            "grid_column": null,
            "grid_gap": null,
            "grid_row": null,
            "grid_template_areas": null,
            "grid_template_columns": null,
            "grid_template_rows": null,
            "height": null,
            "justify_content": null,
            "justify_items": null,
            "left": null,
            "margin": null,
            "max_height": null,
            "max_width": null,
            "min_height": null,
            "min_width": null,
            "object_fit": null,
            "object_position": null,
            "order": null,
            "overflow": null,
            "overflow_x": null,
            "overflow_y": null,
            "padding": null,
            "right": null,
            "top": null,
            "visibility": null,
            "width": null
          }
        },
        "489cc55e71104e74b7d74206eb6401a4": {
          "model_module": "@jupyter-widgets/controls",
          "model_name": "DescriptionStyleModel",
          "model_module_version": "1.5.0",
          "state": {
            "_model_module": "@jupyter-widgets/controls",
            "_model_module_version": "1.5.0",
            "_model_name": "DescriptionStyleModel",
            "_view_count": null,
            "_view_module": "@jupyter-widgets/base",
            "_view_module_version": "1.2.0",
            "_view_name": "StyleView",
            "description_width": ""
          }
        },
        "e2ff60c0a79d4edd97081b571b03101c": {
          "model_module": "@jupyter-widgets/controls",
          "model_name": "HBoxModel",
          "model_module_version": "1.5.0",
          "state": {
            "_dom_classes": [],
            "_model_module": "@jupyter-widgets/controls",
            "_model_module_version": "1.5.0",
            "_model_name": "HBoxModel",
            "_view_count": null,
            "_view_module": "@jupyter-widgets/controls",
            "_view_module_version": "1.5.0",
            "_view_name": "HBoxView",
            "box_style": "",
            "children": [
              "IPY_MODEL_8cb3da59bd2c4c6398c8c9c160593624",
              "IPY_MODEL_6756200aa62c494981b2b60b7a5aaf88",
              "IPY_MODEL_2cc1a599adbb42fba6965e4e494bc49e"
            ],
            "layout": "IPY_MODEL_d4048f54f4b04c83beb74623ce7afc6f"
          }
        },
        "8cb3da59bd2c4c6398c8c9c160593624": {
          "model_module": "@jupyter-widgets/controls",
          "model_name": "HTMLModel",
          "model_module_version": "1.5.0",
          "state": {
            "_dom_classes": [],
            "_model_module": "@jupyter-widgets/controls",
            "_model_module_version": "1.5.0",
            "_model_name": "HTMLModel",
            "_view_count": null,
            "_view_module": "@jupyter-widgets/controls",
            "_view_module_version": "1.5.0",
            "_view_name": "HTMLView",
            "description": "",
            "description_tooltip": null,
            "layout": "IPY_MODEL_7116c06a9290437c89c6496467e24508",
            "placeholder": "​",
            "style": "IPY_MODEL_f3a077d6398f45199d6db60047dd78b2",
            "value": "100%"
          }
        },
        "6756200aa62c494981b2b60b7a5aaf88": {
          "model_module": "@jupyter-widgets/controls",
          "model_name": "FloatProgressModel",
          "model_module_version": "1.5.0",
          "state": {
            "_dom_classes": [],
            "_model_module": "@jupyter-widgets/controls",
            "_model_module_version": "1.5.0",
            "_model_name": "FloatProgressModel",
            "_view_count": null,
            "_view_module": "@jupyter-widgets/controls",
            "_view_module_version": "1.5.0",
            "_view_name": "ProgressView",
            "bar_style": "success",
            "description": "",
            "description_tooltip": null,
            "layout": "IPY_MODEL_fb19ac9345074713977bd9efd58bbf7c",
            "max": 938,
            "min": 0,
            "orientation": "horizontal",
            "style": "IPY_MODEL_ae9a65af1df04a2da1934e434de2fb53",
            "value": 938
          }
        },
        "2cc1a599adbb42fba6965e4e494bc49e": {
          "model_module": "@jupyter-widgets/controls",
          "model_name": "HTMLModel",
          "model_module_version": "1.5.0",
          "state": {
            "_dom_classes": [],
            "_model_module": "@jupyter-widgets/controls",
            "_model_module_version": "1.5.0",
            "_model_name": "HTMLModel",
            "_view_count": null,
            "_view_module": "@jupyter-widgets/controls",
            "_view_module_version": "1.5.0",
            "_view_name": "HTMLView",
            "description": "",
            "description_tooltip": null,
            "layout": "IPY_MODEL_ff5b07e1b4ea411dbbf10e2b73ae20ed",
            "placeholder": "​",
            "style": "IPY_MODEL_a1ad973b806b4acfa1d949095d90539f",
            "value": " 938/938 [00:09&lt;00:00, 75.93batch/s]"
          }
        },
        "d4048f54f4b04c83beb74623ce7afc6f": {
          "model_module": "@jupyter-widgets/base",
          "model_name": "LayoutModel",
          "model_module_version": "1.2.0",
          "state": {
            "_model_module": "@jupyter-widgets/base",
            "_model_module_version": "1.2.0",
            "_model_name": "LayoutModel",
            "_view_count": null,
            "_view_module": "@jupyter-widgets/base",
            "_view_module_version": "1.2.0",
            "_view_name": "LayoutView",
            "align_content": null,
            "align_items": null,
            "align_self": null,
            "border": null,
            "bottom": null,
            "display": null,
            "flex": null,
            "flex_flow": null,
            "grid_area": null,
            "grid_auto_columns": null,
            "grid_auto_flow": null,
            "grid_auto_rows": null,
            "grid_column": null,
            "grid_gap": null,
            "grid_row": null,
            "grid_template_areas": null,
            "grid_template_columns": null,
            "grid_template_rows": null,
            "height": null,
            "justify_content": null,
            "justify_items": null,
            "left": null,
            "margin": null,
            "max_height": null,
            "max_width": null,
            "min_height": null,
            "min_width": null,
            "object_fit": null,
            "object_position": null,
            "order": null,
            "overflow": null,
            "overflow_x": null,
            "overflow_y": null,
            "padding": null,
            "right": null,
            "top": null,
            "visibility": null,
            "width": null
          }
        },
        "7116c06a9290437c89c6496467e24508": {
          "model_module": "@jupyter-widgets/base",
          "model_name": "LayoutModel",
          "model_module_version": "1.2.0",
          "state": {
            "_model_module": "@jupyter-widgets/base",
            "_model_module_version": "1.2.0",
            "_model_name": "LayoutModel",
            "_view_count": null,
            "_view_module": "@jupyter-widgets/base",
            "_view_module_version": "1.2.0",
            "_view_name": "LayoutView",
            "align_content": null,
            "align_items": null,
            "align_self": null,
            "border": null,
            "bottom": null,
            "display": null,
            "flex": null,
            "flex_flow": null,
            "grid_area": null,
            "grid_auto_columns": null,
            "grid_auto_flow": null,
            "grid_auto_rows": null,
            "grid_column": null,
            "grid_gap": null,
            "grid_row": null,
            "grid_template_areas": null,
            "grid_template_columns": null,
            "grid_template_rows": null,
            "height": null,
            "justify_content": null,
            "justify_items": null,
            "left": null,
            "margin": null,
            "max_height": null,
            "max_width": null,
            "min_height": null,
            "min_width": null,
            "object_fit": null,
            "object_position": null,
            "order": null,
            "overflow": null,
            "overflow_x": null,
            "overflow_y": null,
            "padding": null,
            "right": null,
            "top": null,
            "visibility": null,
            "width": null
          }
        },
        "f3a077d6398f45199d6db60047dd78b2": {
          "model_module": "@jupyter-widgets/controls",
          "model_name": "DescriptionStyleModel",
          "model_module_version": "1.5.0",
          "state": {
            "_model_module": "@jupyter-widgets/controls",
            "_model_module_version": "1.5.0",
            "_model_name": "DescriptionStyleModel",
            "_view_count": null,
            "_view_module": "@jupyter-widgets/base",
            "_view_module_version": "1.2.0",
            "_view_name": "StyleView",
            "description_width": ""
          }
        },
        "fb19ac9345074713977bd9efd58bbf7c": {
          "model_module": "@jupyter-widgets/base",
          "model_name": "LayoutModel",
          "model_module_version": "1.2.0",
          "state": {
            "_model_module": "@jupyter-widgets/base",
            "_model_module_version": "1.2.0",
            "_model_name": "LayoutModel",
            "_view_count": null,
            "_view_module": "@jupyter-widgets/base",
            "_view_module_version": "1.2.0",
            "_view_name": "LayoutView",
            "align_content": null,
            "align_items": null,
            "align_self": null,
            "border": null,
            "bottom": null,
            "display": null,
            "flex": null,
            "flex_flow": null,
            "grid_area": null,
            "grid_auto_columns": null,
            "grid_auto_flow": null,
            "grid_auto_rows": null,
            "grid_column": null,
            "grid_gap": null,
            "grid_row": null,
            "grid_template_areas": null,
            "grid_template_columns": null,
            "grid_template_rows": null,
            "height": null,
            "justify_content": null,
            "justify_items": null,
            "left": null,
            "margin": null,
            "max_height": null,
            "max_width": null,
            "min_height": null,
            "min_width": null,
            "object_fit": null,
            "object_position": null,
            "order": null,
            "overflow": null,
            "overflow_x": null,
            "overflow_y": null,
            "padding": null,
            "right": null,
            "top": null,
            "visibility": null,
            "width": null
          }
        },
        "ae9a65af1df04a2da1934e434de2fb53": {
          "model_module": "@jupyter-widgets/controls",
          "model_name": "ProgressStyleModel",
          "model_module_version": "1.5.0",
          "state": {
            "_model_module": "@jupyter-widgets/controls",
            "_model_module_version": "1.5.0",
            "_model_name": "ProgressStyleModel",
            "_view_count": null,
            "_view_module": "@jupyter-widgets/base",
            "_view_module_version": "1.2.0",
            "_view_name": "StyleView",
            "bar_color": null,
            "description_width": ""
          }
        },
        "ff5b07e1b4ea411dbbf10e2b73ae20ed": {
          "model_module": "@jupyter-widgets/base",
          "model_name": "LayoutModel",
          "model_module_version": "1.2.0",
          "state": {
            "_model_module": "@jupyter-widgets/base",
            "_model_module_version": "1.2.0",
            "_model_name": "LayoutModel",
            "_view_count": null,
            "_view_module": "@jupyter-widgets/base",
            "_view_module_version": "1.2.0",
            "_view_name": "LayoutView",
            "align_content": null,
            "align_items": null,
            "align_self": null,
            "border": null,
            "bottom": null,
            "display": null,
            "flex": null,
            "flex_flow": null,
            "grid_area": null,
            "grid_auto_columns": null,
            "grid_auto_flow": null,
            "grid_auto_rows": null,
            "grid_column": null,
            "grid_gap": null,
            "grid_row": null,
            "grid_template_areas": null,
            "grid_template_columns": null,
            "grid_template_rows": null,
            "height": null,
            "justify_content": null,
            "justify_items": null,
            "left": null,
            "margin": null,
            "max_height": null,
            "max_width": null,
            "min_height": null,
            "min_width": null,
            "object_fit": null,
            "object_position": null,
            "order": null,
            "overflow": null,
            "overflow_x": null,
            "overflow_y": null,
            "padding": null,
            "right": null,
            "top": null,
            "visibility": null,
            "width": null
          }
        },
        "a1ad973b806b4acfa1d949095d90539f": {
          "model_module": "@jupyter-widgets/controls",
          "model_name": "DescriptionStyleModel",
          "model_module_version": "1.5.0",
          "state": {
            "_model_module": "@jupyter-widgets/controls",
            "_model_module_version": "1.5.0",
            "_model_name": "DescriptionStyleModel",
            "_view_count": null,
            "_view_module": "@jupyter-widgets/base",
            "_view_module_version": "1.2.0",
            "_view_name": "StyleView",
            "description_width": ""
          }
        },
        "41254d1cc7fa42669c1c01915298b65d": {
          "model_module": "@jupyter-widgets/controls",
          "model_name": "HBoxModel",
          "model_module_version": "1.5.0",
          "state": {
            "_dom_classes": [],
            "_model_module": "@jupyter-widgets/controls",
            "_model_module_version": "1.5.0",
            "_model_name": "HBoxModel",
            "_view_count": null,
            "_view_module": "@jupyter-widgets/controls",
            "_view_module_version": "1.5.0",
            "_view_name": "HBoxView",
            "box_style": "",
            "children": [
              "IPY_MODEL_5139fe8a92f644c2855a9fcd2d9b6a07",
              "IPY_MODEL_42a8010d8d9e4751b9eb316a392345e8",
              "IPY_MODEL_0ab00a069bdd4972b0c8b5803c567d8b"
            ],
            "layout": "IPY_MODEL_b991283243de46a8bc1f007cd80932ae"
          }
        },
        "5139fe8a92f644c2855a9fcd2d9b6a07": {
          "model_module": "@jupyter-widgets/controls",
          "model_name": "HTMLModel",
          "model_module_version": "1.5.0",
          "state": {
            "_dom_classes": [],
            "_model_module": "@jupyter-widgets/controls",
            "_model_module_version": "1.5.0",
            "_model_name": "HTMLModel",
            "_view_count": null,
            "_view_module": "@jupyter-widgets/controls",
            "_view_module_version": "1.5.0",
            "_view_name": "HTMLView",
            "description": "",
            "description_tooltip": null,
            "layout": "IPY_MODEL_ee0255028d1f43beb48b9b2602e02e12",
            "placeholder": "​",
            "style": "IPY_MODEL_d22f4c46040d48ff8054133319dd2d43",
            "value": "100%"
          }
        },
        "42a8010d8d9e4751b9eb316a392345e8": {
          "model_module": "@jupyter-widgets/controls",
          "model_name": "FloatProgressModel",
          "model_module_version": "1.5.0",
          "state": {
            "_dom_classes": [],
            "_model_module": "@jupyter-widgets/controls",
            "_model_module_version": "1.5.0",
            "_model_name": "FloatProgressModel",
            "_view_count": null,
            "_view_module": "@jupyter-widgets/controls",
            "_view_module_version": "1.5.0",
            "_view_name": "ProgressView",
            "bar_style": "success",
            "description": "",
            "description_tooltip": null,
            "layout": "IPY_MODEL_0567feea8dd341b190b3bf670582b38a",
            "max": 938,
            "min": 0,
            "orientation": "horizontal",
            "style": "IPY_MODEL_a5a41a3f714f4c02830e271edac43eb2",
            "value": 938
          }
        },
        "0ab00a069bdd4972b0c8b5803c567d8b": {
          "model_module": "@jupyter-widgets/controls",
          "model_name": "HTMLModel",
          "model_module_version": "1.5.0",
          "state": {
            "_dom_classes": [],
            "_model_module": "@jupyter-widgets/controls",
            "_model_module_version": "1.5.0",
            "_model_name": "HTMLModel",
            "_view_count": null,
            "_view_module": "@jupyter-widgets/controls",
            "_view_module_version": "1.5.0",
            "_view_name": "HTMLView",
            "description": "",
            "description_tooltip": null,
            "layout": "IPY_MODEL_ebb0777cc4234e4b949273d2deff9ffb",
            "placeholder": "​",
            "style": "IPY_MODEL_e1d9019c4d52405aa7c20db73ec8756d",
            "value": " 938/938 [00:08&lt;00:00, 110.98batch/s]"
          }
        },
        "b991283243de46a8bc1f007cd80932ae": {
          "model_module": "@jupyter-widgets/base",
          "model_name": "LayoutModel",
          "model_module_version": "1.2.0",
          "state": {
            "_model_module": "@jupyter-widgets/base",
            "_model_module_version": "1.2.0",
            "_model_name": "LayoutModel",
            "_view_count": null,
            "_view_module": "@jupyter-widgets/base",
            "_view_module_version": "1.2.0",
            "_view_name": "LayoutView",
            "align_content": null,
            "align_items": null,
            "align_self": null,
            "border": null,
            "bottom": null,
            "display": null,
            "flex": null,
            "flex_flow": null,
            "grid_area": null,
            "grid_auto_columns": null,
            "grid_auto_flow": null,
            "grid_auto_rows": null,
            "grid_column": null,
            "grid_gap": null,
            "grid_row": null,
            "grid_template_areas": null,
            "grid_template_columns": null,
            "grid_template_rows": null,
            "height": null,
            "justify_content": null,
            "justify_items": null,
            "left": null,
            "margin": null,
            "max_height": null,
            "max_width": null,
            "min_height": null,
            "min_width": null,
            "object_fit": null,
            "object_position": null,
            "order": null,
            "overflow": null,
            "overflow_x": null,
            "overflow_y": null,
            "padding": null,
            "right": null,
            "top": null,
            "visibility": null,
            "width": null
          }
        },
        "ee0255028d1f43beb48b9b2602e02e12": {
          "model_module": "@jupyter-widgets/base",
          "model_name": "LayoutModel",
          "model_module_version": "1.2.0",
          "state": {
            "_model_module": "@jupyter-widgets/base",
            "_model_module_version": "1.2.0",
            "_model_name": "LayoutModel",
            "_view_count": null,
            "_view_module": "@jupyter-widgets/base",
            "_view_module_version": "1.2.0",
            "_view_name": "LayoutView",
            "align_content": null,
            "align_items": null,
            "align_self": null,
            "border": null,
            "bottom": null,
            "display": null,
            "flex": null,
            "flex_flow": null,
            "grid_area": null,
            "grid_auto_columns": null,
            "grid_auto_flow": null,
            "grid_auto_rows": null,
            "grid_column": null,
            "grid_gap": null,
            "grid_row": null,
            "grid_template_areas": null,
            "grid_template_columns": null,
            "grid_template_rows": null,
            "height": null,
            "justify_content": null,
            "justify_items": null,
            "left": null,
            "margin": null,
            "max_height": null,
            "max_width": null,
            "min_height": null,
            "min_width": null,
            "object_fit": null,
            "object_position": null,
            "order": null,
            "overflow": null,
            "overflow_x": null,
            "overflow_y": null,
            "padding": null,
            "right": null,
            "top": null,
            "visibility": null,
            "width": null
          }
        },
        "d22f4c46040d48ff8054133319dd2d43": {
          "model_module": "@jupyter-widgets/controls",
          "model_name": "DescriptionStyleModel",
          "model_module_version": "1.5.0",
          "state": {
            "_model_module": "@jupyter-widgets/controls",
            "_model_module_version": "1.5.0",
            "_model_name": "DescriptionStyleModel",
            "_view_count": null,
            "_view_module": "@jupyter-widgets/base",
            "_view_module_version": "1.2.0",
            "_view_name": "StyleView",
            "description_width": ""
          }
        },
        "0567feea8dd341b190b3bf670582b38a": {
          "model_module": "@jupyter-widgets/base",
          "model_name": "LayoutModel",
          "model_module_version": "1.2.0",
          "state": {
            "_model_module": "@jupyter-widgets/base",
            "_model_module_version": "1.2.0",
            "_model_name": "LayoutModel",
            "_view_count": null,
            "_view_module": "@jupyter-widgets/base",
            "_view_module_version": "1.2.0",
            "_view_name": "LayoutView",
            "align_content": null,
            "align_items": null,
            "align_self": null,
            "border": null,
            "bottom": null,
            "display": null,
            "flex": null,
            "flex_flow": null,
            "grid_area": null,
            "grid_auto_columns": null,
            "grid_auto_flow": null,
            "grid_auto_rows": null,
            "grid_column": null,
            "grid_gap": null,
            "grid_row": null,
            "grid_template_areas": null,
            "grid_template_columns": null,
            "grid_template_rows": null,
            "height": null,
            "justify_content": null,
            "justify_items": null,
            "left": null,
            "margin": null,
            "max_height": null,
            "max_width": null,
            "min_height": null,
            "min_width": null,
            "object_fit": null,
            "object_position": null,
            "order": null,
            "overflow": null,
            "overflow_x": null,
            "overflow_y": null,
            "padding": null,
            "right": null,
            "top": null,
            "visibility": null,
            "width": null
          }
        },
        "a5a41a3f714f4c02830e271edac43eb2": {
          "model_module": "@jupyter-widgets/controls",
          "model_name": "ProgressStyleModel",
          "model_module_version": "1.5.0",
          "state": {
            "_model_module": "@jupyter-widgets/controls",
            "_model_module_version": "1.5.0",
            "_model_name": "ProgressStyleModel",
            "_view_count": null,
            "_view_module": "@jupyter-widgets/base",
            "_view_module_version": "1.2.0",
            "_view_name": "StyleView",
            "bar_color": null,
            "description_width": ""
          }
        },
        "ebb0777cc4234e4b949273d2deff9ffb": {
          "model_module": "@jupyter-widgets/base",
          "model_name": "LayoutModel",
          "model_module_version": "1.2.0",
          "state": {
            "_model_module": "@jupyter-widgets/base",
            "_model_module_version": "1.2.0",
            "_model_name": "LayoutModel",
            "_view_count": null,
            "_view_module": "@jupyter-widgets/base",
            "_view_module_version": "1.2.0",
            "_view_name": "LayoutView",
            "align_content": null,
            "align_items": null,
            "align_self": null,
            "border": null,
            "bottom": null,
            "display": null,
            "flex": null,
            "flex_flow": null,
            "grid_area": null,
            "grid_auto_columns": null,
            "grid_auto_flow": null,
            "grid_auto_rows": null,
            "grid_column": null,
            "grid_gap": null,
            "grid_row": null,
            "grid_template_areas": null,
            "grid_template_columns": null,
            "grid_template_rows": null,
            "height": null,
            "justify_content": null,
            "justify_items": null,
            "left": null,
            "margin": null,
            "max_height": null,
            "max_width": null,
            "min_height": null,
            "min_width": null,
            "object_fit": null,
            "object_position": null,
            "order": null,
            "overflow": null,
            "overflow_x": null,
            "overflow_y": null,
            "padding": null,
            "right": null,
            "top": null,
            "visibility": null,
            "width": null
          }
        },
        "e1d9019c4d52405aa7c20db73ec8756d": {
          "model_module": "@jupyter-widgets/controls",
          "model_name": "DescriptionStyleModel",
          "model_module_version": "1.5.0",
          "state": {
            "_model_module": "@jupyter-widgets/controls",
            "_model_module_version": "1.5.0",
            "_model_name": "DescriptionStyleModel",
            "_view_count": null,
            "_view_module": "@jupyter-widgets/base",
            "_view_module_version": "1.2.0",
            "_view_name": "StyleView",
            "description_width": ""
          }
        },
        "3baeb48023fa4d5da61c3c2723d019aa": {
          "model_module": "@jupyter-widgets/controls",
          "model_name": "HBoxModel",
          "model_module_version": "1.5.0",
          "state": {
            "_dom_classes": [],
            "_model_module": "@jupyter-widgets/controls",
            "_model_module_version": "1.5.0",
            "_model_name": "HBoxModel",
            "_view_count": null,
            "_view_module": "@jupyter-widgets/controls",
            "_view_module_version": "1.5.0",
            "_view_name": "HBoxView",
            "box_style": "",
            "children": [
              "IPY_MODEL_8a0855c5ae5f4d7bb7083714a9c9c8d1",
              "IPY_MODEL_48386a625cb348c2b2c260eb9b455e11",
              "IPY_MODEL_bb7f9a7505aa416e902539a4f2b474ef"
            ],
            "layout": "IPY_MODEL_cf1dae24e83b4e3f9196e283dbbf44c2"
          }
        },
        "8a0855c5ae5f4d7bb7083714a9c9c8d1": {
          "model_module": "@jupyter-widgets/controls",
          "model_name": "HTMLModel",
          "model_module_version": "1.5.0",
          "state": {
            "_dom_classes": [],
            "_model_module": "@jupyter-widgets/controls",
            "_model_module_version": "1.5.0",
            "_model_name": "HTMLModel",
            "_view_count": null,
            "_view_module": "@jupyter-widgets/controls",
            "_view_module_version": "1.5.0",
            "_view_name": "HTMLView",
            "description": "",
            "description_tooltip": null,
            "layout": "IPY_MODEL_bc952af9c4eb4a25861ce512d9c89b93",
            "placeholder": "​",
            "style": "IPY_MODEL_ba18ea3eed9747ffaf556a4238be70c0",
            "value": "100%"
          }
        },
        "48386a625cb348c2b2c260eb9b455e11": {
          "model_module": "@jupyter-widgets/controls",
          "model_name": "FloatProgressModel",
          "model_module_version": "1.5.0",
          "state": {
            "_dom_classes": [],
            "_model_module": "@jupyter-widgets/controls",
            "_model_module_version": "1.5.0",
            "_model_name": "FloatProgressModel",
            "_view_count": null,
            "_view_module": "@jupyter-widgets/controls",
            "_view_module_version": "1.5.0",
            "_view_name": "ProgressView",
            "bar_style": "success",
            "description": "",
            "description_tooltip": null,
            "layout": "IPY_MODEL_bb62bbaeb26c41e98a95c2808dfd408f",
            "max": 938,
            "min": 0,
            "orientation": "horizontal",
            "style": "IPY_MODEL_0f451ba9230a4be586f12959c4ee8ce4",
            "value": 938
          }
        },
        "bb7f9a7505aa416e902539a4f2b474ef": {
          "model_module": "@jupyter-widgets/controls",
          "model_name": "HTMLModel",
          "model_module_version": "1.5.0",
          "state": {
            "_dom_classes": [],
            "_model_module": "@jupyter-widgets/controls",
            "_model_module_version": "1.5.0",
            "_model_name": "HTMLModel",
            "_view_count": null,
            "_view_module": "@jupyter-widgets/controls",
            "_view_module_version": "1.5.0",
            "_view_name": "HTMLView",
            "description": "",
            "description_tooltip": null,
            "layout": "IPY_MODEL_8d52cb6094c84c7d821a0a8e16ec10c6",
            "placeholder": "​",
            "style": "IPY_MODEL_30d394bdea504085a449d1658175a2a9",
            "value": " 938/938 [00:09&lt;00:00, 114.44batch/s]"
          }
        },
        "cf1dae24e83b4e3f9196e283dbbf44c2": {
          "model_module": "@jupyter-widgets/base",
          "model_name": "LayoutModel",
          "model_module_version": "1.2.0",
          "state": {
            "_model_module": "@jupyter-widgets/base",
            "_model_module_version": "1.2.0",
            "_model_name": "LayoutModel",
            "_view_count": null,
            "_view_module": "@jupyter-widgets/base",
            "_view_module_version": "1.2.0",
            "_view_name": "LayoutView",
            "align_content": null,
            "align_items": null,
            "align_self": null,
            "border": null,
            "bottom": null,
            "display": null,
            "flex": null,
            "flex_flow": null,
            "grid_area": null,
            "grid_auto_columns": null,
            "grid_auto_flow": null,
            "grid_auto_rows": null,
            "grid_column": null,
            "grid_gap": null,
            "grid_row": null,
            "grid_template_areas": null,
            "grid_template_columns": null,
            "grid_template_rows": null,
            "height": null,
            "justify_content": null,
            "justify_items": null,
            "left": null,
            "margin": null,
            "max_height": null,
            "max_width": null,
            "min_height": null,
            "min_width": null,
            "object_fit": null,
            "object_position": null,
            "order": null,
            "overflow": null,
            "overflow_x": null,
            "overflow_y": null,
            "padding": null,
            "right": null,
            "top": null,
            "visibility": null,
            "width": null
          }
        },
        "bc952af9c4eb4a25861ce512d9c89b93": {
          "model_module": "@jupyter-widgets/base",
          "model_name": "LayoutModel",
          "model_module_version": "1.2.0",
          "state": {
            "_model_module": "@jupyter-widgets/base",
            "_model_module_version": "1.2.0",
            "_model_name": "LayoutModel",
            "_view_count": null,
            "_view_module": "@jupyter-widgets/base",
            "_view_module_version": "1.2.0",
            "_view_name": "LayoutView",
            "align_content": null,
            "align_items": null,
            "align_self": null,
            "border": null,
            "bottom": null,
            "display": null,
            "flex": null,
            "flex_flow": null,
            "grid_area": null,
            "grid_auto_columns": null,
            "grid_auto_flow": null,
            "grid_auto_rows": null,
            "grid_column": null,
            "grid_gap": null,
            "grid_row": null,
            "grid_template_areas": null,
            "grid_template_columns": null,
            "grid_template_rows": null,
            "height": null,
            "justify_content": null,
            "justify_items": null,
            "left": null,
            "margin": null,
            "max_height": null,
            "max_width": null,
            "min_height": null,
            "min_width": null,
            "object_fit": null,
            "object_position": null,
            "order": null,
            "overflow": null,
            "overflow_x": null,
            "overflow_y": null,
            "padding": null,
            "right": null,
            "top": null,
            "visibility": null,
            "width": null
          }
        },
        "ba18ea3eed9747ffaf556a4238be70c0": {
          "model_module": "@jupyter-widgets/controls",
          "model_name": "DescriptionStyleModel",
          "model_module_version": "1.5.0",
          "state": {
            "_model_module": "@jupyter-widgets/controls",
            "_model_module_version": "1.5.0",
            "_model_name": "DescriptionStyleModel",
            "_view_count": null,
            "_view_module": "@jupyter-widgets/base",
            "_view_module_version": "1.2.0",
            "_view_name": "StyleView",
            "description_width": ""
          }
        },
        "bb62bbaeb26c41e98a95c2808dfd408f": {
          "model_module": "@jupyter-widgets/base",
          "model_name": "LayoutModel",
          "model_module_version": "1.2.0",
          "state": {
            "_model_module": "@jupyter-widgets/base",
            "_model_module_version": "1.2.0",
            "_model_name": "LayoutModel",
            "_view_count": null,
            "_view_module": "@jupyter-widgets/base",
            "_view_module_version": "1.2.0",
            "_view_name": "LayoutView",
            "align_content": null,
            "align_items": null,
            "align_self": null,
            "border": null,
            "bottom": null,
            "display": null,
            "flex": null,
            "flex_flow": null,
            "grid_area": null,
            "grid_auto_columns": null,
            "grid_auto_flow": null,
            "grid_auto_rows": null,
            "grid_column": null,
            "grid_gap": null,
            "grid_row": null,
            "grid_template_areas": null,
            "grid_template_columns": null,
            "grid_template_rows": null,
            "height": null,
            "justify_content": null,
            "justify_items": null,
            "left": null,
            "margin": null,
            "max_height": null,
            "max_width": null,
            "min_height": null,
            "min_width": null,
            "object_fit": null,
            "object_position": null,
            "order": null,
            "overflow": null,
            "overflow_x": null,
            "overflow_y": null,
            "padding": null,
            "right": null,
            "top": null,
            "visibility": null,
            "width": null
          }
        },
        "0f451ba9230a4be586f12959c4ee8ce4": {
          "model_module": "@jupyter-widgets/controls",
          "model_name": "ProgressStyleModel",
          "model_module_version": "1.5.0",
          "state": {
            "_model_module": "@jupyter-widgets/controls",
            "_model_module_version": "1.5.0",
            "_model_name": "ProgressStyleModel",
            "_view_count": null,
            "_view_module": "@jupyter-widgets/base",
            "_view_module_version": "1.2.0",
            "_view_name": "StyleView",
            "bar_color": null,
            "description_width": ""
          }
        },
        "8d52cb6094c84c7d821a0a8e16ec10c6": {
          "model_module": "@jupyter-widgets/base",
          "model_name": "LayoutModel",
          "model_module_version": "1.2.0",
          "state": {
            "_model_module": "@jupyter-widgets/base",
            "_model_module_version": "1.2.0",
            "_model_name": "LayoutModel",
            "_view_count": null,
            "_view_module": "@jupyter-widgets/base",
            "_view_module_version": "1.2.0",
            "_view_name": "LayoutView",
            "align_content": null,
            "align_items": null,
            "align_self": null,
            "border": null,
            "bottom": null,
            "display": null,
            "flex": null,
            "flex_flow": null,
            "grid_area": null,
            "grid_auto_columns": null,
            "grid_auto_flow": null,
            "grid_auto_rows": null,
            "grid_column": null,
            "grid_gap": null,
            "grid_row": null,
            "grid_template_areas": null,
            "grid_template_columns": null,
            "grid_template_rows": null,
            "height": null,
            "justify_content": null,
            "justify_items": null,
            "left": null,
            "margin": null,
            "max_height": null,
            "max_width": null,
            "min_height": null,
            "min_width": null,
            "object_fit": null,
            "object_position": null,
            "order": null,
            "overflow": null,
            "overflow_x": null,
            "overflow_y": null,
            "padding": null,
            "right": null,
            "top": null,
            "visibility": null,
            "width": null
          }
        },
        "30d394bdea504085a449d1658175a2a9": {
          "model_module": "@jupyter-widgets/controls",
          "model_name": "DescriptionStyleModel",
          "model_module_version": "1.5.0",
          "state": {
            "_model_module": "@jupyter-widgets/controls",
            "_model_module_version": "1.5.0",
            "_model_name": "DescriptionStyleModel",
            "_view_count": null,
            "_view_module": "@jupyter-widgets/base",
            "_view_module_version": "1.2.0",
            "_view_name": "StyleView",
            "description_width": ""
          }
        },
        "302b6cecc5e84456910c3e09e54fcc90": {
          "model_module": "@jupyter-widgets/controls",
          "model_name": "HBoxModel",
          "model_module_version": "1.5.0",
          "state": {
            "_dom_classes": [],
            "_model_module": "@jupyter-widgets/controls",
            "_model_module_version": "1.5.0",
            "_model_name": "HBoxModel",
            "_view_count": null,
            "_view_module": "@jupyter-widgets/controls",
            "_view_module_version": "1.5.0",
            "_view_name": "HBoxView",
            "box_style": "",
            "children": [
              "IPY_MODEL_a78f6ba228944009963f85bfec586f1c",
              "IPY_MODEL_87d566efa70f4a9a8d7916a76f26ddee",
              "IPY_MODEL_d0d5e542ca754fe59f573809c4f5a261"
            ],
            "layout": "IPY_MODEL_65a33c22948c41d6bea2bb26a4aa6c18"
          }
        },
        "a78f6ba228944009963f85bfec586f1c": {
          "model_module": "@jupyter-widgets/controls",
          "model_name": "HTMLModel",
          "model_module_version": "1.5.0",
          "state": {
            "_dom_classes": [],
            "_model_module": "@jupyter-widgets/controls",
            "_model_module_version": "1.5.0",
            "_model_name": "HTMLModel",
            "_view_count": null,
            "_view_module": "@jupyter-widgets/controls",
            "_view_module_version": "1.5.0",
            "_view_name": "HTMLView",
            "description": "",
            "description_tooltip": null,
            "layout": "IPY_MODEL_5a7800dc8a764c8d80478baa3ffcf01c",
            "placeholder": "​",
            "style": "IPY_MODEL_dcb9db99945e4fa08e77b403cd6f0669",
            "value": "100%"
          }
        },
        "87d566efa70f4a9a8d7916a76f26ddee": {
          "model_module": "@jupyter-widgets/controls",
          "model_name": "FloatProgressModel",
          "model_module_version": "1.5.0",
          "state": {
            "_dom_classes": [],
            "_model_module": "@jupyter-widgets/controls",
            "_model_module_version": "1.5.0",
            "_model_name": "FloatProgressModel",
            "_view_count": null,
            "_view_module": "@jupyter-widgets/controls",
            "_view_module_version": "1.5.0",
            "_view_name": "ProgressView",
            "bar_style": "success",
            "description": "",
            "description_tooltip": null,
            "layout": "IPY_MODEL_2c813d7c39c042febe67294eb2d96548",
            "max": 938,
            "min": 0,
            "orientation": "horizontal",
            "style": "IPY_MODEL_3e148730b42342afa72d58fac0c863ee",
            "value": 938
          }
        },
        "d0d5e542ca754fe59f573809c4f5a261": {
          "model_module": "@jupyter-widgets/controls",
          "model_name": "HTMLModel",
          "model_module_version": "1.5.0",
          "state": {
            "_dom_classes": [],
            "_model_module": "@jupyter-widgets/controls",
            "_model_module_version": "1.5.0",
            "_model_name": "HTMLModel",
            "_view_count": null,
            "_view_module": "@jupyter-widgets/controls",
            "_view_module_version": "1.5.0",
            "_view_name": "HTMLView",
            "description": "",
            "description_tooltip": null,
            "layout": "IPY_MODEL_73d69f78d9da4aa49bc42a646cfee371",
            "placeholder": "​",
            "style": "IPY_MODEL_c80d41b5f8d54c73a2079e634f2c9444",
            "value": " 938/938 [00:09&lt;00:00, 107.98batch/s]"
          }
        },
        "65a33c22948c41d6bea2bb26a4aa6c18": {
          "model_module": "@jupyter-widgets/base",
          "model_name": "LayoutModel",
          "model_module_version": "1.2.0",
          "state": {
            "_model_module": "@jupyter-widgets/base",
            "_model_module_version": "1.2.0",
            "_model_name": "LayoutModel",
            "_view_count": null,
            "_view_module": "@jupyter-widgets/base",
            "_view_module_version": "1.2.0",
            "_view_name": "LayoutView",
            "align_content": null,
            "align_items": null,
            "align_self": null,
            "border": null,
            "bottom": null,
            "display": null,
            "flex": null,
            "flex_flow": null,
            "grid_area": null,
            "grid_auto_columns": null,
            "grid_auto_flow": null,
            "grid_auto_rows": null,
            "grid_column": null,
            "grid_gap": null,
            "grid_row": null,
            "grid_template_areas": null,
            "grid_template_columns": null,
            "grid_template_rows": null,
            "height": null,
            "justify_content": null,
            "justify_items": null,
            "left": null,
            "margin": null,
            "max_height": null,
            "max_width": null,
            "min_height": null,
            "min_width": null,
            "object_fit": null,
            "object_position": null,
            "order": null,
            "overflow": null,
            "overflow_x": null,
            "overflow_y": null,
            "padding": null,
            "right": null,
            "top": null,
            "visibility": null,
            "width": null
          }
        },
        "5a7800dc8a764c8d80478baa3ffcf01c": {
          "model_module": "@jupyter-widgets/base",
          "model_name": "LayoutModel",
          "model_module_version": "1.2.0",
          "state": {
            "_model_module": "@jupyter-widgets/base",
            "_model_module_version": "1.2.0",
            "_model_name": "LayoutModel",
            "_view_count": null,
            "_view_module": "@jupyter-widgets/base",
            "_view_module_version": "1.2.0",
            "_view_name": "LayoutView",
            "align_content": null,
            "align_items": null,
            "align_self": null,
            "border": null,
            "bottom": null,
            "display": null,
            "flex": null,
            "flex_flow": null,
            "grid_area": null,
            "grid_auto_columns": null,
            "grid_auto_flow": null,
            "grid_auto_rows": null,
            "grid_column": null,
            "grid_gap": null,
            "grid_row": null,
            "grid_template_areas": null,
            "grid_template_columns": null,
            "grid_template_rows": null,
            "height": null,
            "justify_content": null,
            "justify_items": null,
            "left": null,
            "margin": null,
            "max_height": null,
            "max_width": null,
            "min_height": null,
            "min_width": null,
            "object_fit": null,
            "object_position": null,
            "order": null,
            "overflow": null,
            "overflow_x": null,
            "overflow_y": null,
            "padding": null,
            "right": null,
            "top": null,
            "visibility": null,
            "width": null
          }
        },
        "dcb9db99945e4fa08e77b403cd6f0669": {
          "model_module": "@jupyter-widgets/controls",
          "model_name": "DescriptionStyleModel",
          "model_module_version": "1.5.0",
          "state": {
            "_model_module": "@jupyter-widgets/controls",
            "_model_module_version": "1.5.0",
            "_model_name": "DescriptionStyleModel",
            "_view_count": null,
            "_view_module": "@jupyter-widgets/base",
            "_view_module_version": "1.2.0",
            "_view_name": "StyleView",
            "description_width": ""
          }
        },
        "2c813d7c39c042febe67294eb2d96548": {
          "model_module": "@jupyter-widgets/base",
          "model_name": "LayoutModel",
          "model_module_version": "1.2.0",
          "state": {
            "_model_module": "@jupyter-widgets/base",
            "_model_module_version": "1.2.0",
            "_model_name": "LayoutModel",
            "_view_count": null,
            "_view_module": "@jupyter-widgets/base",
            "_view_module_version": "1.2.0",
            "_view_name": "LayoutView",
            "align_content": null,
            "align_items": null,
            "align_self": null,
            "border": null,
            "bottom": null,
            "display": null,
            "flex": null,
            "flex_flow": null,
            "grid_area": null,
            "grid_auto_columns": null,
            "grid_auto_flow": null,
            "grid_auto_rows": null,
            "grid_column": null,
            "grid_gap": null,
            "grid_row": null,
            "grid_template_areas": null,
            "grid_template_columns": null,
            "grid_template_rows": null,
            "height": null,
            "justify_content": null,
            "justify_items": null,
            "left": null,
            "margin": null,
            "max_height": null,
            "max_width": null,
            "min_height": null,
            "min_width": null,
            "object_fit": null,
            "object_position": null,
            "order": null,
            "overflow": null,
            "overflow_x": null,
            "overflow_y": null,
            "padding": null,
            "right": null,
            "top": null,
            "visibility": null,
            "width": null
          }
        },
        "3e148730b42342afa72d58fac0c863ee": {
          "model_module": "@jupyter-widgets/controls",
          "model_name": "ProgressStyleModel",
          "model_module_version": "1.5.0",
          "state": {
            "_model_module": "@jupyter-widgets/controls",
            "_model_module_version": "1.5.0",
            "_model_name": "ProgressStyleModel",
            "_view_count": null,
            "_view_module": "@jupyter-widgets/base",
            "_view_module_version": "1.2.0",
            "_view_name": "StyleView",
            "bar_color": null,
            "description_width": ""
          }
        },
        "73d69f78d9da4aa49bc42a646cfee371": {
          "model_module": "@jupyter-widgets/base",
          "model_name": "LayoutModel",
          "model_module_version": "1.2.0",
          "state": {
            "_model_module": "@jupyter-widgets/base",
            "_model_module_version": "1.2.0",
            "_model_name": "LayoutModel",
            "_view_count": null,
            "_view_module": "@jupyter-widgets/base",
            "_view_module_version": "1.2.0",
            "_view_name": "LayoutView",
            "align_content": null,
            "align_items": null,
            "align_self": null,
            "border": null,
            "bottom": null,
            "display": null,
            "flex": null,
            "flex_flow": null,
            "grid_area": null,
            "grid_auto_columns": null,
            "grid_auto_flow": null,
            "grid_auto_rows": null,
            "grid_column": null,
            "grid_gap": null,
            "grid_row": null,
            "grid_template_areas": null,
            "grid_template_columns": null,
            "grid_template_rows": null,
            "height": null,
            "justify_content": null,
            "justify_items": null,
            "left": null,
            "margin": null,
            "max_height": null,
            "max_width": null,
            "min_height": null,
            "min_width": null,
            "object_fit": null,
            "object_position": null,
            "order": null,
            "overflow": null,
            "overflow_x": null,
            "overflow_y": null,
            "padding": null,
            "right": null,
            "top": null,
            "visibility": null,
            "width": null
          }
        },
        "c80d41b5f8d54c73a2079e634f2c9444": {
          "model_module": "@jupyter-widgets/controls",
          "model_name": "DescriptionStyleModel",
          "model_module_version": "1.5.0",
          "state": {
            "_model_module": "@jupyter-widgets/controls",
            "_model_module_version": "1.5.0",
            "_model_name": "DescriptionStyleModel",
            "_view_count": null,
            "_view_module": "@jupyter-widgets/base",
            "_view_module_version": "1.2.0",
            "_view_name": "StyleView",
            "description_width": ""
          }
        },
        "d5c26d9c556249e8b5d28a458f3cfe2f": {
          "model_module": "@jupyter-widgets/controls",
          "model_name": "HBoxModel",
          "model_module_version": "1.5.0",
          "state": {
            "_dom_classes": [],
            "_model_module": "@jupyter-widgets/controls",
            "_model_module_version": "1.5.0",
            "_model_name": "HBoxModel",
            "_view_count": null,
            "_view_module": "@jupyter-widgets/controls",
            "_view_module_version": "1.5.0",
            "_view_name": "HBoxView",
            "box_style": "",
            "children": [
              "IPY_MODEL_cdc450bc25974b8db6b77a578d32c5ec",
              "IPY_MODEL_795bc39903744aabad33eab817396d4c",
              "IPY_MODEL_709546b915d7485fb19b865a3930318b"
            ],
            "layout": "IPY_MODEL_c42ec82f7b724e4dbce1888d149b42fd"
          }
        },
        "cdc450bc25974b8db6b77a578d32c5ec": {
          "model_module": "@jupyter-widgets/controls",
          "model_name": "HTMLModel",
          "model_module_version": "1.5.0",
          "state": {
            "_dom_classes": [],
            "_model_module": "@jupyter-widgets/controls",
            "_model_module_version": "1.5.0",
            "_model_name": "HTMLModel",
            "_view_count": null,
            "_view_module": "@jupyter-widgets/controls",
            "_view_module_version": "1.5.0",
            "_view_name": "HTMLView",
            "description": "",
            "description_tooltip": null,
            "layout": "IPY_MODEL_cec70f2a245e42d29e5b135e52a51544",
            "placeholder": "​",
            "style": "IPY_MODEL_82405e9f876a4587be156f1f147d788a",
            "value": "100%"
          }
        },
        "795bc39903744aabad33eab817396d4c": {
          "model_module": "@jupyter-widgets/controls",
          "model_name": "FloatProgressModel",
          "model_module_version": "1.5.0",
          "state": {
            "_dom_classes": [],
            "_model_module": "@jupyter-widgets/controls",
            "_model_module_version": "1.5.0",
            "_model_name": "FloatProgressModel",
            "_view_count": null,
            "_view_module": "@jupyter-widgets/controls",
            "_view_module_version": "1.5.0",
            "_view_name": "ProgressView",
            "bar_style": "success",
            "description": "",
            "description_tooltip": null,
            "layout": "IPY_MODEL_84965a30f8194555a16635a42c578e21",
            "max": 938,
            "min": 0,
            "orientation": "horizontal",
            "style": "IPY_MODEL_3d61df0eb62147a7b673eda4866d3991",
            "value": 938
          }
        },
        "709546b915d7485fb19b865a3930318b": {
          "model_module": "@jupyter-widgets/controls",
          "model_name": "HTMLModel",
          "model_module_version": "1.5.0",
          "state": {
            "_dom_classes": [],
            "_model_module": "@jupyter-widgets/controls",
            "_model_module_version": "1.5.0",
            "_model_name": "HTMLModel",
            "_view_count": null,
            "_view_module": "@jupyter-widgets/controls",
            "_view_module_version": "1.5.0",
            "_view_name": "HTMLView",
            "description": "",
            "description_tooltip": null,
            "layout": "IPY_MODEL_76e53a1c4b3a41f4bfb6455968a3ed2f",
            "placeholder": "​",
            "style": "IPY_MODEL_2a4245ef5d1a484ebec57b3ee06e4d22",
            "value": " 938/938 [00:09&lt;00:00, 94.95batch/s]"
          }
        },
        "c42ec82f7b724e4dbce1888d149b42fd": {
          "model_module": "@jupyter-widgets/base",
          "model_name": "LayoutModel",
          "model_module_version": "1.2.0",
          "state": {
            "_model_module": "@jupyter-widgets/base",
            "_model_module_version": "1.2.0",
            "_model_name": "LayoutModel",
            "_view_count": null,
            "_view_module": "@jupyter-widgets/base",
            "_view_module_version": "1.2.0",
            "_view_name": "LayoutView",
            "align_content": null,
            "align_items": null,
            "align_self": null,
            "border": null,
            "bottom": null,
            "display": null,
            "flex": null,
            "flex_flow": null,
            "grid_area": null,
            "grid_auto_columns": null,
            "grid_auto_flow": null,
            "grid_auto_rows": null,
            "grid_column": null,
            "grid_gap": null,
            "grid_row": null,
            "grid_template_areas": null,
            "grid_template_columns": null,
            "grid_template_rows": null,
            "height": null,
            "justify_content": null,
            "justify_items": null,
            "left": null,
            "margin": null,
            "max_height": null,
            "max_width": null,
            "min_height": null,
            "min_width": null,
            "object_fit": null,
            "object_position": null,
            "order": null,
            "overflow": null,
            "overflow_x": null,
            "overflow_y": null,
            "padding": null,
            "right": null,
            "top": null,
            "visibility": null,
            "width": null
          }
        },
        "cec70f2a245e42d29e5b135e52a51544": {
          "model_module": "@jupyter-widgets/base",
          "model_name": "LayoutModel",
          "model_module_version": "1.2.0",
          "state": {
            "_model_module": "@jupyter-widgets/base",
            "_model_module_version": "1.2.0",
            "_model_name": "LayoutModel",
            "_view_count": null,
            "_view_module": "@jupyter-widgets/base",
            "_view_module_version": "1.2.0",
            "_view_name": "LayoutView",
            "align_content": null,
            "align_items": null,
            "align_self": null,
            "border": null,
            "bottom": null,
            "display": null,
            "flex": null,
            "flex_flow": null,
            "grid_area": null,
            "grid_auto_columns": null,
            "grid_auto_flow": null,
            "grid_auto_rows": null,
            "grid_column": null,
            "grid_gap": null,
            "grid_row": null,
            "grid_template_areas": null,
            "grid_template_columns": null,
            "grid_template_rows": null,
            "height": null,
            "justify_content": null,
            "justify_items": null,
            "left": null,
            "margin": null,
            "max_height": null,
            "max_width": null,
            "min_height": null,
            "min_width": null,
            "object_fit": null,
            "object_position": null,
            "order": null,
            "overflow": null,
            "overflow_x": null,
            "overflow_y": null,
            "padding": null,
            "right": null,
            "top": null,
            "visibility": null,
            "width": null
          }
        },
        "82405e9f876a4587be156f1f147d788a": {
          "model_module": "@jupyter-widgets/controls",
          "model_name": "DescriptionStyleModel",
          "model_module_version": "1.5.0",
          "state": {
            "_model_module": "@jupyter-widgets/controls",
            "_model_module_version": "1.5.0",
            "_model_name": "DescriptionStyleModel",
            "_view_count": null,
            "_view_module": "@jupyter-widgets/base",
            "_view_module_version": "1.2.0",
            "_view_name": "StyleView",
            "description_width": ""
          }
        },
        "84965a30f8194555a16635a42c578e21": {
          "model_module": "@jupyter-widgets/base",
          "model_name": "LayoutModel",
          "model_module_version": "1.2.0",
          "state": {
            "_model_module": "@jupyter-widgets/base",
            "_model_module_version": "1.2.0",
            "_model_name": "LayoutModel",
            "_view_count": null,
            "_view_module": "@jupyter-widgets/base",
            "_view_module_version": "1.2.0",
            "_view_name": "LayoutView",
            "align_content": null,
            "align_items": null,
            "align_self": null,
            "border": null,
            "bottom": null,
            "display": null,
            "flex": null,
            "flex_flow": null,
            "grid_area": null,
            "grid_auto_columns": null,
            "grid_auto_flow": null,
            "grid_auto_rows": null,
            "grid_column": null,
            "grid_gap": null,
            "grid_row": null,
            "grid_template_areas": null,
            "grid_template_columns": null,
            "grid_template_rows": null,
            "height": null,
            "justify_content": null,
            "justify_items": null,
            "left": null,
            "margin": null,
            "max_height": null,
            "max_width": null,
            "min_height": null,
            "min_width": null,
            "object_fit": null,
            "object_position": null,
            "order": null,
            "overflow": null,
            "overflow_x": null,
            "overflow_y": null,
            "padding": null,
            "right": null,
            "top": null,
            "visibility": null,
            "width": null
          }
        },
        "3d61df0eb62147a7b673eda4866d3991": {
          "model_module": "@jupyter-widgets/controls",
          "model_name": "ProgressStyleModel",
          "model_module_version": "1.5.0",
          "state": {
            "_model_module": "@jupyter-widgets/controls",
            "_model_module_version": "1.5.0",
            "_model_name": "ProgressStyleModel",
            "_view_count": null,
            "_view_module": "@jupyter-widgets/base",
            "_view_module_version": "1.2.0",
            "_view_name": "StyleView",
            "bar_color": null,
            "description_width": ""
          }
        },
        "76e53a1c4b3a41f4bfb6455968a3ed2f": {
          "model_module": "@jupyter-widgets/base",
          "model_name": "LayoutModel",
          "model_module_version": "1.2.0",
          "state": {
            "_model_module": "@jupyter-widgets/base",
            "_model_module_version": "1.2.0",
            "_model_name": "LayoutModel",
            "_view_count": null,
            "_view_module": "@jupyter-widgets/base",
            "_view_module_version": "1.2.0",
            "_view_name": "LayoutView",
            "align_content": null,
            "align_items": null,
            "align_self": null,
            "border": null,
            "bottom": null,
            "display": null,
            "flex": null,
            "flex_flow": null,
            "grid_area": null,
            "grid_auto_columns": null,
            "grid_auto_flow": null,
            "grid_auto_rows": null,
            "grid_column": null,
            "grid_gap": null,
            "grid_row": null,
            "grid_template_areas": null,
            "grid_template_columns": null,
            "grid_template_rows": null,
            "height": null,
            "justify_content": null,
            "justify_items": null,
            "left": null,
            "margin": null,
            "max_height": null,
            "max_width": null,
            "min_height": null,
            "min_width": null,
            "object_fit": null,
            "object_position": null,
            "order": null,
            "overflow": null,
            "overflow_x": null,
            "overflow_y": null,
            "padding": null,
            "right": null,
            "top": null,
            "visibility": null,
            "width": null
          }
        },
        "2a4245ef5d1a484ebec57b3ee06e4d22": {
          "model_module": "@jupyter-widgets/controls",
          "model_name": "DescriptionStyleModel",
          "model_module_version": "1.5.0",
          "state": {
            "_model_module": "@jupyter-widgets/controls",
            "_model_module_version": "1.5.0",
            "_model_name": "DescriptionStyleModel",
            "_view_count": null,
            "_view_module": "@jupyter-widgets/base",
            "_view_module_version": "1.2.0",
            "_view_name": "StyleView",
            "description_width": ""
          }
        },
        "cae2114cf2bf45b2b04f48b7400d0227": {
          "model_module": "@jupyter-widgets/controls",
          "model_name": "HBoxModel",
          "model_module_version": "1.5.0",
          "state": {
            "_dom_classes": [],
            "_model_module": "@jupyter-widgets/controls",
            "_model_module_version": "1.5.0",
            "_model_name": "HBoxModel",
            "_view_count": null,
            "_view_module": "@jupyter-widgets/controls",
            "_view_module_version": "1.5.0",
            "_view_name": "HBoxView",
            "box_style": "",
            "children": [
              "IPY_MODEL_2dc5c1fbc2074711b5b623a6952c0381",
              "IPY_MODEL_81efa774d5a9452aae29f040f08911eb",
              "IPY_MODEL_9a858e7bd0fd482c9f222c47012d6839"
            ],
            "layout": "IPY_MODEL_e0ffc1c1d04b4b70a049c22faf20bc91"
          }
        },
        "2dc5c1fbc2074711b5b623a6952c0381": {
          "model_module": "@jupyter-widgets/controls",
          "model_name": "HTMLModel",
          "model_module_version": "1.5.0",
          "state": {
            "_dom_classes": [],
            "_model_module": "@jupyter-widgets/controls",
            "_model_module_version": "1.5.0",
            "_model_name": "HTMLModel",
            "_view_count": null,
            "_view_module": "@jupyter-widgets/controls",
            "_view_module_version": "1.5.0",
            "_view_name": "HTMLView",
            "description": "",
            "description_tooltip": null,
            "layout": "IPY_MODEL_090129295c2e4ba6a3bc6cecd9c127bc",
            "placeholder": "​",
            "style": "IPY_MODEL_67855f46fd044313967eaca64af0fd2b",
            "value": "100%"
          }
        },
        "81efa774d5a9452aae29f040f08911eb": {
          "model_module": "@jupyter-widgets/controls",
          "model_name": "FloatProgressModel",
          "model_module_version": "1.5.0",
          "state": {
            "_dom_classes": [],
            "_model_module": "@jupyter-widgets/controls",
            "_model_module_version": "1.5.0",
            "_model_name": "FloatProgressModel",
            "_view_count": null,
            "_view_module": "@jupyter-widgets/controls",
            "_view_module_version": "1.5.0",
            "_view_name": "ProgressView",
            "bar_style": "success",
            "description": "",
            "description_tooltip": null,
            "layout": "IPY_MODEL_a4fbbef377074e65b9e0060a2a8899fa",
            "max": 938,
            "min": 0,
            "orientation": "horizontal",
            "style": "IPY_MODEL_5cce53a691644a5b915d791e2699f9b2",
            "value": 938
          }
        },
        "9a858e7bd0fd482c9f222c47012d6839": {
          "model_module": "@jupyter-widgets/controls",
          "model_name": "HTMLModel",
          "model_module_version": "1.5.0",
          "state": {
            "_dom_classes": [],
            "_model_module": "@jupyter-widgets/controls",
            "_model_module_version": "1.5.0",
            "_model_name": "HTMLModel",
            "_view_count": null,
            "_view_module": "@jupyter-widgets/controls",
            "_view_module_version": "1.5.0",
            "_view_name": "HTMLView",
            "description": "",
            "description_tooltip": null,
            "layout": "IPY_MODEL_eb4e43b15cd848fc94b3eb292cf565e0",
            "placeholder": "​",
            "style": "IPY_MODEL_69a0b5e0b9604359976090bc4f55d3c0",
            "value": " 938/938 [00:08&lt;00:00, 86.32batch/s]"
          }
        },
        "e0ffc1c1d04b4b70a049c22faf20bc91": {
          "model_module": "@jupyter-widgets/base",
          "model_name": "LayoutModel",
          "model_module_version": "1.2.0",
          "state": {
            "_model_module": "@jupyter-widgets/base",
            "_model_module_version": "1.2.0",
            "_model_name": "LayoutModel",
            "_view_count": null,
            "_view_module": "@jupyter-widgets/base",
            "_view_module_version": "1.2.0",
            "_view_name": "LayoutView",
            "align_content": null,
            "align_items": null,
            "align_self": null,
            "border": null,
            "bottom": null,
            "display": null,
            "flex": null,
            "flex_flow": null,
            "grid_area": null,
            "grid_auto_columns": null,
            "grid_auto_flow": null,
            "grid_auto_rows": null,
            "grid_column": null,
            "grid_gap": null,
            "grid_row": null,
            "grid_template_areas": null,
            "grid_template_columns": null,
            "grid_template_rows": null,
            "height": null,
            "justify_content": null,
            "justify_items": null,
            "left": null,
            "margin": null,
            "max_height": null,
            "max_width": null,
            "min_height": null,
            "min_width": null,
            "object_fit": null,
            "object_position": null,
            "order": null,
            "overflow": null,
            "overflow_x": null,
            "overflow_y": null,
            "padding": null,
            "right": null,
            "top": null,
            "visibility": null,
            "width": null
          }
        },
        "090129295c2e4ba6a3bc6cecd9c127bc": {
          "model_module": "@jupyter-widgets/base",
          "model_name": "LayoutModel",
          "model_module_version": "1.2.0",
          "state": {
            "_model_module": "@jupyter-widgets/base",
            "_model_module_version": "1.2.0",
            "_model_name": "LayoutModel",
            "_view_count": null,
            "_view_module": "@jupyter-widgets/base",
            "_view_module_version": "1.2.0",
            "_view_name": "LayoutView",
            "align_content": null,
            "align_items": null,
            "align_self": null,
            "border": null,
            "bottom": null,
            "display": null,
            "flex": null,
            "flex_flow": null,
            "grid_area": null,
            "grid_auto_columns": null,
            "grid_auto_flow": null,
            "grid_auto_rows": null,
            "grid_column": null,
            "grid_gap": null,
            "grid_row": null,
            "grid_template_areas": null,
            "grid_template_columns": null,
            "grid_template_rows": null,
            "height": null,
            "justify_content": null,
            "justify_items": null,
            "left": null,
            "margin": null,
            "max_height": null,
            "max_width": null,
            "min_height": null,
            "min_width": null,
            "object_fit": null,
            "object_position": null,
            "order": null,
            "overflow": null,
            "overflow_x": null,
            "overflow_y": null,
            "padding": null,
            "right": null,
            "top": null,
            "visibility": null,
            "width": null
          }
        },
        "67855f46fd044313967eaca64af0fd2b": {
          "model_module": "@jupyter-widgets/controls",
          "model_name": "DescriptionStyleModel",
          "model_module_version": "1.5.0",
          "state": {
            "_model_module": "@jupyter-widgets/controls",
            "_model_module_version": "1.5.0",
            "_model_name": "DescriptionStyleModel",
            "_view_count": null,
            "_view_module": "@jupyter-widgets/base",
            "_view_module_version": "1.2.0",
            "_view_name": "StyleView",
            "description_width": ""
          }
        },
        "a4fbbef377074e65b9e0060a2a8899fa": {
          "model_module": "@jupyter-widgets/base",
          "model_name": "LayoutModel",
          "model_module_version": "1.2.0",
          "state": {
            "_model_module": "@jupyter-widgets/base",
            "_model_module_version": "1.2.0",
            "_model_name": "LayoutModel",
            "_view_count": null,
            "_view_module": "@jupyter-widgets/base",
            "_view_module_version": "1.2.0",
            "_view_name": "LayoutView",
            "align_content": null,
            "align_items": null,
            "align_self": null,
            "border": null,
            "bottom": null,
            "display": null,
            "flex": null,
            "flex_flow": null,
            "grid_area": null,
            "grid_auto_columns": null,
            "grid_auto_flow": null,
            "grid_auto_rows": null,
            "grid_column": null,
            "grid_gap": null,
            "grid_row": null,
            "grid_template_areas": null,
            "grid_template_columns": null,
            "grid_template_rows": null,
            "height": null,
            "justify_content": null,
            "justify_items": null,
            "left": null,
            "margin": null,
            "max_height": null,
            "max_width": null,
            "min_height": null,
            "min_width": null,
            "object_fit": null,
            "object_position": null,
            "order": null,
            "overflow": null,
            "overflow_x": null,
            "overflow_y": null,
            "padding": null,
            "right": null,
            "top": null,
            "visibility": null,
            "width": null
          }
        },
        "5cce53a691644a5b915d791e2699f9b2": {
          "model_module": "@jupyter-widgets/controls",
          "model_name": "ProgressStyleModel",
          "model_module_version": "1.5.0",
          "state": {
            "_model_module": "@jupyter-widgets/controls",
            "_model_module_version": "1.5.0",
            "_model_name": "ProgressStyleModel",
            "_view_count": null,
            "_view_module": "@jupyter-widgets/base",
            "_view_module_version": "1.2.0",
            "_view_name": "StyleView",
            "bar_color": null,
            "description_width": ""
          }
        },
        "eb4e43b15cd848fc94b3eb292cf565e0": {
          "model_module": "@jupyter-widgets/base",
          "model_name": "LayoutModel",
          "model_module_version": "1.2.0",
          "state": {
            "_model_module": "@jupyter-widgets/base",
            "_model_module_version": "1.2.0",
            "_model_name": "LayoutModel",
            "_view_count": null,
            "_view_module": "@jupyter-widgets/base",
            "_view_module_version": "1.2.0",
            "_view_name": "LayoutView",
            "align_content": null,
            "align_items": null,
            "align_self": null,
            "border": null,
            "bottom": null,
            "display": null,
            "flex": null,
            "flex_flow": null,
            "grid_area": null,
            "grid_auto_columns": null,
            "grid_auto_flow": null,
            "grid_auto_rows": null,
            "grid_column": null,
            "grid_gap": null,
            "grid_row": null,
            "grid_template_areas": null,
            "grid_template_columns": null,
            "grid_template_rows": null,
            "height": null,
            "justify_content": null,
            "justify_items": null,
            "left": null,
            "margin": null,
            "max_height": null,
            "max_width": null,
            "min_height": null,
            "min_width": null,
            "object_fit": null,
            "object_position": null,
            "order": null,
            "overflow": null,
            "overflow_x": null,
            "overflow_y": null,
            "padding": null,
            "right": null,
            "top": null,
            "visibility": null,
            "width": null
          }
        },
        "69a0b5e0b9604359976090bc4f55d3c0": {
          "model_module": "@jupyter-widgets/controls",
          "model_name": "DescriptionStyleModel",
          "model_module_version": "1.5.0",
          "state": {
            "_model_module": "@jupyter-widgets/controls",
            "_model_module_version": "1.5.0",
            "_model_name": "DescriptionStyleModel",
            "_view_count": null,
            "_view_module": "@jupyter-widgets/base",
            "_view_module_version": "1.2.0",
            "_view_name": "StyleView",
            "description_width": ""
          }
        },
        "74f3557091534f9e8e1d3ff73fb58a72": {
          "model_module": "@jupyter-widgets/controls",
          "model_name": "HBoxModel",
          "model_module_version": "1.5.0",
          "state": {
            "_dom_classes": [],
            "_model_module": "@jupyter-widgets/controls",
            "_model_module_version": "1.5.0",
            "_model_name": "HBoxModel",
            "_view_count": null,
            "_view_module": "@jupyter-widgets/controls",
            "_view_module_version": "1.5.0",
            "_view_name": "HBoxView",
            "box_style": "",
            "children": [
              "IPY_MODEL_1e021f39b8e549ceb554e7b1fde394d8",
              "IPY_MODEL_cbd413d7b5d642998a7b328b684d9b8c",
              "IPY_MODEL_a8baf39ff4e348689921f6425cda9951"
            ],
            "layout": "IPY_MODEL_13e5dc67d1074cc88c4a999b04f21112"
          }
        },
        "1e021f39b8e549ceb554e7b1fde394d8": {
          "model_module": "@jupyter-widgets/controls",
          "model_name": "HTMLModel",
          "model_module_version": "1.5.0",
          "state": {
            "_dom_classes": [],
            "_model_module": "@jupyter-widgets/controls",
            "_model_module_version": "1.5.0",
            "_model_name": "HTMLModel",
            "_view_count": null,
            "_view_module": "@jupyter-widgets/controls",
            "_view_module_version": "1.5.0",
            "_view_name": "HTMLView",
            "description": "",
            "description_tooltip": null,
            "layout": "IPY_MODEL_1919a13d83884a62ba78781fadbd4936",
            "placeholder": "​",
            "style": "IPY_MODEL_f836fda9f60c4e99b9e48fecb90d5df2",
            "value": "100%"
          }
        },
        "cbd413d7b5d642998a7b328b684d9b8c": {
          "model_module": "@jupyter-widgets/controls",
          "model_name": "FloatProgressModel",
          "model_module_version": "1.5.0",
          "state": {
            "_dom_classes": [],
            "_model_module": "@jupyter-widgets/controls",
            "_model_module_version": "1.5.0",
            "_model_name": "FloatProgressModel",
            "_view_count": null,
            "_view_module": "@jupyter-widgets/controls",
            "_view_module_version": "1.5.0",
            "_view_name": "ProgressView",
            "bar_style": "success",
            "description": "",
            "description_tooltip": null,
            "layout": "IPY_MODEL_ad91c83ecd574637a2f91b205f51bb40",
            "max": 938,
            "min": 0,
            "orientation": "horizontal",
            "style": "IPY_MODEL_d3fc573f69144c7789be6ee7242b3b9b",
            "value": 938
          }
        },
        "a8baf39ff4e348689921f6425cda9951": {
          "model_module": "@jupyter-widgets/controls",
          "model_name": "HTMLModel",
          "model_module_version": "1.5.0",
          "state": {
            "_dom_classes": [],
            "_model_module": "@jupyter-widgets/controls",
            "_model_module_version": "1.5.0",
            "_model_name": "HTMLModel",
            "_view_count": null,
            "_view_module": "@jupyter-widgets/controls",
            "_view_module_version": "1.5.0",
            "_view_name": "HTMLView",
            "description": "",
            "description_tooltip": null,
            "layout": "IPY_MODEL_b39e22fba9c240028674166ebaba81d7",
            "placeholder": "​",
            "style": "IPY_MODEL_3faa190edcbf45389e899b0ea6a220e1",
            "value": " 938/938 [00:09&lt;00:00, 105.84batch/s]"
          }
        },
        "13e5dc67d1074cc88c4a999b04f21112": {
          "model_module": "@jupyter-widgets/base",
          "model_name": "LayoutModel",
          "model_module_version": "1.2.0",
          "state": {
            "_model_module": "@jupyter-widgets/base",
            "_model_module_version": "1.2.0",
            "_model_name": "LayoutModel",
            "_view_count": null,
            "_view_module": "@jupyter-widgets/base",
            "_view_module_version": "1.2.0",
            "_view_name": "LayoutView",
            "align_content": null,
            "align_items": null,
            "align_self": null,
            "border": null,
            "bottom": null,
            "display": null,
            "flex": null,
            "flex_flow": null,
            "grid_area": null,
            "grid_auto_columns": null,
            "grid_auto_flow": null,
            "grid_auto_rows": null,
            "grid_column": null,
            "grid_gap": null,
            "grid_row": null,
            "grid_template_areas": null,
            "grid_template_columns": null,
            "grid_template_rows": null,
            "height": null,
            "justify_content": null,
            "justify_items": null,
            "left": null,
            "margin": null,
            "max_height": null,
            "max_width": null,
            "min_height": null,
            "min_width": null,
            "object_fit": null,
            "object_position": null,
            "order": null,
            "overflow": null,
            "overflow_x": null,
            "overflow_y": null,
            "padding": null,
            "right": null,
            "top": null,
            "visibility": null,
            "width": null
          }
        },
        "1919a13d83884a62ba78781fadbd4936": {
          "model_module": "@jupyter-widgets/base",
          "model_name": "LayoutModel",
          "model_module_version": "1.2.0",
          "state": {
            "_model_module": "@jupyter-widgets/base",
            "_model_module_version": "1.2.0",
            "_model_name": "LayoutModel",
            "_view_count": null,
            "_view_module": "@jupyter-widgets/base",
            "_view_module_version": "1.2.0",
            "_view_name": "LayoutView",
            "align_content": null,
            "align_items": null,
            "align_self": null,
            "border": null,
            "bottom": null,
            "display": null,
            "flex": null,
            "flex_flow": null,
            "grid_area": null,
            "grid_auto_columns": null,
            "grid_auto_flow": null,
            "grid_auto_rows": null,
            "grid_column": null,
            "grid_gap": null,
            "grid_row": null,
            "grid_template_areas": null,
            "grid_template_columns": null,
            "grid_template_rows": null,
            "height": null,
            "justify_content": null,
            "justify_items": null,
            "left": null,
            "margin": null,
            "max_height": null,
            "max_width": null,
            "min_height": null,
            "min_width": null,
            "object_fit": null,
            "object_position": null,
            "order": null,
            "overflow": null,
            "overflow_x": null,
            "overflow_y": null,
            "padding": null,
            "right": null,
            "top": null,
            "visibility": null,
            "width": null
          }
        },
        "f836fda9f60c4e99b9e48fecb90d5df2": {
          "model_module": "@jupyter-widgets/controls",
          "model_name": "DescriptionStyleModel",
          "model_module_version": "1.5.0",
          "state": {
            "_model_module": "@jupyter-widgets/controls",
            "_model_module_version": "1.5.0",
            "_model_name": "DescriptionStyleModel",
            "_view_count": null,
            "_view_module": "@jupyter-widgets/base",
            "_view_module_version": "1.2.0",
            "_view_name": "StyleView",
            "description_width": ""
          }
        },
        "ad91c83ecd574637a2f91b205f51bb40": {
          "model_module": "@jupyter-widgets/base",
          "model_name": "LayoutModel",
          "model_module_version": "1.2.0",
          "state": {
            "_model_module": "@jupyter-widgets/base",
            "_model_module_version": "1.2.0",
            "_model_name": "LayoutModel",
            "_view_count": null,
            "_view_module": "@jupyter-widgets/base",
            "_view_module_version": "1.2.0",
            "_view_name": "LayoutView",
            "align_content": null,
            "align_items": null,
            "align_self": null,
            "border": null,
            "bottom": null,
            "display": null,
            "flex": null,
            "flex_flow": null,
            "grid_area": null,
            "grid_auto_columns": null,
            "grid_auto_flow": null,
            "grid_auto_rows": null,
            "grid_column": null,
            "grid_gap": null,
            "grid_row": null,
            "grid_template_areas": null,
            "grid_template_columns": null,
            "grid_template_rows": null,
            "height": null,
            "justify_content": null,
            "justify_items": null,
            "left": null,
            "margin": null,
            "max_height": null,
            "max_width": null,
            "min_height": null,
            "min_width": null,
            "object_fit": null,
            "object_position": null,
            "order": null,
            "overflow": null,
            "overflow_x": null,
            "overflow_y": null,
            "padding": null,
            "right": null,
            "top": null,
            "visibility": null,
            "width": null
          }
        },
        "d3fc573f69144c7789be6ee7242b3b9b": {
          "model_module": "@jupyter-widgets/controls",
          "model_name": "ProgressStyleModel",
          "model_module_version": "1.5.0",
          "state": {
            "_model_module": "@jupyter-widgets/controls",
            "_model_module_version": "1.5.0",
            "_model_name": "ProgressStyleModel",
            "_view_count": null,
            "_view_module": "@jupyter-widgets/base",
            "_view_module_version": "1.2.0",
            "_view_name": "StyleView",
            "bar_color": null,
            "description_width": ""
          }
        },
        "b39e22fba9c240028674166ebaba81d7": {
          "model_module": "@jupyter-widgets/base",
          "model_name": "LayoutModel",
          "model_module_version": "1.2.0",
          "state": {
            "_model_module": "@jupyter-widgets/base",
            "_model_module_version": "1.2.0",
            "_model_name": "LayoutModel",
            "_view_count": null,
            "_view_module": "@jupyter-widgets/base",
            "_view_module_version": "1.2.0",
            "_view_name": "LayoutView",
            "align_content": null,
            "align_items": null,
            "align_self": null,
            "border": null,
            "bottom": null,
            "display": null,
            "flex": null,
            "flex_flow": null,
            "grid_area": null,
            "grid_auto_columns": null,
            "grid_auto_flow": null,
            "grid_auto_rows": null,
            "grid_column": null,
            "grid_gap": null,
            "grid_row": null,
            "grid_template_areas": null,
            "grid_template_columns": null,
            "grid_template_rows": null,
            "height": null,
            "justify_content": null,
            "justify_items": null,
            "left": null,
            "margin": null,
            "max_height": null,
            "max_width": null,
            "min_height": null,
            "min_width": null,
            "object_fit": null,
            "object_position": null,
            "order": null,
            "overflow": null,
            "overflow_x": null,
            "overflow_y": null,
            "padding": null,
            "right": null,
            "top": null,
            "visibility": null,
            "width": null
          }
        },
        "3faa190edcbf45389e899b0ea6a220e1": {
          "model_module": "@jupyter-widgets/controls",
          "model_name": "DescriptionStyleModel",
          "model_module_version": "1.5.0",
          "state": {
            "_model_module": "@jupyter-widgets/controls",
            "_model_module_version": "1.5.0",
            "_model_name": "DescriptionStyleModel",
            "_view_count": null,
            "_view_module": "@jupyter-widgets/base",
            "_view_module_version": "1.2.0",
            "_view_name": "StyleView",
            "description_width": ""
          }
        }
      }
    }
  },
  "nbformat": 4,
  "nbformat_minor": 0
}